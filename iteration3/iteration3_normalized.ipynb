{
 "cells": [
  {
   "cell_type": "markdown",
   "id": "5b98830b",
   "metadata": {},
   "source": [
    "# iteration3"
   ]
  },
  {
   "cell_type": "markdown",
   "id": "8e250ad4",
   "metadata": {},
   "source": [
    "Data:\n",
    "- interaktiot kaikkien muiden ryhmistä paitsi Alman kehittäjien\n",
    "- interaktiot ryhmä, ei käyttäjäkohtaisia\n",
    "- kaikki yritykset - konsernit mukana lisäämällä \"K-\" y-tunnuksen eteen\n",
    "- metadatana perustietoa yrityksistä - numeeriset tilikausitiedot diskretisoitu hieman persentiilejä mukaileviin custom-luokkiin\n",
    "- **data esikäsitelty iteration3_feature_selection**-notebookissa\n",
    "- Warp-malli käytössä\n",
    "- Minimiryhmäkoko = 2\n",
    "\n",
    "Kysymyksiä:\n",
    "\n",
    "1. Miten uudet muokatut tilinpäätöstiedon luokat + location_municipalityn pudotus toimii?\n",
    "2. Miten gini-indeksillä painotettu item_feature-matriisi toimii eri painotuksilla?\n",
    "3. Mitä jos NaN-featureja ei anneta?"
   ]
  },
  {
   "cell_type": "markdown",
   "id": "ed64ea90",
   "metadata": {},
   "source": [
    "## Importit"
   ]
  },
  {
   "cell_type": "code",
   "execution_count": 20,
   "id": "ff4d3385",
   "metadata": {},
   "outputs": [],
   "source": [
    "from lightfm import LightFM\n",
    "from lightfm.cross_validation import random_train_test_split\n",
    "from lightfm.evaluation import auc_score\n",
    "from lightfm.evaluation import precision_at_k\n",
    "from lightfm.evaluation import recall_at_k\n",
    "from lightfm.evaluation import reciprocal_rank\n",
    "from lightfm.data import Dataset\n",
    "\n",
    "import numpy as np\n",
    "import pandas as pd\n",
    "\n",
    "import statistics\n",
    "import functools\n",
    "\n",
    "from sklearn.model_selection import train_test_split\n",
    "\n",
    "WORKING_DIRECTORY = '/mnt/d/git/masters-thesis-code/jupyter/code/'"
   ]
  },
  {
   "cell_type": "markdown",
   "id": "ed481a34",
   "metadata": {},
   "source": [
    "## Valitut metadatat yrityksille"
   ]
  },
  {
   "cell_type": "code",
   "execution_count": 21,
   "id": "7b4c77db",
   "metadata": {},
   "outputs": [],
   "source": [
    "SELECTED_COMPANY_FEATURES = ['company_form_code', \n",
    "                             'location_region_code', 'company_status_code', 'industry_code', 'turnover', \n",
    "                             'net_profit', 'personnel_average', 'performer_ranking_points', 'risk_rating_class']"
   ]
  },
  {
   "cell_type": "markdown",
   "id": "21d91921",
   "metadata": {},
   "source": [
    "## Ladataan yritysdata"
   ]
  },
  {
   "cell_type": "code",
   "execution_count": 22,
   "id": "224730b5",
   "metadata": {},
   "outputs": [],
   "source": [
    "COMPANIES_DF = pd.read_pickle(WORKING_DIRECTORY + \"data/pandas_pickles/company_data_iteration3.pkl\")\n",
    "\n",
    "ITEM_IDS = list(COMPANIES_DF['business_id'].unique())\n",
    "\n",
    "item_features_tmp = [COMPANIES_DF[feature].unique() for feature in SELECTED_COMPANY_FEATURES]\n",
    "\n",
    "ITEM_FEATURE_LABELS = [item for sublist in item_features_tmp for item in sublist]"
   ]
  },
  {
   "cell_type": "code",
   "execution_count": 23,
   "id": "e1b9ee5f",
   "metadata": {},
   "outputs": [
    {
     "data": {
      "text/html": [
       "<div>\n",
       "<style scoped>\n",
       "    .dataframe tbody tr th:only-of-type {\n",
       "        vertical-align: middle;\n",
       "    }\n",
       "\n",
       "    .dataframe tbody tr th {\n",
       "        vertical-align: top;\n",
       "    }\n",
       "\n",
       "    .dataframe thead th {\n",
       "        text-align: right;\n",
       "    }\n",
       "</style>\n",
       "<table border=\"1\" class=\"dataframe\">\n",
       "  <thead>\n",
       "    <tr style=\"text-align: right;\">\n",
       "      <th></th>\n",
       "      <th>business_id</th>\n",
       "      <th>company_name</th>\n",
       "      <th>company_form_code</th>\n",
       "      <th>location_region_code</th>\n",
       "      <th>company_status_code</th>\n",
       "      <th>industry_code</th>\n",
       "      <th>turnover</th>\n",
       "      <th>net_profit</th>\n",
       "      <th>personnel_average</th>\n",
       "      <th>performer_ranking_points</th>\n",
       "      <th>risk_rating_class</th>\n",
       "    </tr>\n",
       "  </thead>\n",
       "  <tbody>\n",
       "    <tr>\n",
       "      <th>1333143</th>\n",
       "      <td>K-01370820</td>\n",
       "      <td>Leipomo Rosten Oy</td>\n",
       "      <td>company_form_code+CO_16</td>\n",
       "      <td>location_region_code+02</td>\n",
       "      <td>company_status_code+AKT</td>\n",
       "      <td>industry_code+10</td>\n",
       "      <td>turnover+top</td>\n",
       "      <td>net_profit+top</td>\n",
       "      <td>personnel_average+3</td>\n",
       "      <td>performer_ranking_points+1</td>\n",
       "      <td>risk_rating_class+GREEN</td>\n",
       "    </tr>\n",
       "  </tbody>\n",
       "</table>\n",
       "</div>"
      ],
      "text/plain": [
       "        business_id       company_name        company_form_code  \\\n",
       "1333143  K-01370820  Leipomo Rosten Oy  company_form_code+CO_16   \n",
       "\n",
       "            location_region_code      company_status_code     industry_code  \\\n",
       "1333143  location_region_code+02  company_status_code+AKT  industry_code+10   \n",
       "\n",
       "             turnover      net_profit    personnel_average  \\\n",
       "1333143  turnover+top  net_profit+top  personnel_average+3   \n",
       "\n",
       "           performer_ranking_points        risk_rating_class  \n",
       "1333143  performer_ranking_points+1  risk_rating_class+GREEN  "
      ]
     },
     "execution_count": 23,
     "metadata": {},
     "output_type": "execute_result"
    }
   ],
   "source": [
    "COMPANIES_DF[COMPANIES_DF['business_id'] == 'K-01370820']"
   ]
  },
  {
   "cell_type": "markdown",
   "id": "a947fe51",
   "metadata": {},
   "source": [
    "## Ladataan vuorovaikutusdata"
   ]
  },
  {
   "cell_type": "code",
   "execution_count": 24,
   "id": "31e37e73",
   "metadata": {},
   "outputs": [
    {
     "data": {
      "text/html": [
       "<div>\n",
       "<style scoped>\n",
       "    .dataframe tbody tr th:only-of-type {\n",
       "        vertical-align: middle;\n",
       "    }\n",
       "\n",
       "    .dataframe tbody tr th {\n",
       "        vertical-align: top;\n",
       "    }\n",
       "\n",
       "    .dataframe thead th {\n",
       "        text-align: right;\n",
       "    }\n",
       "</style>\n",
       "<table border=\"1\" class=\"dataframe\">\n",
       "  <thead>\n",
       "    <tr style=\"text-align: right;\">\n",
       "      <th></th>\n",
       "      <th>group_id</th>\n",
       "      <th>business_id</th>\n",
       "      <th>owner</th>\n",
       "      <th>group_size</th>\n",
       "    </tr>\n",
       "  </thead>\n",
       "  <tbody>\n",
       "    <tr>\n",
       "      <th>155696</th>\n",
       "      <td>3e9dd356-2b21-45ae-9ee4-7cd6cc122fe1</td>\n",
       "      <td>07577937</td>\n",
       "      <td>5e87095492119e00066e7158</td>\n",
       "      <td>2</td>\n",
       "    </tr>\n",
       "    <tr>\n",
       "      <th>106198</th>\n",
       "      <td>31503959-943a-4081-abcc-dc80e5cb0402</td>\n",
       "      <td>15093748</td>\n",
       "      <td>5db034c64320cd0006d2b788</td>\n",
       "      <td>2</td>\n",
       "    </tr>\n",
       "    <tr>\n",
       "      <th>313746</th>\n",
       "      <td>cab22fae-db47-46b6-b902-3d9a1b1051f6</td>\n",
       "      <td>01163004</td>\n",
       "      <td>5e4534bc7bf061000697e940</td>\n",
       "      <td>2</td>\n",
       "    </tr>\n",
       "    <tr>\n",
       "      <th>313747</th>\n",
       "      <td>cab22fae-db47-46b6-b902-3d9a1b1051f6</td>\n",
       "      <td>10410900</td>\n",
       "      <td>5e4534bc7bf061000697e940</td>\n",
       "      <td>2</td>\n",
       "    </tr>\n",
       "    <tr>\n",
       "      <th>545392</th>\n",
       "      <td>0967d6ed-88b7-4023-a720-f09f7051f24d</td>\n",
       "      <td>17944788</td>\n",
       "      <td>5efdbc656488210007bc27f6</td>\n",
       "      <td>2</td>\n",
       "    </tr>\n",
       "    <tr>\n",
       "      <th>...</th>\n",
       "      <td>...</td>\n",
       "      <td>...</td>\n",
       "      <td>...</td>\n",
       "      <td>...</td>\n",
       "    </tr>\n",
       "    <tr>\n",
       "      <th>8042</th>\n",
       "      <td>a5c6ce2e-22ab-4871-bd72-e5da294b33cc</td>\n",
       "      <td>16029641</td>\n",
       "      <td>5e1489f3c2f568000654ecbb</td>\n",
       "      <td>3999</td>\n",
       "    </tr>\n",
       "    <tr>\n",
       "      <th>8043</th>\n",
       "      <td>a5c6ce2e-22ab-4871-bd72-e5da294b33cc</td>\n",
       "      <td>16030167</td>\n",
       "      <td>5e1489f3c2f568000654ecbb</td>\n",
       "      <td>3999</td>\n",
       "    </tr>\n",
       "    <tr>\n",
       "      <th>8044</th>\n",
       "      <td>a5c6ce2e-22ab-4871-bd72-e5da294b33cc</td>\n",
       "      <td>16030415</td>\n",
       "      <td>5e1489f3c2f568000654ecbb</td>\n",
       "      <td>3999</td>\n",
       "    </tr>\n",
       "    <tr>\n",
       "      <th>8031</th>\n",
       "      <td>a5c6ce2e-22ab-4871-bd72-e5da294b33cc</td>\n",
       "      <td>16001948</td>\n",
       "      <td>5e1489f3c2f568000654ecbb</td>\n",
       "      <td>3999</td>\n",
       "    </tr>\n",
       "    <tr>\n",
       "      <th>7025</th>\n",
       "      <td>a5c6ce2e-22ab-4871-bd72-e5da294b33cc</td>\n",
       "      <td>09710930</td>\n",
       "      <td>5e1489f3c2f568000654ecbb</td>\n",
       "      <td>3999</td>\n",
       "    </tr>\n",
       "  </tbody>\n",
       "</table>\n",
       "<p>548107 rows × 4 columns</p>\n",
       "</div>"
      ],
      "text/plain": [
       "                                    group_id business_id  \\\n",
       "155696  3e9dd356-2b21-45ae-9ee4-7cd6cc122fe1    07577937   \n",
       "106198  31503959-943a-4081-abcc-dc80e5cb0402    15093748   \n",
       "313746  cab22fae-db47-46b6-b902-3d9a1b1051f6    01163004   \n",
       "313747  cab22fae-db47-46b6-b902-3d9a1b1051f6    10410900   \n",
       "545392  0967d6ed-88b7-4023-a720-f09f7051f24d    17944788   \n",
       "...                                      ...         ...   \n",
       "8042    a5c6ce2e-22ab-4871-bd72-e5da294b33cc    16029641   \n",
       "8043    a5c6ce2e-22ab-4871-bd72-e5da294b33cc    16030167   \n",
       "8044    a5c6ce2e-22ab-4871-bd72-e5da294b33cc    16030415   \n",
       "8031    a5c6ce2e-22ab-4871-bd72-e5da294b33cc    16001948   \n",
       "7025    a5c6ce2e-22ab-4871-bd72-e5da294b33cc    09710930   \n",
       "\n",
       "                           owner  group_size  \n",
       "155696  5e87095492119e00066e7158           2  \n",
       "106198  5db034c64320cd0006d2b788           2  \n",
       "313746  5e4534bc7bf061000697e940           2  \n",
       "313747  5e4534bc7bf061000697e940           2  \n",
       "545392  5efdbc656488210007bc27f6           2  \n",
       "...                          ...         ...  \n",
       "8042    5e1489f3c2f568000654ecbb        3999  \n",
       "8043    5e1489f3c2f568000654ecbb        3999  \n",
       "8044    5e1489f3c2f568000654ecbb        3999  \n",
       "8031    5e1489f3c2f568000654ecbb        3999  \n",
       "7025    5e1489f3c2f568000654ecbb        3999  \n",
       "\n",
       "[548107 rows x 4 columns]"
      ]
     },
     "execution_count": 24,
     "metadata": {},
     "output_type": "execute_result"
    }
   ],
   "source": [
    "interactions_tmp = pd \\\n",
    "    .read_csv(WORKING_DIRECTORY + 'data/interactions_2021_08_19.csv',\n",
    "             delimiter='\\t',\n",
    "             dtype={\n",
    "                 'group_id': 'string',\n",
    "                 'business_id': 'string',\n",
    "                 'owner': 'string'\n",
    "             })\n",
    "\n",
    "# otetaan pois 1 kokoiset ryhmät\n",
    "group_sizes = interactions_tmp['group_id'].value_counts()\n",
    "group_sizes_df = pd.DataFrame({'group_id': group_sizes.index, 'group_size': group_sizes.values})\n",
    "\n",
    "INTERACTIONS_WITH_GROUP_SIZES_DF = interactions_tmp.merge(group_sizes_df, on='group_id')             \n",
    "interactions_tmp = INTERACTIONS_WITH_GROUP_SIZES_DF[INTERACTIONS_WITH_GROUP_SIZES_DF.group_size >= 2]\n",
    "#interactions_tmp = INTERACTIONS_WITH_GROUP_SIZES_DF[INTERACTIONS_WITH_GROUP_SIZES_DF.group_size <= 3000]\n",
    "interactions_tmp.sort_values('group_size')"
   ]
  },
  {
   "cell_type": "code",
   "execution_count": 25,
   "id": "e46e8a6f",
   "metadata": {},
   "outputs": [
    {
     "data": {
      "text/html": [
       "<div>\n",
       "<style scoped>\n",
       "    .dataframe tbody tr th:only-of-type {\n",
       "        vertical-align: middle;\n",
       "    }\n",
       "\n",
       "    .dataframe tbody tr th {\n",
       "        vertical-align: top;\n",
       "    }\n",
       "\n",
       "    .dataframe thead th {\n",
       "        text-align: right;\n",
       "    }\n",
       "</style>\n",
       "<table border=\"1\" class=\"dataframe\">\n",
       "  <thead>\n",
       "    <tr style=\"text-align: right;\">\n",
       "      <th></th>\n",
       "      <th>group_id</th>\n",
       "      <th>business_id</th>\n",
       "      <th>owner</th>\n",
       "      <th>group_size</th>\n",
       "    </tr>\n",
       "  </thead>\n",
       "  <tbody>\n",
       "    <tr>\n",
       "      <th>5</th>\n",
       "      <td>c2626398-faac-4ff3-b02d-cdc64b50cdaa</td>\n",
       "      <td>K-01681709</td>\n",
       "      <td>60646431ae18cb00063ed63f</td>\n",
       "      <td>1862</td>\n",
       "    </tr>\n",
       "    <tr>\n",
       "      <th>6</th>\n",
       "      <td>c2626398-faac-4ff3-b02d-cdc64b50cdaa</td>\n",
       "      <td>K-15055514</td>\n",
       "      <td>60646431ae18cb00063ed63f</td>\n",
       "      <td>1862</td>\n",
       "    </tr>\n",
       "    <tr>\n",
       "      <th>7</th>\n",
       "      <td>c2626398-faac-4ff3-b02d-cdc64b50cdaa</td>\n",
       "      <td>K-01876143</td>\n",
       "      <td>60646431ae18cb00063ed63f</td>\n",
       "      <td>1862</td>\n",
       "    </tr>\n",
       "    <tr>\n",
       "      <th>9</th>\n",
       "      <td>c2626398-faac-4ff3-b02d-cdc64b50cdaa</td>\n",
       "      <td>K-05363070</td>\n",
       "      <td>60646431ae18cb00063ed63f</td>\n",
       "      <td>1862</td>\n",
       "    </tr>\n",
       "    <tr>\n",
       "      <th>10</th>\n",
       "      <td>c2626398-faac-4ff3-b02d-cdc64b50cdaa</td>\n",
       "      <td>K-01387534</td>\n",
       "      <td>60646431ae18cb00063ed63f</td>\n",
       "      <td>1862</td>\n",
       "    </tr>\n",
       "    <tr>\n",
       "      <th>...</th>\n",
       "      <td>...</td>\n",
       "      <td>...</td>\n",
       "      <td>...</td>\n",
       "      <td>...</td>\n",
       "    </tr>\n",
       "    <tr>\n",
       "      <th>548074</th>\n",
       "      <td>8b0915ff-a0cb-4520-9160-8d783a6bf308</td>\n",
       "      <td>K-02106319</td>\n",
       "      <td>6110c56241e21e000857ca77</td>\n",
       "      <td>131</td>\n",
       "    </tr>\n",
       "    <tr>\n",
       "      <th>548110</th>\n",
       "      <td>8b0915ff-a0cb-4520-9160-8d783a6bf308</td>\n",
       "      <td>K-20333371</td>\n",
       "      <td>6110c56241e21e000857ca77</td>\n",
       "      <td>131</td>\n",
       "    </tr>\n",
       "    <tr>\n",
       "      <th>548137</th>\n",
       "      <td>8b0915ff-a0cb-4520-9160-8d783a6bf308</td>\n",
       "      <td>K-07027249</td>\n",
       "      <td>6110c56241e21e000857ca77</td>\n",
       "      <td>131</td>\n",
       "    </tr>\n",
       "    <tr>\n",
       "      <th>548162</th>\n",
       "      <td>8b0915ff-a0cb-4520-9160-8d783a6bf308</td>\n",
       "      <td>K-02011774</td>\n",
       "      <td>6110c56241e21e000857ca77</td>\n",
       "      <td>131</td>\n",
       "    </tr>\n",
       "    <tr>\n",
       "      <th>548171</th>\n",
       "      <td>8b0915ff-a0cb-4520-9160-8d783a6bf308</td>\n",
       "      <td>K-10459325</td>\n",
       "      <td>6110c56241e21e000857ca77</td>\n",
       "      <td>131</td>\n",
       "    </tr>\n",
       "  </tbody>\n",
       "</table>\n",
       "<p>73277 rows × 4 columns</p>\n",
       "</div>"
      ],
      "text/plain": [
       "                                    group_id business_id  \\\n",
       "5       c2626398-faac-4ff3-b02d-cdc64b50cdaa  K-01681709   \n",
       "6       c2626398-faac-4ff3-b02d-cdc64b50cdaa  K-15055514   \n",
       "7       c2626398-faac-4ff3-b02d-cdc64b50cdaa  K-01876143   \n",
       "9       c2626398-faac-4ff3-b02d-cdc64b50cdaa  K-05363070   \n",
       "10      c2626398-faac-4ff3-b02d-cdc64b50cdaa  K-01387534   \n",
       "...                                      ...         ...   \n",
       "548074  8b0915ff-a0cb-4520-9160-8d783a6bf308  K-02106319   \n",
       "548110  8b0915ff-a0cb-4520-9160-8d783a6bf308  K-20333371   \n",
       "548137  8b0915ff-a0cb-4520-9160-8d783a6bf308  K-07027249   \n",
       "548162  8b0915ff-a0cb-4520-9160-8d783a6bf308  K-02011774   \n",
       "548171  8b0915ff-a0cb-4520-9160-8d783a6bf308  K-10459325   \n",
       "\n",
       "                           owner  group_size  \n",
       "5       60646431ae18cb00063ed63f        1862  \n",
       "6       60646431ae18cb00063ed63f        1862  \n",
       "7       60646431ae18cb00063ed63f        1862  \n",
       "9       60646431ae18cb00063ed63f        1862  \n",
       "10      60646431ae18cb00063ed63f        1862  \n",
       "...                          ...         ...  \n",
       "548074  6110c56241e21e000857ca77         131  \n",
       "548110  6110c56241e21e000857ca77         131  \n",
       "548137  6110c56241e21e000857ca77         131  \n",
       "548162  6110c56241e21e000857ca77         131  \n",
       "548171  6110c56241e21e000857ca77         131  \n",
       "\n",
       "[73277 rows x 4 columns]"
      ]
     },
     "execution_count": 25,
     "metadata": {},
     "output_type": "execute_result"
    }
   ],
   "source": [
    "# lisätään konserniyrityksille interaktiot\n",
    "concern_interactions = interactions_tmp.copy()\n",
    "concern_interactions['business_id'] = 'K-' + concern_interactions['business_id'].astype(str)\n",
    "concern_interactions = concern_interactions[concern_interactions.business_id.isin(ITEM_IDS)]\n",
    "concern_interactions"
   ]
  },
  {
   "cell_type": "code",
   "execution_count": 26,
   "metadata": {},
   "outputs": [],
   "source": [
    "# yhdistetään konserni-interaktiot tavallisiin ja poistetaan sellaiset interaktiot, joille ei löydy y-tunnusta\n",
    "INTERACTIONS_DF = pd.concat([interactions_tmp, concern_interactions])\n",
    "INTERACTIONS_DF = INTERACTIONS_DF[INTERACTIONS_DF.business_id.isin(ITEM_IDS)]\n",
    "INTERACTIONS_DF[INTERACTIONS_DF['business_id'] == 'K-02011774']\n",
    "\n",
    "USER_IDS = list(set(INTERACTIONS_DF['group_id'].values))\n"
   ]
  },
  {
   "cell_type": "code",
   "execution_count": 27,
   "id": "8a63d06c",
   "metadata": {},
   "outputs": [
    {
     "name": "stdout",
     "output_type": "stream",
     "text": [
      "----- group_size>=2 -----\n",
      "ryhmiä: 1312, interaktioita 598703, yrityksiä 143839\n"
     ]
    }
   ],
   "source": [
    "def print_interactions_meta_data(interactions_df):\n",
    "    print('ryhmiä: {groups}, interaktioita {interactions}, yrityksiä {companies}'\n",
    "          .format(groups=len(list(interactions_df['group_id'].unique())),\n",
    "                  interactions=interactions_df.shape[0], \n",
    "                  companies=len(list(interactions_df['business_id'].unique()))))\n",
    "\n",
    "print('----- group_size>=2 -----')\n",
    "print_interactions_meta_data(INTERACTIONS_DF)"
   ]
  },
  {
   "cell_type": "markdown",
   "id": "b4cf4bd3",
   "metadata": {},
   "source": [
    "## Luodaan cross-validationia varten ositetut datasetit"
   ]
  },
  {
   "cell_type": "markdown",
   "id": "7ec70bcb",
   "metadata": {},
   "source": [
    "## Luodaan LightFM:n ymmärtämät Dataset-oliot"
   ]
  },
  {
   "cell_type": "code",
   "execution_count": 28,
   "metadata": {},
   "outputs": [],
   "source": [
    "def create_item_features_ds():\n",
    "    return [(company['business_id'], \n",
    "                [company[feature] for feature in SELECTED_COMPANY_FEATURES])\n",
    "                    for company in COMPANIES_DF.to_dict(orient='records')]\n"
   ]
  },
  {
   "cell_type": "code",
   "execution_count": 29,
   "metadata": {},
   "outputs": [],
   "source": [
    "def calculate_gini_for_word(word, train_interactions_df, alpha):\n",
    "    col_name = word.split('+')[0]\n",
    "    matches_df = COMPANIES_DF[COMPANIES_DF[col_name] == word]\n",
    "    \n",
    "    matched_docs_total = matches_df.shape[0]\n",
    "    \n",
    "    match_bids = list(matches_df['business_id'].unique())\n",
    "    \n",
    "    matching_interactions_df = train_interactions_df[train_interactions_df['business_id'].isin(match_bids)]\n",
    "    \n",
    "    interacted_docs_count = matching_interactions_df['business_id'].unique().shape[0]\n",
    "    non_interacted_docs_count = matched_docs_total - interacted_docs_count\n",
    "    \n",
    "    gini_index = 1 - ((interacted_docs_count / matched_docs_total) ** 2 + \\\n",
    "                    (non_interacted_docs_count / matched_docs_total) ** 2)\n",
    "    \n",
    "        \n",
    "    return (word, alpha - gini_index, interacted_docs_count, matched_docs_total)\n",
    "\n",
    "def create_gini_weighted_item_features(train_interactions_df, alpha, weight = 1):\n",
    "    feature_weights = {}\n",
    "\n",
    "    for word in ITEM_FEATURE_LABELS:\n",
    "        gini = calculate_gini_for_word(word, train_interactions_df, alpha)\n",
    "        feature_weights[word] = gini[1] * weight\n",
    "\n",
    "    return [(company['business_id'], \n",
    "                {k: feature_weights[k] for k in [company[feature] for feature in SELECTED_COMPANY_FEATURES]})\n",
    "                    for company in COMPANIES_DF.to_dict(orient='records')]\n"
   ]
  },
  {
   "cell_type": "code",
   "execution_count": 30,
   "id": "b61d09c2",
   "metadata": {},
   "outputs": [],
   "source": [
    "def create_dataset(train_interactions_df, test_interactions_df, alpha=None, weight=None):\n",
    "    dataset = Dataset(user_identity_features=False)\n",
    "\n",
    "    \n",
    "    train_interactions = [(interaction['group_id'], interaction['business_id']) \n",
    "                for interaction in train_interactions_df.to_dict(orient='records')]\n",
    "\n",
    "    test_interactions = [(interaction['group_id'], interaction['business_id']) \n",
    "            for interaction in test_interactions_df.to_dict(orient='records')]\n",
    "    \n",
    "    dataset.fit(users=USER_IDS, items=ITEM_IDS, item_features=ITEM_FEATURE_LABELS)\n",
    "\n",
    "    (train_interactions_ds, _) = dataset.build_interactions(train_interactions)\n",
    "    (test_interactions_ds, _) = dataset.build_interactions(test_interactions)\n",
    "    \n",
    "    if (alpha == None):\n",
    "        item_features_ds = dataset.build_item_features(create_item_features_ds(), normalize=False)\n",
    "        return (train_interactions_ds, test_interactions_ds, item_features_ds)\n",
    "\n",
    "    elif weight == None:\n",
    "        item_features_ds = dataset.build_item_features(create_gini_weighted_item_features(train_interactions_df, alpha), normalize=True)\n",
    "        return (train_interactions_ds, test_interactions_ds, item_features_ds)\n",
    "    else:\n",
    "        item_features_ds = dataset.build_item_features(create_gini_weighted_item_features(train_interactions_df, alpha, weight))\n",
    "        return (train_interactions_ds, test_interactions_ds, item_features_ds)"
   ]
  },
  {
   "cell_type": "markdown",
   "id": "3a91a64d",
   "metadata": {},
   "source": [
    "## Arvioidaan mallien laatua"
   ]
  },
  {
   "cell_type": "code",
   "execution_count": 31,
   "id": "f98c56bb",
   "metadata": {},
   "outputs": [],
   "source": [
    "NUM_THREADS = 10\n",
    "\n",
    "def run_evaluation_function(model, test_ds, train_ds, evaluation_function, name, item_features=None):    \n",
    "    print('Calculating {name} for train dataset...'.format(name=name))\n",
    "    train_results = evaluation_function(model, train_ds, item_features=item_features, num_threads=NUM_THREADS)\n",
    "    np.savetxt('iteration3-train-results-{}.txt'.format(name), train_results)\n",
    "    train_metric = train_results.mean()\n",
    "    \n",
    "    print('Calculating {name} for test dataset...'.format(name=name))\n",
    "    test_results = evaluation_function(model, test_ds, train_ds, item_features=item_features, num_threads=NUM_THREADS)\n",
    "    np.savetxt('iteration3-test-results-{}.txt'.format(name), test_results)\n",
    "    test_metric = test_results.mean()\n",
    "    \n",
    "    print('{name}: train {train_metric:.2f}, test {test_metric:.2f}'.format(name=name, \n",
    "                                                                            train_metric=train_metric, \n",
    "                                                                            test_metric=test_metric))\n",
    "    print('\\n')\n",
    "    return (train_metric, test_metric)\n",
    "\n",
    "def run_evaluations_for_ds(model, train_ds, test_ds, model_name, item_features=None):\n",
    "    auc = run_evaluation_function(model, test_ds, train_ds, auc_score, 'AUC_' + model_name, item_features)\n",
    "    precision = run_evaluation_function(model, test_ds, train_ds, precision_at_k, 'PRECISION_' + model_name, item_features)\n",
    "    #recall = run_evaluation_function(model, test_ds, train_ds, recall_at_k, 'RECALL_' + model_name, item_features)\n",
    "    #reciprocal = run_evaluation_function(model, test_ds, train_ds, reciprocal_rank, 'RECIPROCAL_' + model_name, item_features)\n",
    "    \n",
    "    return (auc, precision) #, recall, reciprocal)\n"
   ]
  },
  {
   "cell_type": "code",
   "execution_count": 32,
   "metadata": {},
   "outputs": [],
   "source": [
    "def run_evaluations(interactions_df_cv):\n",
    "\n",
    "    results = {\n",
    "        'NO_WEIGHTING': [],\n",
    "        'GINI_05': [],\n",
    "        'GINI_10': [],\n",
    "        'GINI_25': [],\n",
    "        'GINI_50': []\n",
    "    }\n",
    "    \n",
    "    for i in range(0, len(interactions_df_cv)):\n",
    "        print('Starting iteration {}...'.format(i))\n",
    "            \n",
    "        test_interactions_df = interactions_df_cv[i]\n",
    "        \n",
    "        # laitetaan uuteen listaan kaikki paitsi testidatasetti\n",
    "        train_df_tmp = [ds for j,ds in enumerate(interactions_df_cv) if j != i]\n",
    "        # yhdistetään treenidatasetiksi valikoituneet vuorovaikutusmatriisit\n",
    "        train_interactions_df = pd.concat(train_df_tmp)\n",
    "\n",
    "        print('test_interactions', test_interactions_df.shape)\n",
    "        print('train_interactions', train_interactions_df.shape)\n",
    "        \n",
    "        ##### NO_WEIGHTING #####\n",
    "        name = 'NO_WEIGHTING'\n",
    "        (train_interactions_ds, test_interactions_ds, item_features_ds) = create_dataset(train_interactions_df, test_interactions_df)\n",
    "\n",
    "        MODEL = LightFM(loss='warp')\n",
    "        MODEL.fit(train_interactions_ds, item_features=item_features_ds, epochs=5, num_threads=NUM_THREADS, verbose=True)\n",
    "        \n",
    "        results[name].append(run_evaluations_for_ds(MODEL, train_interactions_ds, test_interactions_ds, '{}_{}'.format(name, i), item_features_ds))\n",
    "\n",
    "        ##### GINI_05 #####\n",
    "        name = 'GINI_05'\n",
    "        (train_interactions_ds, test_interactions_ds, item_features_ds) = create_dataset(train_interactions_df, test_interactions_df, 0.5)\n",
    "\n",
    "        MODEL = LightFM(loss='warp')\n",
    "        MODEL.fit(train_interactions_ds, item_features=item_features_ds, epochs=5, num_threads=NUM_THREADS, verbose=True)\n",
    "        \n",
    "        results[name].append(run_evaluations_for_ds(MODEL, train_interactions_ds, test_interactions_ds, '{}_{}'.format(name, i), item_features_ds))\n",
    "\n",
    "        ##### GINI_10 #####\n",
    "        name = 'GINI_10'\n",
    "        (train_interactions_ds, test_interactions_ds, item_features_ds) = create_dataset(train_interactions_df, test_interactions_df, 1.0)\n",
    "\n",
    "        MODEL = LightFM(loss='warp')\n",
    "        MODEL.fit(train_interactions_ds, item_features=item_features_ds, epochs=5, num_threads=NUM_THREADS, verbose=True)\n",
    "        \n",
    "        results[name].append(run_evaluations_for_ds(MODEL, train_interactions_ds, test_interactions_ds, '{}_{}'.format(name, i), item_features_ds))\n",
    "\n",
    "        ##### GINI_25 #####\n",
    "        name = 'GINI_25'\n",
    "        (train_interactions_ds, test_interactions_ds, item_features_ds) = create_dataset(train_interactions_df, test_interactions_df, 2.5)\n",
    "\n",
    "        MODEL = LightFM(loss='warp')\n",
    "        MODEL.fit(train_interactions_ds, item_features=item_features_ds, epochs=5, num_threads=NUM_THREADS, verbose=True)\n",
    "        \n",
    "        results[name].append(run_evaluations_for_ds(MODEL, train_interactions_ds, test_interactions_ds, '{}_{}'.format(name, i), item_features_ds))\n",
    "\n",
    "        ##### GINI_50 #####\n",
    "        name = 'GINI_50'\n",
    "        (train_interactions_ds, test_interactions_ds, item_features_ds) = create_dataset(train_interactions_df, test_interactions_df, 5.0)\n",
    "\n",
    "        MODEL = LightFM(loss='warp')\n",
    "        MODEL.fit(train_interactions_ds, item_features=item_features_ds, epochs=5, num_threads=NUM_THREADS, verbose=True)\n",
    "        \n",
    "        results[name].append(run_evaluations_for_ds(MODEL, train_interactions_ds, test_interactions_ds, '{}_{}'.format(name, i), item_features_ds))\n",
    "\n",
    "    return results"
   ]
  },
  {
   "cell_type": "code",
   "execution_count": 33,
   "id": "07240adc",
   "metadata": {},
   "outputs": [],
   "source": [
    "def print_metric_result(result_arr, model_name):\n",
    "    train_results = [x[0] for x in result_arr]\n",
    "    test_results = [x[1] for x in result_arr]\n",
    "    \n",
    "    print('{name}:\\n train mean {train_mean:.4f} ({train_arr})\\n test mean {test_mean:.4f} ({test_arr})\\n'\n",
    "          .format(train_mean=statistics.mean(train_results),\n",
    "                 test_mean=statistics.mean(test_results),\n",
    "                 train_arr=['%.4f' % x for x in train_results],\n",
    "                 test_arr=['%.4f' % x for x in test_results],\n",
    "                 name=model_name))\n",
    "    \n",
    "\n",
    "def print_all_results(results):\n",
    "    for i,metric in enumerate(['AUC', 'PRECISION']): #, 'RECALL', 'RECIPROCAL']):\n",
    "        print('\\n-----{}-----'.format(metric))\n",
    "        for model_name,result_arr in results.items():\n",
    "            print_metric_result([res[i] for res in result_arr], model_name)\n",
    "    "
   ]
  },
  {
   "cell_type": "markdown",
   "id": "b1637f48",
   "metadata": {},
   "source": [
    "### Tulokset"
   ]
  },
  {
   "cell_type": "code",
   "execution_count": 34,
   "id": "edcd7bba",
   "metadata": {},
   "outputs": [],
   "source": [
    "def create_partitioned_datasets(interactions_df):\n",
    "    (rest, fifth_1) = train_test_split(interactions_df, test_size=0.2)\n",
    "    (rest, fifth_2) = train_test_split(rest, test_size=0.25)\n",
    "    (rest, fifth_3) = train_test_split(rest, test_size=0.3333333)\n",
    "    (fifth_4, fifth_5) = train_test_split(rest, test_size=0.5)\n",
    "    \n",
    "    return [fifth_1, fifth_2, fifth_3, fifth_4, fifth_5]\n",
    "    "
   ]
  },
  {
   "cell_type": "code",
   "execution_count": 35,
   "id": "df8419e8",
   "metadata": {},
   "outputs": [
    {
     "name": "stdout",
     "output_type": "stream",
     "text": [
      "(119741, 4)\n",
      "(119741, 4)\n",
      "(119741, 4)\n",
      "(119740, 4)\n",
      "(119740, 4)\n"
     ]
    }
   ],
   "source": [
    "INTERACTIONS_CV = create_partitioned_datasets(INTERACTIONS_DF)\n",
    "for cv in INTERACTIONS_CV:\n",
    "    print(cv.shape)"
   ]
  },
  {
   "cell_type": "code",
   "execution_count": 36,
   "id": "5095d0ef",
   "metadata": {},
   "outputs": [
    {
     "name": "stdout",
     "output_type": "stream",
     "text": [
      "Starting iteration 0...\n",
      "test_interactions (119741, 4)\n",
      "train_interactions (478962, 4)\n"
     ]
    },
    {
     "name": "stderr",
     "output_type": "stream",
     "text": [
      "Epoch: 100%|██████████████████████████████████████████████████████████████████████████████| 5/5 [00:02<00:00,  1.94it/s]\n"
     ]
    },
    {
     "name": "stdout",
     "output_type": "stream",
     "text": [
      "Calculating AUC_NO_WEIGHTING_0 for train dataset...\n",
      "Calculating AUC_NO_WEIGHTING_0 for test dataset...\n",
      "AUC_NO_WEIGHTING_0: train 1.00, test 0.99\n",
      "\n",
      "\n",
      "Calculating PRECISION_NO_WEIGHTING_0 for train dataset...\n",
      "Calculating PRECISION_NO_WEIGHTING_0 for test dataset...\n",
      "PRECISION_NO_WEIGHTING_0: train 0.18, test 0.10\n",
      "\n",
      "\n"
     ]
    },
    {
     "name": "stderr",
     "output_type": "stream",
     "text": [
      "Epoch: 100%|██████████████████████████████████████████████████████████████████████████████| 5/5 [00:03<00:00,  1.58it/s]\n"
     ]
    },
    {
     "name": "stdout",
     "output_type": "stream",
     "text": [
      "Calculating AUC_GINI_05_0 for train dataset...\n",
      "Calculating AUC_GINI_05_0 for test dataset...\n",
      "AUC_GINI_05_0: train 0.99, test 0.99\n",
      "\n",
      "\n",
      "Calculating PRECISION_GINI_05_0 for train dataset...\n",
      "Calculating PRECISION_GINI_05_0 for test dataset...\n",
      "PRECISION_GINI_05_0: train 0.11, test 0.05\n",
      "\n",
      "\n"
     ]
    },
    {
     "name": "stderr",
     "output_type": "stream",
     "text": [
      "Epoch: 100%|██████████████████████████████████████████████████████████████████████████████| 5/5 [00:03<00:00,  1.65it/s]\n"
     ]
    },
    {
     "name": "stdout",
     "output_type": "stream",
     "text": [
      "Calculating AUC_GINI_10_0 for train dataset...\n",
      "Calculating AUC_GINI_10_0 for test dataset...\n",
      "AUC_GINI_10_0: train 0.99, test 0.99\n",
      "\n",
      "\n",
      "Calculating PRECISION_GINI_10_0 for train dataset...\n",
      "Calculating PRECISION_GINI_10_0 for test dataset...\n",
      "PRECISION_GINI_10_0: train 0.11, test 0.07\n",
      "\n",
      "\n"
     ]
    },
    {
     "name": "stderr",
     "output_type": "stream",
     "text": [
      "Epoch: 100%|██████████████████████████████████████████████████████████████████████████████| 5/5 [00:03<00:00,  1.61it/s]\n"
     ]
    },
    {
     "name": "stdout",
     "output_type": "stream",
     "text": [
      "Calculating AUC_GINI_25_0 for train dataset...\n",
      "Calculating AUC_GINI_25_0 for test dataset...\n",
      "AUC_GINI_25_0: train 0.99, test 0.99\n",
      "\n",
      "\n",
      "Calculating PRECISION_GINI_25_0 for train dataset...\n",
      "Calculating PRECISION_GINI_25_0 for test dataset...\n",
      "PRECISION_GINI_25_0: train 0.11, test 0.06\n",
      "\n",
      "\n"
     ]
    },
    {
     "name": "stderr",
     "output_type": "stream",
     "text": [
      "Epoch: 100%|██████████████████████████████████████████████████████████████████████████████| 5/5 [00:03<00:00,  1.62it/s]\n"
     ]
    },
    {
     "name": "stdout",
     "output_type": "stream",
     "text": [
      "Calculating AUC_GINI_50_0 for train dataset...\n",
      "Calculating AUC_GINI_50_0 for test dataset...\n",
      "AUC_GINI_50_0: train 0.99, test 0.99\n",
      "\n",
      "\n",
      "Calculating PRECISION_GINI_50_0 for train dataset...\n",
      "Calculating PRECISION_GINI_50_0 for test dataset...\n",
      "PRECISION_GINI_50_0: train 0.11, test 0.06\n",
      "\n",
      "\n",
      "Starting iteration 1...\n",
      "test_interactions (119741, 4)\n",
      "train_interactions (478962, 4)\n"
     ]
    },
    {
     "name": "stderr",
     "output_type": "stream",
     "text": [
      "Epoch: 100%|██████████████████████████████████████████████████████████████████████████████| 5/5 [00:02<00:00,  2.15it/s]\n"
     ]
    },
    {
     "name": "stdout",
     "output_type": "stream",
     "text": [
      "Calculating AUC_NO_WEIGHTING_1 for train dataset...\n",
      "Calculating AUC_NO_WEIGHTING_1 for test dataset...\n",
      "AUC_NO_WEIGHTING_1: train 1.00, test 0.99\n",
      "\n",
      "\n",
      "Calculating PRECISION_NO_WEIGHTING_1 for train dataset...\n",
      "Calculating PRECISION_NO_WEIGHTING_1 for test dataset...\n",
      "PRECISION_NO_WEIGHTING_1: train 0.18, test 0.09\n",
      "\n",
      "\n"
     ]
    },
    {
     "name": "stderr",
     "output_type": "stream",
     "text": [
      "Epoch: 100%|██████████████████████████████████████████████████████████████████████████████| 5/5 [00:03<00:00,  1.59it/s]\n"
     ]
    },
    {
     "name": "stdout",
     "output_type": "stream",
     "text": [
      "Calculating AUC_GINI_05_1 for train dataset...\n",
      "Calculating AUC_GINI_05_1 for test dataset...\n",
      "AUC_GINI_05_1: train 0.99, test 0.99\n",
      "\n",
      "\n",
      "Calculating PRECISION_GINI_05_1 for train dataset...\n",
      "Calculating PRECISION_GINI_05_1 for test dataset...\n",
      "PRECISION_GINI_05_1: train 0.11, test 0.05\n",
      "\n",
      "\n"
     ]
    },
    {
     "name": "stderr",
     "output_type": "stream",
     "text": [
      "Epoch: 100%|██████████████████████████████████████████████████████████████████████████████| 5/5 [00:03<00:00,  1.64it/s]\n"
     ]
    },
    {
     "name": "stdout",
     "output_type": "stream",
     "text": [
      "Calculating AUC_GINI_10_1 for train dataset...\n",
      "Calculating AUC_GINI_10_1 for test dataset...\n",
      "AUC_GINI_10_1: train 0.99, test 0.99\n",
      "\n",
      "\n",
      "Calculating PRECISION_GINI_10_1 for train dataset...\n",
      "Calculating PRECISION_GINI_10_1 for test dataset...\n",
      "PRECISION_GINI_10_1: train 0.11, test 0.06\n",
      "\n",
      "\n"
     ]
    },
    {
     "name": "stderr",
     "output_type": "stream",
     "text": [
      "Epoch: 100%|██████████████████████████████████████████████████████████████████████████████| 5/5 [00:03<00:00,  1.64it/s]\n"
     ]
    },
    {
     "name": "stdout",
     "output_type": "stream",
     "text": [
      "Calculating AUC_GINI_25_1 for train dataset...\n",
      "Calculating AUC_GINI_25_1 for test dataset...\n",
      "AUC_GINI_25_1: train 0.99, test 0.99\n",
      "\n",
      "\n",
      "Calculating PRECISION_GINI_25_1 for train dataset...\n",
      "Calculating PRECISION_GINI_25_1 for test dataset...\n",
      "PRECISION_GINI_25_1: train 0.11, test 0.06\n",
      "\n",
      "\n"
     ]
    },
    {
     "name": "stderr",
     "output_type": "stream",
     "text": [
      "Epoch: 100%|██████████████████████████████████████████████████████████████████████████████| 5/5 [00:03<00:00,  1.62it/s]\n"
     ]
    },
    {
     "name": "stdout",
     "output_type": "stream",
     "text": [
      "Calculating AUC_GINI_50_1 for train dataset...\n",
      "Calculating AUC_GINI_50_1 for test dataset...\n",
      "AUC_GINI_50_1: train 0.99, test 0.99\n",
      "\n",
      "\n",
      "Calculating PRECISION_GINI_50_1 for train dataset...\n",
      "Calculating PRECISION_GINI_50_1 for test dataset...\n",
      "PRECISION_GINI_50_1: train 0.10, test 0.06\n",
      "\n",
      "\n",
      "Starting iteration 2...\n",
      "test_interactions (119741, 4)\n",
      "train_interactions (478962, 4)\n"
     ]
    },
    {
     "name": "stderr",
     "output_type": "stream",
     "text": [
      "Epoch: 100%|██████████████████████████████████████████████████████████████████████████████| 5/5 [00:02<00:00,  2.13it/s]\n"
     ]
    },
    {
     "name": "stdout",
     "output_type": "stream",
     "text": [
      "Calculating AUC_NO_WEIGHTING_2 for train dataset...\n",
      "Calculating AUC_NO_WEIGHTING_2 for test dataset...\n",
      "AUC_NO_WEIGHTING_2: train 1.00, test 0.99\n",
      "\n",
      "\n",
      "Calculating PRECISION_NO_WEIGHTING_2 for train dataset...\n",
      "Calculating PRECISION_NO_WEIGHTING_2 for test dataset...\n",
      "PRECISION_NO_WEIGHTING_2: train 0.18, test 0.09\n",
      "\n",
      "\n"
     ]
    },
    {
     "name": "stderr",
     "output_type": "stream",
     "text": [
      "Epoch: 100%|██████████████████████████████████████████████████████████████████████████████| 5/5 [00:03<00:00,  1.50it/s]\n"
     ]
    },
    {
     "name": "stdout",
     "output_type": "stream",
     "text": [
      "Calculating AUC_GINI_05_2 for train dataset...\n",
      "Calculating AUC_GINI_05_2 for test dataset...\n",
      "AUC_GINI_05_2: train 0.99, test 0.99\n",
      "\n",
      "\n",
      "Calculating PRECISION_GINI_05_2 for train dataset...\n",
      "Calculating PRECISION_GINI_05_2 for test dataset...\n",
      "PRECISION_GINI_05_2: train 0.11, test 0.05\n",
      "\n",
      "\n"
     ]
    },
    {
     "name": "stderr",
     "output_type": "stream",
     "text": [
      "Epoch: 100%|██████████████████████████████████████████████████████████████████████████████| 5/5 [00:03<00:00,  1.65it/s]\n"
     ]
    },
    {
     "name": "stdout",
     "output_type": "stream",
     "text": [
      "Calculating AUC_GINI_10_2 for train dataset...\n",
      "Calculating AUC_GINI_10_2 for test dataset...\n",
      "AUC_GINI_10_2: train 0.99, test 0.99\n",
      "\n",
      "\n",
      "Calculating PRECISION_GINI_10_2 for train dataset...\n",
      "Calculating PRECISION_GINI_10_2 for test dataset...\n",
      "PRECISION_GINI_10_2: train 0.11, test 0.07\n",
      "\n",
      "\n"
     ]
    },
    {
     "name": "stderr",
     "output_type": "stream",
     "text": [
      "Epoch: 100%|██████████████████████████████████████████████████████████████████████████████| 5/5 [00:03<00:00,  1.66it/s]\n"
     ]
    },
    {
     "name": "stdout",
     "output_type": "stream",
     "text": [
      "Calculating AUC_GINI_25_2 for train dataset...\n",
      "Calculating AUC_GINI_25_2 for test dataset...\n",
      "AUC_GINI_25_2: train 0.99, test 0.99\n",
      "\n",
      "\n",
      "Calculating PRECISION_GINI_25_2 for train dataset...\n",
      "Calculating PRECISION_GINI_25_2 for test dataset...\n",
      "PRECISION_GINI_25_2: train 0.11, test 0.06\n",
      "\n",
      "\n"
     ]
    },
    {
     "name": "stderr",
     "output_type": "stream",
     "text": [
      "Epoch: 100%|██████████████████████████████████████████████████████████████████████████████| 5/5 [00:02<00:00,  1.67it/s]\n"
     ]
    },
    {
     "name": "stdout",
     "output_type": "stream",
     "text": [
      "Calculating AUC_GINI_50_2 for train dataset...\n",
      "Calculating AUC_GINI_50_2 for test dataset...\n",
      "AUC_GINI_50_2: train 0.99, test 0.99\n",
      "\n",
      "\n",
      "Calculating PRECISION_GINI_50_2 for train dataset...\n",
      "Calculating PRECISION_GINI_50_2 for test dataset...\n",
      "PRECISION_GINI_50_2: train 0.11, test 0.07\n",
      "\n",
      "\n",
      "Starting iteration 3...\n",
      "test_interactions (119740, 4)\n",
      "train_interactions (478963, 4)\n"
     ]
    },
    {
     "name": "stderr",
     "output_type": "stream",
     "text": [
      "Epoch: 100%|██████████████████████████████████████████████████████████████████████████████| 5/5 [00:02<00:00,  2.06it/s]\n"
     ]
    },
    {
     "name": "stdout",
     "output_type": "stream",
     "text": [
      "Calculating AUC_NO_WEIGHTING_3 for train dataset...\n",
      "Calculating AUC_NO_WEIGHTING_3 for test dataset...\n",
      "AUC_NO_WEIGHTING_3: train 1.00, test 0.99\n",
      "\n",
      "\n",
      "Calculating PRECISION_NO_WEIGHTING_3 for train dataset...\n",
      "Calculating PRECISION_NO_WEIGHTING_3 for test dataset...\n",
      "PRECISION_NO_WEIGHTING_3: train 0.18, test 0.09\n",
      "\n",
      "\n"
     ]
    },
    {
     "name": "stderr",
     "output_type": "stream",
     "text": [
      "Epoch: 100%|██████████████████████████████████████████████████████████████████████████████| 5/5 [00:03<00:00,  1.57it/s]\n"
     ]
    },
    {
     "name": "stdout",
     "output_type": "stream",
     "text": [
      "Calculating AUC_GINI_05_3 for train dataset...\n",
      "Calculating AUC_GINI_05_3 for test dataset...\n",
      "AUC_GINI_05_3: train 0.99, test 0.99\n",
      "\n",
      "\n",
      "Calculating PRECISION_GINI_05_3 for train dataset...\n",
      "Calculating PRECISION_GINI_05_3 for test dataset...\n",
      "PRECISION_GINI_05_3: train 0.11, test 0.05\n",
      "\n",
      "\n"
     ]
    },
    {
     "name": "stderr",
     "output_type": "stream",
     "text": [
      "Epoch: 100%|██████████████████████████████████████████████████████████████████████████████| 5/5 [00:03<00:00,  1.59it/s]\n"
     ]
    },
    {
     "name": "stdout",
     "output_type": "stream",
     "text": [
      "Calculating AUC_GINI_10_3 for train dataset...\n",
      "Calculating AUC_GINI_10_3 for test dataset...\n",
      "AUC_GINI_10_3: train 0.99, test 0.99\n",
      "\n",
      "\n",
      "Calculating PRECISION_GINI_10_3 for train dataset...\n",
      "Calculating PRECISION_GINI_10_3 for test dataset...\n",
      "PRECISION_GINI_10_3: train 0.11, test 0.07\n",
      "\n",
      "\n"
     ]
    },
    {
     "name": "stderr",
     "output_type": "stream",
     "text": [
      "Epoch: 100%|██████████████████████████████████████████████████████████████████████████████| 5/5 [00:03<00:00,  1.46it/s]\n"
     ]
    },
    {
     "name": "stdout",
     "output_type": "stream",
     "text": [
      "Calculating AUC_GINI_25_3 for train dataset...\n",
      "Calculating AUC_GINI_25_3 for test dataset...\n",
      "AUC_GINI_25_3: train 0.99, test 0.99\n",
      "\n",
      "\n",
      "Calculating PRECISION_GINI_25_3 for train dataset...\n",
      "Calculating PRECISION_GINI_25_3 for test dataset...\n",
      "PRECISION_GINI_25_3: train 0.11, test 0.07\n",
      "\n",
      "\n"
     ]
    },
    {
     "name": "stderr",
     "output_type": "stream",
     "text": [
      "Epoch: 100%|██████████████████████████████████████████████████████████████████████████████| 5/5 [00:03<00:00,  1.64it/s]\n"
     ]
    },
    {
     "name": "stdout",
     "output_type": "stream",
     "text": [
      "Calculating AUC_GINI_50_3 for train dataset...\n",
      "Calculating AUC_GINI_50_3 for test dataset...\n",
      "AUC_GINI_50_3: train 0.99, test 0.99\n",
      "\n",
      "\n",
      "Calculating PRECISION_GINI_50_3 for train dataset...\n",
      "Calculating PRECISION_GINI_50_3 for test dataset...\n",
      "PRECISION_GINI_50_3: train 0.10, test 0.06\n",
      "\n",
      "\n",
      "Starting iteration 4...\n",
      "test_interactions (119740, 4)\n",
      "train_interactions (478963, 4)\n"
     ]
    },
    {
     "name": "stderr",
     "output_type": "stream",
     "text": [
      "Epoch: 100%|██████████████████████████████████████████████████████████████████████████████| 5/5 [00:02<00:00,  2.14it/s]\n"
     ]
    },
    {
     "name": "stdout",
     "output_type": "stream",
     "text": [
      "Calculating AUC_NO_WEIGHTING_4 for train dataset...\n",
      "Calculating AUC_NO_WEIGHTING_4 for test dataset...\n",
      "AUC_NO_WEIGHTING_4: train 1.00, test 0.99\n",
      "\n",
      "\n",
      "Calculating PRECISION_NO_WEIGHTING_4 for train dataset...\n",
      "Calculating PRECISION_NO_WEIGHTING_4 for test dataset...\n",
      "PRECISION_NO_WEIGHTING_4: train 0.18, test 0.09\n",
      "\n",
      "\n"
     ]
    },
    {
     "name": "stderr",
     "output_type": "stream",
     "text": [
      "Epoch: 100%|██████████████████████████████████████████████████████████████████████████████| 5/5 [00:03<00:00,  1.53it/s]\n"
     ]
    },
    {
     "name": "stdout",
     "output_type": "stream",
     "text": [
      "Calculating AUC_GINI_05_4 for train dataset...\n",
      "Calculating AUC_GINI_05_4 for test dataset...\n",
      "AUC_GINI_05_4: train 0.99, test 0.99\n",
      "\n",
      "\n",
      "Calculating PRECISION_GINI_05_4 for train dataset...\n",
      "Calculating PRECISION_GINI_05_4 for test dataset...\n",
      "PRECISION_GINI_05_4: train 0.11, test 0.06\n",
      "\n",
      "\n"
     ]
    },
    {
     "name": "stderr",
     "output_type": "stream",
     "text": [
      "Epoch: 100%|██████████████████████████████████████████████████████████████████████████████| 5/5 [00:03<00:00,  1.63it/s]\n"
     ]
    },
    {
     "name": "stdout",
     "output_type": "stream",
     "text": [
      "Calculating AUC_GINI_10_4 for train dataset...\n",
      "Calculating AUC_GINI_10_4 for test dataset...\n",
      "AUC_GINI_10_4: train 0.99, test 0.99\n",
      "\n",
      "\n",
      "Calculating PRECISION_GINI_10_4 for train dataset...\n",
      "Calculating PRECISION_GINI_10_4 for test dataset...\n",
      "PRECISION_GINI_10_4: train 0.10, test 0.06\n",
      "\n",
      "\n"
     ]
    },
    {
     "name": "stderr",
     "output_type": "stream",
     "text": [
      "Epoch: 100%|██████████████████████████████████████████████████████████████████████████████| 5/5 [00:03<00:00,  1.65it/s]\n"
     ]
    },
    {
     "name": "stdout",
     "output_type": "stream",
     "text": [
      "Calculating AUC_GINI_25_4 for train dataset...\n",
      "Calculating AUC_GINI_25_4 for test dataset...\n",
      "AUC_GINI_25_4: train 0.99, test 0.99\n",
      "\n",
      "\n",
      "Calculating PRECISION_GINI_25_4 for train dataset...\n",
      "Calculating PRECISION_GINI_25_4 for test dataset...\n",
      "PRECISION_GINI_25_4: train 0.11, test 0.07\n",
      "\n",
      "\n"
     ]
    },
    {
     "name": "stderr",
     "output_type": "stream",
     "text": [
      "Epoch: 100%|██████████████████████████████████████████████████████████████████████████████| 5/5 [00:02<00:00,  1.69it/s]\n"
     ]
    },
    {
     "name": "stdout",
     "output_type": "stream",
     "text": [
      "Calculating AUC_GINI_50_4 for train dataset...\n",
      "Calculating AUC_GINI_50_4 for test dataset...\n",
      "AUC_GINI_50_4: train 0.99, test 0.99\n",
      "\n",
      "\n",
      "Calculating PRECISION_GINI_50_4 for train dataset...\n",
      "Calculating PRECISION_GINI_50_4 for test dataset...\n",
      "PRECISION_GINI_50_4: train 0.11, test 0.06\n",
      "\n",
      "\n"
     ]
    }
   ],
   "source": [
    "RESULTS = run_evaluations(INTERACTIONS_CV)"
   ]
  },
  {
   "cell_type": "code",
   "execution_count": 37,
   "id": "221d44b7",
   "metadata": {},
   "outputs": [
    {
     "name": "stdout",
     "output_type": "stream",
     "text": [
      "\n",
      "-----AUC-----\n",
      "NO_WEIGHTING:\n",
      " train mean 0.9958 (['0.9958', '0.9956', '0.9958', '0.9958', '0.9958'])\n",
      " test mean 0.9886 (['0.9877', '0.9882', '0.9878', '0.9895', '0.9898'])\n",
      "\n",
      "GINI_05:\n",
      " train mean 0.9904 (['0.9903', '0.9905', '0.9904', '0.9904', '0.9904'])\n",
      " test mean 0.9866 (['0.9861', '0.9867', '0.9867', '0.9866', '0.9869'])\n",
      "\n",
      "GINI_10:\n",
      " train mean 0.9893 (['0.9894', '0.9891', '0.9896', '0.9894', '0.9892'])\n",
      " test mean 0.9879 (['0.9873', '0.9879', '0.9880', '0.9882', '0.9881'])\n",
      "\n",
      "GINI_25:\n",
      " train mean 0.9886 (['0.9888', '0.9888', '0.9886', '0.9882', '0.9887'])\n",
      " test mean 0.9876 (['0.9874', '0.9878', '0.9874', '0.9877', '0.9877'])\n",
      "\n",
      "GINI_50:\n",
      " train mean 0.9884 (['0.9879', '0.9882', '0.9890', '0.9884', '0.9884'])\n",
      " test mean 0.9874 (['0.9864', '0.9872', '0.9877', '0.9880', '0.9876'])\n",
      "\n",
      "\n",
      "-----PRECISION-----\n",
      "NO_WEIGHTING:\n",
      " train mean 0.1814 (['0.1849', '0.1768', '0.1838', '0.1814', '0.1798'])\n",
      " test mean 0.0911 (['0.0988', '0.0898', '0.0891', '0.0886', '0.0892'])\n",
      "\n",
      "GINI_05:\n",
      " train mean 0.1104 (['0.1128', '0.1083', '0.1122', '0.1105', '0.1085'])\n",
      " test mean 0.0544 (['0.0541', '0.0541', '0.0516', '0.0536', '0.0587'])\n",
      "\n",
      "GINI_10:\n",
      " train mean 0.1099 (['0.1124', '0.1110', '0.1090', '0.1133', '0.1040'])\n",
      " test mean 0.0655 (['0.0660', '0.0643', '0.0651', '0.0689', '0.0630'])\n",
      "\n",
      "GINI_25:\n",
      " train mean 0.1106 (['0.1094', '0.1101', '0.1084', '0.1122', '0.1128'])\n",
      " test mean 0.0652 (['0.0630', '0.0630', '0.0629', '0.0668', '0.0704'])\n",
      "\n",
      "GINI_50:\n",
      " train mean 0.1071 (['0.1080', '0.1024', '0.1124', '0.1042', '0.1082'])\n",
      " test mean 0.0629 (['0.0619', '0.0581', '0.0663', '0.0645', '0.0639'])\n",
      "\n"
     ]
    }
   ],
   "source": [
    "print_all_results(RESULTS)"
   ]
  }
 ],
 "metadata": {
  "kernelspec": {
   "display_name": "Python 3 (ipykernel)",
   "language": "python",
   "name": "python3"
  },
  "language_info": {
   "codemirror_mode": {
    "name": "ipython",
    "version": 3
   },
   "file_extension": ".py",
   "mimetype": "text/x-python",
   "name": "python",
   "nbconvert_exporter": "python",
   "pygments_lexer": "ipython3",
   "version": "3.9.11"
  },
  "orig_nbformat": 4
 },
 "nbformat": 4,
 "nbformat_minor": 2
}
