{
 "cells": [
  {
   "cell_type": "markdown",
   "id": "4e53343c",
   "metadata": {},
   "source": [
    "# Ison yritysdatamassan käsittelyä käyttökelpoisemmaksi"
   ]
  },
  {
   "cell_type": "markdown",
   "id": "7880265d",
   "metadata": {},
   "source": [
    "- Kaikki yritykset\n",
    "- Viimeisimmän tilikauden tiedot, jos löytyy\n",
    "- Lakanneet poistettu etukäteen\n",
    "- Konsernit poistetaan tässä käsittelyssä"
   ]
  },
  {
   "cell_type": "code",
   "execution_count": 22,
   "id": "13a69cb8",
   "metadata": {},
   "outputs": [],
   "source": [
    "import numpy as np\n",
    "import pandas as pd\n",
    "\n",
    "WORKING_DIRECTORY = '/mnt/d/git/masters-thesis-code/jupyter/code/'"
   ]
  },
  {
   "cell_type": "markdown",
   "id": "79f67dbc",
   "metadata": {},
   "source": [
    "## Valittavat sarakkeet"
   ]
  },
  {
   "cell_type": "code",
   "execution_count": 23,
   "id": "e266685c",
   "metadata": {},
   "outputs": [],
   "source": [
    "SELECTED_COMPANY_FEATURES = ['company_form_code', 'location_municipality_code', \n",
    "                             'location_region_code', 'company_status_code', 'industry_code', 'turnover', \n",
    "                             'net_profit', 'personnel_average', 'performer_ranking_points', 'risk_rating_class']"
   ]
  },
  {
   "cell_type": "markdown",
   "id": "05679f04",
   "metadata": {},
   "source": [
    "## Ladataan data pandas-dataframeen"
   ]
  },
  {
   "cell_type": "code",
   "execution_count": null,
   "id": "483e0ca0",
   "metadata": {},
   "outputs": [],
   "source": [
    "COMPANIES = pd \\\n",
    "        .read_csv(WORKING_DIRECTORY + 'data/prod_data_companies_more_data_2021_09_16.csv',\n",
    "                  delimiter='\\t',\n",
    "                  na_values='(null)',\n",
    "                  dtype={\n",
    "                      'business_id': str,\n",
    "                      'business_id_start_date': str,\n",
    "                      'company_name': str,\n",
    "                      'email_address': str,\n",
    "                      'industry_code': str,\n",
    "                      'language': str,\n",
    "                      'company_form': str,\n",
    "                      'company_form_code': str,\n",
    "                      'domicile_code': str,\n",
    "                      'region_code': str,\n",
    "                      'location_municipality_code': str,\n",
    "                      'location_region_code': str,\n",
    "                      'company_status_code': str,\n",
    "                      'balance_industry_code': str,\n",
    "                      'personnel_class': str,\n",
    "                      'turnover_class': str,\n",
    "                      'statement_date': str,\n",
    "                      'statement_length': float,\n",
    "                      'target_year': str,\n",
    "                      'turnover': float,\n",
    "                      'raw_materials_use': float,\n",
    "                      'current_ratio': float,\n",
    "                      'personnel_expenses': float,\n",
    "                      'investment_expenses_cash_flow': float,\n",
    "                      'ebitda': float,\n",
    "                      'operating_profit_per_turnover': float,\n",
    "                      'ebit': float,\n",
    "                      'turnover_growth_percent': float,\n",
    "                      'ebit_per_turnover': float,\n",
    "                      'short_term_sales_receivable': float,\n",
    "                      'net_profit': float,\n",
    "                      'net_profit_per_turnover': float,\n",
    "                      'aggregate_equity': float,\n",
    "                      'return_on_equity_percent': float,\n",
    "                      'equity_ratio': float,\n",
    "                      'long_term_sales_receivable': float,\n",
    "                      'quick_ratio': float,\n",
    "                      'buildings': float,\n",
    "                      'return_on_investment_percent': float,\n",
    "                      'total_assets': float,\n",
    "                      'external_services': float,\n",
    "                      'aggregate_current_assets': float,\n",
    "                      'personnel_average': float,\n",
    "                      'concern': str,\n",
    "                      'bulk': str,\n",
    "                      'performer_ranking_points': float,\n",
    "                      'risk_rating_class': str,\n",
    "                      'latest': str\n",
    "                  }\n",
    "                  )\n",
    "\n",
    "COMPANIES.head()"
   ]
  },
  {
   "cell_type": "markdown",
   "id": "7fb0fab0",
   "metadata": {},
   "source": [
    "## Käsitellään konsernit (prefiksoi)"
   ]
  },
  {
   "cell_type": "code",
   "execution_count": 25,
   "id": "84a707da",
   "metadata": {},
   "outputs": [],
   "source": [
    "def handle_concerns(row):\n",
    "    if (row.concern == 'true'):\n",
    "        return 'K-' + row.business_id\n",
    "    return row.business_id\n",
    "\n",
    "COMPANIES['business_id'] = COMPANIES.apply(handle_concerns, axis=1)\n",
    "\n"
   ]
  },
  {
   "cell_type": "markdown",
   "id": "4341a913",
   "metadata": {},
   "source": [
    "## Tsekataan muokatut yritystunnisteet"
   ]
  },
  {
   "cell_type": "code",
   "execution_count": 26,
   "id": "334e652c",
   "metadata": {},
   "outputs": [
    {
     "data": {
      "text/html": [
       "<div>\n",
       "<style scoped>\n",
       "    .dataframe tbody tr th:only-of-type {\n",
       "        vertical-align: middle;\n",
       "    }\n",
       "\n",
       "    .dataframe tbody tr th {\n",
       "        vertical-align: top;\n",
       "    }\n",
       "\n",
       "    .dataframe thead th {\n",
       "        text-align: right;\n",
       "    }\n",
       "</style>\n",
       "<table border=\"1\" class=\"dataframe\">\n",
       "  <thead>\n",
       "    <tr style=\"text-align: right;\">\n",
       "      <th></th>\n",
       "      <th>business_id</th>\n",
       "      <th>business_id_start_date</th>\n",
       "      <th>company_name</th>\n",
       "      <th>email_address</th>\n",
       "      <th>industry_code</th>\n",
       "      <th>language</th>\n",
       "      <th>company_form</th>\n",
       "      <th>company_form_code</th>\n",
       "      <th>domicile_code</th>\n",
       "      <th>region_code</th>\n",
       "      <th>...</th>\n",
       "      <th>return_on_investment_percent</th>\n",
       "      <th>total_assets</th>\n",
       "      <th>external_services</th>\n",
       "      <th>aggregate_current_assets</th>\n",
       "      <th>personnel_average</th>\n",
       "      <th>concern</th>\n",
       "      <th>bulk</th>\n",
       "      <th>performer_ranking_points</th>\n",
       "      <th>risk_rating_class</th>\n",
       "      <th>latest</th>\n",
       "    </tr>\n",
       "  </thead>\n",
       "  <tbody>\n",
       "    <tr>\n",
       "      <th>1333142</th>\n",
       "      <td>01370820</td>\n",
       "      <td>1978-03-15</td>\n",
       "      <td>Leipomo Rosten Oy</td>\n",
       "      <td>NaN</td>\n",
       "      <td>10710</td>\n",
       "      <td>CL_1</td>\n",
       "      <td>Osakeyhtiö</td>\n",
       "      <td>CO_16</td>\n",
       "      <td>853</td>\n",
       "      <td>RE_02</td>\n",
       "      <td>...</td>\n",
       "      <td>8.2</td>\n",
       "      <td>13753000.0</td>\n",
       "      <td>2971000.0</td>\n",
       "      <td>1157000.0</td>\n",
       "      <td>117.0</td>\n",
       "      <td>false</td>\n",
       "      <td>false</td>\n",
       "      <td>50.0</td>\n",
       "      <td>GREEN_A_PLUS</td>\n",
       "      <td>true</td>\n",
       "    </tr>\n",
       "    <tr>\n",
       "      <th>1333143</th>\n",
       "      <td>K-01370820</td>\n",
       "      <td>1978-03-15</td>\n",
       "      <td>Leipomo Rosten Oy</td>\n",
       "      <td>NaN</td>\n",
       "      <td>10710</td>\n",
       "      <td>CL_1</td>\n",
       "      <td>Osakeyhtiö</td>\n",
       "      <td>CO_16</td>\n",
       "      <td>853</td>\n",
       "      <td>RE_02</td>\n",
       "      <td>...</td>\n",
       "      <td>14.7</td>\n",
       "      <td>15891000.0</td>\n",
       "      <td>3732000.0</td>\n",
       "      <td>1741000.0</td>\n",
       "      <td>211.0</td>\n",
       "      <td>true</td>\n",
       "      <td>false</td>\n",
       "      <td>45.0</td>\n",
       "      <td>GREEN_A_PLUS</td>\n",
       "      <td>true</td>\n",
       "    </tr>\n",
       "  </tbody>\n",
       "</table>\n",
       "<p>2 rows × 48 columns</p>\n",
       "</div>"
      ],
      "text/plain": [
       "        business_id business_id_start_date       company_name email_address  \\\n",
       "1333142    01370820             1978-03-15  Leipomo Rosten Oy           NaN   \n",
       "1333143  K-01370820             1978-03-15  Leipomo Rosten Oy           NaN   \n",
       "\n",
       "        industry_code language company_form company_form_code domicile_code  \\\n",
       "1333142         10710     CL_1   Osakeyhtiö             CO_16           853   \n",
       "1333143         10710     CL_1   Osakeyhtiö             CO_16           853   \n",
       "\n",
       "        region_code  ... return_on_investment_percent total_assets  \\\n",
       "1333142       RE_02  ...                          8.2   13753000.0   \n",
       "1333143       RE_02  ...                         14.7   15891000.0   \n",
       "\n",
       "        external_services aggregate_current_assets personnel_average concern  \\\n",
       "1333142         2971000.0                1157000.0             117.0   false   \n",
       "1333143         3732000.0                1741000.0             211.0    true   \n",
       "\n",
       "          bulk  performer_ranking_points risk_rating_class  latest  \n",
       "1333142  false                      50.0      GREEN_A_PLUS    true  \n",
       "1333143  false                      45.0      GREEN_A_PLUS    true  \n",
       "\n",
       "[2 rows x 48 columns]"
      ]
     },
     "execution_count": 26,
     "metadata": {},
     "output_type": "execute_result"
    }
   ],
   "source": [
    "COMPANIES[COMPANIES['company_name'] == 'Leipomo Rosten Oy']"
   ]
  },
  {
   "cell_type": "code",
   "execution_count": null,
   "metadata": {},
   "outputs": [],
   "source": [
    "COMPANIES"
   ]
  },
  {
   "cell_type": "markdown",
   "id": "db689bb1",
   "metadata": {},
   "source": [
    "## Valitaan halutut sarakkeet"
   ]
  },
  {
   "cell_type": "code",
   "execution_count": 28,
   "id": "69f7f2e0",
   "metadata": {},
   "outputs": [
    {
     "data": {
      "text/html": [
       "<div>\n",
       "<style scoped>\n",
       "    .dataframe tbody tr th:only-of-type {\n",
       "        vertical-align: middle;\n",
       "    }\n",
       "\n",
       "    .dataframe tbody tr th {\n",
       "        vertical-align: top;\n",
       "    }\n",
       "\n",
       "    .dataframe thead th {\n",
       "        text-align: right;\n",
       "    }\n",
       "</style>\n",
       "<table border=\"1\" class=\"dataframe\">\n",
       "  <thead>\n",
       "    <tr style=\"text-align: right;\">\n",
       "      <th></th>\n",
       "      <th>business_id</th>\n",
       "      <th>company_name</th>\n",
       "      <th>company_form_code</th>\n",
       "      <th>location_municipality_code</th>\n",
       "      <th>location_region_code</th>\n",
       "      <th>company_status_code</th>\n",
       "      <th>industry_code</th>\n",
       "      <th>turnover</th>\n",
       "      <th>net_profit</th>\n",
       "      <th>personnel_average</th>\n",
       "      <th>performer_ranking_points</th>\n",
       "      <th>risk_rating_class</th>\n",
       "    </tr>\n",
       "  </thead>\n",
       "  <tbody>\n",
       "    <tr>\n",
       "      <th>0</th>\n",
       "      <td>31431209</td>\n",
       "      <td>Tmi Onerva Miettunen</td>\n",
       "      <td>CO_26</td>\n",
       "      <td>091</td>\n",
       "      <td>01</td>\n",
       "      <td>AKT</td>\n",
       "      <td>43341</td>\n",
       "      <td>NaN</td>\n",
       "      <td>NaN</td>\n",
       "      <td>NaN</td>\n",
       "      <td>NaN</td>\n",
       "      <td>NaN</td>\n",
       "    </tr>\n",
       "    <tr>\n",
       "      <th>1</th>\n",
       "      <td>32087307</td>\n",
       "      <td>Koti Vaihtoon LKV Oy</td>\n",
       "      <td>CO_16</td>\n",
       "      <td>091</td>\n",
       "      <td>01</td>\n",
       "      <td>AKT</td>\n",
       "      <td>68310</td>\n",
       "      <td>NaN</td>\n",
       "      <td>NaN</td>\n",
       "      <td>NaN</td>\n",
       "      <td>NaN</td>\n",
       "      <td>NaN</td>\n",
       "    </tr>\n",
       "    <tr>\n",
       "      <th>2</th>\n",
       "      <td>18601103</td>\n",
       "      <td>Teollisuuden Monialapalvelu T:mi Oksanen</td>\n",
       "      <td>CO_26</td>\n",
       "      <td>NaN</td>\n",
       "      <td>NaN</td>\n",
       "      <td>AKT</td>\n",
       "      <td>68209</td>\n",
       "      <td>NaN</td>\n",
       "      <td>NaN</td>\n",
       "      <td>NaN</td>\n",
       "      <td>NaN</td>\n",
       "      <td>NaN</td>\n",
       "    </tr>\n",
       "    <tr>\n",
       "      <th>3</th>\n",
       "      <td>20469041</td>\n",
       "      <td>POLYBEAT</td>\n",
       "      <td>CO_53</td>\n",
       "      <td>NaN</td>\n",
       "      <td>NaN</td>\n",
       "      <td>AKT</td>\n",
       "      <td>74909</td>\n",
       "      <td>NaN</td>\n",
       "      <td>NaN</td>\n",
       "      <td>NaN</td>\n",
       "      <td>NaN</td>\n",
       "      <td>NaN</td>\n",
       "    </tr>\n",
       "    <tr>\n",
       "      <th>4</th>\n",
       "      <td>24844507</td>\n",
       "      <td>SAHOJEN PUU</td>\n",
       "      <td>CO_26</td>\n",
       "      <td>NaN</td>\n",
       "      <td>NaN</td>\n",
       "      <td>AKT</td>\n",
       "      <td>NaN</td>\n",
       "      <td>NaN</td>\n",
       "      <td>NaN</td>\n",
       "      <td>NaN</td>\n",
       "      <td>NaN</td>\n",
       "      <td>NaN</td>\n",
       "    </tr>\n",
       "  </tbody>\n",
       "</table>\n",
       "</div>"
      ],
      "text/plain": [
       "  business_id                              company_name company_form_code  \\\n",
       "0    31431209                      Tmi Onerva Miettunen             CO_26   \n",
       "1    32087307                      Koti Vaihtoon LKV Oy             CO_16   \n",
       "2    18601103  Teollisuuden Monialapalvelu T:mi Oksanen             CO_26   \n",
       "3    20469041                                  POLYBEAT             CO_53   \n",
       "4    24844507                               SAHOJEN PUU             CO_26   \n",
       "\n",
       "  location_municipality_code location_region_code company_status_code  \\\n",
       "0                        091                   01                 AKT   \n",
       "1                        091                   01                 AKT   \n",
       "2                        NaN                  NaN                 AKT   \n",
       "3                        NaN                  NaN                 AKT   \n",
       "4                        NaN                  NaN                 AKT   \n",
       "\n",
       "  industry_code  turnover  net_profit  personnel_average  \\\n",
       "0         43341       NaN         NaN                NaN   \n",
       "1         68310       NaN         NaN                NaN   \n",
       "2         68209       NaN         NaN                NaN   \n",
       "3         74909       NaN         NaN                NaN   \n",
       "4           NaN       NaN         NaN                NaN   \n",
       "\n",
       "   performer_ranking_points risk_rating_class  \n",
       "0                       NaN               NaN  \n",
       "1                       NaN               NaN  \n",
       "2                       NaN               NaN  \n",
       "3                       NaN               NaN  \n",
       "4                       NaN               NaN  "
      ]
     },
     "execution_count": 28,
     "metadata": {},
     "output_type": "execute_result"
    }
   ],
   "source": [
    "COMPANIES = COMPANIES[['business_id', 'company_name'] + SELECTED_COMPANY_FEATURES]\n",
    "COMPANIES.head()"
   ]
  },
  {
   "cell_type": "markdown",
   "id": "e544de4d",
   "metadata": {},
   "source": [
    "## Käsitellään toimialakoodit"
   ]
  },
  {
   "cell_type": "code",
   "execution_count": 29,
   "id": "d917c8a3",
   "metadata": {},
   "outputs": [
    {
     "name": "stderr",
     "output_type": "stream",
     "text": [
      "/tmp/ipykernel_110/2748541382.py:7: SettingWithCopyWarning: \n",
      "A value is trying to be set on a copy of a slice from a DataFrame.\n",
      "Try using .loc[row_indexer,col_indexer] = value instead\n",
      "\n",
      "See the caveats in the documentation: https://pandas.pydata.org/pandas-docs/stable/user_guide/indexing.html#returning-a-view-versus-a-copy\n",
      "  COMPANIES['industry_code'] = COMPANIES.apply(transform_industry, axis=1)\n"
     ]
    },
    {
     "data": {
      "text/plain": [
       "0           43\n",
       "1           68\n",
       "2           68\n",
       "3           74\n",
       "4          NaN\n",
       "          ... \n",
       "1337863     70\n",
       "1337864     78\n",
       "1337865     42\n",
       "1337866     62\n",
       "1337867     95\n",
       "Name: industry_code, Length: 1337868, dtype: object"
      ]
     },
     "execution_count": 29,
     "metadata": {},
     "output_type": "execute_result"
    }
   ],
   "source": [
    "def transform_industry(row):\n",
    "    industry_code = row.industry_code\n",
    "    if (pd.isnull(industry_code)):\n",
    "        return 'NaN'\n",
    "    return industry_code[0:2]\n",
    "\n",
    "COMPANIES['industry_code'] = COMPANIES.apply(transform_industry, axis=1)\n",
    "COMPANIES['industry_code']"
   ]
  },
  {
   "cell_type": "markdown",
   "id": "0405fc15",
   "metadata": {},
   "source": [
    "## Käsitellään riskiluokitus"
   ]
  },
  {
   "cell_type": "code",
   "execution_count": null,
   "id": "8979043d",
   "metadata": {},
   "outputs": [],
   "source": [
    "def transform_risk_rating(row):\n",
    "    risk_rating = row.risk_rating_class\n",
    "    if (pd.isnull(risk_rating)):\n",
    "        return 'NaN'\n",
    "    return risk_rating.split('_')[0]\n",
    "\n",
    "COMPANIES['risk_rating_class'] = COMPANIES.apply(transform_risk_rating, axis=1)\n",
    "COMPANIES"
   ]
  },
  {
   "cell_type": "markdown",
   "id": "e88cddba",
   "metadata": {},
   "source": [
    "## Muutetaan valittujen sarakkeiden tiedot avainsanoiksi"
   ]
  },
  {
   "cell_type": "code",
   "execution_count": 31,
   "id": "3383280f",
   "metadata": {},
   "outputs": [
    {
     "name": "stdout",
     "output_type": "stream",
     "text": [
      "        turnover  net_profit  personnel_average  performer_ranking_points\n",
      "0.20     22000.0     -4000.0               1.00                      31.0\n",
      "0.40     87000.0         0.0               2.00                      46.0\n",
      "0.60    234000.0      8000.0               5.00                      56.0\n",
      "0.80    825000.0     43000.0              16.00                      70.0\n",
      "0.90   2390000.0    125000.0              41.00                      77.0\n",
      "0.95   6721200.0    305000.0              95.95                      82.0\n",
      "0.98  23293680.0    950780.0             294.38                      86.0\n"
     ]
    }
   ],
   "source": [
    "def transform_str_to_keyword(val, col_name):\n",
    "    if (pd.isnull(val)):\n",
    "        return col_name + '+' + 'NaN'\n",
    "    return col_name + '+' + val\n",
    "\n",
    "boundaries = COMPANIES.quantile([0.2, 0.4, 0.6, 0.8, 0.9, 0.95, 0.98])\n",
    "print(boundaries)\n",
    "\n",
    "def transform_num_to_keyword(val, col_name):\n",
    "    if (pd.isnull(val)):\n",
    "        return col_name + '+' + 'NaN'\n",
    "    \n",
    "    col_boundaries = boundaries[col_name]\n",
    "    for index, item in col_boundaries.iteritems():\n",
    "        if (val < item):\n",
    "            return col_name + '+' + str(index)\n",
    "        \n",
    "    return col_name + '+' + 'top'"
   ]
  },
  {
   "cell_type": "code",
   "execution_count": null,
   "id": "b24446eb",
   "metadata": {},
   "outputs": [],
   "source": [
    "for col_name in SELECTED_COMPANY_FEATURES:\n",
    "    dtype = COMPANIES[col_name].dtypes\n",
    "    if dtype == 'object':\n",
    "        COMPANIES[col_name] = COMPANIES[col_name].apply(lambda x: transform_str_to_keyword(x, col_name))\n",
    "    if dtype == 'float64':\n",
    "        COMPANIES[col_name] = COMPANIES[col_name].apply(lambda x: transform_num_to_keyword(x, col_name))\n",
    "        \n",
    "COMPANIES"
   ]
  },
  {
   "cell_type": "markdown",
   "id": "28fd015b",
   "metadata": {},
   "source": [
    "## Pikkelöi käsitelty yritysdata"
   ]
  },
  {
   "cell_type": "code",
   "execution_count": 33,
   "id": "86de0f3a",
   "metadata": {},
   "outputs": [],
   "source": [
    "COMPANIES.to_pickle(WORKING_DIRECTORY + \"data/pandas_pickles/prod_data_proto2.pkl\")"
   ]
  },
  {
   "cell_type": "markdown",
   "id": "ca81ef38",
   "metadata": {},
   "source": [
    "## Heränneitä kysymyksiä\n",
    "\n",
    "1. Minkälaiset rajat tunnuslukujen diskretisoinnissa parhaat?\n",
    "2. Mitkä avainsanat merkittäviä?"
   ]
  },
  {
   "cell_type": "code",
   "execution_count": null,
   "id": "2dcd1834",
   "metadata": {},
   "outputs": [],
   "source": []
  }
 ],
 "metadata": {
  "kernelspec": {
   "display_name": "Python 3 (ipykernel)",
   "language": "python",
   "name": "python3"
  },
  "language_info": {
   "codemirror_mode": {
    "name": "ipython",
    "version": 3
   },
   "file_extension": ".py",
   "mimetype": "text/x-python",
   "name": "python",
   "nbconvert_exporter": "python",
   "pygments_lexer": "ipython3",
   "version": "3.9.11"
  }
 },
 "nbformat": 4,
 "nbformat_minor": 5
}
