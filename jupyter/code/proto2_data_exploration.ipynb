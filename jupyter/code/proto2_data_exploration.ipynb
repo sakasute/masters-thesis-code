{
 "cells": [
  {
   "cell_type": "markdown",
   "id": "4e53343c",
   "metadata": {},
   "source": [
    "# Ison yritysdatamassan käsittelyä käyttökelpoisemmaksi"
   ]
  },
  {
   "cell_type": "code",
   "execution_count": 1,
   "id": "13a69cb8",
   "metadata": {},
   "outputs": [],
   "source": [
    "import numpy as np\n",
    "import pandas as pd"
   ]
  },
  {
   "cell_type": "markdown",
   "id": "79f67dbc",
   "metadata": {},
   "source": [
    "## Valittavat sarakkeet"
   ]
  },
  {
   "cell_type": "code",
   "execution_count": 2,
   "id": "e266685c",
   "metadata": {},
   "outputs": [],
   "source": [
    "SELECTED_COMPANY_FEATURES = ['company_form_code', 'location_municipality_code', \n",
    "                             'location_region_code', 'company_status_code', 'industry_code', 'turnover', \n",
    "                             'net_profit', 'personnel_average', 'performer_ranking_points', 'risk_rating_class']"
   ]
  },
  {
   "cell_type": "markdown",
   "id": "05679f04",
   "metadata": {},
   "source": [
    "## Ladataan data pandas-dataframeen"
   ]
  },
  {
   "cell_type": "code",
   "execution_count": 3,
   "id": "483e0ca0",
   "metadata": {},
   "outputs": [
    {
     "name": "stdout",
     "output_type": "stream",
     "text": [
      "  business_id business_id_start_date  \\\n",
      "0    31431209             2020-06-22   \n",
      "1    32087307             2021-05-04   \n",
      "2    18601103             2003-10-24   \n",
      "3    20469041             2006-07-04   \n",
      "4    24844507             2012-06-18   \n",
      "\n",
      "                               company_name                    email_address  \\\n",
      "0                      Tmi Onerva Miettunen       onerva.adalmiina@gmail.com   \n",
      "1                      Koti Vaihtoon LKV Oy  matti.leskinen@kotivaihtoon.com   \n",
      "2  Teollisuuden Monialapalvelu T:mi Oksanen                              NaN   \n",
      "3                                  POLYBEAT                              NaN   \n",
      "4                               SAHOJEN PUU            kalle.kantola@hasa.fi   \n",
      "\n",
      "  industry_code language                      company_form company_form_code  \\\n",
      "0         43341     CL_1  Yksityinen elinkeinonharjoittaja             CO_26   \n",
      "1         68310     CL_1                        Osakeyhtiö             CO_16   \n",
      "2         68209     CL_1  Yksityinen elinkeinonharjoittaja             CO_26   \n",
      "3         74909     CL_2                        Kuolinpesä             CO_53   \n",
      "4           NaN     CL_1  Yksityinen elinkeinonharjoittaja             CO_26   \n",
      "\n",
      "  domicile_code region_code  ... return_on_investment_percent total_assets  \\\n",
      "0           091       RE_01  ...                          NaN          NaN   \n",
      "1           743       RE_14  ...                          NaN          NaN   \n",
      "2           179       RE_13  ...                          NaN          NaN   \n",
      "3           091       RE_01  ...                          NaN          NaN   \n",
      "4           069       RE_17  ...                          NaN          NaN   \n",
      "\n",
      "  external_services aggregate_current_assets personnel_average concern bulk  \\\n",
      "0               NaN                      NaN               NaN     NaN  NaN   \n",
      "1               NaN                      NaN               NaN     NaN  NaN   \n",
      "2               NaN                      NaN               NaN     NaN  NaN   \n",
      "3               NaN                      NaN               NaN     NaN  NaN   \n",
      "4               NaN                      NaN               NaN     NaN  NaN   \n",
      "\n",
      "   performer_ranking_points risk_rating_class  latest  \n",
      "0                       NaN               NaN     NaN  \n",
      "1                       NaN               NaN     NaN  \n",
      "2                       NaN               NaN     NaN  \n",
      "3                       NaN               NaN     NaN  \n",
      "4                       NaN               NaN     NaN  \n",
      "\n",
      "[5 rows x 48 columns]\n"
     ]
    }
   ],
   "source": [
    "COMPANIES = pd \\\n",
    "        .read_csv('data/prod_data_companies_more_data_2021_09_16.csv',\n",
    "                  delimiter='\\t',\n",
    "                  na_values='(null)',\n",
    "                  dtype={\n",
    "                      'business_id': str,\n",
    "                      'business_id_start_date': str,\n",
    "                      'company_name': str,\n",
    "                      'email_address': str,\n",
    "                      'industry_code': str,\n",
    "                      'language': str,\n",
    "                      'company_form': str,\n",
    "                      'company_form_code': str,\n",
    "                      'domicile_code': str,\n",
    "                      'region_code': str,\n",
    "                      'location_municipality_code': str,\n",
    "                      'location_region_code': str,\n",
    "                      'company_status_code': str,\n",
    "                      'balance_industry_code': str,\n",
    "                      'personnel_class': str,\n",
    "                      'turnover_class': str,\n",
    "                      'statement_date': str,\n",
    "                      'statement_length': float,\n",
    "                      'target_year': str,\n",
    "                      'turnover': float,\n",
    "                      'raw_materials_use': float,\n",
    "                      'current_ratio': float,\n",
    "                      'personnel_expenses': float,\n",
    "                      'investment_expenses_cash_flow': float,\n",
    "                      'ebitda': float,\n",
    "                      'operating_profit_per_turnover': float,\n",
    "                      'ebit': float,\n",
    "                      'turnover_growth_percent': float,\n",
    "                      'ebit_per_turnover': float,\n",
    "                      'short_term_sales_receivable': float,\n",
    "                      'net_profit': float,\n",
    "                      'net_profit_per_turnover': float,\n",
    "                      'aggregate_equity': float,\n",
    "                      'return_on_equity_percent': float,\n",
    "                      'equity_ratio': float,\n",
    "                      'long_term_sales_receivable': float,\n",
    "                      'quick_ratio': float,\n",
    "                      'buildings': float,\n",
    "                      'return_on_investment_percent': float,\n",
    "                      'total_assets': float,\n",
    "                      'external_services': float,\n",
    "                      'aggregate_current_assets': float,\n",
    "                      'personnel_average': float,\n",
    "                      'concern': str,\n",
    "                      'bulk': str,\n",
    "                      'performer_ranking_points': float,\n",
    "                      'risk_rating_class': str,\n",
    "                      'latest': str\n",
    "                  }\n",
    "                  )\n",
    "\n",
    "print(COMPANIES.head())"
   ]
  },
  {
   "cell_type": "markdown",
   "id": "7fb0fab0",
   "metadata": {},
   "source": [
    "## Käsitellään konsernit (poistetaan)"
   ]
  },
  {
   "cell_type": "code",
   "execution_count": 4,
   "id": "84a707da",
   "metadata": {},
   "outputs": [
    {
     "name": "stdout",
     "output_type": "stream",
     "text": [
      "  business_id business_id_start_date  \\\n",
      "0    31431209             2020-06-22   \n",
      "1    32087307             2021-05-04   \n",
      "2    18601103             2003-10-24   \n",
      "3    20469041             2006-07-04   \n",
      "4    24844507             2012-06-18   \n",
      "\n",
      "                               company_name                    email_address  \\\n",
      "0                      Tmi Onerva Miettunen       onerva.adalmiina@gmail.com   \n",
      "1                      Koti Vaihtoon LKV Oy  matti.leskinen@kotivaihtoon.com   \n",
      "2  Teollisuuden Monialapalvelu T:mi Oksanen                              NaN   \n",
      "3                                  POLYBEAT                              NaN   \n",
      "4                               SAHOJEN PUU            kalle.kantola@hasa.fi   \n",
      "\n",
      "  industry_code language                      company_form company_form_code  \\\n",
      "0         43341     CL_1  Yksityinen elinkeinonharjoittaja             CO_26   \n",
      "1         68310     CL_1                        Osakeyhtiö             CO_16   \n",
      "2         68209     CL_1  Yksityinen elinkeinonharjoittaja             CO_26   \n",
      "3         74909     CL_2                        Kuolinpesä             CO_53   \n",
      "4           NaN     CL_1  Yksityinen elinkeinonharjoittaja             CO_26   \n",
      "\n",
      "  domicile_code region_code  ... return_on_investment_percent total_assets  \\\n",
      "0           091       RE_01  ...                          NaN          NaN   \n",
      "1           743       RE_14  ...                          NaN          NaN   \n",
      "2           179       RE_13  ...                          NaN          NaN   \n",
      "3           091       RE_01  ...                          NaN          NaN   \n",
      "4           069       RE_17  ...                          NaN          NaN   \n",
      "\n",
      "  external_services aggregate_current_assets personnel_average concern bulk  \\\n",
      "0               NaN                      NaN               NaN     NaN  NaN   \n",
      "1               NaN                      NaN               NaN     NaN  NaN   \n",
      "2               NaN                      NaN               NaN     NaN  NaN   \n",
      "3               NaN                      NaN               NaN     NaN  NaN   \n",
      "4               NaN                      NaN               NaN     NaN  NaN   \n",
      "\n",
      "   performer_ranking_points risk_rating_class  latest  \n",
      "0                       NaN               NaN     NaN  \n",
      "1                       NaN               NaN     NaN  \n",
      "2                       NaN               NaN     NaN  \n",
      "3                       NaN               NaN     NaN  \n",
      "4                       NaN               NaN     NaN  \n",
      "\n",
      "[5 rows x 48 columns]\n"
     ]
    },
    {
     "data": {
      "text/plain": [
       "Series([], dtype: bool)"
      ]
     },
     "execution_count": 4,
     "metadata": {},
     "output_type": "execute_result"
    }
   ],
   "source": [
    "COMPANIES = COMPANIES[COMPANIES['concern'] != 'true']\n",
    "\n",
    "print(COMPANIES.head())\n",
    "\n",
    "duplicates = COMPANIES.duplicated('business_id')\n",
    "duplicates[duplicates == True]"
   ]
  },
  {
   "cell_type": "markdown",
   "id": "db689bb1",
   "metadata": {},
   "source": [
    "## Valitaan halutut sarakkeet"
   ]
  },
  {
   "cell_type": "code",
   "execution_count": 5,
   "id": "69f7f2e0",
   "metadata": {},
   "outputs": [
    {
     "name": "stdout",
     "output_type": "stream",
     "text": [
      "  business_id                              company_name company_form_code  \\\n",
      "0    31431209                      Tmi Onerva Miettunen             CO_26   \n",
      "1    32087307                      Koti Vaihtoon LKV Oy             CO_16   \n",
      "2    18601103  Teollisuuden Monialapalvelu T:mi Oksanen             CO_26   \n",
      "3    20469041                                  POLYBEAT             CO_53   \n",
      "4    24844507                               SAHOJEN PUU             CO_26   \n",
      "\n",
      "  location_municipality_code location_region_code company_status_code  \\\n",
      "0                        091                   01                 AKT   \n",
      "1                        091                   01                 AKT   \n",
      "2                        NaN                  NaN                 AKT   \n",
      "3                        NaN                  NaN                 AKT   \n",
      "4                        NaN                  NaN                 AKT   \n",
      "\n",
      "  industry_code  turnover  net_profit  personnel_average  \\\n",
      "0         43341       NaN         NaN                NaN   \n",
      "1         68310       NaN         NaN                NaN   \n",
      "2         68209       NaN         NaN                NaN   \n",
      "3         74909       NaN         NaN                NaN   \n",
      "4           NaN       NaN         NaN                NaN   \n",
      "\n",
      "   performer_ranking_points risk_rating_class  \n",
      "0                       NaN               NaN  \n",
      "1                       NaN               NaN  \n",
      "2                       NaN               NaN  \n",
      "3                       NaN               NaN  \n",
      "4                       NaN               NaN  \n"
     ]
    }
   ],
   "source": [
    "COMPANIES = COMPANIES[['business_id', 'company_name'] + SELECTED_COMPANY_FEATURES]\n",
    "print(COMPANIES.head())"
   ]
  },
  {
   "cell_type": "markdown",
   "id": "e544de4d",
   "metadata": {},
   "source": [
    "## Käsitellään toimialakoodit"
   ]
  },
  {
   "cell_type": "code",
   "execution_count": 7,
   "id": "d917c8a3",
   "metadata": {},
   "outputs": [],
   "source": [
    "def transform_industry(val):\n",
    "    if (pd.isnull(val)):\n",
    "        return 'NaN'\n",
    "    return val[0:2]\n",
    "\n",
    "COMPANIES['industry_code'] = COMPANIES['industry_code'].apply(transform_industry)"
   ]
  },
  {
   "cell_type": "markdown",
   "id": "0405fc15",
   "metadata": {},
   "source": [
    "## Käsitellään riskiluokitus"
   ]
  },
  {
   "cell_type": "code",
   "execution_count": 8,
   "id": "8979043d",
   "metadata": {},
   "outputs": [],
   "source": [
    "def transform_risk_rating(val):\n",
    "    if (pd.isnull(val)):\n",
    "        return 'NaN'\n",
    "    return val.split('_')[0]\n",
    "\n",
    "COMPANIES['risk_rating_class'] = COMPANIES['risk_rating_class'].apply(transform_risk_rating)"
   ]
  },
  {
   "cell_type": "markdown",
   "id": "e88cddba",
   "metadata": {},
   "source": [
    "## Muutetaan valittujen sarakkeiden tiedot avainsanoiksi"
   ]
  },
  {
   "cell_type": "code",
   "execution_count": 9,
   "id": "3383280f",
   "metadata": {},
   "outputs": [
    {
     "name": "stdout",
     "output_type": "stream",
     "text": [
      "        turnover  net_profit  personnel_average  performer_ranking_points\n",
      "0.20     21000.0     -4000.0                1.0                      31.0\n",
      "0.40     84000.0         0.0                2.0                      46.0\n",
      "0.60    221000.0      7000.0                5.0                      57.0\n",
      "0.80    736000.0     40000.0               13.0                      70.0\n",
      "0.90   1913000.0    112960.0               29.0                      77.0\n",
      "0.98  13937520.0    699000.0              144.0                      86.0\n",
      "0.99  30044720.0   1515680.0              297.0                      88.0\n"
     ]
    }
   ],
   "source": [
    "def transform_str_to_keyword(val, col_name):\n",
    "    if (pd.isnull(val)):\n",
    "        return col_name + '_' + 'NaN'\n",
    "    return col_name + '_' + val\n",
    "\n",
    "boundaries = COMPANIES.quantile([0.2, 0.4, 0.6, 0.8, 0.9, 0.98, 0.99])\n",
    "print(boundaries)\n",
    "\n",
    "def transform_num_to_keyword(val, col_name):\n",
    "    if (pd.isnull(val)):\n",
    "        return col_name + '_' + 'NaN'\n",
    "    \n",
    "    col_boundaries = boundaries[col_name]\n",
    "    for index, item in col_boundaries.iteritems():\n",
    "        if (val < item):\n",
    "            return col_name + '_' + str(index)\n",
    "        \n",
    "    return col_name + '_' + 'top'"
   ]
  },
  {
   "cell_type": "code",
   "execution_count": 10,
   "id": "b24446eb",
   "metadata": {},
   "outputs": [
    {
     "name": "stdout",
     "output_type": "stream",
     "text": [
      "  business_id                              company_name  \\\n",
      "0    31431209                      Tmi Onerva Miettunen   \n",
      "1    32087307                      Koti Vaihtoon LKV Oy   \n",
      "2    18601103  Teollisuuden Monialapalvelu T:mi Oksanen   \n",
      "3    20469041                                  POLYBEAT   \n",
      "4    24844507                               SAHOJEN PUU   \n",
      "\n",
      "         company_form_code      location_municipality_code  \\\n",
      "0  company_form_code_CO_26  location_municipality_code_091   \n",
      "1  company_form_code_CO_16  location_municipality_code_091   \n",
      "2  company_form_code_CO_26  location_municipality_code_NaN   \n",
      "3  company_form_code_CO_53  location_municipality_code_NaN   \n",
      "4  company_form_code_CO_26  location_municipality_code_NaN   \n",
      "\n",
      "       location_region_code      company_status_code      industry_code  \\\n",
      "0   location_region_code_01  company_status_code_AKT   industry_code_43   \n",
      "1   location_region_code_01  company_status_code_AKT   industry_code_68   \n",
      "2  location_region_code_NaN  company_status_code_AKT   industry_code_68   \n",
      "3  location_region_code_NaN  company_status_code_AKT   industry_code_74   \n",
      "4  location_region_code_NaN  company_status_code_AKT  industry_code_NaN   \n",
      "\n",
      "       turnover      net_profit      personnel_average  \\\n",
      "0  turnover_NaN  net_profit_NaN  personnel_average_NaN   \n",
      "1  turnover_NaN  net_profit_NaN  personnel_average_NaN   \n",
      "2  turnover_NaN  net_profit_NaN  personnel_average_NaN   \n",
      "3  turnover_NaN  net_profit_NaN  personnel_average_NaN   \n",
      "4  turnover_NaN  net_profit_NaN  personnel_average_NaN   \n",
      "\n",
      "       performer_ranking_points      risk_rating_class  \n",
      "0  performer_ranking_points_NaN  risk_rating_class_NaN  \n",
      "1  performer_ranking_points_NaN  risk_rating_class_NaN  \n",
      "2  performer_ranking_points_NaN  risk_rating_class_NaN  \n",
      "3  performer_ranking_points_NaN  risk_rating_class_NaN  \n",
      "4  performer_ranking_points_NaN  risk_rating_class_NaN  \n"
     ]
    }
   ],
   "source": [
    "for col_name in SELECTED_COMPANY_FEATURES:\n",
    "    dtype = COMPANIES[col_name].dtypes\n",
    "    if dtype == 'object':\n",
    "        COMPANIES[col_name] = COMPANIES[col_name].apply(lambda x: transform_str_to_keyword(x, col_name))\n",
    "    if dtype == 'float64':\n",
    "        COMPANIES[col_name] = COMPANIES[col_name].apply(lambda x: transform_num_to_keyword(x, col_name))\n",
    "        \n",
    "\n",
    "print(COMPANIES.head())"
   ]
  },
  {
   "cell_type": "markdown",
   "id": "28fd015b",
   "metadata": {},
   "source": [
    "## Pikkelöi käsitelty yritysdata"
   ]
  },
  {
   "cell_type": "code",
   "execution_count": null,
   "id": "86de0f3a",
   "metadata": {},
   "outputs": [],
   "source": [
    "COMPANIES.to_pickle(\"data/pandas_pickles/prod_data_proto2.pkl\")"
   ]
  },
  {
   "cell_type": "markdown",
   "id": "ca81ef38",
   "metadata": {},
   "source": [
    "## Heränneitä kysymyksiä\n",
    "\n",
    "1. Minkälaiset rajat tunnuslukujen diskretisoinnissa parhaat?"
   ]
  },
  {
   "cell_type": "code",
   "execution_count": null,
   "id": "2dcd1834",
   "metadata": {},
   "outputs": [],
   "source": []
  }
 ],
 "metadata": {
  "kernelspec": {
   "display_name": "Python 3 (ipykernel)",
   "language": "python",
   "name": "python3"
  },
  "language_info": {
   "codemirror_mode": {
    "name": "ipython",
    "version": 3
   },
   "file_extension": ".py",
   "mimetype": "text/x-python",
   "name": "python",
   "nbconvert_exporter": "python",
   "pygments_lexer": "ipython3",
   "version": "3.9.6"
  }
 },
 "nbformat": 4,
 "nbformat_minor": 5
}
