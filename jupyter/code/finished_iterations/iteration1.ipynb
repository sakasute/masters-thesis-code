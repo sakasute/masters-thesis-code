{
 "cells": [
  {
   "cell_type": "markdown",
   "id": "8c4b9608",
   "metadata": {},
   "source": [
    "# iteration1"
   ]
  },
  {
   "cell_type": "markdown",
   "id": "ee51a77e",
   "metadata": {},
   "source": [
    "Data:\n",
    "- interaktiot kaikkien muiden ryhmistä paitsi Alman kehittäjien\n",
    "- interaktiot ryhmä, ei käyttäjäkohtaisia\n",
    "- kaikki yritykset - konsernien tiedot pudotetaan pois\n",
    "- metadatana yrityksistä maakuntakoodi ja toimialakoodi\n",
    "\n",
    "Kysymyksiä:\n",
    "\n",
    "1. Tuottaako malli mitenkään järkeviä suosituksia?\n",
    "2. Warp vai bpr?\n",
    "4. Ryhmäkoko rajoittamaton, min=10 vai min=50? (Tai siis miten vaikuttaa - käytännössähän pitäisi päättää millainen on minimiryhmäkoko, jolle suosituksia halutaan luoda)\n",
    "3. Mitä tapahtuu, jos item_featuret jättää kokonaan pois?\n"
   ]
  },
  {
   "cell_type": "markdown",
   "id": "99d99181",
   "metadata": {},
   "source": [
    "## Importit"
   ]
  },
  {
   "cell_type": "code",
   "execution_count": 1,
   "id": "5aef34df",
   "metadata": {},
   "outputs": [],
   "source": [
    "from lightfm import LightFM\n",
    "from lightfm.cross_validation import random_train_test_split\n",
    "from lightfm.evaluation import auc_score\n",
    "from lightfm.evaluation import precision_at_k\n",
    "from lightfm.evaluation import recall_at_k\n",
    "from lightfm.evaluation import reciprocal_rank\n",
    "from lightfm.data import Dataset\n",
    "\n",
    "import numpy as np\n",
    "import pandas as pd\n",
    "\n",
    "import statistics"
   ]
  },
  {
   "cell_type": "markdown",
   "id": "10063a79",
   "metadata": {},
   "source": [
    "## Valitut metadatat yrityksille"
   ]
  },
  {
   "cell_type": "code",
   "execution_count": 2,
   "id": "1d67e937",
   "metadata": {},
   "outputs": [],
   "source": [
    "SELECTED_COMPANY_FEATURES = ['location_region_code', 'industry_code']"
   ]
  },
  {
   "cell_type": "markdown",
   "id": "3119231c",
   "metadata": {},
   "source": [
    "## Ladataan yritysdata"
   ]
  },
  {
   "cell_type": "code",
   "execution_count": 4,
   "id": "9655b5a5",
   "metadata": {},
   "outputs": [],
   "source": [
    "COMPANIES_DF = pd \\\n",
    "        .read_csv('../data/prod_data_companies_more_data_2021_09_16.csv',\n",
    "                  delimiter='\\t',\n",
    "                  na_values='(null)',\n",
    "                  dtype={\n",
    "                      'business_id': str,\n",
    "                      'business_id_start_date': str,\n",
    "                      'company_name': str,\n",
    "                      'email_address': str,\n",
    "                      'industry_code': str,\n",
    "                      'language': str,\n",
    "                      'company_form': str,\n",
    "                      'company_form_code': str,\n",
    "                      'domicile_code': str,\n",
    "                      'region_code': str,\n",
    "                      'location_municipality_code': str,\n",
    "                      'location_region_code': str,\n",
    "                      'company_status_code': str,\n",
    "                      'balance_industry_code': str,\n",
    "                      'personnel_class': str,\n",
    "                      'turnover_class': str,\n",
    "                      'statement_date': str,\n",
    "                      'statement_length': float,\n",
    "                      'target_year': str,\n",
    "                      'turnover': float,\n",
    "                      'raw_materials_use': float,\n",
    "                      'current_ratio': float,\n",
    "                      'personnel_expenses': float,\n",
    "                      'investment_expenses_cash_flow': float,\n",
    "                      'ebitda': float,\n",
    "                      'operating_profit_per_turnover': float,\n",
    "                      'ebit': float,\n",
    "                      'turnover_growth_percent': float,\n",
    "                      'ebit_per_turnover': float,\n",
    "                      'short_term_sales_receivable': float,\n",
    "                      'net_profit': float,\n",
    "                      'net_profit_per_turnover': float,\n",
    "                      'aggregate_equity': float,\n",
    "                      'return_on_equity_percent': float,\n",
    "                      'equity_ratio': float,\n",
    "                      'long_term_sales_receivable': float,\n",
    "                      'quick_ratio': float,\n",
    "                      'buildings': float,\n",
    "                      'return_on_investment_percent': float,\n",
    "                      'total_assets': float,\n",
    "                      'external_services': float,\n",
    "                      'aggregate_current_assets': float,\n",
    "                      'personnel_average': float,\n",
    "                      'concern': str,\n",
    "                      'bulk': str,\n",
    "                      'performer_ranking_points': float,\n",
    "                      'risk_rating_class': str,\n",
    "                      'latest': str\n",
    "                  }\n",
    "                  )\n"
   ]
  },
  {
   "cell_type": "markdown",
   "id": "cb25bd6e",
   "metadata": {},
   "source": [
    "## Poistetaan konsernit (duplikaattien poistamiseksi) ja valitaan halutut sarakkeet"
   ]
  },
  {
   "cell_type": "code",
   "execution_count": 6,
   "id": "65833aaf",
   "metadata": {},
   "outputs": [
    {
     "data": {
      "text/html": [
       "<div>\n",
       "<style scoped>\n",
       "    .dataframe tbody tr th:only-of-type {\n",
       "        vertical-align: middle;\n",
       "    }\n",
       "\n",
       "    .dataframe tbody tr th {\n",
       "        vertical-align: top;\n",
       "    }\n",
       "\n",
       "    .dataframe thead th {\n",
       "        text-align: right;\n",
       "    }\n",
       "</style>\n",
       "<table border=\"1\" class=\"dataframe\">\n",
       "  <thead>\n",
       "    <tr style=\"text-align: right;\">\n",
       "      <th></th>\n",
       "      <th>business_id</th>\n",
       "      <th>company_name</th>\n",
       "      <th>location_region_code</th>\n",
       "      <th>industry_code</th>\n",
       "    </tr>\n",
       "  </thead>\n",
       "  <tbody>\n",
       "    <tr>\n",
       "      <th>0</th>\n",
       "      <td>31431209</td>\n",
       "      <td>Tmi Onerva Miettunen</td>\n",
       "      <td>01</td>\n",
       "      <td>43341</td>\n",
       "    </tr>\n",
       "    <tr>\n",
       "      <th>1</th>\n",
       "      <td>32087307</td>\n",
       "      <td>Koti Vaihtoon LKV Oy</td>\n",
       "      <td>01</td>\n",
       "      <td>68310</td>\n",
       "    </tr>\n",
       "    <tr>\n",
       "      <th>2</th>\n",
       "      <td>18601103</td>\n",
       "      <td>Teollisuuden Monialapalvelu T:mi Oksanen</td>\n",
       "      <td>NaN</td>\n",
       "      <td>68209</td>\n",
       "    </tr>\n",
       "    <tr>\n",
       "      <th>3</th>\n",
       "      <td>20469041</td>\n",
       "      <td>POLYBEAT</td>\n",
       "      <td>NaN</td>\n",
       "      <td>74909</td>\n",
       "    </tr>\n",
       "    <tr>\n",
       "      <th>4</th>\n",
       "      <td>24844507</td>\n",
       "      <td>SAHOJEN PUU</td>\n",
       "      <td>NaN</td>\n",
       "      <td>NaN</td>\n",
       "    </tr>\n",
       "    <tr>\n",
       "      <th>...</th>\n",
       "      <td>...</td>\n",
       "      <td>...</td>\n",
       "      <td>...</td>\n",
       "      <td>...</td>\n",
       "    </tr>\n",
       "    <tr>\n",
       "      <th>1337863</th>\n",
       "      <td>27527742</td>\n",
       "      <td>Ingenium Partners Oy</td>\n",
       "      <td>NaN</td>\n",
       "      <td>70220</td>\n",
       "    </tr>\n",
       "    <tr>\n",
       "      <th>1337864</th>\n",
       "      <td>31204145</td>\n",
       "      <td>Rainmaker Voima Oy</td>\n",
       "      <td>01</td>\n",
       "      <td>78300</td>\n",
       "    </tr>\n",
       "    <tr>\n",
       "      <th>1337865</th>\n",
       "      <td>30137091</td>\n",
       "      <td>We Build Parks Finland Oy</td>\n",
       "      <td>19</td>\n",
       "      <td>42999</td>\n",
       "    </tr>\n",
       "    <tr>\n",
       "      <th>1337866</th>\n",
       "      <td>32150097</td>\n",
       "      <td>Orankien Osuuskunta</td>\n",
       "      <td>01</td>\n",
       "      <td>62010</td>\n",
       "    </tr>\n",
       "    <tr>\n",
       "      <th>1337867</th>\n",
       "      <td>08445602</td>\n",
       "      <td>Ykkösmestarit Ky</td>\n",
       "      <td>10</td>\n",
       "      <td>95230</td>\n",
       "    </tr>\n",
       "  </tbody>\n",
       "</table>\n",
       "<p>1334601 rows × 4 columns</p>\n",
       "</div>"
      ],
      "text/plain": [
       "        business_id                              company_name  \\\n",
       "0          31431209                      Tmi Onerva Miettunen   \n",
       "1          32087307                      Koti Vaihtoon LKV Oy   \n",
       "2          18601103  Teollisuuden Monialapalvelu T:mi Oksanen   \n",
       "3          20469041                                  POLYBEAT   \n",
       "4          24844507                               SAHOJEN PUU   \n",
       "...             ...                                       ...   \n",
       "1337863    27527742                      Ingenium Partners Oy   \n",
       "1337864    31204145                        Rainmaker Voima Oy   \n",
       "1337865    30137091                 We Build Parks Finland Oy   \n",
       "1337866    32150097                       Orankien Osuuskunta   \n",
       "1337867    08445602                          Ykkösmestarit Ky   \n",
       "\n",
       "        location_region_code industry_code  \n",
       "0                         01         43341  \n",
       "1                         01         68310  \n",
       "2                        NaN         68209  \n",
       "3                        NaN         74909  \n",
       "4                        NaN           NaN  \n",
       "...                      ...           ...  \n",
       "1337863                  NaN         70220  \n",
       "1337864                   01         78300  \n",
       "1337865                   19         42999  \n",
       "1337866                   01         62010  \n",
       "1337867                   10         95230  \n",
       "\n",
       "[1334601 rows x 4 columns]"
      ]
     },
     "execution_count": 6,
     "metadata": {},
     "output_type": "execute_result"
    }
   ],
   "source": [
    "COMPANIES_DF = COMPANIES_DF[COMPANIES_DF['concern'] != 'true']\n",
    "COMPANIES_DF = COMPANIES_DF[['business_id', 'company_name'] + SELECTED_COMPANY_FEATURES]\n",
    "COMPANIES_DF"
   ]
  },
  {
   "cell_type": "markdown",
   "id": "5540f87d",
   "metadata": {},
   "source": [
    "## Prefiksoidaan metadatakoodit ja käsitellään puuttuvat kentät"
   ]
  },
  {
   "cell_type": "code",
   "execution_count": 7,
   "id": "7f2fb0de",
   "metadata": {},
   "outputs": [
    {
     "data": {
      "text/html": [
       "<div>\n",
       "<style scoped>\n",
       "    .dataframe tbody tr th:only-of-type {\n",
       "        vertical-align: middle;\n",
       "    }\n",
       "\n",
       "    .dataframe tbody tr th {\n",
       "        vertical-align: top;\n",
       "    }\n",
       "\n",
       "    .dataframe thead th {\n",
       "        text-align: right;\n",
       "    }\n",
       "</style>\n",
       "<table border=\"1\" class=\"dataframe\">\n",
       "  <thead>\n",
       "    <tr style=\"text-align: right;\">\n",
       "      <th></th>\n",
       "      <th>business_id</th>\n",
       "      <th>company_name</th>\n",
       "      <th>location_region_code</th>\n",
       "      <th>industry_code</th>\n",
       "    </tr>\n",
       "  </thead>\n",
       "  <tbody>\n",
       "    <tr>\n",
       "      <th>0</th>\n",
       "      <td>31431209</td>\n",
       "      <td>Tmi Onerva Miettunen</td>\n",
       "      <td>location_region_code+01</td>\n",
       "      <td>industry_code+43341</td>\n",
       "    </tr>\n",
       "    <tr>\n",
       "      <th>1</th>\n",
       "      <td>32087307</td>\n",
       "      <td>Koti Vaihtoon LKV Oy</td>\n",
       "      <td>location_region_code+01</td>\n",
       "      <td>industry_code+68310</td>\n",
       "    </tr>\n",
       "    <tr>\n",
       "      <th>2</th>\n",
       "      <td>18601103</td>\n",
       "      <td>Teollisuuden Monialapalvelu T:mi Oksanen</td>\n",
       "      <td>location_region_code+NaN</td>\n",
       "      <td>industry_code+68209</td>\n",
       "    </tr>\n",
       "    <tr>\n",
       "      <th>3</th>\n",
       "      <td>20469041</td>\n",
       "      <td>POLYBEAT</td>\n",
       "      <td>location_region_code+NaN</td>\n",
       "      <td>industry_code+74909</td>\n",
       "    </tr>\n",
       "    <tr>\n",
       "      <th>4</th>\n",
       "      <td>24844507</td>\n",
       "      <td>SAHOJEN PUU</td>\n",
       "      <td>location_region_code+NaN</td>\n",
       "      <td>industry_code+NaN</td>\n",
       "    </tr>\n",
       "    <tr>\n",
       "      <th>...</th>\n",
       "      <td>...</td>\n",
       "      <td>...</td>\n",
       "      <td>...</td>\n",
       "      <td>...</td>\n",
       "    </tr>\n",
       "    <tr>\n",
       "      <th>1337863</th>\n",
       "      <td>27527742</td>\n",
       "      <td>Ingenium Partners Oy</td>\n",
       "      <td>location_region_code+NaN</td>\n",
       "      <td>industry_code+70220</td>\n",
       "    </tr>\n",
       "    <tr>\n",
       "      <th>1337864</th>\n",
       "      <td>31204145</td>\n",
       "      <td>Rainmaker Voima Oy</td>\n",
       "      <td>location_region_code+01</td>\n",
       "      <td>industry_code+78300</td>\n",
       "    </tr>\n",
       "    <tr>\n",
       "      <th>1337865</th>\n",
       "      <td>30137091</td>\n",
       "      <td>We Build Parks Finland Oy</td>\n",
       "      <td>location_region_code+19</td>\n",
       "      <td>industry_code+42999</td>\n",
       "    </tr>\n",
       "    <tr>\n",
       "      <th>1337866</th>\n",
       "      <td>32150097</td>\n",
       "      <td>Orankien Osuuskunta</td>\n",
       "      <td>location_region_code+01</td>\n",
       "      <td>industry_code+62010</td>\n",
       "    </tr>\n",
       "    <tr>\n",
       "      <th>1337867</th>\n",
       "      <td>08445602</td>\n",
       "      <td>Ykkösmestarit Ky</td>\n",
       "      <td>location_region_code+10</td>\n",
       "      <td>industry_code+95230</td>\n",
       "    </tr>\n",
       "  </tbody>\n",
       "</table>\n",
       "<p>1334601 rows × 4 columns</p>\n",
       "</div>"
      ],
      "text/plain": [
       "        business_id                              company_name  \\\n",
       "0          31431209                      Tmi Onerva Miettunen   \n",
       "1          32087307                      Koti Vaihtoon LKV Oy   \n",
       "2          18601103  Teollisuuden Monialapalvelu T:mi Oksanen   \n",
       "3          20469041                                  POLYBEAT   \n",
       "4          24844507                               SAHOJEN PUU   \n",
       "...             ...                                       ...   \n",
       "1337863    27527742                      Ingenium Partners Oy   \n",
       "1337864    31204145                        Rainmaker Voima Oy   \n",
       "1337865    30137091                 We Build Parks Finland Oy   \n",
       "1337866    32150097                       Orankien Osuuskunta   \n",
       "1337867    08445602                          Ykkösmestarit Ky   \n",
       "\n",
       "             location_region_code        industry_code  \n",
       "0         location_region_code+01  industry_code+43341  \n",
       "1         location_region_code+01  industry_code+68310  \n",
       "2        location_region_code+NaN  industry_code+68209  \n",
       "3        location_region_code+NaN  industry_code+74909  \n",
       "4        location_region_code+NaN    industry_code+NaN  \n",
       "...                           ...                  ...  \n",
       "1337863  location_region_code+NaN  industry_code+70220  \n",
       "1337864   location_region_code+01  industry_code+78300  \n",
       "1337865   location_region_code+19  industry_code+42999  \n",
       "1337866   location_region_code+01  industry_code+62010  \n",
       "1337867   location_region_code+10  industry_code+95230  \n",
       "\n",
       "[1334601 rows x 4 columns]"
      ]
     },
     "execution_count": 7,
     "metadata": {},
     "output_type": "execute_result"
    }
   ],
   "source": [
    "def transform_str_to_keyword(val, col_name):\n",
    "    if (pd.isnull(val)):\n",
    "        return col_name + '+' + 'NaN'\n",
    "    return col_name + '+' + val\n",
    "\n",
    "for col_name in SELECTED_COMPANY_FEATURES:\n",
    "    COMPANIES_DF[col_name] = COMPANIES_DF[col_name].apply(lambda x: transform_str_to_keyword(x, col_name))\n",
    "\n",
    "COMPANIES_DF"
   ]
  },
  {
   "cell_type": "markdown",
   "id": "f921545a",
   "metadata": {},
   "source": [
    "## Käsitellään yritysdataa LightFM:n Dataset-olion luontia varten"
   ]
  },
  {
   "cell_type": "code",
   "execution_count": 8,
   "id": "b7cfec12",
   "metadata": {},
   "outputs": [
    {
     "name": "stdout",
     "output_type": "stream",
     "text": [
      "('31431209', ['location_region_code+01', 'industry_code+43341'])\n",
      "1334601\n",
      "838\n"
     ]
    }
   ],
   "source": [
    "ITEM_IDS = list(COMPANIES_DF['business_id'].unique())\n",
    "\n",
    "item_features_tmp = [COMPANIES_DF[feature].unique() for feature in SELECTED_COMPANY_FEATURES]\n",
    "\n",
    "ITEM_FEATURE_LABELS = [item for sublist in item_features_tmp for item in sublist]\n",
    "\n",
    "ITEM_FEATURES = [(company['business_id'], \n",
    "                  [company[feature] for feature in SELECTED_COMPANY_FEATURES])\n",
    "                     for company in COMPANIES_DF.to_dict(orient='records')]\n",
    "\n",
    "print(ITEM_FEATURES[0])\n",
    "print(len(ITEM_FEATURES))\n",
    "print(len(ITEM_FEATURE_LABELS))"
   ]
  },
  {
   "cell_type": "markdown",
   "id": "d852d65a",
   "metadata": {},
   "source": [
    "## Ladataan vuorovaikutusdata"
   ]
  },
  {
   "cell_type": "code",
   "execution_count": 9,
   "id": "a1d0244e",
   "metadata": {},
   "outputs": [],
   "source": [
    "interactions_tmp = pd \\\n",
    "    .read_csv('../data/interactions_2021_08_19.csv',\n",
    "             delimiter='\\t',\n",
    "             dtype={\n",
    "                 'group_id': 'string',\n",
    "                 'business_id': 'string',\n",
    "                 'owner': 'string'\n",
    "             })\n",
    "\n",
    "# Poistetaan vuorovaikutusdatasta sellaiset y-tunnukset, joita ei löydy kohteista\n",
    "INTERACTIONS_DF = interactions_tmp[interactions_tmp.business_id.isin(ITEM_IDS)]"
   ]
  },
  {
   "cell_type": "markdown",
   "id": "58b9ff35",
   "metadata": {},
   "source": [
    "## Luodaan vuorovaikutusdatasta versiot erilaisilla minimiryhmäko'oilla"
   ]
  },
  {
   "cell_type": "code",
   "execution_count": 10,
   "id": "eb059d15",
   "metadata": {},
   "outputs": [],
   "source": [
    "group_sizes = INTERACTIONS_DF['group_id'].value_counts()\n",
    "group_sizes_df = pd.DataFrame({'group_id': group_sizes.index, 'group_size': group_sizes.values})\n",
    "\n",
    "INTERACTIONS_WITH_GROUP_SIZES_DF = INTERACTIONS_DF.merge(group_sizes_df, on='group_id')\n",
    "\n",
    "\n",
    "##### Minimiryhmäkoko = 10 #####\n",
    "\n",
    "INTERACTIONS_10_DF = INTERACTIONS_WITH_GROUP_SIZES_DF[INTERACTIONS_WITH_GROUP_SIZES_DF.group_size >= 10]\n",
    "\n",
    "\n",
    "##### Minimiryhmäkoko = 50\n",
    "\n",
    "INTERACTIONS_50_DF = INTERACTIONS_WITH_GROUP_SIZES_DF[INTERACTIONS_WITH_GROUP_SIZES_DF.group_size >= 50]\n"
   ]
  },
  {
   "cell_type": "code",
   "execution_count": 19,
   "id": "efec42fb",
   "metadata": {},
   "outputs": [
    {
     "name": "stdout",
     "output_type": "stream",
     "text": [
      "----- group_size>=1 -----\n",
      "ryhmiä: 1399, interaktioita 525513, yrityksiä 140677\n",
      "\n",
      "----- group_size>=10 -----\n",
      "ryhmiä: 1015, interaktioita 524053, yrityksiä 140604\n",
      "\n",
      "----- group_size>=50 -----\n",
      "ryhmiä: 722, interaktioita 517150, yrityksiä 140284\n"
     ]
    }
   ],
   "source": [
    "def print_interactions_meta_data(interactions_df):\n",
    "    print('ryhmiä: {groups}, interaktioita {interactions}, yrityksiä {companies}'\n",
    "          .format(groups=len(list(interactions_df['group_id'].unique())),\n",
    "                  interactions=interactions_df.shape[0], \n",
    "                  companies=len(list(interactions_df['business_id'].unique()))))\n",
    "\n",
    "print('----- group_size>=1 -----')\n",
    "print_interactions_meta_data(INTERACTIONS_DF)\n",
    "\n",
    "print('\\n----- group_size>=10 -----')\n",
    "print_interactions_meta_data(INTERACTIONS_10_DF)\n",
    "\n",
    "print('\\n----- group_size>=50 -----')\n",
    "print_interactions_meta_data(INTERACTIONS_50_DF)"
   ]
  },
  {
   "cell_type": "markdown",
   "id": "fae534b3",
   "metadata": {},
   "source": [
    "## Luodaan LightFM:n ymmärtämät Dataset-oliot eri ryhmäko'oille"
   ]
  },
  {
   "cell_type": "code",
   "execution_count": 12,
   "id": "bbc276a2",
   "metadata": {},
   "outputs": [],
   "source": [
    "def create_dataset(interactions_df):\n",
    "    dataset = Dataset(user_identity_features=False, item_identity_features=False)\n",
    "    \n",
    "    interactions = [(interaction['group_id'], interaction['business_id']) \n",
    "                for interaction in interactions_df.to_dict(orient='records')]\n",
    "    \n",
    "    user_ids = list(set(interactions_df['group_id'].values))\n",
    "\n",
    "    dataset.fit(users=user_ids, items=ITEM_IDS, item_features=ITEM_FEATURE_LABELS)\n",
    "    \n",
    "    (interactions_ds, weights_ds) = dataset.build_interactions(interactions)\n",
    "    \n",
    "    item_features_ds = dataset.build_item_features(ITEM_FEATURES, normalize=False)\n",
    "\n",
    "    # USER_MAP_DS = dataset.mapping()[0]\n",
    "    # ITEM_MAP_DS = dataset.mapping()[2]\n",
    "    # ITEM_FEATURE_MAP_DS = dataset.mapping()[3]\n",
    "    \n",
    "    return (interactions_ds, item_features_ds)    "
   ]
  },
  {
   "cell_type": "code",
   "execution_count": 13,
   "id": "a6e20b54",
   "metadata": {},
   "outputs": [],
   "source": [
    "(INTERACTIONS_10_DS, ITEM_FEATURES_10_DS) = create_dataset(INTERACTIONS_10_DF)"
   ]
  },
  {
   "cell_type": "code",
   "execution_count": 20,
   "id": "a4284e32",
   "metadata": {},
   "outputs": [
    {
     "data": {
      "text/plain": [
       "<1015x1334601 sparse matrix of type '<class 'numpy.int32'>'\n",
       "\twith 524053 stored elements in COOrdinate format>"
      ]
     },
     "execution_count": 20,
     "metadata": {},
     "output_type": "execute_result"
    }
   ],
   "source": [
    "INTERACTIONS_10_DS"
   ]
  },
  {
   "cell_type": "code",
   "execution_count": 21,
   "id": "bc30d902",
   "metadata": {},
   "outputs": [
    {
     "data": {
      "text/plain": [
       "<1334601x838 sparse matrix of type '<class 'numpy.float32'>'\n",
       "\twith 2669202 stored elements in Compressed Sparse Row format>"
      ]
     },
     "execution_count": 21,
     "metadata": {},
     "output_type": "execute_result"
    }
   ],
   "source": [
    "ITEM_FEATURES_10_DS"
   ]
  },
  {
   "cell_type": "code",
   "execution_count": null,
   "id": "8e4dd96d",
   "metadata": {},
   "outputs": [],
   "source": []
  }
 ],
 "metadata": {
  "kernelspec": {
   "display_name": "Python 3 (ipykernel)",
   "language": "python",
   "name": "python3"
  },
  "language_info": {
   "codemirror_mode": {
    "name": "ipython",
    "version": 3
   },
   "file_extension": ".py",
   "mimetype": "text/x-python",
   "name": "python",
   "nbconvert_exporter": "python",
   "pygments_lexer": "ipython3",
   "version": "3.9.6"
  }
 },
 "nbformat": 4,
 "nbformat_minor": 5
}
