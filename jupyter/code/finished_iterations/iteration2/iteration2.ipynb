{
 "cells": [
  {
   "cell_type": "markdown",
   "id": "5b98830b",
   "metadata": {},
   "source": [
    "# iteration2"
   ]
  },
  {
   "cell_type": "markdown",
   "id": "8e250ad4",
   "metadata": {},
   "source": [
    "Data:\n",
    "- interaktiot kaikkien muiden ryhmistä paitsi Alman kehittäjien\n",
    "- interaktiot ryhmä, ei käyttäjäkohtaisia\n",
    "- kaikki yritykset - konsernit mukana lisäämällä \"K-\" y-tunnuksen eteen\n",
    "- metadatana perustietoa yrityksistä - numeeriset tilikausitiedot diskretisoitu tiettyihin persentiileihin (kts. muuttuja SELECTED_COMPANY_FEATURES alta)\n",
    "- **data esikäsitelty proto2_data_prep-notebookissa**\n",
    "- Warp-malli käytössä\n",
    "- Minimiryhmäkoko = 2\n",
    "\n",
    "Kysymyksiä:\n",
    "\n",
    "1. Saadaanko näillä lisätyillä metatiedoilla mallista parempi metatietojen kanssa kuin ilman?\n",
    "2. item_identity_features päälle vai pois?\n",
    "3. Saadaanko lisätyillä metatiedoilla parempi precision?\n",
    "\n"
   ]
  },
  {
   "cell_type": "markdown",
   "id": "ed64ea90",
   "metadata": {},
   "source": [
    "## Importit"
   ]
  },
  {
   "cell_type": "code",
   "execution_count": 1,
   "id": "ff4d3385",
   "metadata": {
    "vscode": {
     "languageId": "python"
    }
   },
   "outputs": [],
   "source": [
    "from lightfm import LightFM\n",
    "from lightfm.cross_validation import random_train_test_split\n",
    "from lightfm.evaluation import auc_score\n",
    "from lightfm.evaluation import precision_at_k\n",
    "from lightfm.evaluation import recall_at_k\n",
    "from lightfm.evaluation import reciprocal_rank\n",
    "from lightfm.data import Dataset\n",
    "\n",
    "import numpy as np\n",
    "import pandas as pd\n",
    "\n",
    "import statistics\n",
    "import functools\n",
    "\n",
    "WORKING_DIRECTORY = '/mnt/c/git/masters-thesis-code/jupyter/code/'"
   ]
  },
  {
   "cell_type": "markdown",
   "id": "ed481a34",
   "metadata": {},
   "source": [
    "## Valitut metadatat yrityksille"
   ]
  },
  {
   "cell_type": "code",
   "execution_count": 2,
   "id": "7b4c77db",
   "metadata": {
    "vscode": {
     "languageId": "python"
    }
   },
   "outputs": [],
   "source": [
    "SELECTED_COMPANY_FEATURES = ['company_form_code', 'location_municipality_code', \n",
    "                             'location_region_code', 'company_status_code', 'industry_code', 'turnover', \n",
    "                             'net_profit', 'personnel_average', 'performer_ranking_points', 'risk_rating_class']"
   ]
  },
  {
   "cell_type": "markdown",
   "id": "21d91921",
   "metadata": {},
   "source": [
    "## Ladataan yritysdata"
   ]
  },
  {
   "cell_type": "code",
   "execution_count": 3,
   "id": "224730b5",
   "metadata": {
    "vscode": {
     "languageId": "python"
    }
   },
   "outputs": [],
   "source": [
    "COMPANIES_DF = pd.read_pickle(WORKING_DIRECTORY + \"data/pandas_pickles/prod_data_proto2.pkl\")"
   ]
  },
  {
   "cell_type": "markdown",
   "id": "bb3cfbfe",
   "metadata": {},
   "source": [
    "## Käsitellään yritysdataa LightFM:n Dataset-olion luontia varten"
   ]
  },
  {
   "cell_type": "code",
   "execution_count": 4,
   "id": "c27c6af9",
   "metadata": {
    "vscode": {
     "languageId": "python"
    }
   },
   "outputs": [
    {
     "name": "stdout",
     "output_type": "stream",
     "text": [
      "('31431209', ['company_form_code+CO_26', 'location_municipality_code+091', 'location_region_code+01', 'company_status_code+AKT', 'industry_code+43', 'turnover+NaN', 'net_profit+NaN', 'personnel_average+NaN', 'performer_ranking_points+NaN', 'risk_rating_class+NaN'])\n",
      "1337868\n",
      "530\n"
     ]
    }
   ],
   "source": [
    "ITEM_IDS = list(COMPANIES_DF['business_id'].unique())\n",
    "\n",
    "item_features_tmp = [COMPANIES_DF[feature].unique() for feature in SELECTED_COMPANY_FEATURES]\n",
    "\n",
    "ITEM_FEATURE_LABELS = [item for sublist in item_features_tmp for item in sublist]\n",
    "\n",
    "ITEM_FEATURES = [(company['business_id'], \n",
    "                  [company[feature] for feature in SELECTED_COMPANY_FEATURES])\n",
    "                     for company in COMPANIES_DF.to_dict(orient='records')]\n",
    "\n",
    "print(ITEM_FEATURES[0])\n",
    "print(len(ITEM_FEATURES))\n",
    "print(len(ITEM_FEATURE_LABELS))\n"
   ]
  },
  {
   "cell_type": "code",
   "execution_count": 104,
   "id": "e1b9ee5f",
   "metadata": {
    "vscode": {
     "languageId": "python"
    }
   },
   "outputs": [
    {
     "data": {
      "text/html": [
       "<div>\n",
       "<style scoped>\n",
       "    .dataframe tbody tr th:only-of-type {\n",
       "        vertical-align: middle;\n",
       "    }\n",
       "\n",
       "    .dataframe tbody tr th {\n",
       "        vertical-align: top;\n",
       "    }\n",
       "\n",
       "    .dataframe thead th {\n",
       "        text-align: right;\n",
       "    }\n",
       "</style>\n",
       "<table border=\"1\" class=\"dataframe\">\n",
       "  <thead>\n",
       "    <tr style=\"text-align: right;\">\n",
       "      <th></th>\n",
       "      <th>business_id</th>\n",
       "      <th>company_name</th>\n",
       "      <th>company_form_code</th>\n",
       "      <th>location_municipality_code</th>\n",
       "      <th>location_region_code</th>\n",
       "      <th>company_status_code</th>\n",
       "      <th>industry_code</th>\n",
       "      <th>turnover</th>\n",
       "      <th>net_profit</th>\n",
       "      <th>personnel_average</th>\n",
       "      <th>performer_ranking_points</th>\n",
       "      <th>risk_rating_class</th>\n",
       "    </tr>\n",
       "  </thead>\n",
       "  <tbody>\n",
       "    <tr>\n",
       "      <th>1333142</th>\n",
       "      <td>01370820</td>\n",
       "      <td>Leipomo Rosten Oy</td>\n",
       "      <td>company_form_code+CO_16</td>\n",
       "      <td>location_municipality_code+853</td>\n",
       "      <td>location_region_code+02</td>\n",
       "      <td>company_status_code+AKT</td>\n",
       "      <td>industry_code+10</td>\n",
       "      <td>turnover+0.98</td>\n",
       "      <td>net_profit+0.98</td>\n",
       "      <td>personnel_average+0.98</td>\n",
       "      <td>performer_ranking_points+0.6</td>\n",
       "      <td>risk_rating_class+GREEN</td>\n",
       "    </tr>\n",
       "  </tbody>\n",
       "</table>\n",
       "</div>"
      ],
      "text/plain": [
       "        business_id       company_name        company_form_code  \\\n",
       "1333142    01370820  Leipomo Rosten Oy  company_form_code+CO_16   \n",
       "\n",
       "             location_municipality_code     location_region_code  \\\n",
       "1333142  location_municipality_code+853  location_region_code+02   \n",
       "\n",
       "             company_status_code     industry_code       turnover  \\\n",
       "1333142  company_status_code+AKT  industry_code+10  turnover+0.98   \n",
       "\n",
       "              net_profit       personnel_average  \\\n",
       "1333142  net_profit+0.98  personnel_average+0.98   \n",
       "\n",
       "             performer_ranking_points        risk_rating_class  \n",
       "1333142  performer_ranking_points+0.6  risk_rating_class+GREEN  "
      ]
     },
     "execution_count": 104,
     "metadata": {},
     "output_type": "execute_result"
    }
   ],
   "source": [
    "COMPANIES_DF[COMPANIES_DF['business_id'] == '01370820']"
   ]
  },
  {
   "cell_type": "markdown",
   "id": "a947fe51",
   "metadata": {},
   "source": [
    "## Ladataan vuorovaikutusdata"
   ]
  },
  {
   "cell_type": "code",
   "execution_count": 7,
   "id": "31e37e73",
   "metadata": {
    "vscode": {
     "languageId": "python"
    }
   },
   "outputs": [
    {
     "data": {
      "text/html": [
       "<div>\n",
       "<style scoped>\n",
       "    .dataframe tbody tr th:only-of-type {\n",
       "        vertical-align: middle;\n",
       "    }\n",
       "\n",
       "    .dataframe tbody tr th {\n",
       "        vertical-align: top;\n",
       "    }\n",
       "\n",
       "    .dataframe thead th {\n",
       "        text-align: right;\n",
       "    }\n",
       "</style>\n",
       "<table border=\"1\" class=\"dataframe\">\n",
       "  <thead>\n",
       "    <tr style=\"text-align: right;\">\n",
       "      <th></th>\n",
       "      <th>group_id</th>\n",
       "      <th>business_id</th>\n",
       "      <th>owner</th>\n",
       "      <th>group_size</th>\n",
       "    </tr>\n",
       "  </thead>\n",
       "  <tbody>\n",
       "    <tr>\n",
       "      <th>155696</th>\n",
       "      <td>3e9dd356-2b21-45ae-9ee4-7cd6cc122fe1</td>\n",
       "      <td>07577937</td>\n",
       "      <td>5e87095492119e00066e7158</td>\n",
       "      <td>2</td>\n",
       "    </tr>\n",
       "    <tr>\n",
       "      <th>106198</th>\n",
       "      <td>31503959-943a-4081-abcc-dc80e5cb0402</td>\n",
       "      <td>15093748</td>\n",
       "      <td>5db034c64320cd0006d2b788</td>\n",
       "      <td>2</td>\n",
       "    </tr>\n",
       "    <tr>\n",
       "      <th>313746</th>\n",
       "      <td>cab22fae-db47-46b6-b902-3d9a1b1051f6</td>\n",
       "      <td>01163004</td>\n",
       "      <td>5e4534bc7bf061000697e940</td>\n",
       "      <td>2</td>\n",
       "    </tr>\n",
       "    <tr>\n",
       "      <th>313747</th>\n",
       "      <td>cab22fae-db47-46b6-b902-3d9a1b1051f6</td>\n",
       "      <td>10410900</td>\n",
       "      <td>5e4534bc7bf061000697e940</td>\n",
       "      <td>2</td>\n",
       "    </tr>\n",
       "    <tr>\n",
       "      <th>545392</th>\n",
       "      <td>0967d6ed-88b7-4023-a720-f09f7051f24d</td>\n",
       "      <td>17944788</td>\n",
       "      <td>5efdbc656488210007bc27f6</td>\n",
       "      <td>2</td>\n",
       "    </tr>\n",
       "    <tr>\n",
       "      <th>...</th>\n",
       "      <td>...</td>\n",
       "      <td>...</td>\n",
       "      <td>...</td>\n",
       "      <td>...</td>\n",
       "    </tr>\n",
       "    <tr>\n",
       "      <th>8042</th>\n",
       "      <td>a5c6ce2e-22ab-4871-bd72-e5da294b33cc</td>\n",
       "      <td>16029641</td>\n",
       "      <td>5e1489f3c2f568000654ecbb</td>\n",
       "      <td>3999</td>\n",
       "    </tr>\n",
       "    <tr>\n",
       "      <th>8043</th>\n",
       "      <td>a5c6ce2e-22ab-4871-bd72-e5da294b33cc</td>\n",
       "      <td>16030167</td>\n",
       "      <td>5e1489f3c2f568000654ecbb</td>\n",
       "      <td>3999</td>\n",
       "    </tr>\n",
       "    <tr>\n",
       "      <th>8044</th>\n",
       "      <td>a5c6ce2e-22ab-4871-bd72-e5da294b33cc</td>\n",
       "      <td>16030415</td>\n",
       "      <td>5e1489f3c2f568000654ecbb</td>\n",
       "      <td>3999</td>\n",
       "    </tr>\n",
       "    <tr>\n",
       "      <th>8031</th>\n",
       "      <td>a5c6ce2e-22ab-4871-bd72-e5da294b33cc</td>\n",
       "      <td>16001948</td>\n",
       "      <td>5e1489f3c2f568000654ecbb</td>\n",
       "      <td>3999</td>\n",
       "    </tr>\n",
       "    <tr>\n",
       "      <th>7025</th>\n",
       "      <td>a5c6ce2e-22ab-4871-bd72-e5da294b33cc</td>\n",
       "      <td>09710930</td>\n",
       "      <td>5e1489f3c2f568000654ecbb</td>\n",
       "      <td>3999</td>\n",
       "    </tr>\n",
       "  </tbody>\n",
       "</table>\n",
       "<p>548107 rows × 4 columns</p>\n",
       "</div>"
      ],
      "text/plain": [
       "                                    group_id business_id  \\\n",
       "155696  3e9dd356-2b21-45ae-9ee4-7cd6cc122fe1    07577937   \n",
       "106198  31503959-943a-4081-abcc-dc80e5cb0402    15093748   \n",
       "313746  cab22fae-db47-46b6-b902-3d9a1b1051f6    01163004   \n",
       "313747  cab22fae-db47-46b6-b902-3d9a1b1051f6    10410900   \n",
       "545392  0967d6ed-88b7-4023-a720-f09f7051f24d    17944788   \n",
       "...                                      ...         ...   \n",
       "8042    a5c6ce2e-22ab-4871-bd72-e5da294b33cc    16029641   \n",
       "8043    a5c6ce2e-22ab-4871-bd72-e5da294b33cc    16030167   \n",
       "8044    a5c6ce2e-22ab-4871-bd72-e5da294b33cc    16030415   \n",
       "8031    a5c6ce2e-22ab-4871-bd72-e5da294b33cc    16001948   \n",
       "7025    a5c6ce2e-22ab-4871-bd72-e5da294b33cc    09710930   \n",
       "\n",
       "                           owner  group_size  \n",
       "155696  5e87095492119e00066e7158           2  \n",
       "106198  5db034c64320cd0006d2b788           2  \n",
       "313746  5e4534bc7bf061000697e940           2  \n",
       "313747  5e4534bc7bf061000697e940           2  \n",
       "545392  5efdbc656488210007bc27f6           2  \n",
       "...                          ...         ...  \n",
       "8042    5e1489f3c2f568000654ecbb        3999  \n",
       "8043    5e1489f3c2f568000654ecbb        3999  \n",
       "8044    5e1489f3c2f568000654ecbb        3999  \n",
       "8031    5e1489f3c2f568000654ecbb        3999  \n",
       "7025    5e1489f3c2f568000654ecbb        3999  \n",
       "\n",
       "[548107 rows x 4 columns]"
      ]
     },
     "execution_count": 7,
     "metadata": {},
     "output_type": "execute_result"
    }
   ],
   "source": [
    "interactions_tmp = pd \\\n",
    "    .read_csv(WORKING_DIRECTORY + 'data/interactions_2021_08_19.csv',\n",
    "             delimiter='\\t',\n",
    "             dtype={\n",
    "                 'group_id': 'string',\n",
    "                 'business_id': 'string',\n",
    "                 'owner': 'string'\n",
    "             })\n",
    "             \n",
    "# otetaan pois 1 kokoiset ryhmät\n",
    "group_sizes = interactions_tmp['group_id'].value_counts()\n",
    "group_sizes_df = pd.DataFrame({'group_id': group_sizes.index, 'group_size': group_sizes.values})\n",
    "\n",
    "INTERACTIONS_WITH_GROUP_SIZES_DF = interactions_tmp.merge(group_sizes_df, on='group_id')             \n",
    "interactions_tmp = INTERACTIONS_WITH_GROUP_SIZES_DF[INTERACTIONS_WITH_GROUP_SIZES_DF.group_size >= 2]\n",
    "\n",
    "interactions_tmp.sort_values('group_size')"
   ]
  },
  {
   "cell_type": "code",
   "execution_count": 8,
   "id": "e46e8a6f",
   "metadata": {
    "vscode": {
     "languageId": "python"
    }
   },
   "outputs": [
    {
     "data": {
      "text/html": [
       "<div>\n",
       "<style scoped>\n",
       "    .dataframe tbody tr th:only-of-type {\n",
       "        vertical-align: middle;\n",
       "    }\n",
       "\n",
       "    .dataframe tbody tr th {\n",
       "        vertical-align: top;\n",
       "    }\n",
       "\n",
       "    .dataframe thead th {\n",
       "        text-align: right;\n",
       "    }\n",
       "</style>\n",
       "<table border=\"1\" class=\"dataframe\">\n",
       "  <thead>\n",
       "    <tr style=\"text-align: right;\">\n",
       "      <th></th>\n",
       "      <th>group_id</th>\n",
       "      <th>business_id</th>\n",
       "      <th>owner</th>\n",
       "      <th>group_size</th>\n",
       "    </tr>\n",
       "  </thead>\n",
       "  <tbody>\n",
       "    <tr>\n",
       "      <th>5</th>\n",
       "      <td>c2626398-faac-4ff3-b02d-cdc64b50cdaa</td>\n",
       "      <td>K-01681709</td>\n",
       "      <td>60646431ae18cb00063ed63f</td>\n",
       "      <td>1862</td>\n",
       "    </tr>\n",
       "    <tr>\n",
       "      <th>6</th>\n",
       "      <td>c2626398-faac-4ff3-b02d-cdc64b50cdaa</td>\n",
       "      <td>K-15055514</td>\n",
       "      <td>60646431ae18cb00063ed63f</td>\n",
       "      <td>1862</td>\n",
       "    </tr>\n",
       "    <tr>\n",
       "      <th>7</th>\n",
       "      <td>c2626398-faac-4ff3-b02d-cdc64b50cdaa</td>\n",
       "      <td>K-01876143</td>\n",
       "      <td>60646431ae18cb00063ed63f</td>\n",
       "      <td>1862</td>\n",
       "    </tr>\n",
       "    <tr>\n",
       "      <th>9</th>\n",
       "      <td>c2626398-faac-4ff3-b02d-cdc64b50cdaa</td>\n",
       "      <td>K-05363070</td>\n",
       "      <td>60646431ae18cb00063ed63f</td>\n",
       "      <td>1862</td>\n",
       "    </tr>\n",
       "    <tr>\n",
       "      <th>10</th>\n",
       "      <td>c2626398-faac-4ff3-b02d-cdc64b50cdaa</td>\n",
       "      <td>K-01387534</td>\n",
       "      <td>60646431ae18cb00063ed63f</td>\n",
       "      <td>1862</td>\n",
       "    </tr>\n",
       "    <tr>\n",
       "      <th>...</th>\n",
       "      <td>...</td>\n",
       "      <td>...</td>\n",
       "      <td>...</td>\n",
       "      <td>...</td>\n",
       "    </tr>\n",
       "    <tr>\n",
       "      <th>548074</th>\n",
       "      <td>8b0915ff-a0cb-4520-9160-8d783a6bf308</td>\n",
       "      <td>K-02106319</td>\n",
       "      <td>6110c56241e21e000857ca77</td>\n",
       "      <td>131</td>\n",
       "    </tr>\n",
       "    <tr>\n",
       "      <th>548110</th>\n",
       "      <td>8b0915ff-a0cb-4520-9160-8d783a6bf308</td>\n",
       "      <td>K-20333371</td>\n",
       "      <td>6110c56241e21e000857ca77</td>\n",
       "      <td>131</td>\n",
       "    </tr>\n",
       "    <tr>\n",
       "      <th>548137</th>\n",
       "      <td>8b0915ff-a0cb-4520-9160-8d783a6bf308</td>\n",
       "      <td>K-07027249</td>\n",
       "      <td>6110c56241e21e000857ca77</td>\n",
       "      <td>131</td>\n",
       "    </tr>\n",
       "    <tr>\n",
       "      <th>548162</th>\n",
       "      <td>8b0915ff-a0cb-4520-9160-8d783a6bf308</td>\n",
       "      <td>K-02011774</td>\n",
       "      <td>6110c56241e21e000857ca77</td>\n",
       "      <td>131</td>\n",
       "    </tr>\n",
       "    <tr>\n",
       "      <th>548171</th>\n",
       "      <td>8b0915ff-a0cb-4520-9160-8d783a6bf308</td>\n",
       "      <td>K-10459325</td>\n",
       "      <td>6110c56241e21e000857ca77</td>\n",
       "      <td>131</td>\n",
       "    </tr>\n",
       "  </tbody>\n",
       "</table>\n",
       "<p>73277 rows × 4 columns</p>\n",
       "</div>"
      ],
      "text/plain": [
       "                                    group_id business_id  \\\n",
       "5       c2626398-faac-4ff3-b02d-cdc64b50cdaa  K-01681709   \n",
       "6       c2626398-faac-4ff3-b02d-cdc64b50cdaa  K-15055514   \n",
       "7       c2626398-faac-4ff3-b02d-cdc64b50cdaa  K-01876143   \n",
       "9       c2626398-faac-4ff3-b02d-cdc64b50cdaa  K-05363070   \n",
       "10      c2626398-faac-4ff3-b02d-cdc64b50cdaa  K-01387534   \n",
       "...                                      ...         ...   \n",
       "548074  8b0915ff-a0cb-4520-9160-8d783a6bf308  K-02106319   \n",
       "548110  8b0915ff-a0cb-4520-9160-8d783a6bf308  K-20333371   \n",
       "548137  8b0915ff-a0cb-4520-9160-8d783a6bf308  K-07027249   \n",
       "548162  8b0915ff-a0cb-4520-9160-8d783a6bf308  K-02011774   \n",
       "548171  8b0915ff-a0cb-4520-9160-8d783a6bf308  K-10459325   \n",
       "\n",
       "                           owner  group_size  \n",
       "5       60646431ae18cb00063ed63f        1862  \n",
       "6       60646431ae18cb00063ed63f        1862  \n",
       "7       60646431ae18cb00063ed63f        1862  \n",
       "9       60646431ae18cb00063ed63f        1862  \n",
       "10      60646431ae18cb00063ed63f        1862  \n",
       "...                          ...         ...  \n",
       "548074  6110c56241e21e000857ca77         131  \n",
       "548110  6110c56241e21e000857ca77         131  \n",
       "548137  6110c56241e21e000857ca77         131  \n",
       "548162  6110c56241e21e000857ca77         131  \n",
       "548171  6110c56241e21e000857ca77         131  \n",
       "\n",
       "[73277 rows x 4 columns]"
      ]
     },
     "execution_count": 8,
     "metadata": {},
     "output_type": "execute_result"
    }
   ],
   "source": [
    "# lisätään konserniyrityksille interaktiot\n",
    "concern_interactions = interactions_tmp.copy()\n",
    "concern_interactions['business_id'] = 'K-' + concern_interactions['business_id'].astype(str)\n",
    "concern_interactions = concern_interactions[concern_interactions.business_id.isin(ITEM_IDS)]\n",
    "concern_interactions"
   ]
  },
  {
   "cell_type": "code",
   "execution_count": 9,
   "id": "7a95dbf7",
   "metadata": {
    "vscode": {
     "languageId": "python"
    }
   },
   "outputs": [
    {
     "data": {
      "text/html": [
       "<div>\n",
       "<style scoped>\n",
       "    .dataframe tbody tr th:only-of-type {\n",
       "        vertical-align: middle;\n",
       "    }\n",
       "\n",
       "    .dataframe tbody tr th {\n",
       "        vertical-align: top;\n",
       "    }\n",
       "\n",
       "    .dataframe thead th {\n",
       "        text-align: right;\n",
       "    }\n",
       "</style>\n",
       "<table border=\"1\" class=\"dataframe\">\n",
       "  <thead>\n",
       "    <tr style=\"text-align: right;\">\n",
       "      <th></th>\n",
       "      <th>group_id</th>\n",
       "      <th>business_id</th>\n",
       "      <th>owner</th>\n",
       "      <th>group_size</th>\n",
       "    </tr>\n",
       "  </thead>\n",
       "  <tbody>\n",
       "    <tr>\n",
       "      <th>18663</th>\n",
       "      <td>6c894b42-cbc6-4d18-8cf1-39ee91d2bf53</td>\n",
       "      <td>K-02011774</td>\n",
       "      <td>6058a712ae18cb00063ed639</td>\n",
       "      <td>2175</td>\n",
       "    </tr>\n",
       "    <tr>\n",
       "      <th>49204</th>\n",
       "      <td>66aea578-682d-45de-a200-77fa79a8c5e7</td>\n",
       "      <td>K-02011774</td>\n",
       "      <td>5db92c0ebc3e9100062ac0b0</td>\n",
       "      <td>3692</td>\n",
       "    </tr>\n",
       "    <tr>\n",
       "      <th>217786</th>\n",
       "      <td>608ac4ff-ab75-425b-a4f1-74d5defd43a3</td>\n",
       "      <td>K-02011774</td>\n",
       "      <td>5fbe6408f464de0006491d9e</td>\n",
       "      <td>1541</td>\n",
       "    </tr>\n",
       "    <tr>\n",
       "      <th>231830</th>\n",
       "      <td>4d2c2290-72be-40fe-8506-42718d2aac25</td>\n",
       "      <td>K-02011774</td>\n",
       "      <td>5f5613da9769490006b0ebb3</td>\n",
       "      <td>3685</td>\n",
       "    </tr>\n",
       "    <tr>\n",
       "      <th>254761</th>\n",
       "      <td>58f4cb31-0d40-42b2-9268-10d6dc64f1a0</td>\n",
       "      <td>K-02011774</td>\n",
       "      <td>5f5613da9769490006b0ebb3</td>\n",
       "      <td>2595</td>\n",
       "    </tr>\n",
       "    <tr>\n",
       "      <th>298418</th>\n",
       "      <td>2177a613-3b16-483e-9c9b-dc20bd4225f6</td>\n",
       "      <td>K-02011774</td>\n",
       "      <td>608863795602580007e70ddf</td>\n",
       "      <td>3925</td>\n",
       "    </tr>\n",
       "    <tr>\n",
       "      <th>354226</th>\n",
       "      <td>62c0017d-ff32-4584-8c85-562e9a1e8329</td>\n",
       "      <td>K-02011774</td>\n",
       "      <td>5fab9e2dc07a1900066bab26</td>\n",
       "      <td>3949</td>\n",
       "    </tr>\n",
       "    <tr>\n",
       "      <th>412123</th>\n",
       "      <td>3a44f374-56ee-4500-8829-c4b942b7afec</td>\n",
       "      <td>K-02011774</td>\n",
       "      <td>6033ae80484e8a0006fe437a</td>\n",
       "      <td>3966</td>\n",
       "    </tr>\n",
       "    <tr>\n",
       "      <th>439385</th>\n",
       "      <td>725e7cd0-7031-4988-b4cb-69672c611514</td>\n",
       "      <td>K-02011774</td>\n",
       "      <td>5db83a1cbc3e9100062ac0ab</td>\n",
       "      <td>1846</td>\n",
       "    </tr>\n",
       "    <tr>\n",
       "      <th>451491</th>\n",
       "      <td>acfdacd6-0de0-4568-a819-c3c2e15ef221</td>\n",
       "      <td>K-02011774</td>\n",
       "      <td>6033ae80484e8a0006fe437a</td>\n",
       "      <td>3809</td>\n",
       "    </tr>\n",
       "    <tr>\n",
       "      <th>459932</th>\n",
       "      <td>a18a99fb-bfb4-4c46-ad6d-89e7b74ff2c4</td>\n",
       "      <td>K-02011774</td>\n",
       "      <td>60646431ae18cb00063ed63f</td>\n",
       "      <td>3143</td>\n",
       "    </tr>\n",
       "    <tr>\n",
       "      <th>464050</th>\n",
       "      <td>51b071a7-bfc6-4add-93d2-11eea5346dc4</td>\n",
       "      <td>K-02011774</td>\n",
       "      <td>60646431ae18cb00063ed63f</td>\n",
       "      <td>2749</td>\n",
       "    </tr>\n",
       "    <tr>\n",
       "      <th>493257</th>\n",
       "      <td>ddaef9fe-0f14-45f9-b55f-8ad1532a8680</td>\n",
       "      <td>K-02011774</td>\n",
       "      <td>60b5f4565735df0009ec7ea2</td>\n",
       "      <td>2235</td>\n",
       "    </tr>\n",
       "    <tr>\n",
       "      <th>548162</th>\n",
       "      <td>8b0915ff-a0cb-4520-9160-8d783a6bf308</td>\n",
       "      <td>K-02011774</td>\n",
       "      <td>6110c56241e21e000857ca77</td>\n",
       "      <td>131</td>\n",
       "    </tr>\n",
       "  </tbody>\n",
       "</table>\n",
       "</div>"
      ],
      "text/plain": [
       "                                    group_id business_id  \\\n",
       "18663   6c894b42-cbc6-4d18-8cf1-39ee91d2bf53  K-02011774   \n",
       "49204   66aea578-682d-45de-a200-77fa79a8c5e7  K-02011774   \n",
       "217786  608ac4ff-ab75-425b-a4f1-74d5defd43a3  K-02011774   \n",
       "231830  4d2c2290-72be-40fe-8506-42718d2aac25  K-02011774   \n",
       "254761  58f4cb31-0d40-42b2-9268-10d6dc64f1a0  K-02011774   \n",
       "298418  2177a613-3b16-483e-9c9b-dc20bd4225f6  K-02011774   \n",
       "354226  62c0017d-ff32-4584-8c85-562e9a1e8329  K-02011774   \n",
       "412123  3a44f374-56ee-4500-8829-c4b942b7afec  K-02011774   \n",
       "439385  725e7cd0-7031-4988-b4cb-69672c611514  K-02011774   \n",
       "451491  acfdacd6-0de0-4568-a819-c3c2e15ef221  K-02011774   \n",
       "459932  a18a99fb-bfb4-4c46-ad6d-89e7b74ff2c4  K-02011774   \n",
       "464050  51b071a7-bfc6-4add-93d2-11eea5346dc4  K-02011774   \n",
       "493257  ddaef9fe-0f14-45f9-b55f-8ad1532a8680  K-02011774   \n",
       "548162  8b0915ff-a0cb-4520-9160-8d783a6bf308  K-02011774   \n",
       "\n",
       "                           owner  group_size  \n",
       "18663   6058a712ae18cb00063ed639        2175  \n",
       "49204   5db92c0ebc3e9100062ac0b0        3692  \n",
       "217786  5fbe6408f464de0006491d9e        1541  \n",
       "231830  5f5613da9769490006b0ebb3        3685  \n",
       "254761  5f5613da9769490006b0ebb3        2595  \n",
       "298418  608863795602580007e70ddf        3925  \n",
       "354226  5fab9e2dc07a1900066bab26        3949  \n",
       "412123  6033ae80484e8a0006fe437a        3966  \n",
       "439385  5db83a1cbc3e9100062ac0ab        1846  \n",
       "451491  6033ae80484e8a0006fe437a        3809  \n",
       "459932  60646431ae18cb00063ed63f        3143  \n",
       "464050  60646431ae18cb00063ed63f        2749  \n",
       "493257  60b5f4565735df0009ec7ea2        2235  \n",
       "548162  6110c56241e21e000857ca77         131  "
      ]
     },
     "execution_count": 9,
     "metadata": {},
     "output_type": "execute_result"
    }
   ],
   "source": [
    "# yhdistetään konserni-interaktiot tavallisiin ja poistetaan sellaiset interaktiot, joille ei löydy y-tunnusta\n",
    "INTERACTIONS_DF = pd.concat([interactions_tmp, concern_interactions])\n",
    "INTERACTIONS_DF = INTERACTIONS_DF[INTERACTIONS_DF.business_id.isin(ITEM_IDS)]\n",
    "INTERACTIONS_DF[INTERACTIONS_DF['business_id'] == 'K-02011774']"
   ]
  },
  {
   "cell_type": "code",
   "execution_count": 10,
   "id": "8a63d06c",
   "metadata": {
    "vscode": {
     "languageId": "python"
    }
   },
   "outputs": [
    {
     "name": "stdout",
     "output_type": "stream",
     "text": [
      "\n",
      "----- group_size>=2 -----\n",
      "ryhmiä: 1312, interaktioita 598703, yrityksiä 143839\n"
     ]
    }
   ],
   "source": [
    "def print_interactions_meta_data(interactions_df):\n",
    "    print('ryhmiä: {groups}, interaktioita {interactions}, yrityksiä {companies}'\n",
    "          .format(groups=len(list(interactions_df['group_id'].unique())),\n",
    "                  interactions=interactions_df.shape[0], \n",
    "                  companies=len(list(interactions_df['business_id'].unique()))))\n",
    "\n",
    "\n",
    "print('\\n----- group_size>=2 -----')\n",
    "print_interactions_meta_data(INTERACTIONS_DF)"
   ]
  },
  {
   "cell_type": "markdown",
   "id": "7ec70bcb",
   "metadata": {},
   "source": [
    "## Luodaan LightFM:n ymmärtämät Dataset-oliot eri testitapauksille"
   ]
  },
  {
   "cell_type": "code",
   "execution_count": 11,
   "id": "b61d09c2",
   "metadata": {
    "vscode": {
     "languageId": "python"
    }
   },
   "outputs": [],
   "source": [
    "def create_dataset(interactions_df, item_identity_features):\n",
    "    dataset = Dataset(user_identity_features=False, item_identity_features=item_identity_features)\n",
    "    \n",
    "    interactions = [(interaction['group_id'], interaction['business_id']) \n",
    "                for interaction in interactions_df.to_dict(orient='records')]\n",
    "    \n",
    "    user_ids = list(set(interactions_df['group_id'].values))\n",
    "\n",
    "    dataset.fit(users=user_ids, items=ITEM_IDS, item_features=ITEM_FEATURE_LABELS)\n",
    "    \n",
    "    (interactions_ds, weights_ds) = dataset.build_interactions(interactions)\n",
    "    \n",
    "    item_features_ds = dataset.build_item_features(ITEM_FEATURES, normalize=False)\n",
    "\n",
    "    # USER_MAP_DS = dataset.mapping()[0]\n",
    "    # ITEM_MAP_DS = dataset.mapping()[2]\n",
    "    ITEM_FEATURE_MAP_DS = dataset.mapping()[3]\n",
    "    print(len(ITEM_FEATURE_MAP_DS))\n",
    "    \n",
    "    return (interactions_ds, item_features_ds)    "
   ]
  },
  {
   "cell_type": "code",
   "execution_count": 12,
   "id": "b0c34f16",
   "metadata": {
    "vscode": {
     "languageId": "python"
    }
   },
   "outputs": [
    {
     "name": "stdout",
     "output_type": "stream",
     "text": [
      "530\n"
     ]
    },
    {
     "data": {
      "text/plain": [
       "<1312x1337868 sparse matrix of type '<class 'numpy.int32'>'\n",
       "\twith 598703 stored elements in COOrdinate format>"
      ]
     },
     "execution_count": 12,
     "metadata": {},
     "output_type": "execute_result"
    }
   ],
   "source": [
    "# item_identity_features off\n",
    "(INTERACTIONS_2_DS, ITEM_FEATURES_2_DS) = create_dataset(INTERACTIONS_DF, False)\n",
    "INTERACTIONS_2_DS"
   ]
  },
  {
   "cell_type": "code",
   "execution_count": 13,
   "id": "20345a39",
   "metadata": {
    "vscode": {
     "languageId": "python"
    }
   },
   "outputs": [
    {
     "name": "stdout",
     "output_type": "stream",
     "text": [
      "1338398\n"
     ]
    },
    {
     "data": {
      "text/plain": [
       "<1312x1337868 sparse matrix of type '<class 'numpy.int32'>'\n",
       "\twith 598703 stored elements in COOrdinate format>"
      ]
     },
     "execution_count": 13,
     "metadata": {},
     "output_type": "execute_result"
    }
   ],
   "source": [
    "# item_identity_fetures on\n",
    "(INTERACTIONS_2_IDENTITY_DS, ITEM_FEATURES_2_IDENTITY_DS) = create_dataset(INTERACTIONS_DF, True)\n",
    "INTERACTIONS_2_IDENTITY_DS"
   ]
  },
  {
   "cell_type": "markdown",
   "id": "b4cf4bd3",
   "metadata": {},
   "source": [
    "## Luodaan cross-validationia varten ositetut datasetit"
   ]
  },
  {
   "cell_type": "code",
   "execution_count": 14,
   "id": "edcd7bba",
   "metadata": {
    "vscode": {
     "languageId": "python"
    }
   },
   "outputs": [],
   "source": [
    "def create_partitioned_datasets(interactions_ds):\n",
    "    (rest, fifth_1) = random_train_test_split(interactions_ds, test_percentage=0.2)\n",
    "    (rest, fifth_2) = random_train_test_split(rest, test_percentage=0.25)\n",
    "    (rest, fifth_3) = random_train_test_split(rest, test_percentage=0.3333333)\n",
    "    (fifth_4, fifth_5) = random_train_test_split(rest, test_percentage=0.5)\n",
    "    \n",
    "    return [fifth_1, fifth_2, fifth_3, fifth_4, fifth_5]\n",
    "    "
   ]
  },
  {
   "cell_type": "code",
   "execution_count": 15,
   "id": "df8419e8",
   "metadata": {
    "vscode": {
     "languageId": "python"
    }
   },
   "outputs": [
    {
     "data": {
      "text/plain": [
       "[<1312x1337868 sparse matrix of type '<class 'numpy.int32'>'\n",
       " \twith 119741 stored elements in COOrdinate format>,\n",
       " <1312x1337868 sparse matrix of type '<class 'numpy.int32'>'\n",
       " \twith 119741 stored elements in COOrdinate format>,\n",
       " <1312x1337868 sparse matrix of type '<class 'numpy.int32'>'\n",
       " \twith 119741 stored elements in COOrdinate format>,\n",
       " <1312x1337868 sparse matrix of type '<class 'numpy.int32'>'\n",
       " \twith 119740 stored elements in COOrdinate format>,\n",
       " <1312x1337868 sparse matrix of type '<class 'numpy.int32'>'\n",
       " \twith 119740 stored elements in COOrdinate format>]"
      ]
     },
     "execution_count": 15,
     "metadata": {},
     "output_type": "execute_result"
    }
   ],
   "source": [
    "INTERACTIONS_2_CV = create_partitioned_datasets(INTERACTIONS_2_DS)\n",
    "INTERACTIONS_2_CV"
   ]
  },
  {
   "cell_type": "code",
   "execution_count": 16,
   "id": "837f9834",
   "metadata": {
    "vscode": {
     "languageId": "python"
    }
   },
   "outputs": [
    {
     "data": {
      "text/plain": [
       "[<1312x1337868 sparse matrix of type '<class 'numpy.int32'>'\n",
       " \twith 119741 stored elements in COOrdinate format>,\n",
       " <1312x1337868 sparse matrix of type '<class 'numpy.int32'>'\n",
       " \twith 119741 stored elements in COOrdinate format>,\n",
       " <1312x1337868 sparse matrix of type '<class 'numpy.int32'>'\n",
       " \twith 119741 stored elements in COOrdinate format>,\n",
       " <1312x1337868 sparse matrix of type '<class 'numpy.int32'>'\n",
       " \twith 119740 stored elements in COOrdinate format>,\n",
       " <1312x1337868 sparse matrix of type '<class 'numpy.int32'>'\n",
       " \twith 119740 stored elements in COOrdinate format>]"
      ]
     },
     "execution_count": 16,
     "metadata": {},
     "output_type": "execute_result"
    }
   ],
   "source": [
    "INTERACTIONS_2_IDENTITY_CV = create_partitioned_datasets(INTERACTIONS_2_IDENTITY_DS)\n",
    "INTERACTIONS_2_IDENTITY_CV"
   ]
  },
  {
   "cell_type": "markdown",
   "id": "3a91a64d",
   "metadata": {},
   "source": [
    "## Arvioidaan mallien laatua"
   ]
  },
  {
   "cell_type": "code",
   "execution_count": 17,
   "id": "f98c56bb",
   "metadata": {
    "vscode": {
     "languageId": "python"
    }
   },
   "outputs": [],
   "source": [
    "NUM_THREADS = 8\n",
    "\n",
    "def run_evaluation_function(model, test_ds, train_ds, evaluation_function, name, item_features=None):    \n",
    "    print('Calculating {name} for train dataset...'.format(name=name))\n",
    "    train_results = evaluation_function(model, train_ds, item_features=item_features, num_threads=NUM_THREADS)\n",
    "    np.savetxt('iteration2-train-results-{}.txt'.format(name), train_results)\n",
    "    train_metric = train_results.mean()\n",
    "    \n",
    "    print('Calculating {name} for test dataset...'.format(name=name))\n",
    "    test_results = evaluation_function(model, test_ds, train_ds, item_features=item_features, num_threads=NUM_THREADS)\n",
    "    np.savetxt('iteration2-test-results-{}.txt'.format(name), test_results)\n",
    "    test_metric = test_results.mean()\n",
    "    \n",
    "    print('{name}: train {train_metric:.2f}, test {test_metric:.2f}'.format(name=name, \n",
    "                                                                            train_metric=train_metric, \n",
    "                                                                            test_metric=test_metric))\n",
    "    print('\\n')\n",
    "    return (train_metric, test_metric)\n",
    "\n",
    "def run_evaluations_for_ds(model, train_ds, test_ds, model_name, item_features=None):\n",
    "    auc = run_evaluation_function(model, test_ds, train_ds, auc_score, 'AUC_' + model_name, item_features)\n",
    "    precision = run_evaluation_function(model, test_ds, train_ds, precision_at_k, 'PRECISION_' + model_name, item_features)\n",
    "    recall = run_evaluation_function(model, test_ds, train_ds, recall_at_k, 'RECALL_' + model_name, item_features)\n",
    "    reciprocal = run_evaluation_function(model, test_ds, train_ds, reciprocal_rank, 'RECIPROCAL_' + model_name, item_features)\n",
    "    \n",
    "    return (auc, precision, recall, reciprocal)\n",
    "    \n",
    "\n",
    "def run_evaluations(name, interactions_cv, item_features_ds):\n",
    "    \n",
    "    results = {\n",
    "        name: []\n",
    "    }\n",
    "    \n",
    "    for i in range(0, len(interactions_cv)):\n",
    "        print('Starting iteration {}...'.format(i))    \n",
    "            \n",
    "        test_ds = interactions_cv[i]\n",
    "        \n",
    "        # laitetaan uuteen listaan kaikki paitsi testidatasetti\n",
    "        train_ds_tmp = [ds for j,ds in enumerate(interactions_cv) if j != i]\n",
    "        # yhdistetään treenidatasetiksi valikoituneet vuorovaikutusmatriisit\n",
    "        train_ds = functools.reduce(lambda a,b: a + b, train_ds_tmp)\n",
    "        \n",
    "        MODEL = LightFM(loss='warp')\n",
    "        MODEL.fit(train_ds, item_features=item_features_ds, epochs=5, num_threads=NUM_THREADS, verbose=True)\n",
    "        \n",
    "        results[name].append(run_evaluations_for_ds(MODEL, train_ds, test_ds, '{}_{}'.format(name, i), item_features_ds))\n",
    "        \n",
    "    return results\n"
   ]
  },
  {
   "cell_type": "code",
   "execution_count": 18,
   "id": "07240adc",
   "metadata": {
    "vscode": {
     "languageId": "python"
    }
   },
   "outputs": [],
   "source": [
    "def print_metric_result(result_arr, model_name):\n",
    "    train_results = [x[0] for x in result_arr]\n",
    "    test_results = [x[1] for x in result_arr]\n",
    "    \n",
    "    print('{name}:\\n train mean {train_mean:.2f} ({train_arr})\\n test mean {test_mean:.2f} ({test_arr})\\n'\n",
    "          .format(train_mean=statistics.mean(train_results),\n",
    "                 test_mean=statistics.mean(test_results),\n",
    "                 train_arr=['%.2f' % x for x in train_results],\n",
    "                 test_arr=['%.2f' % x for x in test_results],\n",
    "                 name=model_name))\n",
    "    \n",
    "\n",
    "def print_all_results(results):\n",
    "    for i,metric in enumerate(['AUC', 'PRECISION', 'RECALL', 'RECIPROCAL']):\n",
    "        print('\\n-----{}-----'.format(metric))\n",
    "        for model_name,result_arr in results.items():\n",
    "            print_metric_result([res[i] for res in result_arr], model_name)\n",
    "    "
   ]
  },
  {
   "cell_type": "markdown",
   "id": "b1637f48",
   "metadata": {},
   "source": [
    "### Tulokset"
   ]
  },
  {
   "cell_type": "code",
   "execution_count": 19,
   "id": "5095d0ef",
   "metadata": {
    "vscode": {
     "languageId": "python"
    }
   },
   "outputs": [
    {
     "name": "stdout",
     "output_type": "stream",
     "text": [
      "Starting iteration 0...\n"
     ]
    },
    {
     "name": "stderr",
     "output_type": "stream",
     "text": [
      "Epoch: 100%|██████████████████████████████████████████████████████████████████████████████| 5/5 [00:02<00:00,  1.92it/s]\n"
     ]
    },
    {
     "name": "stdout",
     "output_type": "stream",
     "text": [
      "Calculating AUC_IDENTITY_FEATURES_OFF_0 for train dataset...\n",
      "Calculating AUC_IDENTITY_FEATURES_OFF_0 for test dataset...\n",
      "AUC_IDENTITY_FEATURES_OFF_0: train 0.99, test 0.99\n",
      "\n",
      "\n",
      "Calculating PRECISION_IDENTITY_FEATURES_OFF_0 for train dataset...\n",
      "Calculating PRECISION_IDENTITY_FEATURES_OFF_0 for test dataset...\n",
      "PRECISION_IDENTITY_FEATURES_OFF_0: train 0.14, test 0.08\n",
      "\n",
      "\n",
      "Calculating RECALL_IDENTITY_FEATURES_OFF_0 for train dataset...\n",
      "Calculating RECALL_IDENTITY_FEATURES_OFF_0 for test dataset...\n",
      "RECALL_IDENTITY_FEATURES_OFF_0: train 0.01, test 0.01\n",
      "\n",
      "\n",
      "Calculating RECIPROCAL_IDENTITY_FEATURES_OFF_0 for train dataset...\n",
      "Calculating RECIPROCAL_IDENTITY_FEATURES_OFF_0 for test dataset...\n",
      "RECIPROCAL_IDENTITY_FEATURES_OFF_0: train 0.21, test 0.14\n",
      "\n",
      "\n",
      "Starting iteration 1...\n"
     ]
    },
    {
     "name": "stderr",
     "output_type": "stream",
     "text": [
      "Epoch: 100%|██████████████████████████████████████████████████████████████████████████████| 5/5 [00:03<00:00,  1.38it/s]\n"
     ]
    },
    {
     "name": "stdout",
     "output_type": "stream",
     "text": [
      "Calculating AUC_IDENTITY_FEATURES_OFF_1 for train dataset...\n",
      "Calculating AUC_IDENTITY_FEATURES_OFF_1 for test dataset...\n",
      "AUC_IDENTITY_FEATURES_OFF_1: train 0.99, test 0.99\n",
      "\n",
      "\n",
      "Calculating PRECISION_IDENTITY_FEATURES_OFF_1 for train dataset...\n",
      "Calculating PRECISION_IDENTITY_FEATURES_OFF_1 for test dataset...\n",
      "PRECISION_IDENTITY_FEATURES_OFF_1: train 0.14, test 0.09\n",
      "\n",
      "\n",
      "Calculating RECALL_IDENTITY_FEATURES_OFF_1 for train dataset...\n",
      "Calculating RECALL_IDENTITY_FEATURES_OFF_1 for test dataset...\n",
      "RECALL_IDENTITY_FEATURES_OFF_1: train 0.01, test 0.01\n",
      "\n",
      "\n",
      "Calculating RECIPROCAL_IDENTITY_FEATURES_OFF_1 for train dataset...\n",
      "Calculating RECIPROCAL_IDENTITY_FEATURES_OFF_1 for test dataset...\n",
      "RECIPROCAL_IDENTITY_FEATURES_OFF_1: train 0.22, test 0.15\n",
      "\n",
      "\n",
      "Starting iteration 2...\n"
     ]
    },
    {
     "name": "stderr",
     "output_type": "stream",
     "text": [
      "Epoch: 100%|██████████████████████████████████████████████████████████████████████████████| 5/5 [00:03<00:00,  1.58it/s]\n"
     ]
    },
    {
     "name": "stdout",
     "output_type": "stream",
     "text": [
      "Calculating AUC_IDENTITY_FEATURES_OFF_2 for train dataset...\n",
      "Calculating AUC_IDENTITY_FEATURES_OFF_2 for test dataset...\n",
      "AUC_IDENTITY_FEATURES_OFF_2: train 0.99, test 0.99\n",
      "\n",
      "\n",
      "Calculating PRECISION_IDENTITY_FEATURES_OFF_2 for train dataset...\n",
      "Calculating PRECISION_IDENTITY_FEATURES_OFF_2 for test dataset...\n",
      "PRECISION_IDENTITY_FEATURES_OFF_2: train 0.14, test 0.08\n",
      "\n",
      "\n",
      "Calculating RECALL_IDENTITY_FEATURES_OFF_2 for train dataset...\n",
      "Calculating RECALL_IDENTITY_FEATURES_OFF_2 for test dataset...\n",
      "RECALL_IDENTITY_FEATURES_OFF_2: train 0.01, test 0.01\n",
      "\n",
      "\n",
      "Calculating RECIPROCAL_IDENTITY_FEATURES_OFF_2 for train dataset...\n",
      "Calculating RECIPROCAL_IDENTITY_FEATURES_OFF_2 for test dataset...\n",
      "RECIPROCAL_IDENTITY_FEATURES_OFF_2: train 0.22, test 0.15\n",
      "\n",
      "\n",
      "Starting iteration 3...\n"
     ]
    },
    {
     "name": "stderr",
     "output_type": "stream",
     "text": [
      "Epoch: 100%|██████████████████████████████████████████████████████████████████████████████| 5/5 [00:18<00:00,  3.69s/it]\n"
     ]
    },
    {
     "name": "stdout",
     "output_type": "stream",
     "text": [
      "Calculating AUC_IDENTITY_FEATURES_OFF_3 for train dataset...\n",
      "Calculating AUC_IDENTITY_FEATURES_OFF_3 for test dataset...\n",
      "AUC_IDENTITY_FEATURES_OFF_3: train 0.99, test 0.99\n",
      "\n",
      "\n",
      "Calculating PRECISION_IDENTITY_FEATURES_OFF_3 for train dataset...\n",
      "Calculating PRECISION_IDENTITY_FEATURES_OFF_3 for test dataset...\n",
      "PRECISION_IDENTITY_FEATURES_OFF_3: train 0.15, test 0.08\n",
      "\n",
      "\n",
      "Calculating RECALL_IDENTITY_FEATURES_OFF_3 for train dataset...\n",
      "Calculating RECALL_IDENTITY_FEATURES_OFF_3 for test dataset...\n",
      "RECALL_IDENTITY_FEATURES_OFF_3: train 0.01, test 0.01\n",
      "\n",
      "\n",
      "Calculating RECIPROCAL_IDENTITY_FEATURES_OFF_3 for train dataset...\n",
      "Calculating RECIPROCAL_IDENTITY_FEATURES_OFF_3 for test dataset...\n",
      "RECIPROCAL_IDENTITY_FEATURES_OFF_3: train 0.23, test 0.15\n",
      "\n",
      "\n",
      "Starting iteration 4...\n"
     ]
    },
    {
     "name": "stderr",
     "output_type": "stream",
     "text": [
      "Epoch: 100%|██████████████████████████████████████████████████████████████████████████████| 5/5 [00:18<00:00,  3.71s/it]\n"
     ]
    },
    {
     "name": "stdout",
     "output_type": "stream",
     "text": [
      "Calculating AUC_IDENTITY_FEATURES_OFF_4 for train dataset...\n",
      "Calculating AUC_IDENTITY_FEATURES_OFF_4 for test dataset...\n",
      "AUC_IDENTITY_FEATURES_OFF_4: train 0.99, test 0.99\n",
      "\n",
      "\n",
      "Calculating PRECISION_IDENTITY_FEATURES_OFF_4 for train dataset...\n",
      "Calculating PRECISION_IDENTITY_FEATURES_OFF_4 for test dataset...\n",
      "PRECISION_IDENTITY_FEATURES_OFF_4: train 0.14, test 0.08\n",
      "\n",
      "\n",
      "Calculating RECALL_IDENTITY_FEATURES_OFF_4 for train dataset...\n",
      "Calculating RECALL_IDENTITY_FEATURES_OFF_4 for test dataset...\n",
      "RECALL_IDENTITY_FEATURES_OFF_4: train 0.01, test 0.01\n",
      "\n",
      "\n",
      "Calculating RECIPROCAL_IDENTITY_FEATURES_OFF_4 for train dataset...\n",
      "Calculating RECIPROCAL_IDENTITY_FEATURES_OFF_4 for test dataset...\n",
      "RECIPROCAL_IDENTITY_FEATURES_OFF_4: train 0.22, test 0.15\n",
      "\n",
      "\n",
      "Starting iteration 0...\n"
     ]
    },
    {
     "name": "stderr",
     "output_type": "stream",
     "text": [
      "Epoch: 100%|██████████████████████████████████████████████████████████████████████████████| 5/5 [00:21<00:00,  4.38s/it]\n"
     ]
    },
    {
     "name": "stdout",
     "output_type": "stream",
     "text": [
      "Calculating AUC_IDENTITY_FEATURES_ON_0 for train dataset...\n",
      "Calculating AUC_IDENTITY_FEATURES_ON_0 for test dataset...\n",
      "AUC_IDENTITY_FEATURES_ON_0: train 1.00, test 0.99\n",
      "\n",
      "\n",
      "Calculating PRECISION_IDENTITY_FEATURES_ON_0 for train dataset...\n",
      "Calculating PRECISION_IDENTITY_FEATURES_ON_0 for test dataset...\n",
      "PRECISION_IDENTITY_FEATURES_ON_0: train 0.18, test 0.09\n",
      "\n",
      "\n",
      "Calculating RECALL_IDENTITY_FEATURES_ON_0 for train dataset...\n",
      "Calculating RECALL_IDENTITY_FEATURES_ON_0 for test dataset...\n",
      "RECALL_IDENTITY_FEATURES_ON_0: train 0.01, test 0.01\n",
      "\n",
      "\n",
      "Calculating RECIPROCAL_IDENTITY_FEATURES_ON_0 for train dataset...\n",
      "Calculating RECIPROCAL_IDENTITY_FEATURES_ON_0 for test dataset...\n",
      "RECIPROCAL_IDENTITY_FEATURES_ON_0: train 0.27, test 0.17\n",
      "\n",
      "\n",
      "Starting iteration 1...\n"
     ]
    },
    {
     "name": "stderr",
     "output_type": "stream",
     "text": [
      "Epoch: 100%|██████████████████████████████████████████████████████████████████████████████| 5/5 [00:18<00:00,  3.67s/it]\n"
     ]
    },
    {
     "name": "stdout",
     "output_type": "stream",
     "text": [
      "Calculating AUC_IDENTITY_FEATURES_ON_1 for train dataset...\n",
      "Calculating AUC_IDENTITY_FEATURES_ON_1 for test dataset...\n",
      "AUC_IDENTITY_FEATURES_ON_1: train 1.00, test 0.99\n",
      "\n",
      "\n",
      "Calculating PRECISION_IDENTITY_FEATURES_ON_1 for train dataset...\n",
      "Calculating PRECISION_IDENTITY_FEATURES_ON_1 for test dataset...\n",
      "PRECISION_IDENTITY_FEATURES_ON_1: train 0.18, test 0.09\n",
      "\n",
      "\n",
      "Calculating RECALL_IDENTITY_FEATURES_ON_1 for train dataset...\n",
      "Calculating RECALL_IDENTITY_FEATURES_ON_1 for test dataset...\n",
      "RECALL_IDENTITY_FEATURES_ON_1: train 0.01, test 0.01\n",
      "\n",
      "\n",
      "Calculating RECIPROCAL_IDENTITY_FEATURES_ON_1 for train dataset...\n",
      "Calculating RECIPROCAL_IDENTITY_FEATURES_ON_1 for test dataset...\n",
      "RECIPROCAL_IDENTITY_FEATURES_ON_1: train 0.28, test 0.18\n",
      "\n",
      "\n",
      "Starting iteration 2...\n"
     ]
    },
    {
     "name": "stderr",
     "output_type": "stream",
     "text": [
      "Epoch: 100%|██████████████████████████████████████████████████████████████████████████████| 5/5 [00:17<00:00,  3.46s/it]\n"
     ]
    },
    {
     "name": "stdout",
     "output_type": "stream",
     "text": [
      "Calculating AUC_IDENTITY_FEATURES_ON_2 for train dataset...\n",
      "Calculating AUC_IDENTITY_FEATURES_ON_2 for test dataset...\n",
      "AUC_IDENTITY_FEATURES_ON_2: train 1.00, test 0.99\n",
      "\n",
      "\n",
      "Calculating PRECISION_IDENTITY_FEATURES_ON_2 for train dataset...\n",
      "Calculating PRECISION_IDENTITY_FEATURES_ON_2 for test dataset...\n",
      "PRECISION_IDENTITY_FEATURES_ON_2: train 0.18, test 0.10\n",
      "\n",
      "\n",
      "Calculating RECALL_IDENTITY_FEATURES_ON_2 for train dataset...\n",
      "Calculating RECALL_IDENTITY_FEATURES_ON_2 for test dataset...\n",
      "RECALL_IDENTITY_FEATURES_ON_2: train 0.01, test 0.01\n",
      "\n",
      "\n",
      "Calculating RECIPROCAL_IDENTITY_FEATURES_ON_2 for train dataset...\n",
      "Calculating RECIPROCAL_IDENTITY_FEATURES_ON_2 for test dataset...\n",
      "RECIPROCAL_IDENTITY_FEATURES_ON_2: train 0.27, test 0.18\n",
      "\n",
      "\n",
      "Starting iteration 3...\n"
     ]
    },
    {
     "name": "stderr",
     "output_type": "stream",
     "text": [
      "Epoch: 100%|██████████████████████████████████████████████████████████████████████████████| 5/5 [00:19<00:00,  3.85s/it]\n"
     ]
    },
    {
     "name": "stdout",
     "output_type": "stream",
     "text": [
      "Calculating AUC_IDENTITY_FEATURES_ON_3 for train dataset...\n",
      "Calculating AUC_IDENTITY_FEATURES_ON_3 for test dataset...\n",
      "AUC_IDENTITY_FEATURES_ON_3: train 1.00, test 0.99\n",
      "\n",
      "\n",
      "Calculating PRECISION_IDENTITY_FEATURES_ON_3 for train dataset...\n",
      "Calculating PRECISION_IDENTITY_FEATURES_ON_3 for test dataset...\n",
      "PRECISION_IDENTITY_FEATURES_ON_3: train 0.17, test 0.08\n",
      "\n",
      "\n",
      "Calculating RECALL_IDENTITY_FEATURES_ON_3 for train dataset...\n",
      "Calculating RECALL_IDENTITY_FEATURES_ON_3 for test dataset...\n",
      "RECALL_IDENTITY_FEATURES_ON_3: train 0.01, test 0.01\n",
      "\n",
      "\n",
      "Calculating RECIPROCAL_IDENTITY_FEATURES_ON_3 for train dataset...\n",
      "Calculating RECIPROCAL_IDENTITY_FEATURES_ON_3 for test dataset...\n",
      "RECIPROCAL_IDENTITY_FEATURES_ON_3: train 0.27, test 0.17\n",
      "\n",
      "\n",
      "Starting iteration 4...\n"
     ]
    },
    {
     "name": "stderr",
     "output_type": "stream",
     "text": [
      "Epoch: 100%|██████████████████████████████████████████████████████████████████████████████| 5/5 [00:19<00:00,  3.99s/it]\n"
     ]
    },
    {
     "name": "stdout",
     "output_type": "stream",
     "text": [
      "Calculating AUC_IDENTITY_FEATURES_ON_4 for train dataset...\n",
      "Calculating AUC_IDENTITY_FEATURES_ON_4 for test dataset...\n",
      "AUC_IDENTITY_FEATURES_ON_4: train 1.00, test 0.99\n",
      "\n",
      "\n",
      "Calculating PRECISION_IDENTITY_FEATURES_ON_4 for train dataset...\n",
      "Calculating PRECISION_IDENTITY_FEATURES_ON_4 for test dataset...\n",
      "PRECISION_IDENTITY_FEATURES_ON_4: train 0.18, test 0.09\n",
      "\n",
      "\n",
      "Calculating RECALL_IDENTITY_FEATURES_ON_4 for train dataset...\n",
      "Calculating RECALL_IDENTITY_FEATURES_ON_4 for test dataset...\n",
      "RECALL_IDENTITY_FEATURES_ON_4: train 0.01, test 0.02\n",
      "\n",
      "\n",
      "Calculating RECIPROCAL_IDENTITY_FEATURES_ON_4 for train dataset...\n",
      "Calculating RECIPROCAL_IDENTITY_FEATURES_ON_4 for test dataset...\n",
      "RECIPROCAL_IDENTITY_FEATURES_ON_4: train 0.30, test 0.17\n",
      "\n",
      "\n"
     ]
    }
   ],
   "source": [
    "RESULTS_IDENTITY_OFF = run_evaluations('IDENTITY_FEATURES_OFF', INTERACTIONS_2_CV, ITEM_FEATURES_2_DS)\n",
    "RESULTS_IDENTITY_ON = run_evaluations('IDENTITY_FEATURES_ON', INTERACTIONS_2_IDENTITY_CV, ITEM_FEATURES_2_IDENTITY_DS)"
   ]
  },
  {
   "cell_type": "code",
   "execution_count": 20,
   "id": "221d44b7",
   "metadata": {
    "vscode": {
     "languageId": "python"
    }
   },
   "outputs": [
    {
     "name": "stdout",
     "output_type": "stream",
     "text": [
      "\n",
      "-----AUC-----\n",
      "IDENTITY_FEATURES_OFF:\n",
      " train mean 0.99 (['0.99', '0.99', '0.99', '0.99', '0.99'])\n",
      " test mean 0.99 (['0.99', '0.99', '0.99', '0.99', '0.99'])\n",
      "\n",
      "\n",
      "-----PRECISION-----\n",
      "IDENTITY_FEATURES_OFF:\n",
      " train mean 0.14 (['0.14', '0.14', '0.14', '0.15', '0.14'])\n",
      " test mean 0.08 (['0.08', '0.09', '0.08', '0.08', '0.08'])\n",
      "\n",
      "\n",
      "-----RECALL-----\n",
      "IDENTITY_FEATURES_OFF:\n",
      " train mean 0.01 (['0.01', '0.01', '0.01', '0.01', '0.01'])\n",
      " test mean 0.01 (['0.01', '0.01', '0.01', '0.01', '0.01'])\n",
      "\n",
      "\n",
      "-----RECIPROCAL-----\n",
      "IDENTITY_FEATURES_OFF:\n",
      " train mean 0.22 (['0.21', '0.22', '0.22', '0.23', '0.22'])\n",
      " test mean 0.15 (['0.14', '0.15', '0.15', '0.15', '0.15'])\n",
      "\n"
     ]
    }
   ],
   "source": [
    "print_all_results(RESULTS_IDENTITY_OFF)"
   ]
  },
  {
   "cell_type": "code",
   "execution_count": 21,
   "id": "e2e1b9b5",
   "metadata": {
    "vscode": {
     "languageId": "python"
    }
   },
   "outputs": [
    {
     "name": "stdout",
     "output_type": "stream",
     "text": [
      "\n",
      "-----AUC-----\n",
      "IDENTITY_FEATURES_ON:\n",
      " train mean 1.00 (['1.00', '1.00', '1.00', '1.00', '1.00'])\n",
      " test mean 0.99 (['0.99', '0.99', '0.99', '0.99', '0.99'])\n",
      "\n",
      "\n",
      "-----PRECISION-----\n",
      "IDENTITY_FEATURES_ON:\n",
      " train mean 0.18 (['0.18', '0.18', '0.18', '0.17', '0.18'])\n",
      " test mean 0.09 (['0.09', '0.09', '0.10', '0.08', '0.09'])\n",
      "\n",
      "\n",
      "-----RECALL-----\n",
      "IDENTITY_FEATURES_ON:\n",
      " train mean 0.01 (['0.01', '0.01', '0.01', '0.01', '0.01'])\n",
      " test mean 0.01 (['0.01', '0.01', '0.01', '0.01', '0.02'])\n",
      "\n",
      "\n",
      "-----RECIPROCAL-----\n",
      "IDENTITY_FEATURES_ON:\n",
      " train mean 0.28 (['0.27', '0.28', '0.27', '0.27', '0.30'])\n",
      " test mean 0.17 (['0.17', '0.18', '0.18', '0.17', '0.17'])\n",
      "\n"
     ]
    }
   ],
   "source": [
    "print_all_results(RESULTS_IDENTITY_ON)"
   ]
  }
 ],
 "metadata": {
  "kernelspec": {
   "display_name": "Python 3 (ipykernel)",
   "language": "python",
   "name": "python3"
  }
 },
 "nbformat": 4,
 "nbformat_minor": 5
}
