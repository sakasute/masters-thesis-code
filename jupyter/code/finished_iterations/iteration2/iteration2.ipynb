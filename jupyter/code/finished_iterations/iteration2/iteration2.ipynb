{
 "cells": [
  {
   "cell_type": "markdown",
   "id": "5b98830b",
   "metadata": {},
   "source": [
    "# iteration2"
   ]
  },
  {
   "cell_type": "markdown",
   "id": "8e250ad4",
   "metadata": {},
   "source": [
    "Data:\n",
    "- interaktiot kaikkien muiden ryhmistä paitsi Alman kehittäjien\n",
    "- interaktiot ryhmä, ei käyttäjäkohtaisia\n",
    "- kaikki yritykset - konsernit mukana lisäämällä \"K-\" y-tunnuksen eteen\n",
    "- metadatana perustietoa yrityksistä - numeeriset tilikausitiedot diskretisoitu tiettyihin persentiileihin (kts. muuttuja SELECTED_COMPANY_FEATURES alta)\n",
    "- **data esikäsitelty proto2_data_prep-notebookissa**\n",
    "- Warp-malli käytössä\n",
    "- Minimiryhmäkoko = 2\n",
    "\n",
    "Kysymyksiä:\n",
    "\n",
    "1. Saadaanko näillä lisätyillä metatiedoilla mallista parempi metatietojen kanssa kuin ilman?\n",
    "2. item_identity_features päälle vai pois?\n",
    "3. Saadaanko lisätyillä metatiedoilla parempi precision?\n",
    "\n"
   ]
  },
  {
   "cell_type": "markdown",
   "id": "ed64ea90",
   "metadata": {},
   "source": [
    "## Importit"
   ]
  },
  {
   "cell_type": "code",
   "execution_count": 100,
   "id": "ff4d3385",
   "metadata": {},
   "outputs": [],
   "source": [
    "from lightfm import LightFM\n",
    "from lightfm.cross_validation import random_train_test_split\n",
    "from lightfm.evaluation import auc_score\n",
    "from lightfm.evaluation import precision_at_k\n",
    "from lightfm.evaluation import recall_at_k\n",
    "from lightfm.evaluation import reciprocal_rank\n",
    "from lightfm.data import Dataset\n",
    "\n",
    "import numpy as np\n",
    "import pandas as pd\n",
    "\n",
    "import statistics\n",
    "import functools\n",
    "\n",
    "WORKING_DIRECTORY = '/mnt/c/git/masters-thesis-code/jupyter/code/'"
   ]
  },
  {
   "cell_type": "markdown",
   "id": "ed481a34",
   "metadata": {},
   "source": [
    "## Valitut metadatat yrityksille"
   ]
  },
  {
   "cell_type": "code",
   "execution_count": 101,
   "id": "7b4c77db",
   "metadata": {},
   "outputs": [],
   "source": [
    "SELECTED_COMPANY_FEATURES = ['company_form_code', 'location_municipality_code', \n",
    "                             'location_region_code', 'company_status_code', 'industry_code', 'turnover', \n",
    "                             'net_profit', 'personnel_average', 'performer_ranking_points', 'risk_rating_class']"
   ]
  },
  {
   "cell_type": "markdown",
   "id": "21d91921",
   "metadata": {},
   "source": [
    "## Ladataan yritysdata"
   ]
  },
  {
   "cell_type": "code",
   "execution_count": 102,
   "id": "224730b5",
   "metadata": {},
   "outputs": [],
   "source": [
    "COMPANIES_DF = pd.read_pickle(WORKING_DIRECTORY + \"data/pandas_pickles/prod_data_proto2.pkl\")"
   ]
  },
  {
   "cell_type": "markdown",
   "id": "bb3cfbfe",
   "metadata": {},
   "source": [
    "## Käsitellään yritysdataa LightFM:n Dataset-olion luontia varten"
   ]
  },
  {
   "cell_type": "code",
   "execution_count": 103,
   "id": "c27c6af9",
   "metadata": {},
   "outputs": [
    {
     "name": "stdout",
     "output_type": "stream",
     "text": [
      "('31431209', ['company_form_code+CO_26', 'location_municipality_code+091', 'location_region_code+01', 'company_status_code+AKT', 'industry_code+43', 'turnover+NaN', 'net_profit+NaN', 'personnel_average+NaN', 'performer_ranking_points+NaN', 'risk_rating_class+NaN'])\n",
      "1337868\n",
      "530\n"
     ]
    }
   ],
   "source": [
    "ITEM_IDS = list(COMPANIES_DF['business_id'].unique())\n",
    "\n",
    "item_features_tmp = [COMPANIES_DF[feature].unique() for feature in SELECTED_COMPANY_FEATURES]\n",
    "\n",
    "ITEM_FEATURE_LABELS = [item for sublist in item_features_tmp for item in sublist]\n",
    "\n",
    "ITEM_FEATURES = [(company['business_id'], \n",
    "                  [company[feature] for feature in SELECTED_COMPANY_FEATURES])\n",
    "                     for company in COMPANIES_DF.to_dict(orient='records')]\n",
    "\n",
    "print(ITEM_FEATURES[0])\n",
    "print(len(ITEM_FEATURES))\n",
    "print(len(ITEM_FEATURE_LABELS))\n"
   ]
  },
  {
   "cell_type": "code",
   "execution_count": 104,
   "id": "e1b9ee5f",
   "metadata": {},
   "outputs": [
    {
     "data": {
      "text/html": [
       "<div>\n",
       "<style scoped>\n",
       "    .dataframe tbody tr th:only-of-type {\n",
       "        vertical-align: middle;\n",
       "    }\n",
       "\n",
       "    .dataframe tbody tr th {\n",
       "        vertical-align: top;\n",
       "    }\n",
       "\n",
       "    .dataframe thead th {\n",
       "        text-align: right;\n",
       "    }\n",
       "</style>\n",
       "<table border=\"1\" class=\"dataframe\">\n",
       "  <thead>\n",
       "    <tr style=\"text-align: right;\">\n",
       "      <th></th>\n",
       "      <th>business_id</th>\n",
       "      <th>company_name</th>\n",
       "      <th>company_form_code</th>\n",
       "      <th>location_municipality_code</th>\n",
       "      <th>location_region_code</th>\n",
       "      <th>company_status_code</th>\n",
       "      <th>industry_code</th>\n",
       "      <th>turnover</th>\n",
       "      <th>net_profit</th>\n",
       "      <th>personnel_average</th>\n",
       "      <th>performer_ranking_points</th>\n",
       "      <th>risk_rating_class</th>\n",
       "    </tr>\n",
       "  </thead>\n",
       "  <tbody>\n",
       "    <tr>\n",
       "      <th>1333142</th>\n",
       "      <td>01370820</td>\n",
       "      <td>Leipomo Rosten Oy</td>\n",
       "      <td>company_form_code+CO_16</td>\n",
       "      <td>location_municipality_code+853</td>\n",
       "      <td>location_region_code+02</td>\n",
       "      <td>company_status_code+AKT</td>\n",
       "      <td>industry_code+10</td>\n",
       "      <td>turnover+0.98</td>\n",
       "      <td>net_profit+0.98</td>\n",
       "      <td>personnel_average+0.98</td>\n",
       "      <td>performer_ranking_points+0.6</td>\n",
       "      <td>risk_rating_class+GREEN</td>\n",
       "    </tr>\n",
       "  </tbody>\n",
       "</table>\n",
       "</div>"
      ],
      "text/plain": [
       "        business_id       company_name        company_form_code  \\\n",
       "1333142    01370820  Leipomo Rosten Oy  company_form_code+CO_16   \n",
       "\n",
       "             location_municipality_code     location_region_code  \\\n",
       "1333142  location_municipality_code+853  location_region_code+02   \n",
       "\n",
       "             company_status_code     industry_code       turnover  \\\n",
       "1333142  company_status_code+AKT  industry_code+10  turnover+0.98   \n",
       "\n",
       "              net_profit       personnel_average  \\\n",
       "1333142  net_profit+0.98  personnel_average+0.98   \n",
       "\n",
       "             performer_ranking_points        risk_rating_class  \n",
       "1333142  performer_ranking_points+0.6  risk_rating_class+GREEN  "
      ]
     },
     "execution_count": 104,
     "metadata": {},
     "output_type": "execute_result"
    }
   ],
   "source": [
    "COMPANIES_DF[COMPANIES_DF['business_id'] == '01370820']"
   ]
  },
  {
   "cell_type": "markdown",
   "id": "a947fe51",
   "metadata": {},
   "source": [
    "## Ladataan vuorovaikutusdata"
   ]
  },
  {
   "cell_type": "code",
   "execution_count": 105,
   "id": "31e37e73",
   "metadata": {},
   "outputs": [
    {
     "data": {
      "text/html": [
       "<div>\n",
       "<style scoped>\n",
       "    .dataframe tbody tr th:only-of-type {\n",
       "        vertical-align: middle;\n",
       "    }\n",
       "\n",
       "    .dataframe tbody tr th {\n",
       "        vertical-align: top;\n",
       "    }\n",
       "\n",
       "    .dataframe thead th {\n",
       "        text-align: right;\n",
       "    }\n",
       "</style>\n",
       "<table border=\"1\" class=\"dataframe\">\n",
       "  <thead>\n",
       "    <tr style=\"text-align: right;\">\n",
       "      <th></th>\n",
       "      <th>group_id</th>\n",
       "      <th>business_id</th>\n",
       "      <th>owner</th>\n",
       "    </tr>\n",
       "  </thead>\n",
       "  <tbody>\n",
       "    <tr>\n",
       "      <th>0</th>\n",
       "      <td>3a63222b-86b2-4293-bd2e-171011190ae6</td>\n",
       "      <td>31291154</td>\n",
       "      <td>603e1524d377150007c2dbea</td>\n",
       "    </tr>\n",
       "    <tr>\n",
       "      <th>1</th>\n",
       "      <td>c2626398-faac-4ff3-b02d-cdc64b50cdaa</td>\n",
       "      <td>01681709</td>\n",
       "      <td>60646431ae18cb00063ed63f</td>\n",
       "    </tr>\n",
       "    <tr>\n",
       "      <th>2</th>\n",
       "      <td>c2626398-faac-4ff3-b02d-cdc64b50cdaa</td>\n",
       "      <td>15055514</td>\n",
       "      <td>60646431ae18cb00063ed63f</td>\n",
       "    </tr>\n",
       "    <tr>\n",
       "      <th>3</th>\n",
       "      <td>c2626398-faac-4ff3-b02d-cdc64b50cdaa</td>\n",
       "      <td>01876143</td>\n",
       "      <td>60646431ae18cb00063ed63f</td>\n",
       "    </tr>\n",
       "    <tr>\n",
       "      <th>4</th>\n",
       "      <td>c2626398-faac-4ff3-b02d-cdc64b50cdaa</td>\n",
       "      <td>01863991</td>\n",
       "      <td>60646431ae18cb00063ed63f</td>\n",
       "    </tr>\n",
       "    <tr>\n",
       "      <th>...</th>\n",
       "      <td>...</td>\n",
       "      <td>...</td>\n",
       "      <td>...</td>\n",
       "    </tr>\n",
       "    <tr>\n",
       "      <th>548193</th>\n",
       "      <td>8b0915ff-a0cb-4520-9160-8d783a6bf308</td>\n",
       "      <td>25610905</td>\n",
       "      <td>6110c56241e21e000857ca77</td>\n",
       "    </tr>\n",
       "    <tr>\n",
       "      <th>548194</th>\n",
       "      <td>8b0915ff-a0cb-4520-9160-8d783a6bf308</td>\n",
       "      <td>21281841</td>\n",
       "      <td>6110c56241e21e000857ca77</td>\n",
       "    </tr>\n",
       "    <tr>\n",
       "      <th>548195</th>\n",
       "      <td>8b0915ff-a0cb-4520-9160-8d783a6bf308</td>\n",
       "      <td>23633484</td>\n",
       "      <td>6110c56241e21e000857ca77</td>\n",
       "    </tr>\n",
       "    <tr>\n",
       "      <th>548196</th>\n",
       "      <td>8b0915ff-a0cb-4520-9160-8d783a6bf308</td>\n",
       "      <td>23552270</td>\n",
       "      <td>6110c56241e21e000857ca77</td>\n",
       "    </tr>\n",
       "    <tr>\n",
       "      <th>548197</th>\n",
       "      <td>8b0915ff-a0cb-4520-9160-8d783a6bf308</td>\n",
       "      <td>30073884</td>\n",
       "      <td>6110c56241e21e000857ca77</td>\n",
       "    </tr>\n",
       "  </tbody>\n",
       "</table>\n",
       "<p>548198 rows × 3 columns</p>\n",
       "</div>"
      ],
      "text/plain": [
       "                                    group_id business_id  \\\n",
       "0       3a63222b-86b2-4293-bd2e-171011190ae6    31291154   \n",
       "1       c2626398-faac-4ff3-b02d-cdc64b50cdaa    01681709   \n",
       "2       c2626398-faac-4ff3-b02d-cdc64b50cdaa    15055514   \n",
       "3       c2626398-faac-4ff3-b02d-cdc64b50cdaa    01876143   \n",
       "4       c2626398-faac-4ff3-b02d-cdc64b50cdaa    01863991   \n",
       "...                                      ...         ...   \n",
       "548193  8b0915ff-a0cb-4520-9160-8d783a6bf308    25610905   \n",
       "548194  8b0915ff-a0cb-4520-9160-8d783a6bf308    21281841   \n",
       "548195  8b0915ff-a0cb-4520-9160-8d783a6bf308    23633484   \n",
       "548196  8b0915ff-a0cb-4520-9160-8d783a6bf308    23552270   \n",
       "548197  8b0915ff-a0cb-4520-9160-8d783a6bf308    30073884   \n",
       "\n",
       "                           owner  \n",
       "0       603e1524d377150007c2dbea  \n",
       "1       60646431ae18cb00063ed63f  \n",
       "2       60646431ae18cb00063ed63f  \n",
       "3       60646431ae18cb00063ed63f  \n",
       "4       60646431ae18cb00063ed63f  \n",
       "...                          ...  \n",
       "548193  6110c56241e21e000857ca77  \n",
       "548194  6110c56241e21e000857ca77  \n",
       "548195  6110c56241e21e000857ca77  \n",
       "548196  6110c56241e21e000857ca77  \n",
       "548197  6110c56241e21e000857ca77  \n",
       "\n",
       "[548198 rows x 3 columns]"
      ]
     },
     "execution_count": 105,
     "metadata": {},
     "output_type": "execute_result"
    }
   ],
   "source": [
    "interactions_tmp = pd \\\n",
    "    .read_csv(WORKING_DIRECTORY + 'data/interactions_2021_08_19.csv',\n",
    "             delimiter='\\t',\n",
    "             dtype={\n",
    "                 'group_id': 'string',\n",
    "                 'business_id': 'string',\n",
    "                 'owner': 'string'\n",
    "             })\n",
    "             \n",
    "interactions_tmp"
   ]
  },
  {
   "cell_type": "code",
   "execution_count": 106,
   "id": "e46e8a6f",
   "metadata": {},
   "outputs": [
    {
     "data": {
      "text/html": [
       "<div>\n",
       "<style scoped>\n",
       "    .dataframe tbody tr th:only-of-type {\n",
       "        vertical-align: middle;\n",
       "    }\n",
       "\n",
       "    .dataframe tbody tr th {\n",
       "        vertical-align: top;\n",
       "    }\n",
       "\n",
       "    .dataframe thead th {\n",
       "        text-align: right;\n",
       "    }\n",
       "</style>\n",
       "<table border=\"1\" class=\"dataframe\">\n",
       "  <thead>\n",
       "    <tr style=\"text-align: right;\">\n",
       "      <th></th>\n",
       "      <th>group_id</th>\n",
       "      <th>business_id</th>\n",
       "      <th>owner</th>\n",
       "    </tr>\n",
       "  </thead>\n",
       "  <tbody>\n",
       "    <tr>\n",
       "      <th>1</th>\n",
       "      <td>c2626398-faac-4ff3-b02d-cdc64b50cdaa</td>\n",
       "      <td>K-01681709</td>\n",
       "      <td>60646431ae18cb00063ed63f</td>\n",
       "    </tr>\n",
       "    <tr>\n",
       "      <th>2</th>\n",
       "      <td>c2626398-faac-4ff3-b02d-cdc64b50cdaa</td>\n",
       "      <td>K-15055514</td>\n",
       "      <td>60646431ae18cb00063ed63f</td>\n",
       "    </tr>\n",
       "    <tr>\n",
       "      <th>3</th>\n",
       "      <td>c2626398-faac-4ff3-b02d-cdc64b50cdaa</td>\n",
       "      <td>K-01876143</td>\n",
       "      <td>60646431ae18cb00063ed63f</td>\n",
       "    </tr>\n",
       "    <tr>\n",
       "      <th>5</th>\n",
       "      <td>c2626398-faac-4ff3-b02d-cdc64b50cdaa</td>\n",
       "      <td>K-05363070</td>\n",
       "      <td>60646431ae18cb00063ed63f</td>\n",
       "    </tr>\n",
       "    <tr>\n",
       "      <th>6</th>\n",
       "      <td>c2626398-faac-4ff3-b02d-cdc64b50cdaa</td>\n",
       "      <td>K-01387534</td>\n",
       "      <td>60646431ae18cb00063ed63f</td>\n",
       "    </tr>\n",
       "    <tr>\n",
       "      <th>...</th>\n",
       "      <td>...</td>\n",
       "      <td>...</td>\n",
       "      <td>...</td>\n",
       "    </tr>\n",
       "    <tr>\n",
       "      <th>548074</th>\n",
       "      <td>8b0915ff-a0cb-4520-9160-8d783a6bf308</td>\n",
       "      <td>K-02106319</td>\n",
       "      <td>6110c56241e21e000857ca77</td>\n",
       "    </tr>\n",
       "    <tr>\n",
       "      <th>548110</th>\n",
       "      <td>8b0915ff-a0cb-4520-9160-8d783a6bf308</td>\n",
       "      <td>K-20333371</td>\n",
       "      <td>6110c56241e21e000857ca77</td>\n",
       "    </tr>\n",
       "    <tr>\n",
       "      <th>548137</th>\n",
       "      <td>8b0915ff-a0cb-4520-9160-8d783a6bf308</td>\n",
       "      <td>K-07027249</td>\n",
       "      <td>6110c56241e21e000857ca77</td>\n",
       "    </tr>\n",
       "    <tr>\n",
       "      <th>548162</th>\n",
       "      <td>8b0915ff-a0cb-4520-9160-8d783a6bf308</td>\n",
       "      <td>K-02011774</td>\n",
       "      <td>6110c56241e21e000857ca77</td>\n",
       "    </tr>\n",
       "    <tr>\n",
       "      <th>548171</th>\n",
       "      <td>8b0915ff-a0cb-4520-9160-8d783a6bf308</td>\n",
       "      <td>K-10459325</td>\n",
       "      <td>6110c56241e21e000857ca77</td>\n",
       "    </tr>\n",
       "  </tbody>\n",
       "</table>\n",
       "<p>73309 rows × 3 columns</p>\n",
       "</div>"
      ],
      "text/plain": [
       "                                    group_id business_id  \\\n",
       "1       c2626398-faac-4ff3-b02d-cdc64b50cdaa  K-01681709   \n",
       "2       c2626398-faac-4ff3-b02d-cdc64b50cdaa  K-15055514   \n",
       "3       c2626398-faac-4ff3-b02d-cdc64b50cdaa  K-01876143   \n",
       "5       c2626398-faac-4ff3-b02d-cdc64b50cdaa  K-05363070   \n",
       "6       c2626398-faac-4ff3-b02d-cdc64b50cdaa  K-01387534   \n",
       "...                                      ...         ...   \n",
       "548074  8b0915ff-a0cb-4520-9160-8d783a6bf308  K-02106319   \n",
       "548110  8b0915ff-a0cb-4520-9160-8d783a6bf308  K-20333371   \n",
       "548137  8b0915ff-a0cb-4520-9160-8d783a6bf308  K-07027249   \n",
       "548162  8b0915ff-a0cb-4520-9160-8d783a6bf308  K-02011774   \n",
       "548171  8b0915ff-a0cb-4520-9160-8d783a6bf308  K-10459325   \n",
       "\n",
       "                           owner  \n",
       "1       60646431ae18cb00063ed63f  \n",
       "2       60646431ae18cb00063ed63f  \n",
       "3       60646431ae18cb00063ed63f  \n",
       "5       60646431ae18cb00063ed63f  \n",
       "6       60646431ae18cb00063ed63f  \n",
       "...                          ...  \n",
       "548074  6110c56241e21e000857ca77  \n",
       "548110  6110c56241e21e000857ca77  \n",
       "548137  6110c56241e21e000857ca77  \n",
       "548162  6110c56241e21e000857ca77  \n",
       "548171  6110c56241e21e000857ca77  \n",
       "\n",
       "[73309 rows x 3 columns]"
      ]
     },
     "execution_count": 106,
     "metadata": {},
     "output_type": "execute_result"
    }
   ],
   "source": [
    "# lisätään konserniyrityksille interaktiot\n",
    "concern_interactions = interactions_tmp.copy()\n",
    "concern_interactions['business_id'] = 'K-' + concern_interactions['business_id'].astype(str)\n",
    "concern_interactions = concern_interactions[concern_interactions.business_id.isin(ITEM_IDS)]\n",
    "concern_interactions"
   ]
  },
  {
   "cell_type": "code",
   "execution_count": 107,
   "id": "7a95dbf7",
   "metadata": {},
   "outputs": [
    {
     "data": {
      "text/html": [
       "<div>\n",
       "<style scoped>\n",
       "    .dataframe tbody tr th:only-of-type {\n",
       "        vertical-align: middle;\n",
       "    }\n",
       "\n",
       "    .dataframe tbody tr th {\n",
       "        vertical-align: top;\n",
       "    }\n",
       "\n",
       "    .dataframe thead th {\n",
       "        text-align: right;\n",
       "    }\n",
       "</style>\n",
       "<table border=\"1\" class=\"dataframe\">\n",
       "  <thead>\n",
       "    <tr style=\"text-align: right;\">\n",
       "      <th></th>\n",
       "      <th>group_id</th>\n",
       "      <th>business_id</th>\n",
       "      <th>owner</th>\n",
       "    </tr>\n",
       "  </thead>\n",
       "  <tbody>\n",
       "    <tr>\n",
       "      <th>66053</th>\n",
       "      <td>66aea578-682d-45de-a200-77fa79a8c5e7</td>\n",
       "      <td>K-02011774</td>\n",
       "      <td>5db92c0ebc3e9100062ac0b0</td>\n",
       "    </tr>\n",
       "    <tr>\n",
       "      <th>155209</th>\n",
       "      <td>6c894b42-cbc6-4d18-8cf1-39ee91d2bf53</td>\n",
       "      <td>K-02011774</td>\n",
       "      <td>6058a712ae18cb00063ed639</td>\n",
       "    </tr>\n",
       "    <tr>\n",
       "      <th>206717</th>\n",
       "      <td>608ac4ff-ab75-425b-a4f1-74d5defd43a3</td>\n",
       "      <td>K-02011774</td>\n",
       "      <td>5fbe6408f464de0006491d9e</td>\n",
       "    </tr>\n",
       "    <tr>\n",
       "      <th>220714</th>\n",
       "      <td>4d2c2290-72be-40fe-8506-42718d2aac25</td>\n",
       "      <td>K-02011774</td>\n",
       "      <td>5f5613da9769490006b0ebb3</td>\n",
       "    </tr>\n",
       "    <tr>\n",
       "      <th>247346</th>\n",
       "      <td>58f4cb31-0d40-42b2-9268-10d6dc64f1a0</td>\n",
       "      <td>K-02011774</td>\n",
       "      <td>5f5613da9769490006b0ebb3</td>\n",
       "    </tr>\n",
       "    <tr>\n",
       "      <th>338294</th>\n",
       "      <td>62c0017d-ff32-4584-8c85-562e9a1e8329</td>\n",
       "      <td>K-02011774</td>\n",
       "      <td>5fab9e2dc07a1900066bab26</td>\n",
       "    </tr>\n",
       "    <tr>\n",
       "      <th>367059</th>\n",
       "      <td>2177a613-3b16-483e-9c9b-dc20bd4225f6</td>\n",
       "      <td>K-02011774</td>\n",
       "      <td>608863795602580007e70ddf</td>\n",
       "    </tr>\n",
       "    <tr>\n",
       "      <th>406747</th>\n",
       "      <td>3a44f374-56ee-4500-8829-c4b942b7afec</td>\n",
       "      <td>K-02011774</td>\n",
       "      <td>6033ae80484e8a0006fe437a</td>\n",
       "    </tr>\n",
       "    <tr>\n",
       "      <th>434180</th>\n",
       "      <td>725e7cd0-7031-4988-b4cb-69672c611514</td>\n",
       "      <td>K-02011774</td>\n",
       "      <td>5db83a1cbc3e9100062ac0ab</td>\n",
       "    </tr>\n",
       "    <tr>\n",
       "      <th>444333</th>\n",
       "      <td>acfdacd6-0de0-4568-a819-c3c2e15ef221</td>\n",
       "      <td>K-02011774</td>\n",
       "      <td>6033ae80484e8a0006fe437a</td>\n",
       "    </tr>\n",
       "    <tr>\n",
       "      <th>456705</th>\n",
       "      <td>a18a99fb-bfb4-4c46-ad6d-89e7b74ff2c4</td>\n",
       "      <td>K-02011774</td>\n",
       "      <td>60646431ae18cb00063ed63f</td>\n",
       "    </tr>\n",
       "    <tr>\n",
       "      <th>460823</th>\n",
       "      <td>51b071a7-bfc6-4add-93d2-11eea5346dc4</td>\n",
       "      <td>K-02011774</td>\n",
       "      <td>60646431ae18cb00063ed63f</td>\n",
       "    </tr>\n",
       "    <tr>\n",
       "      <th>491407</th>\n",
       "      <td>ddaef9fe-0f14-45f9-b55f-8ad1532a8680</td>\n",
       "      <td>K-02011774</td>\n",
       "      <td>60b5f4565735df0009ec7ea2</td>\n",
       "    </tr>\n",
       "    <tr>\n",
       "      <th>548162</th>\n",
       "      <td>8b0915ff-a0cb-4520-9160-8d783a6bf308</td>\n",
       "      <td>K-02011774</td>\n",
       "      <td>6110c56241e21e000857ca77</td>\n",
       "    </tr>\n",
       "  </tbody>\n",
       "</table>\n",
       "</div>"
      ],
      "text/plain": [
       "                                    group_id business_id  \\\n",
       "66053   66aea578-682d-45de-a200-77fa79a8c5e7  K-02011774   \n",
       "155209  6c894b42-cbc6-4d18-8cf1-39ee91d2bf53  K-02011774   \n",
       "206717  608ac4ff-ab75-425b-a4f1-74d5defd43a3  K-02011774   \n",
       "220714  4d2c2290-72be-40fe-8506-42718d2aac25  K-02011774   \n",
       "247346  58f4cb31-0d40-42b2-9268-10d6dc64f1a0  K-02011774   \n",
       "338294  62c0017d-ff32-4584-8c85-562e9a1e8329  K-02011774   \n",
       "367059  2177a613-3b16-483e-9c9b-dc20bd4225f6  K-02011774   \n",
       "406747  3a44f374-56ee-4500-8829-c4b942b7afec  K-02011774   \n",
       "434180  725e7cd0-7031-4988-b4cb-69672c611514  K-02011774   \n",
       "444333  acfdacd6-0de0-4568-a819-c3c2e15ef221  K-02011774   \n",
       "456705  a18a99fb-bfb4-4c46-ad6d-89e7b74ff2c4  K-02011774   \n",
       "460823  51b071a7-bfc6-4add-93d2-11eea5346dc4  K-02011774   \n",
       "491407  ddaef9fe-0f14-45f9-b55f-8ad1532a8680  K-02011774   \n",
       "548162  8b0915ff-a0cb-4520-9160-8d783a6bf308  K-02011774   \n",
       "\n",
       "                           owner  \n",
       "66053   5db92c0ebc3e9100062ac0b0  \n",
       "155209  6058a712ae18cb00063ed639  \n",
       "206717  5fbe6408f464de0006491d9e  \n",
       "220714  5f5613da9769490006b0ebb3  \n",
       "247346  5f5613da9769490006b0ebb3  \n",
       "338294  5fab9e2dc07a1900066bab26  \n",
       "367059  608863795602580007e70ddf  \n",
       "406747  6033ae80484e8a0006fe437a  \n",
       "434180  5db83a1cbc3e9100062ac0ab  \n",
       "444333  6033ae80484e8a0006fe437a  \n",
       "456705  60646431ae18cb00063ed63f  \n",
       "460823  60646431ae18cb00063ed63f  \n",
       "491407  60b5f4565735df0009ec7ea2  \n",
       "548162  6110c56241e21e000857ca77  "
      ]
     },
     "execution_count": 107,
     "metadata": {},
     "output_type": "execute_result"
    }
   ],
   "source": [
    "# yhdistetään konserni-interaktiot tavallisiin ja poistetaan sellaiset interaktiot, joille ei löydy y-tunnusta\n",
    "INTERACTIONS_DF = pd.concat([interactions_tmp, concern_interactions])\n",
    "INTERACTIONS_DF = INTERACTIONS_DF[INTERACTIONS_DF.business_id.isin(ITEM_IDS)]\n",
    "INTERACTIONS_DF[INTERACTIONS_DF['business_id'] == 'K-02011774']"
   ]
  },
  {
   "cell_type": "markdown",
   "id": "f5b1e70b",
   "metadata": {},
   "source": [
    "## Luodaan vuorovaikutusdatasta versiot erilaisilla minimiryhmäko'oilla"
   ]
  },
  {
   "cell_type": "code",
   "execution_count": 108,
   "id": "e47d2e27",
   "metadata": {},
   "outputs": [],
   "source": [
    "group_sizes = INTERACTIONS_DF['group_id'].value_counts()\n",
    "group_sizes_df = pd.DataFrame({'group_id': group_sizes.index, 'group_size': group_sizes.values})\n",
    "\n",
    "INTERACTIONS_WITH_GROUP_SIZES_DF = INTERACTIONS_DF.merge(group_sizes_df, on='group_id')\n",
    "\n",
    "\n",
    "##### Minimiryhmäkoko = 2 #####\n",
    "\n",
    "INTERACTIONS_2_DF = INTERACTIONS_WITH_GROUP_SIZES_DF[INTERACTIONS_WITH_GROUP_SIZES_DF.group_size >= 2]\n"
   ]
  },
  {
   "cell_type": "code",
   "execution_count": 109,
   "id": "8a63d06c",
   "metadata": {},
   "outputs": [
    {
     "name": "stdout",
     "output_type": "stream",
     "text": [
      "----- group_size>=1 -----\n",
      "ryhmiä: 1402, interaktioita 598822, yrityksiä 143840\n",
      "\n",
      "----- group_size>=2 -----\n",
      "ryhmiä: 1335, interaktioita 598755, yrityksiä 143839\n"
     ]
    }
   ],
   "source": [
    "def print_interactions_meta_data(interactions_df):\n",
    "    print('ryhmiä: {groups}, interaktioita {interactions}, yrityksiä {companies}'\n",
    "          .format(groups=len(list(interactions_df['group_id'].unique())),\n",
    "                  interactions=interactions_df.shape[0], \n",
    "                  companies=len(list(interactions_df['business_id'].unique()))))\n",
    "\n",
    "print('----- group_size>=1 -----')\n",
    "print_interactions_meta_data(INTERACTIONS_DF)\n",
    "\n",
    "print('\\n----- group_size>=2 -----')\n",
    "print_interactions_meta_data(INTERACTIONS_2_DF)"
   ]
  },
  {
   "cell_type": "markdown",
   "id": "7ec70bcb",
   "metadata": {},
   "source": [
    "## Luodaan LightFM:n ymmärtämät Dataset-oliot eri testitapauksille"
   ]
  },
  {
   "cell_type": "code",
   "execution_count": 111,
   "id": "b61d09c2",
   "metadata": {},
   "outputs": [],
   "source": [
    "def create_dataset(interactions_df, item_identity_features):\n",
    "    dataset = Dataset(user_identity_features=False, item_identity_features=item_identity_features)\n",
    "    \n",
    "    interactions = [(interaction['group_id'], interaction['business_id']) \n",
    "                for interaction in interactions_df.to_dict(orient='records')]\n",
    "    \n",
    "    user_ids = list(set(interactions_df['group_id'].values))\n",
    "\n",
    "    dataset.fit(users=user_ids, items=ITEM_IDS, item_features=ITEM_FEATURE_LABELS)\n",
    "    \n",
    "    (interactions_ds, weights_ds) = dataset.build_interactions(interactions)\n",
    "    \n",
    "    item_features_ds = dataset.build_item_features(ITEM_FEATURES, normalize=False)\n",
    "\n",
    "    # USER_MAP_DS = dataset.mapping()[0]\n",
    "    # ITEM_MAP_DS = dataset.mapping()[2]\n",
    "    ITEM_FEATURE_MAP_DS = dataset.mapping()[3]\n",
    "    print(len(ITEM_FEATURE_MAP_DS))\n",
    "    \n",
    "    return (interactions_ds, item_features_ds)    "
   ]
  },
  {
   "cell_type": "code",
   "execution_count": 112,
   "id": "b0c34f16",
   "metadata": {},
   "outputs": [
    {
     "name": "stdout",
     "output_type": "stream",
     "text": [
      "530\n"
     ]
    },
    {
     "data": {
      "text/plain": [
       "<1335x1337868 sparse matrix of type '<class 'numpy.int32'>'\n",
       "\twith 598755 stored elements in COOrdinate format>"
      ]
     },
     "execution_count": 112,
     "metadata": {},
     "output_type": "execute_result"
    }
   ],
   "source": [
    "# item_identity_features off\n",
    "(INTERACTIONS_2_DS, ITEM_FEATURES_2_DS) = create_dataset(INTERACTIONS_2_DF, False)\n",
    "INTERACTIONS_2_DS"
   ]
  },
  {
   "cell_type": "code",
   "execution_count": 113,
   "id": "20345a39",
   "metadata": {},
   "outputs": [
    {
     "name": "stdout",
     "output_type": "stream",
     "text": [
      "1338398\n"
     ]
    },
    {
     "data": {
      "text/plain": [
       "<1335x1337868 sparse matrix of type '<class 'numpy.int32'>'\n",
       "\twith 598755 stored elements in COOrdinate format>"
      ]
     },
     "execution_count": 113,
     "metadata": {},
     "output_type": "execute_result"
    }
   ],
   "source": [
    "# item_identity_fetures on\n",
    "(INTERACTIONS_2_IDENTITY_DS, ITEM_FEATURES_2_IDENTITY_DS) = create_dataset(INTERACTIONS_2_DF, True)\n",
    "INTERACTIONS_2_IDENTITY_DS"
   ]
  },
  {
   "cell_type": "markdown",
   "id": "b4cf4bd3",
   "metadata": {},
   "source": [
    "## Luodaan cross-validationia varten ositetut datasetit"
   ]
  },
  {
   "cell_type": "code",
   "execution_count": 114,
   "id": "edcd7bba",
   "metadata": {},
   "outputs": [],
   "source": [
    "def create_partitioned_datasets(interactions_ds):\n",
    "    (rest, fifth_1) = random_train_test_split(interactions_ds, test_percentage=0.2)\n",
    "    (rest, fifth_2) = random_train_test_split(rest, test_percentage=0.25)\n",
    "    (rest, fifth_3) = random_train_test_split(rest, test_percentage=0.3333333)\n",
    "    (fifth_4, fifth_5) = random_train_test_split(rest, test_percentage=0.5)\n",
    "    \n",
    "    return [fifth_1, fifth_2, fifth_3, fifth_4, fifth_5]\n",
    "    "
   ]
  },
  {
   "cell_type": "code",
   "execution_count": 115,
   "id": "df8419e8",
   "metadata": {},
   "outputs": [
    {
     "data": {
      "text/plain": [
       "[<1335x1337868 sparse matrix of type '<class 'numpy.int32'>'\n",
       " \twith 119751 stored elements in COOrdinate format>,\n",
       " <1335x1337868 sparse matrix of type '<class 'numpy.int32'>'\n",
       " \twith 119751 stored elements in COOrdinate format>,\n",
       " <1335x1337868 sparse matrix of type '<class 'numpy.int32'>'\n",
       " \twith 119751 stored elements in COOrdinate format>,\n",
       " <1335x1337868 sparse matrix of type '<class 'numpy.int32'>'\n",
       " \twith 119751 stored elements in COOrdinate format>,\n",
       " <1335x1337868 sparse matrix of type '<class 'numpy.int32'>'\n",
       " \twith 119751 stored elements in COOrdinate format>]"
      ]
     },
     "execution_count": 115,
     "metadata": {},
     "output_type": "execute_result"
    }
   ],
   "source": [
    "INTERACTIONS_2_CV = create_partitioned_datasets(INTERACTIONS_2_DS)\n",
    "INTERACTIONS_2_CV"
   ]
  },
  {
   "cell_type": "code",
   "execution_count": 116,
   "id": "837f9834",
   "metadata": {},
   "outputs": [
    {
     "data": {
      "text/plain": [
       "[<1335x1337868 sparse matrix of type '<class 'numpy.int32'>'\n",
       " \twith 119751 stored elements in COOrdinate format>,\n",
       " <1335x1337868 sparse matrix of type '<class 'numpy.int32'>'\n",
       " \twith 119751 stored elements in COOrdinate format>,\n",
       " <1335x1337868 sparse matrix of type '<class 'numpy.int32'>'\n",
       " \twith 119751 stored elements in COOrdinate format>,\n",
       " <1335x1337868 sparse matrix of type '<class 'numpy.int32'>'\n",
       " \twith 119751 stored elements in COOrdinate format>,\n",
       " <1335x1337868 sparse matrix of type '<class 'numpy.int32'>'\n",
       " \twith 119751 stored elements in COOrdinate format>]"
      ]
     },
     "execution_count": 116,
     "metadata": {},
     "output_type": "execute_result"
    }
   ],
   "source": [
    "INTERACTIONS_2_IDENTITY_CV = create_partitioned_datasets(INTERACTIONS_2_IDENTITY_DS)\n",
    "INTERACTIONS_2_IDENTITY_CV"
   ]
  },
  {
   "cell_type": "markdown",
   "id": "3a91a64d",
   "metadata": {},
   "source": [
    "## Arvioidaan mallien laatua"
   ]
  },
  {
   "cell_type": "code",
   "execution_count": 117,
   "id": "f98c56bb",
   "metadata": {},
   "outputs": [],
   "source": [
    "NUM_THREADS = 12\n",
    "\n",
    "def run_evaluation_function(model, test_ds, train_ds, evaluation_function, name, item_features=None):    \n",
    "    #print('Calculating {name} for train dataset...'.format(name=name))\n",
    "    #train_results = evaluation_function(model, train_ds, item_features=item_features, num_threads=NUM_THREADS)\n",
    "    #np.savetxt('iteration2-train-results-{}.txt'.format(name), train_results)\n",
    "    #train_metric = train_results.mean()\n",
    "    \n",
    "    print('Calculating {name} for test dataset...'.format(name=name))\n",
    "    test_results = evaluation_function(model, test_ds, train_ds, item_features=item_features, num_threads=NUM_THREADS)\n",
    "    np.savetxt('iteration2-test-results-{}.txt'.format(name), test_results)\n",
    "    test_metric = test_results.mean()\n",
    "    \n",
    "    print('{name}: train {train_metric:.2f}, test {test_metric:.2f}'.format(name=name, \n",
    "                                                                            train_metric=-1.0, \n",
    "                                                                            test_metric=test_metric))\n",
    "    print('\\n')\n",
    "    return (-1.0, test_metric)\n",
    "\n",
    "def run_evaluations_for_ds(model, train_ds, test_ds, model_name, item_features=None):\n",
    "    auc = run_evaluation_function(model, test_ds, train_ds, auc_score, 'AUC_' + model_name, item_features)\n",
    "    precision = run_evaluation_function(model, test_ds, train_ds, precision_at_k, 'PRECISION_' + model_name, item_features)\n",
    "    #recall = run_evaluation_function(model, test_ds, train_ds, recall_at_k, 'RECALL_' + model_name, item_features)\n",
    "    #reciprocal = run_evaluation_function(model, test_ds, train_ds, reciprocal_rank, 'RECIPROCAL_' + model_name, item_features)\n",
    "    \n",
    "    return (auc, precision) #, recall, reciprocal)\n",
    "    \n",
    "\n",
    "def run_evaluations(name, interactions_cv, item_features_ds):\n",
    "    \n",
    "    results = {\n",
    "        name: []\n",
    "    }\n",
    "    \n",
    "    for i in range(0, len(interactions_cv)):\n",
    "        print('Starting iteration {}...'.format(i))    \n",
    "            \n",
    "        test_ds = interactions_cv[i]\n",
    "        \n",
    "        # laitetaan uuteen listaan kaikki paitsi testidatasetti\n",
    "        train_ds_tmp = [ds for j,ds in enumerate(interactions_cv) if j != i]\n",
    "        # yhdistetään treenidatasetiksi valikoituneet vuorovaikutusmatriisit\n",
    "        train_ds = functools.reduce(lambda a,b: a + b, train_ds_tmp)\n",
    "        \n",
    "        MODEL = LightFM(loss='warp')\n",
    "        MODEL.fit(train_ds, item_features=item_features_ds, epochs=5, num_threads=NUM_THREADS, verbose=True)\n",
    "        \n",
    "        results[name].append(run_evaluations_for_ds(MODEL, train_ds, test_ds, '{}_{}'.format(name, i), item_features_ds))\n",
    "        \n",
    "    return results\n"
   ]
  },
  {
   "cell_type": "code",
   "execution_count": 118,
   "id": "07240adc",
   "metadata": {},
   "outputs": [],
   "source": [
    "def print_metric_result(result_arr, model_name):\n",
    "    train_results = [x[0] for x in result_arr]\n",
    "    test_results = [x[1] for x in result_arr]\n",
    "    \n",
    "    print('{name}:\\n train mean {train_mean:.2f} ({train_arr})\\n test mean {test_mean:.2f} ({test_arr})\\n'\n",
    "          .format(train_mean=statistics.mean(train_results),\n",
    "                 test_mean=statistics.mean(test_results),\n",
    "                 train_arr=['%.2f' % x for x in train_results],\n",
    "                 test_arr=['%.2f' % x for x in test_results],\n",
    "                 name=model_name))\n",
    "    \n",
    "\n",
    "def print_all_results(results):\n",
    "    for i,metric in enumerate(['AUC', 'PRECISION']): #, 'RECALL', 'RECIPROCAL']):\n",
    "        print('\\n-----{}-----'.format(metric))\n",
    "        for model_name,result_arr in results.items():\n",
    "            print_metric_result([res[i] for res in result_arr], model_name)\n",
    "    "
   ]
  },
  {
   "cell_type": "markdown",
   "id": "b1637f48",
   "metadata": {},
   "source": [
    "### Tulokset"
   ]
  },
  {
   "cell_type": "code",
   "execution_count": 119,
   "id": "5095d0ef",
   "metadata": {},
   "outputs": [
    {
     "name": "stdout",
     "output_type": "stream",
     "text": [
      "Starting iteration 0...\n"
     ]
    },
    {
     "name": "stderr",
     "output_type": "stream",
     "text": [
      "Epoch: 100%|████████████████████████████████████████████████████████████| 5/5 [00:02<00:00,  1.92it/s]\n"
     ]
    },
    {
     "name": "stdout",
     "output_type": "stream",
     "text": [
      "Calculating AUC_IDENTITY_FEATURES_OFF_0 for test dataset...\n",
      "AUC_IDENTITY_FEATURES_OFF_0: train -1.00, test 0.99\n",
      "\n",
      "\n",
      "Calculating PRECISION_IDENTITY_FEATURES_OFF_0 for test dataset...\n",
      "PRECISION_IDENTITY_FEATURES_OFF_0: train -1.00, test 0.08\n",
      "\n",
      "\n",
      "Starting iteration 1...\n"
     ]
    },
    {
     "name": "stderr",
     "output_type": "stream",
     "text": [
      "Epoch: 100%|████████████████████████████████████████████████████████████| 5/5 [00:02<00:00,  1.69it/s]\n"
     ]
    },
    {
     "name": "stdout",
     "output_type": "stream",
     "text": [
      "Calculating AUC_IDENTITY_FEATURES_OFF_1 for test dataset...\n",
      "AUC_IDENTITY_FEATURES_OFF_1: train -1.00, test 0.99\n",
      "\n",
      "\n",
      "Calculating PRECISION_IDENTITY_FEATURES_OFF_1 for test dataset...\n",
      "PRECISION_IDENTITY_FEATURES_OFF_1: train -1.00, test 0.09\n",
      "\n",
      "\n",
      "Starting iteration 2...\n"
     ]
    },
    {
     "name": "stderr",
     "output_type": "stream",
     "text": [
      "Epoch: 100%|████████████████████████████████████████████████████████████| 5/5 [00:03<00:00,  1.45it/s]\n"
     ]
    },
    {
     "name": "stdout",
     "output_type": "stream",
     "text": [
      "Calculating AUC_IDENTITY_FEATURES_OFF_2 for test dataset...\n",
      "AUC_IDENTITY_FEATURES_OFF_2: train -1.00, test 0.99\n",
      "\n",
      "\n",
      "Calculating PRECISION_IDENTITY_FEATURES_OFF_2 for test dataset...\n",
      "PRECISION_IDENTITY_FEATURES_OFF_2: train -1.00, test 0.08\n",
      "\n",
      "\n",
      "Starting iteration 3...\n"
     ]
    },
    {
     "name": "stderr",
     "output_type": "stream",
     "text": [
      "Epoch: 100%|████████████████████████████████████████████████████████████| 5/5 [00:03<00:00,  1.50it/s]\n"
     ]
    },
    {
     "name": "stdout",
     "output_type": "stream",
     "text": [
      "Calculating AUC_IDENTITY_FEATURES_OFF_3 for test dataset...\n",
      "AUC_IDENTITY_FEATURES_OFF_3: train -1.00, test 0.99\n",
      "\n",
      "\n",
      "Calculating PRECISION_IDENTITY_FEATURES_OFF_3 for test dataset...\n",
      "PRECISION_IDENTITY_FEATURES_OFF_3: train -1.00, test 0.08\n",
      "\n",
      "\n",
      "Starting iteration 4...\n"
     ]
    },
    {
     "name": "stderr",
     "output_type": "stream",
     "text": [
      "Epoch: 100%|████████████████████████████████████████████████████████████| 5/5 [00:03<00:00,  1.57it/s]\n"
     ]
    },
    {
     "name": "stdout",
     "output_type": "stream",
     "text": [
      "Calculating AUC_IDENTITY_FEATURES_OFF_4 for test dataset...\n",
      "AUC_IDENTITY_FEATURES_OFF_4: train -1.00, test 0.99\n",
      "\n",
      "\n",
      "Calculating PRECISION_IDENTITY_FEATURES_OFF_4 for test dataset...\n",
      "PRECISION_IDENTITY_FEATURES_OFF_4: train -1.00, test 0.08\n",
      "\n",
      "\n",
      "Starting iteration 0...\n"
     ]
    },
    {
     "name": "stderr",
     "output_type": "stream",
     "text": [
      "Epoch: 100%|████████████████████████████████████████████████████████████| 5/5 [00:04<00:00,  1.25it/s]\n"
     ]
    },
    {
     "name": "stdout",
     "output_type": "stream",
     "text": [
      "Calculating AUC_IDENTITY_FEATURES_ON_0 for test dataset...\n",
      "AUC_IDENTITY_FEATURES_ON_0: train -1.00, test 0.99\n",
      "\n",
      "\n",
      "Calculating PRECISION_IDENTITY_FEATURES_ON_0 for test dataset...\n",
      "PRECISION_IDENTITY_FEATURES_ON_0: train -1.00, test 0.09\n",
      "\n",
      "\n",
      "Starting iteration 1...\n"
     ]
    },
    {
     "name": "stderr",
     "output_type": "stream",
     "text": [
      "Epoch: 100%|████████████████████████████████████████████████████████████| 5/5 [00:03<00:00,  1.26it/s]\n"
     ]
    },
    {
     "name": "stdout",
     "output_type": "stream",
     "text": [
      "Calculating AUC_IDENTITY_FEATURES_ON_1 for test dataset...\n",
      "AUC_IDENTITY_FEATURES_ON_1: train -1.00, test 0.99\n",
      "\n",
      "\n",
      "Calculating PRECISION_IDENTITY_FEATURES_ON_1 for test dataset...\n",
      "PRECISION_IDENTITY_FEATURES_ON_1: train -1.00, test 0.09\n",
      "\n",
      "\n",
      "Starting iteration 2...\n"
     ]
    },
    {
     "name": "stderr",
     "output_type": "stream",
     "text": [
      "Epoch: 100%|████████████████████████████████████████████████████████████| 5/5 [00:04<00:00,  1.20it/s]\n"
     ]
    },
    {
     "name": "stdout",
     "output_type": "stream",
     "text": [
      "Calculating AUC_IDENTITY_FEATURES_ON_2 for test dataset...\n",
      "AUC_IDENTITY_FEATURES_ON_2: train -1.00, test 0.99\n",
      "\n",
      "\n",
      "Calculating PRECISION_IDENTITY_FEATURES_ON_2 for test dataset...\n",
      "PRECISION_IDENTITY_FEATURES_ON_2: train -1.00, test 0.09\n",
      "\n",
      "\n",
      "Starting iteration 3...\n"
     ]
    },
    {
     "name": "stderr",
     "output_type": "stream",
     "text": [
      "Epoch: 100%|████████████████████████████████████████████████████████████| 5/5 [00:04<00:00,  1.07it/s]\n"
     ]
    },
    {
     "name": "stdout",
     "output_type": "stream",
     "text": [
      "Calculating AUC_IDENTITY_FEATURES_ON_3 for test dataset...\n",
      "AUC_IDENTITY_FEATURES_ON_3: train -1.00, test 0.99\n",
      "\n",
      "\n",
      "Calculating PRECISION_IDENTITY_FEATURES_ON_3 for test dataset...\n",
      "PRECISION_IDENTITY_FEATURES_ON_3: train -1.00, test 0.09\n",
      "\n",
      "\n",
      "Starting iteration 4...\n"
     ]
    },
    {
     "name": "stderr",
     "output_type": "stream",
     "text": [
      "Epoch: 100%|████████████████████████████████████████████████████████████| 5/5 [00:03<00:00,  1.49it/s]\n"
     ]
    },
    {
     "name": "stdout",
     "output_type": "stream",
     "text": [
      "Calculating AUC_IDENTITY_FEATURES_ON_4 for test dataset...\n",
      "AUC_IDENTITY_FEATURES_ON_4: train -1.00, test 0.99\n",
      "\n",
      "\n",
      "Calculating PRECISION_IDENTITY_FEATURES_ON_4 for test dataset...\n",
      "PRECISION_IDENTITY_FEATURES_ON_4: train -1.00, test 0.09\n",
      "\n",
      "\n"
     ]
    }
   ],
   "source": [
    "RESULTS_IDENTITY_OFF = run_evaluations('IDENTITY_FEATURES_OFF', INTERACTIONS_2_CV, ITEM_FEATURES_2_DS)\n",
    "RESULTS_IDENTITY_ON = run_evaluations('IDENTITY_FEATURES_ON', INTERACTIONS_2_IDENTITY_CV, ITEM_FEATURES_2_IDENTITY_DS)"
   ]
  },
  {
   "cell_type": "code",
   "execution_count": 120,
   "id": "221d44b7",
   "metadata": {},
   "outputs": [
    {
     "name": "stdout",
     "output_type": "stream",
     "text": [
      "\n",
      "-----AUC-----\n",
      "IDENTITY_FEATURES_OFF:\n",
      " train mean -1.00 (['-1.00', '-1.00', '-1.00', '-1.00', '-1.00'])\n",
      " test mean 0.99 (['0.99', '0.99', '0.99', '0.99', '0.99'])\n",
      "\n",
      "\n",
      "-----PRECISION-----\n",
      "IDENTITY_FEATURES_OFF:\n",
      " train mean -1.00 (['-1.00', '-1.00', '-1.00', '-1.00', '-1.00'])\n",
      " test mean 0.08 (['0.08', '0.09', '0.08', '0.08', '0.08'])\n",
      "\n"
     ]
    }
   ],
   "source": [
    "print_all_results(RESULTS_IDENTITY_OFF)"
   ]
  },
  {
   "cell_type": "code",
   "execution_count": 121,
   "id": "e2e1b9b5",
   "metadata": {},
   "outputs": [
    {
     "name": "stdout",
     "output_type": "stream",
     "text": [
      "\n",
      "-----AUC-----\n",
      "IDENTITY_FEATURES_ON:\n",
      " train mean -1.00 (['-1.00', '-1.00', '-1.00', '-1.00', '-1.00'])\n",
      " test mean 0.99 (['0.99', '0.99', '0.99', '0.99', '0.99'])\n",
      "\n",
      "\n",
      "-----PRECISION-----\n",
      "IDENTITY_FEATURES_ON:\n",
      " train mean -1.00 (['-1.00', '-1.00', '-1.00', '-1.00', '-1.00'])\n",
      " test mean 0.09 (['0.09', '0.09', '0.09', '0.09', '0.09'])\n",
      "\n"
     ]
    }
   ],
   "source": [
    "print_all_results(RESULTS_IDENTITY_ON)"
   ]
  }
 ],
 "metadata": {
  "kernelspec": {
   "display_name": "Python 3 (ipykernel)",
   "language": "python",
   "name": "python3"
  },
  "language_info": {
   "codemirror_mode": {
    "name": "ipython",
    "version": 3
   },
   "file_extension": ".py",
   "mimetype": "text/x-python",
   "name": "python",
   "nbconvert_exporter": "python",
   "pygments_lexer": "ipython3",
   "version": "3.9.12"
  }
 },
 "nbformat": 4,
 "nbformat_minor": 5
}
