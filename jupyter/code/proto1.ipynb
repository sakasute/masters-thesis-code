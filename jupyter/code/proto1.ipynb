{
 "cells": [
  {
   "cell_type": "markdown",
   "id": "f3a31094",
   "metadata": {},
   "source": [
    "# Proto1"
   ]
  },
  {
   "cell_type": "markdown",
   "id": "1e32da37",
   "metadata": {},
   "source": [
    "## Importataan tarvittavat kirjastot"
   ]
  },
  {
   "cell_type": "markdown",
   "id": "1eafe724",
   "metadata": {},
   "source": [
    "from lightfm import LightFM\n",
    "from lightfm.data import Dataset\n",
    "\n",
    "import numpy as np\n",
    "import pandas as pd"
   ]
  },
  {
   "cell_type": "markdown",
   "id": "dcf5ea3e",
   "metadata": {},
   "source": [
    "## Määritetään halutut ominaisuudet yrityksille"
   ]
  },
  {
   "cell_type": "code",
   "execution_count": 7,
   "id": "bf17aa53",
   "metadata": {},
   "outputs": [],
   "source": [
    "SELECTED_COMPANY_FEATURES = ['location_region_code', 'industry_code']"
   ]
  },
  {
   "cell_type": "markdown",
   "id": "cacdecb7",
   "metadata": {},
   "source": [
    "## Ladataan raakadata yrityksistä"
   ]
  },
  {
   "cell_type": "code",
   "execution_count": 9,
   "id": "0e458666",
   "metadata": {},
   "outputs": [],
   "source": [
    "COMPANIES_RAW = pd \\\n",
    "        .read_csv('data/prod_data_companies_2021_08_22.csv',\n",
    "                  delimiter='\\t',\n",
    "                  dtype={\n",
    "                      'business_id': 'string',\n",
    "                      'company_name': 'string',\n",
    "                      'company_form': 'string',\n",
    "                      'company_form_code': 'string',\n",
    "                      'location_region': 'string',\n",
    "                      'location_region_code': 'string',\n",
    "                      'location_municipality': 'string',\n",
    "                      'location_municipality_code': 'string',\n",
    "                      'industry_code': 'string',\n",
    "                      'company_status': 'string',\n",
    "                      'company_status_code': 'string',\n",
    "                      'personnel_class': 'string'\n",
    "                  }\n",
    "                  )"
   ]
  },
  {
   "cell_type": "markdown",
   "id": "ab2cebb8",
   "metadata": {},
   "source": [
    "## Käsitellään ja poimitaan halutut yritysdatat"
   ]
  },
  {
   "cell_type": "code",
   "execution_count": 12,
   "id": "3c8edf78",
   "metadata": {},
   "outputs": [
    {
     "ename": "SyntaxError",
     "evalue": "invalid syntax (385305549.py, line 3)",
     "output_type": "error",
     "traceback": [
      "\u001B[0;36m  File \u001B[0;32m\"/tmp/ipykernel_34/385305549.py\"\u001B[0;36m, line \u001B[0;32m3\u001B[0m\n\u001B[0;31m    ITEM_FEATURE_LABELS = set() for feature in SELECTED_FEATURES: item_feature_labels |= set(company_df[feature].unique())\u001B[0m\n\u001B[0m                                ^\u001B[0m\n\u001B[0;31mSyntaxError\u001B[0m\u001B[0;31m:\u001B[0m invalid syntax\n"
     ]
    }
   ],
   "source": [
    "ITEM_IDS = list(company_df['business_id'].values)\n",
    "\n",
    "ITEM_FEATURE_LABELS = set() for feature in SELECTED_FEATURES: item_feature_labels |= set(company_df[feature].unique())\n",
    "        \n",
    "print(ITEM_FEATURE_LABELS)"
   ]
  },
  {
   "cell_type": "code",
   "execution_count": null,
   "id": "db4ddbc5",
   "metadata": {},
   "outputs": [],
   "source": []
  }
 ],
 "metadata": {
  "kernelspec": {
   "display_name": "Python 3 (ipykernel)",
   "language": "python",
   "name": "python3"
  },
  "language_info": {
   "codemirror_mode": {
    "name": "ipython",
    "version": 3
   },
   "file_extension": ".py",
   "mimetype": "text/x-python",
   "name": "python",
   "nbconvert_exporter": "python",
   "pygments_lexer": "ipython3",
   "version": "3.9.6"
  }
 },
 "nbformat": 4,
 "nbformat_minor": 5
}