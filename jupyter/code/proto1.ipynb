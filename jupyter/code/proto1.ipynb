{
 "cells": [
  {
   "cell_type": "markdown",
   "id": "8dc91af6",
   "metadata": {},
   "source": [
    "# Proto1"
   ]
  },
  {
   "cell_type": "markdown",
   "id": "164a9ce6",
   "metadata": {},
   "source": [
    "## Importataan tarvittavat kirjastot"
   ]
  },
  {
   "cell_type": "code",
   "execution_count": 2,
   "id": "7b2d0241",
   "metadata": {},
   "outputs": [],
   "source": [
    "from lightfm import LightFM\n",
    "from lightfm.data import Dataset\n",
    "\n",
    "import numpy as np\n",
    "import pandas as pd"
   ]
  },
  {
   "cell_type": "markdown",
   "id": "fb4fd9e0",
   "metadata": {},
   "source": [
    "## Määritetään halutut ominaisuudet yrityksille"
   ]
  },
  {
   "cell_type": "code",
   "execution_count": 3,
   "id": "0feafa4a",
   "metadata": {},
   "outputs": [],
   "source": [
    "SELECTED_COMPANY_FEATURES = ['location_region_code', 'industry_code']"
   ]
  },
  {
   "cell_type": "markdown",
   "id": "ba9a9743",
   "metadata": {},
   "source": [
    "## Ladataan raakadata yrityksistä"
   ]
  },
  {
   "cell_type": "code",
   "execution_count": 4,
   "id": "0fec7d48",
   "metadata": {},
   "outputs": [],
   "source": [
    "COMPANIES_RAW = pd \\\n",
    "        .read_csv('data/prod_data_companies_2021_08_22.csv',\n",
    "                  delimiter='\\t',\n",
    "                  na_values='(null)',\n",
    "                  dtype={\n",
    "                      'business_id': 'string',\n",
    "                      'company_name': 'string',\n",
    "                      'company_form': 'string',\n",
    "                      'company_form_code': 'string',\n",
    "                      'location_region': 'string',\n",
    "                      'location_region_code': 'string',\n",
    "                      'location_municipality': 'string',\n",
    "                      'location_municipality_code': 'string',\n",
    "                      'industry_code': 'string',\n",
    "                      'company_status': 'string',\n",
    "                      'company_status_code': 'string',\n",
    "                      'personnel_class': 'string'\n",
    "                  }\n",
    "                  )"
   ]
  },
  {
   "cell_type": "markdown",
   "id": "2eaffff8",
   "metadata": {},
   "source": [
    "## Käsitellään ja poimitaan halutut yritysdatat"
   ]
  },
  {
   "cell_type": "code",
   "execution_count": 5,
   "id": "069d3015",
   "metadata": {},
   "outputs": [
    {
     "name": "stdout",
     "output_type": "stream",
     "text": [
      "[('01423486', ['02', '68201']), ('15697971', ['01', '87302']), ('02373820', ['01', '88999']), ('02105471', ['19', '68201']), ('01556668', ['06', '68201']), ('01556668', ['06', '68201']), ('15697971', ['01', '87302']), ('02026351', ['01', '47730']), ('01165149', ['01', '68201']), ('01497530', ['07', '87301'])]\n"
     ]
    }
   ],
   "source": [
    "ITEM_IDS = list(COMPANIES_RAW['business_id'].values)\n",
    "\n",
    "# pitäisi varmaan prefiksoida koodit, jotta pysyvät uniikkeina, kun niitä lisätään\n",
    "item_feature_labels_tmp = [COMPANIES_RAW[feature].dropna().unique() for feature in SELECTED_COMPANY_FEATURES]\n",
    "\n",
    "ITEM_FEATURE_LABELS = [item for sublist in item_feature_labels_tmp for item in sublist]\n",
    "\n",
    "ITEM_FEATURES = [(company['business_id'], [company[feature] for feature in SELECTED_COMPANY_FEATURES])\n",
    "                     for company in COMPANIES_RAW.to_dict(orient='records')]\n",
    "\n",
    "print(ITEM_FEATURES[0:10])"
   ]
  },
  {
   "cell_type": "markdown",
   "id": "ac92e092",
   "metadata": {},
   "source": [
    "## Ladataan vuorovaikutusdata"
   ]
  },
  {
   "cell_type": "code",
   "execution_count": 15,
   "id": "ed920a56",
   "metadata": {},
   "outputs": [
    {
     "name": "stdout",
     "output_type": "stream",
     "text": [
      "(548198, 3)\n",
      "(346309, 3)\n"
     ]
    }
   ],
   "source": [
    "interactions_tmp = pd \\\n",
    "    .read_csv('data/interactions_2021_08_19.csv',\n",
    "             delimiter='\\t',\n",
    "             dtype={\n",
    "                 'group_id': 'string',\n",
    "                 'business_id': 'string',\n",
    "                 'owner': 'string'\n",
    "             })\n",
    "\n",
    "# Poistetaan vuorovaikutusdatasta sellaiset y-tunnukset, joita ei löydy kohteista\n",
    "INTERACTIONS_RAW = interactions_tmp[interactions_tmp.business_id.isin(ITEM_IDS)]\n",
    "\n",
    "print(interactions_tmp.shape)\n",
    "print(INTERACTIONS_RAW.shape)"
   ]
  },
  {
   "cell_type": "markdown",
   "id": "1a22cac3",
   "metadata": {},
   "source": [
    "## Käsitellään vuorovaikutus ja käyttäjä/ryhmädata\n",
    "\n",
    "Toistaiseksi ainakin pidän ryhmää \"käyttäjänä\". Oletukseni on, että ryhmä yrityksiä on se taso, jolle suosituksia halutaan luoda."
   ]
  },
  {
   "cell_type": "code",
   "execution_count": 18,
   "id": "936f70b3",
   "metadata": {},
   "outputs": [
    {
     "name": "stdout",
     "output_type": "stream",
     "text": [
      "346309\n",
      "[('c2626398-faac-4ff3-b02d-cdc64b50cdaa', '01681709'), ('c2626398-faac-4ff3-b02d-cdc64b50cdaa', '15055514'), ('c2626398-faac-4ff3-b02d-cdc64b50cdaa', '01876143'), ('c2626398-faac-4ff3-b02d-cdc64b50cdaa', '01863991'), ('c2626398-faac-4ff3-b02d-cdc64b50cdaa', '05363070'), ('c2626398-faac-4ff3-b02d-cdc64b50cdaa', '01387534'), ('c2626398-faac-4ff3-b02d-cdc64b50cdaa', '01372818'), ('c2626398-faac-4ff3-b02d-cdc64b50cdaa', '18348689'), ('c2626398-faac-4ff3-b02d-cdc64b50cdaa', '01421229'), ('c2626398-faac-4ff3-b02d-cdc64b50cdaa', '01446661')]\n"
     ]
    }
   ],
   "source": [
    "USER_IDS = list(INTERACTIONS_RAW['group_id'].values.unique())\n",
    "\n",
    "INTERACTIONS = [(interaction['group_id'], interaction['business_id']) \n",
    "                for interaction in INTERACTIONS_RAW.to_dict(orient='records')]\n",
    "\n",
    "print(len(INTERACTIONS))\n",
    "print(INTERACTIONS[0:10])"
   ]
  },
  {
   "cell_type": "markdown",
   "id": "a87e61bf",
   "metadata": {},
   "source": [
    "## Luodaan LightFM:n ymmärtämä Dataset-olio"
   ]
  },
  {
   "cell_type": "code",
   "execution_count": null,
   "id": "6919ce90",
   "metadata": {},
   "outputs": [],
   "source": []
  }
 ],
 "metadata": {
  "kernelspec": {
   "display_name": "Python 3 (ipykernel)",
   "language": "python",
   "name": "python3"
  },
  "language_info": {
   "codemirror_mode": {
    "name": "ipython",
    "version": 3
   },
   "file_extension": ".py",
   "mimetype": "text/x-python",
   "name": "python",
   "nbconvert_exporter": "python",
   "pygments_lexer": "ipython3",
   "version": "3.9.6"
  }
 },
 "nbformat": 4,
 "nbformat_minor": 5
}
