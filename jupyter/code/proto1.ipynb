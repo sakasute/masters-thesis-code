{
 "cells": [
  {
   "cell_type": "markdown",
   "id": "8dc91af6",
   "metadata": {},
   "source": [
    "# Proto1\n",
    "\n",
    "Kysymyksiä:\n",
    "\n",
    "1. Onko hybridimalli parempi kuin CF-versio algoritmista?"
   ]
  },
  {
   "cell_type": "markdown",
   "id": "164a9ce6",
   "metadata": {},
   "source": [
    "## Importataan tarvittavat kirjastot"
   ]
  },
  {
   "cell_type": "code",
   "execution_count": 1,
   "id": "7b2d0241",
   "metadata": {},
   "outputs": [],
   "source": [
    "import lightfm\n",
    "\n",
    "import numpy as np\n",
    "import pandas as pd"
   ]
  },
  {
   "cell_type": "markdown",
   "id": "fb4fd9e0",
   "metadata": {},
   "source": [
    "## Määritetään halutut ominaisuudet yrityksille"
   ]
  },
  {
   "cell_type": "code",
   "execution_count": 2,
   "id": "0feafa4a",
   "metadata": {},
   "outputs": [],
   "source": [
    "SELECTED_COMPANY_FEATURES = ['location_region_code', 'industry_code']"
   ]
  },
  {
   "cell_type": "markdown",
   "id": "ba9a9743",
   "metadata": {},
   "source": [
    "## Ladataan raakadata yrityksistä"
   ]
  },
  {
   "cell_type": "code",
   "execution_count": 3,
   "id": "0fec7d48",
   "metadata": {},
   "outputs": [],
   "source": [
    "COMPANIES_RAW = pd \\\n",
    "        .read_csv('data/prod_data_companies_2021_08_22.csv',\n",
    "                  delimiter='\\t',\n",
    "                  na_values='(null)',\n",
    "                  dtype={\n",
    "                      'business_id': 'string',\n",
    "                      'company_name': 'string',\n",
    "                      'company_form': 'string',\n",
    "                      'company_form_code': 'string',\n",
    "                      'location_region': 'string',\n",
    "                      'location_region_code': 'string',\n",
    "                      'location_municipality': 'string',\n",
    "                      'location_municipality_code': 'string',\n",
    "                      'industry_code': 'string',\n",
    "                      'company_status': 'string',\n",
    "                      'company_status_code': 'string',\n",
    "                      'personnel_class': 'string'\n",
    "                  }\n",
    "                  )"
   ]
  },
  {
   "cell_type": "markdown",
   "id": "2eaffff8",
   "metadata": {},
   "source": [
    "## Käsitellään ja poimitaan halutut yritysdatat"
   ]
  },
  {
   "cell_type": "code",
   "execution_count": 4,
   "id": "069d3015",
   "metadata": {},
   "outputs": [
    {
     "name": "stdout",
     "output_type": "stream",
     "text": [
      "[('01423486', ['02', '68201']), ('15697971', ['01', '87302']), ('02373820', ['01', '88999']), ('02105471', ['19', '68201']), ('01556668', ['06', '68201']), ('01556668', ['06', '68201']), ('15697971', ['01', '87302']), ('02026351', ['01', '47730']), ('01165149', ['01', '68201']), ('01497530', ['07', '87301'])]\n"
     ]
    }
   ],
   "source": [
    "ITEM_IDS = list(COMPANIES_RAW['business_id'].values)\n",
    "\n",
    "# pitäisi varmaan prefiksoida koodit, jotta pysyvät uniikkeina, kun niitä lisätään\n",
    "item_feature_labels_tmp = [COMPANIES_RAW[feature].dropna().unique() for feature in SELECTED_COMPANY_FEATURES]\n",
    "\n",
    "ITEM_FEATURE_LABELS = [item for sublist in item_feature_labels_tmp for item in sublist]\n",
    "\n",
    "ITEM_FEATURES = [(company['business_id'], \n",
    "                  [company[feature] for feature in SELECTED_COMPANY_FEATURES if str(company[feature]) != '<NA>'])\n",
    "                     for company in COMPANIES_RAW.to_dict(orient='records')]\n",
    "\n",
    "print(ITEM_FEATURES[0:10])"
   ]
  },
  {
   "cell_type": "markdown",
   "id": "ac92e092",
   "metadata": {},
   "source": [
    "## Ladataan vuorovaikutusdata"
   ]
  },
  {
   "cell_type": "code",
   "execution_count": 5,
   "id": "ed920a56",
   "metadata": {},
   "outputs": [
    {
     "name": "stdout",
     "output_type": "stream",
     "text": [
      "(548198, 3)\n",
      "(346309, 3)\n"
     ]
    }
   ],
   "source": [
    "interactions_tmp = pd \\\n",
    "    .read_csv('data/interactions_2021_08_19.csv',\n",
    "             delimiter='\\t',\n",
    "             dtype={\n",
    "                 'group_id': 'string',\n",
    "                 'business_id': 'string',\n",
    "                 'owner': 'string'\n",
    "             })\n",
    "\n",
    "# Poistetaan vuorovaikutusdatasta sellaiset y-tunnukset, joita ei löydy kohteista\n",
    "INTERACTIONS_RAW = interactions_tmp[interactions_tmp.business_id.isin(ITEM_IDS)]\n",
    "\n",
    "print(interactions_tmp.shape)\n",
    "print(INTERACTIONS_RAW.shape)"
   ]
  },
  {
   "cell_type": "markdown",
   "id": "1a22cac3",
   "metadata": {},
   "source": [
    "## Käsitellään vuorovaikutusdata\n",
    "\n",
    "Toistaiseksi ainakin pidän ryhmää \"käyttäjänä\". Oletukseni on, että ryhmä yrityksiä on se taso, jolle suosituksia halutaan luoda."
   ]
  },
  {
   "cell_type": "code",
   "execution_count": 6,
   "id": "936f70b3",
   "metadata": {},
   "outputs": [
    {
     "name": "stdout",
     "output_type": "stream",
     "text": [
      "346309\n",
      "[('c2626398-faac-4ff3-b02d-cdc64b50cdaa', '01681709'), ('c2626398-faac-4ff3-b02d-cdc64b50cdaa', '15055514'), ('c2626398-faac-4ff3-b02d-cdc64b50cdaa', '01876143'), ('c2626398-faac-4ff3-b02d-cdc64b50cdaa', '01863991'), ('c2626398-faac-4ff3-b02d-cdc64b50cdaa', '05363070'), ('c2626398-faac-4ff3-b02d-cdc64b50cdaa', '01387534'), ('c2626398-faac-4ff3-b02d-cdc64b50cdaa', '01372818'), ('c2626398-faac-4ff3-b02d-cdc64b50cdaa', '18348689'), ('c2626398-faac-4ff3-b02d-cdc64b50cdaa', '01421229'), ('c2626398-faac-4ff3-b02d-cdc64b50cdaa', '01446661')]\n"
     ]
    }
   ],
   "source": [
    "USER_IDS = list(INTERACTIONS_RAW['group_id'].values.unique())\n",
    "\n",
    "INTERACTIONS = [(interaction['group_id'], interaction['business_id']) \n",
    "                for interaction in INTERACTIONS_RAW.to_dict(orient='records')]\n",
    "\n",
    "print(len(INTERACTIONS))\n",
    "print(INTERACTIONS[0:10])"
   ]
  },
  {
   "cell_type": "markdown",
   "id": "a87e61bf",
   "metadata": {},
   "source": [
    "## Luodaan LightFM:n ymmärtämä Dataset-olio\n",
    "\n",
    "Kysymyksiä:\n",
    "1. Tuleeko parempia tuloksia identity_featuret päällä vai poissa?\n",
    "2. Parempi normalisoinnin kanssa vai ilman?"
   ]
  },
  {
   "cell_type": "code",
   "execution_count": 7,
   "id": "6919ce90",
   "metadata": {},
   "outputs": [
    {
     "ename": "AttributeError",
     "evalue": "module 'lightfm' has no attribute 'data'",
     "output_type": "error",
     "traceback": [
      "\u001b[0;31m---------------------------------------------------------------------------\u001b[0m",
      "\u001b[0;31mAttributeError\u001b[0m                            Traceback (most recent call last)",
      "\u001b[0;32m/tmp/ipykernel_122/587308777.py\u001b[0m in \u001b[0;36m<module>\u001b[0;34m\u001b[0m\n\u001b[0;32m----> 1\u001b[0;31m \u001b[0mDATASET\u001b[0m \u001b[0;34m=\u001b[0m \u001b[0mlightfm\u001b[0m\u001b[0;34m.\u001b[0m\u001b[0mdata\u001b[0m\u001b[0;34m.\u001b[0m\u001b[0mDataset\u001b[0m\u001b[0;34m(\u001b[0m\u001b[0muser_identity_features\u001b[0m\u001b[0;34m=\u001b[0m\u001b[0;32mFalse\u001b[0m\u001b[0;34m,\u001b[0m \u001b[0mitem_identity_features\u001b[0m\u001b[0;34m=\u001b[0m\u001b[0;32mFalse\u001b[0m\u001b[0;34m)\u001b[0m\u001b[0;34m\u001b[0m\u001b[0;34m\u001b[0m\u001b[0m\n\u001b[0m\u001b[1;32m      2\u001b[0m \u001b[0;34m\u001b[0m\u001b[0m\n\u001b[1;32m      3\u001b[0m \u001b[0;31m# user_featureja ei ainakaan vielä ole\u001b[0m\u001b[0;34m\u001b[0m\u001b[0;34m\u001b[0m\u001b[0;34m\u001b[0m\u001b[0m\n\u001b[1;32m      4\u001b[0m \u001b[0mDATASET\u001b[0m\u001b[0;34m.\u001b[0m\u001b[0mfit\u001b[0m\u001b[0;34m(\u001b[0m\u001b[0musers\u001b[0m\u001b[0;34m=\u001b[0m\u001b[0mUSER_IDS\u001b[0m\u001b[0;34m,\u001b[0m \u001b[0mitems\u001b[0m\u001b[0;34m=\u001b[0m\u001b[0mITEM_IDS\u001b[0m\u001b[0;34m,\u001b[0m \u001b[0mitem_features\u001b[0m\u001b[0;34m=\u001b[0m\u001b[0mITEM_FEATURE_LABELS\u001b[0m\u001b[0;34m)\u001b[0m\u001b[0;34m\u001b[0m\u001b[0;34m\u001b[0m\u001b[0m\n\u001b[1;32m      5\u001b[0m \u001b[0;34m\u001b[0m\u001b[0m\n",
      "\u001b[0;31mAttributeError\u001b[0m: module 'lightfm' has no attribute 'data'"
     ]
    }
   ],
   "source": [
    "DATASET = lightfm.data.Dataset(user_identity_features=False, item_identity_features=False)\n",
    "\n",
    "# user_featureja ei ainakaan vielä ole\n",
    "DATASET.fit(users=USER_IDS, items=ITEM_IDS, item_features=ITEM_FEATURE_LABELS)\n",
    "\n",
    "ITEM_FEATURES_DS = DATASET.build_item_features(ITEM_FEATURES, normalize=False)\n",
    "\n",
    "(INTERACTIONS_DS, WEIGHTS_DS) = DATASET.build_interactions(INTERACTIONS)\n",
    "\n",
    "USER_MAP_DS = DATASET.mapping()[0]\n",
    "ITEM_MAP_DS = DATASET.mapping()[2]\n",
    "ITEM_FEATURE_MAP_DS = DATASET.mapping()[3]\n",
    "\n",
    "# print(ITEM_FEATURE_MAP_DS)\n",
    "print(USER_MAP_DS)"
   ]
  },
  {
   "cell_type": "markdown",
   "id": "d64dec7b",
   "metadata": {},
   "source": [
    "## Luo LightFM-malli\n",
    "\n",
    "Kysymyksiä:\n",
    "1. Mitkä on sopivat hyperparametrit mallille?\n",
    "2. Erityisesti mikä on paras loss-funktio?\n",
    "3. Mitkä on parhaat hyperparametrit mallin sovittamiseen?"
   ]
  },
  {
   "cell_type": "code",
   "execution_count": 109,
   "id": "e625868c",
   "metadata": {},
   "outputs": [
    {
     "name": "stderr",
     "output_type": "stream",
     "text": [
      "Epoch: 100%|██████████| 1/1 [00:00<00:00,  2.98it/s]\n"
     ]
    },
    {
     "data": {
      "text/plain": [
       "<lightfm.lightfm.LightFM at 0x7f785923bc70>"
      ]
     },
     "execution_count": 109,
     "metadata": {},
     "output_type": "execute_result"
    }
   ],
   "source": [
    "MODEL = LightFM(loss='warp')\n",
    "\n",
    "MODEL.fit(INTERACTIONS_DS, item_features=ITEM_FEATURES_DS, epochs=1, verbose=True)"
   ]
  },
  {
   "cell_type": "markdown",
   "id": "c11700db",
   "metadata": {},
   "source": [
    "## Tulostetaan esimerkkisuosituksia"
   ]
  },
  {
   "cell_type": "code",
   "execution_count": 142,
   "id": "49e226a6",
   "metadata": {
    "scrolled": true
   },
   "outputs": [
    {
     "name": "stdout",
     "output_type": "stream",
     "text": [
      "User fe368d6c-ef4d-46c9-ac94-a22eff3ac1f3:\n",
      "Known positives:\n",
      "     business_id                         company_name industry_code  \\\n",
      "198     01591746               Vuoksen Kirjakauppa Oy         47610   \n",
      "244     11068254                       Rasnel-Hold Oy         68209   \n",
      "363     09304537              Parikkalan Autorahti Oy         49410   \n",
      "395     22370715                         Ice Power Oy         43220   \n",
      "568     17588365           Rakennusvalvonta Toikka Oy         71126   \n",
      "753     06961267                       Lepojoutsen Oy         55101   \n",
      "1073    25890126                Saimaan Työpalvelu Oy         78200   \n",
      "1172    24869536                              JORO OY         49410   \n",
      "1199    19031093  Asianajotoimisto Heikki Oikkonen Oy         69101   \n",
      "1484    21289202                  PTu Konsultointi Oy         95110   \n",
      "\n",
      "     location_region_code  \n",
      "198                  <NA>  \n",
      "244                  <NA>  \n",
      "363                    09  \n",
      "395                    09  \n",
      "568                    09  \n",
      "753                    09  \n",
      "1073                   09  \n",
      "1172                   09  \n",
      "1199                   09  \n",
      "1484                   09  \n",
      "\n",
      "\n",
      "\n",
      "Top hits:\n",
      "       business_id              company_name industry_code  \\\n",
      "34026     26257736               Karnomin Oy         56102   \n",
      "34025     26257736               Karnomin Oy         56102   \n",
      "85436     21654767           VP-Logistics Oy         49410   \n",
      "85435     21654767           VP-Logistics Oy         49410   \n",
      "25337     17965589  Lappeenrannan Energia Oy         35140   \n",
      "25338     17965589  Lappeenrannan Energia Oy         35140   \n",
      "73472     21969494                 M-Lift Oy         52219   \n",
      "73473     21969494                 M-Lift Oy         52219   \n",
      "107486    01621335                Flowrox Oy         28140   \n",
      "107485    01621335                Flowrox Oy         28140   \n",
      "\n",
      "       location_region_code    scores  \n",
      "34026                    09  5.050548  \n",
      "34025                    09  5.050548  \n",
      "85436                    09  4.025457  \n",
      "85435                    09  4.025457  \n",
      "25337                    09  3.509081  \n",
      "25338                    09  3.509081  \n",
      "73472                    09  2.589187  \n",
      "73473                    09  2.589187  \n",
      "107486                   09  2.427883  \n",
      "107485                   09  2.427883  \n"
     ]
    }
   ],
   "source": [
    "USER_ID = 'fe368d6c-ef4d-46c9-ac94-a22eff3ac1f3'\n",
    "\n",
    "known_positives = [interaction[1] for interaction in INTERACTIONS if interaction[0] == USER_ID]\n",
    "known_positives_df = COMPANIES_RAW.loc[COMPANIES_RAW['business_id'].isin(known_positives)]\n",
    "\n",
    "print(\"User %s:\" % USER_ID)\n",
    "print(\"Known positives:\")\n",
    "print(known_positives_df[['business_id', 'company_name', 'industry_code', 'location_region_code']].head(10))\n",
    "    \n",
    "print(\"\\n\\n\")\n",
    "\n",
    "user_id_ds = USER_MAP_DS[USER_ID]\n",
    "scores = MODEL.predict(user_id_ds, list(ITEM_MAP_DS.values()), item_features=ITEM_FEATURES_DS)\n",
    "\n",
    "scores_df = pd.DataFrame.from_records(zip(list(ITEM_MAP_DS.keys()), scores), columns=['business_id', 'scores'])\n",
    "merged_scores_df = pd.merge(scores_df, COMPANIES_RAW, on='business_id')\n",
    "\n",
    "print(\"Top hits:\")\n",
    "print(merged_scores_df[['business_id', 'company_name', 'industry_code', 'location_region_code', 'scores']]\n",
    "      .sort_values('scores', axis=0, ascending=False).head(10))"
   ]
  },
  {
   "cell_type": "markdown",
   "id": "978e477a",
   "metadata": {},
   "source": [
    "## Arvioidaan suositusten laatua"
   ]
  },
  {
   "cell_type": "code",
   "execution_count": 145,
   "id": "263e4d66",
   "metadata": {},
   "outputs": [],
   "source": [
    "(TRAIN, TEST) = random_train_test_split(INTERACTIONS_DS, test_percentage=0.2)"
   ]
  },
  {
   "cell_type": "code",
   "execution_count": null,
   "id": "17a241e2",
   "metadata": {},
   "outputs": [],
   "source": []
  }
 ],
 "metadata": {
  "kernelspec": {
   "display_name": "Python 3 (ipykernel)",
   "language": "python",
   "name": "python3"
  },
  "language_info": {
   "codemirror_mode": {
    "name": "ipython",
    "version": 3
   },
   "file_extension": ".py",
   "mimetype": "text/x-python",
   "name": "python",
   "nbconvert_exporter": "python",
   "pygments_lexer": "ipython3",
   "version": "3.9.6"
  }
 },
 "nbformat": 4,
 "nbformat_minor": 5
}
