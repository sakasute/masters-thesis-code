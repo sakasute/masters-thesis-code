{
 "cells": [
  {
   "cell_type": "markdown",
   "id": "8dc91af6",
   "metadata": {},
   "source": [
    "# Proto1\n",
    "\n",
    "Kysymyksiä:\n",
    "\n",
    "1. Tuottaako malli mitenkään järkeviä suosituksia?\n",
    "2. Warp vai bpr?\n",
    "3. Mitä tapahtuu, jos item_featuret jättää kokonaan pois?\n",
    "4. item_ ja user_user_identity_featuret? Päälle vai pois? (Tää sittenkin ehkä proto2:een)\n"
   ]
  },
  {
   "cell_type": "markdown",
   "id": "164a9ce6",
   "metadata": {},
   "source": [
    "## Importataan tarvittavat kirjastot"
   ]
  },
  {
   "cell_type": "code",
   "execution_count": 75,
   "id": "7b2d0241",
   "metadata": {},
   "outputs": [],
   "source": [
    "from lightfm import LightFM\n",
    "from lightfm.cross_validation import random_train_test_split\n",
    "from lightfm.evaluation import auc_score\n",
    "from lightfm.evaluation import precision_at_k\n",
    "from lightfm.evaluation import recall_at_k\n",
    "from lightfm.evaluation import reciprocal_rank\n",
    "from lightfm.data import Dataset\n",
    "\n",
    "import numpy as np\n",
    "import pandas as pd"
   ]
  },
  {
   "cell_type": "markdown",
   "id": "fb4fd9e0",
   "metadata": {},
   "source": [
    "## Määritetään halutut ominaisuudet yrityksille"
   ]
  },
  {
   "cell_type": "code",
   "execution_count": 17,
   "id": "0feafa4a",
   "metadata": {},
   "outputs": [],
   "source": [
    "SELECTED_COMPANY_FEATURES = ['location_region_code', 'industry_code']"
   ]
  },
  {
   "cell_type": "markdown",
   "id": "ba9a9743",
   "metadata": {},
   "source": [
    "## Ladataan raakadata yrityksistä"
   ]
  },
  {
   "cell_type": "code",
   "execution_count": 18,
   "id": "0fec7d48",
   "metadata": {},
   "outputs": [],
   "source": [
    "COMPANIES_RAW = pd \\\n",
    "        .read_csv('data/prod_data_companies_2021_08_22.csv',\n",
    "                  delimiter='\\t',\n",
    "                  na_values='(null)',\n",
    "                  dtype={\n",
    "                      'business_id': 'string',\n",
    "                      'company_name': 'string',\n",
    "                      'company_form': 'string',\n",
    "                      'company_form_code': 'string',\n",
    "                      'location_region': 'string',\n",
    "                      'location_region_code': 'string',\n",
    "                      'location_municipality': 'string',\n",
    "                      'location_municipality_code': 'string',\n",
    "                      'industry_code': 'string',\n",
    "                      'company_status': 'string',\n",
    "                      'company_status_code': 'string',\n",
    "                      'personnel_class': 'string'\n",
    "                  }\n",
    "                  )"
   ]
  },
  {
   "cell_type": "markdown",
   "id": "2eaffff8",
   "metadata": {},
   "source": [
    "## Käsitellään ja poimitaan halutut yritysdatat"
   ]
  },
  {
   "cell_type": "code",
   "execution_count": 19,
   "id": "069d3015",
   "metadata": {},
   "outputs": [
    {
     "name": "stdout",
     "output_type": "stream",
     "text": [
      "[('01423486', ['02', '68201']), ('15697971', ['01', '87302']), ('02373820', ['01', '88999']), ('02105471', ['19', '68201']), ('01556668', ['06', '68201']), ('01556668', ['06', '68201']), ('15697971', ['01', '87302']), ('02026351', ['01', '47730']), ('01165149', ['01', '68201']), ('01497530', ['07', '87301'])]\n"
     ]
    }
   ],
   "source": [
    "ITEM_IDS = list(COMPANIES_RAW['business_id'].values)\n",
    "\n",
    "# pitäisi varmaan prefiksoida koodit, jotta pysyvät uniikkeina, kun niitä lisätään\n",
    "item_feature_labels_tmp = [COMPANIES_RAW[feature].dropna().unique() for feature in SELECTED_COMPANY_FEATURES]\n",
    "\n",
    "ITEM_FEATURE_LABELS = [item for sublist in item_feature_labels_tmp for item in sublist]\n",
    "\n",
    "ITEM_FEATURES = [(company['business_id'], \n",
    "                  [company[feature] for feature in SELECTED_COMPANY_FEATURES if str(company[feature]) != '<NA>'])\n",
    "                     for company in COMPANIES_RAW.to_dict(orient='records')]\n",
    "\n",
    "print(ITEM_FEATURES[0:10])"
   ]
  },
  {
   "cell_type": "markdown",
   "id": "ac92e092",
   "metadata": {},
   "source": [
    "## Ladataan vuorovaikutusdata"
   ]
  },
  {
   "cell_type": "code",
   "execution_count": 20,
   "id": "ed920a56",
   "metadata": {},
   "outputs": [
    {
     "name": "stdout",
     "output_type": "stream",
     "text": [
      "(548198, 3)\n",
      "(346309, 3)\n"
     ]
    }
   ],
   "source": [
    "interactions_tmp = pd \\\n",
    "    .read_csv('data/interactions_2021_08_19.csv',\n",
    "             delimiter='\\t',\n",
    "             dtype={\n",
    "                 'group_id': 'string',\n",
    "                 'business_id': 'string',\n",
    "                 'owner': 'string'\n",
    "             })\n",
    "\n",
    "# Poistetaan vuorovaikutusdatasta sellaiset y-tunnukset, joita ei löydy kohteista\n",
    "INTERACTIONS_RAW = interactions_tmp[interactions_tmp.business_id.isin(ITEM_IDS)]\n",
    "\n",
    "print(interactions_tmp.shape)\n",
    "print(INTERACTIONS_RAW.shape)"
   ]
  },
  {
   "cell_type": "markdown",
   "id": "1a22cac3",
   "metadata": {},
   "source": [
    "## Käsitellään vuorovaikutusdata\n",
    "\n",
    "Toistaiseksi ainakin pidän ryhmää \"käyttäjänä\". Oletukseni on, että ryhmä yrityksiä on se taso, jolle suosituksia halutaan luoda."
   ]
  },
  {
   "cell_type": "code",
   "execution_count": 21,
   "id": "936f70b3",
   "metadata": {},
   "outputs": [
    {
     "name": "stdout",
     "output_type": "stream",
     "text": [
      "346309\n",
      "[('c2626398-faac-4ff3-b02d-cdc64b50cdaa', '01681709'), ('c2626398-faac-4ff3-b02d-cdc64b50cdaa', '15055514'), ('c2626398-faac-4ff3-b02d-cdc64b50cdaa', '01876143'), ('c2626398-faac-4ff3-b02d-cdc64b50cdaa', '01863991'), ('c2626398-faac-4ff3-b02d-cdc64b50cdaa', '05363070'), ('c2626398-faac-4ff3-b02d-cdc64b50cdaa', '01387534'), ('c2626398-faac-4ff3-b02d-cdc64b50cdaa', '01372818'), ('c2626398-faac-4ff3-b02d-cdc64b50cdaa', '18348689'), ('c2626398-faac-4ff3-b02d-cdc64b50cdaa', '01421229'), ('c2626398-faac-4ff3-b02d-cdc64b50cdaa', '01446661')]\n"
     ]
    }
   ],
   "source": [
    "USER_IDS = list(INTERACTIONS_RAW['group_id'].values.unique())\n",
    "\n",
    "INTERACTIONS = [(interaction['group_id'], interaction['business_id']) \n",
    "                for interaction in INTERACTIONS_RAW.to_dict(orient='records')]\n",
    "\n",
    "print(len(INTERACTIONS))\n",
    "print(INTERACTIONS[0:10])"
   ]
  },
  {
   "cell_type": "markdown",
   "id": "a87e61bf",
   "metadata": {},
   "source": [
    "## Luodaan LightFM:n ymmärtämä Dataset-olio\n",
    "\n",
    "Kysymyksiä:\n",
    "1. Tuleeko parempia tuloksia identity_featuret päällä vai poissa?\n",
    "2. Parempi normalisoinnin kanssa vai ilman?"
   ]
  },
  {
   "cell_type": "code",
   "execution_count": 22,
   "id": "6919ce90",
   "metadata": {},
   "outputs": [
    {
     "name": "stdout",
     "output_type": "stream",
     "text": [
      "{'c2626398-faac-4ff3-b02d-cdc64b50cdaa': 0, 'f0977af3-6923-4dbe-b553-1736c30803f6': 1, '19c2f8ca-916e-4a23-87dc-a185e1ca672d': 2, 'd87579d9-a2fb-48e7-adbe-3082633a93fb': 3, '2e04eb78-9845-49dd-8f58-31bbdc63340b': 4, '77a00cc6-9077-4339-b4c1-305dc88a9fc0': 5, '65ef0910-d1a7-458d-86c0-159d2b190e5b': 6, '68035d16-77f7-4767-bea7-472ea391973a': 7, 'a5c6ce2e-22ab-4871-bd72-e5da294b33cc': 8, 'e379a73d-ff66-4143-9603-f37f083a4b24': 9, '4b364551-1533-4758-b909-c5b95f3eabfd': 10, '00d04fee-2558-4354-9058-68c66e4bf0bc': 11, '286954d8-e3d8-4b27-b3a1-456d979d5f2a': 12, '8fdff56a-55e9-43a8-8b3a-8f7c15214d7f': 13, '22492a19-87ba-4da8-8d16-aa8fb8bb86ca': 14, '3b2c2dd7-ca83-41dd-8e33-204041db7851': 15, '3d1a4452-7594-4691-b651-34a82e5e92aa': 16, '86c8920e-3e18-4a3d-96d8-a15e74aec10b': 17, '7b303b54-74bc-49db-9308-981c52c2eb42': 18, 'fb0814c4-59e4-44d3-8b61-b145dd851366': 19, '37ba7e7f-a7e8-409a-ae45-faf419beade3': 20, '6c894b42-cbc6-4d18-8cf1-39ee91d2bf53': 21, 'd2f0e1f1-441a-422c-9a96-a9cae80627f8': 22, 'bcd75e86-c66c-4237-814d-b24ae420dbe1': 23, 'a6d7896b-746f-4ffc-964e-fc0ed232eefd': 24, '1542ca4d-c874-41d1-be1c-6a460d4772f8': 25, 'd32629a2-69eb-4745-bba1-9cd70bc36ae5': 26, '086c6b25-d9e9-42af-b797-1f7944d870a9': 27, '9c12c20c-b718-4195-a055-7b87ab78e338': 28, '41caf0ba-139d-44ea-9137-f01b5986e155': 29, 'ad7fcac8-4f94-48b4-84e3-e70e2d0350ad': 30, '66cdd608-8d79-4e26-ab32-35d39d472981': 31, '15883b9a-aa15-4ee3-a26b-d721ae33b68c': 32, '7dde6403-fb6b-4f02-b0b0-9bd3e29d56ad': 33, '4b7f1a15-4294-4312-b91f-f1638ac490b6': 34, 'ddb70591-57e8-4c45-bde0-07854cc3edb4': 35, 'a86f1987-3639-4b72-81bf-c4a823bd7a91': 36, '263cdfe8-7d60-45d6-afa7-489f9ff4331a': 37, 'ac8e2ec9-4a0e-42ee-ae2d-0b78122162ae': 38, '86f2ba2d-daeb-4449-b763-18e1d00105e5': 39, '80eb6bb4-c7eb-4a14-8050-7e2cef89b81a': 40, 'a08806bb-16d6-48e0-a079-7925ea581280': 41, '6eeb19e1-3fd8-4fa7-b5f1-5d2e407a0e39': 42, '534b1a06-2340-4f97-bc45-aa65ea8fc62e': 43, 'b641ec6d-b891-4f91-b5fc-2687c44d6cd6': 44, 'baf26fe4-2ca7-4ecc-bffe-5f23fd3f869a': 45, 'c06171bd-177d-445b-a863-a7e528e761e0': 46, 'fe368d6c-ef4d-46c9-ac94-a22eff3ac1f3': 47, 'e70c0f6c-002b-4edc-a55c-965c8a93cf34': 48, 'e6abe71d-85f7-4449-b545-35f3cf58e1da': 49, 'ae811a1c-a40d-4a29-8a84-7c8e1904c31b': 50, '006c5db9-bf29-426c-b345-4da8cb39b949': 51, '12e56897-8a03-473a-b72c-5529b8e054ff': 52, 'b156ff28-bb4f-4bc7-bca6-beee527c3316': 53, '98388c49-3dae-4182-b727-b8a00f25ba3d': 54, 'd6ceacfd-ea81-4a8c-8302-1d0d6259d468': 55, 'aba95922-c9a5-4e6a-91ca-3f500c49aa28': 56, '2dfab38c-ecf5-4811-8a66-f0949b495f61': 57, 'b8a5d6b2-7575-42b4-bc44-7d32e7b2a56a': 58, '0d957cba-c27a-41b7-9e56-790d0e5d4cd2': 59, 'e21cdbed-a01b-40fd-ba30-4ddd86fb8fc9': 60, '1bee73b8-5033-48a9-a4f7-395a78837197': 61, '23693ec1-a027-4963-899f-6009df1b3b15': 62, '9a68abab-5b5e-4ec4-8326-91d6c2b6880e': 63, 'd2a2b7e3-e28a-405c-804a-b13273605a95': 64, '13b8fa9f-39b1-4124-a31d-b14c8087557b': 65, '433bf6f5-c34d-474a-a0c8-ea652d70919c': 66, '99aca234-561b-4356-b89e-8c4359104f2a': 67, 'e3f7226b-f2fb-4ec8-b82c-0d0aa6a567b8': 68, '55a23c12-f6c4-4fdc-a8a1-a431930bbfc8': 69, '0f3faab6-e555-4f1a-91db-cf3b92402ad0': 70, '0d004087-2c7c-4997-8a39-c396a5575909': 71, 'b49e30ed-178d-4b69-bb4a-875b41db56e8': 72, '53dcca1a-f28d-427b-8293-7aaa8f1d9432': 73, '3f8072cf-deb1-46e8-a9fa-5b5e920756d7': 74, 'e3a04e48-904b-4c6e-bf6e-5fdee4020617': 75, 'e378ff48-4e0f-4f03-bc1f-0ab02da11ef4': 76, '5d4f1141-8251-4d57-9e6e-b46d5c91c4a1': 77, 'c4ae0c04-55bb-4b4f-918f-1d753d1985c0': 78, '7065f013-2b88-41be-9824-31f2a793ce98': 79, 'fd424bd4-5d61-434c-82d1-2287b8e1e035': 80, 'fdc0ef58-079c-4162-acd6-c735c42433a0': 81, 'f21e2795-9133-46e8-b133-b49c12acfd16': 82, '0349e531-fd5b-426f-bb9e-69ef945cb18c': 83, '74f3a4d1-a979-4b02-b8f7-1db085486684': 84, 'd7d9a977-b1b2-4108-9a08-db298176aef1': 85, 'a6a18338-2c32-472a-b48b-8d19abedea66': 86, '0846bbe2-3884-4900-a783-cc331d411a85': 87, 'aef75534-c6d4-440e-bd05-ad1c4380be51': 88, 'd46d229c-808e-4b46-bd75-f68665ba57e4': 89, '8a80f921-61a3-4c20-87a0-eb8465810f90': 90, 'bc16c24a-985a-430e-82c8-827e01faddc4': 91, 'b02be609-c075-4bb7-99a9-9ba10e7b6155': 92, '29b3d40e-0d90-4b0a-b0fd-c7ee5f5263fd': 93, '05b48a06-c47e-4cf7-a365-edab05550d04': 94, '14b6509d-0af9-45dc-a13a-446918645fb3': 95, '1317c074-9b11-4d7e-83b9-bfec2ef61217': 96, 'e1eec952-7e0e-42d7-950e-f0d0194e5705': 97, '839bb2b7-b1b6-46f2-9095-2449acd72490': 98, '1c955423-7e0b-4d17-a958-4dac0045417a': 99, 'e3986a51-0749-4502-ba37-aecc8d7047d2': 100, 'ef299ebd-8938-472c-8585-0b4332376cde': 101, 'ab601460-9b67-4dc3-92b0-bc84cb971ac2': 102, 'b803fcc2-e17b-498e-b217-4e4ec2cf9668': 103, '3641ab15-605e-4795-a52f-8e6b828e63b4': 104, '4d79299f-0903-445c-a2ca-50243c6af4a9': 105, '7de182de-a3ee-4da7-a9f6-57e0dcb1385d': 106, '47d767cf-7975-438b-8536-e8911eee7887': 107, '91fc7040-30e2-46a2-92c4-94129863ffdd': 108, 'fa843832-704b-4029-9fe3-65b37a48471c': 109, 'bdee7eb7-881f-453c-aaa4-3ae3efcfac01': 110, '99127812-d186-437b-94b8-7104ef64368e': 111, 'b9300b5c-5dc5-4b83-b88f-91648e774977': 112, 'd88a2fe4-0fdb-4915-b6fc-696d21ade025': 113, 'd935716e-ffda-4439-ae1f-705fc0756125': 114, '760f4bbb-f159-47d2-bff4-dd86a095d5d1': 115, 'ad8b10cc-5f5f-4620-a311-5148ad6fbb20': 116, '8c2bb7c9-9197-433c-8c05-6a549855ff86': 117, 'cb72b71c-3423-47d7-a124-e874d31de5ff': 118, '9ea4428b-5449-4e6f-b86d-7b2ebf869cb8': 119, '5275209c-a8eb-483e-8516-97c2c0f2f3e7': 120, '0b91cbe9-ebc3-47e3-a290-6d42cb70209d': 121, 'de4e3756-1589-4123-bba7-2f5849c07a17': 122, 'c9d0a43c-5f3a-402a-b683-9ab60e514814': 123, '72babfcf-97da-47d5-b47e-220d78a6ab70': 124, 'bd0961bc-0d7f-4354-8e37-a1bf4346356a': 125, '21e783d7-af64-4050-b722-14bd65a989ad': 126, '58fa8132-90b9-4ca3-bfcd-53100d0d0084': 127, '362fd62d-c4dd-4b55-abb2-d172053bb186': 128, 'a6442085-31e8-44ee-b54b-fd1537c9196f': 129, '6d5d2106-c7fe-427f-815b-32a421f31e3c': 130, '00884ea7-9343-40e9-b4b4-c6966d1881fd': 131, 'a5e8c312-4664-45ab-b277-8903c52c5dd7': 132, '9e9057de-0023-4b8c-977b-ab79d0a4aa40': 133, '403a37e4-ebdf-4744-a362-29e949be1a76': 134, 'a75ec063-bee3-401d-bd26-8f145d09ec5c': 135, 'f0d03a27-96cd-4349-b3e2-d7e86bab41b1': 136, '71730a3b-4093-47bd-b177-ee4d6bbbf035': 137, '2a8ec14e-17d4-42fb-ad0c-cfaf533048f2': 138, 'b1dcaacb-b50e-4e84-bfa3-5d78989394f2': 139, '837d3730-f45f-4603-9e73-5a8bb33094d8': 140, '55c05580-b0ab-4d49-88af-59527cfa9997': 141, '1de16deb-29cb-4882-84af-85dae2bc84c2': 142, 'd5bf757e-76b4-4cc2-a844-b2f74103b569': 143, '62b7655b-23a5-41f0-8fce-d428a693a4cd': 144, 'd48d5470-dc1f-45dc-9ada-c4597753637a': 145, '658416c6-fc87-480e-85f5-fdcd4506e303': 146, '2d35ae83-2371-49f6-a6cc-eeea66ee7ee5': 147, 'adc19da9-1748-48e6-95e0-0757111cbfbf': 148, 'dfb40580-2f1b-46a2-9302-d8e37d7c60e0': 149, 'a5a0e9e2-e50c-4172-b7cd-183b40a400c0': 150, 'e11db163-a063-40e3-af37-da17d1a41a64': 151, 'c04d719e-92b6-4d52-b962-ef155a48cc7a': 152, '4167d003-8cfd-4780-9476-c76f5f9297b5': 153, 'a886e0f7-e42a-4576-bb56-f9e03b67b148': 154, '366eb04b-a5cb-415d-8507-aeec82f21f6f': 155, '46e4b5c0-507d-4ba8-bcf1-44e3822b19e6': 156, '5a8d4a50-9543-42eb-8b45-df881fd0f357': 157, '6d4d1a1f-61b2-49bd-834f-ecb4e39a6b03': 158, 'b7646bc5-9be8-4d5d-b311-cd120d35ab18': 159, '2436542f-7d77-46c6-b51e-710a854acd6d': 160, 'bf3b93e2-4f40-45d7-8599-0fcb8482be5f': 161, '069f7173-c1b2-442d-8a0a-8f1a50c497a5': 162, '0d330046-8bb0-45ce-8375-59fe029d1836': 163, 'd2d3e26d-ecf5-4dbd-9248-2a957c26d813': 164, 'ee95fa52-ebe4-49a5-9db2-ced31880a447': 165, '914bab05-25f8-421a-a5b2-463037661cfe': 166, 'c8cf0ba0-be97-4501-b959-fa1bfec3d592': 167, '97076d3e-db38-47f9-b1ac-e9d284e6ba70': 168, 'b7445fc0-1c70-4855-9b2c-de2c08a79342': 169, '230a3a5a-82fe-4d6a-ae1c-35749db336ea': 170, 'e336e615-d20b-46ef-91ed-70a0639c1186': 171, '1d7fa202-91e9-4b1a-9a9f-cb57631b142c': 172, '7f78f080-ae26-493b-9775-bbdfa71b96c1': 173, 'c9d25ae6-f504-425c-a61a-f33b252f36f6': 174, '930cc6db-ff8d-4d8f-9b25-2ed9f21ca650': 175, '3473ae7f-c42f-47cc-89f1-55895e46aa4a': 176, '24e70810-314a-4e98-a6ab-000406f37924': 177, '0a2b1de2-8bd0-47e8-b8bc-9919f66c1e55': 178, '0bfce513-6c5c-4f4a-a5b8-e6510a72e8c2': 179, '0d520812-e5f1-44e4-b71a-e197e7a236b5': 180, '51581748-5a26-4330-87ed-a6c64cfb8643': 181, 'fbfb8483-8534-43b9-915c-f9ebe5c85976': 182, '2776f4dc-ba83-4964-93ae-573da12983f4': 183, 'c42fcd15-4cac-4324-8193-12bee7863cd5': 184, '4dc5ec73-19c1-47d5-8c2f-64d2024815d5': 185, '71a3e548-15ad-4b9b-89d6-8af4d4d42374': 186, 'e0db6613-f703-4fd5-88e1-aa79a6b8abce': 187, '7a80bbe0-0bd5-41f3-9651-e8b71c2a8208': 188, '6ab96b89-1057-40d2-9584-492ea6125643': 189, '67928aec-2cb2-4006-818b-5ef88c40fe56': 190, '639b5255-7382-4072-922a-4a7d5b8e5fd0': 191, 'd0f61376-cc31-416c-a958-791aab9e767f': 192, 'ce0c42c6-80f6-40a7-8567-e5d4bf4823a5': 193, '2ef67453-9336-48bb-acc6-2248b215cc46': 194, 'dc493aae-9877-404a-b8d3-bd7453ef0a2d': 195, 'da1b37e3-99d9-4e24-a9b8-46ac73411756': 196, 'a4845cbf-bb87-4f8f-b04a-64bf21fb718f': 197, 'cea4537f-3775-4d1d-b0ae-275dece1e29b': 198, '732d214d-6ea4-4d0b-a8e2-1fa4600ddfe8': 199, '9496f926-397b-48f2-b38f-fe216e0badc3': 200, '708a9d5a-2331-43cd-864b-b40f5adfec49': 201, 'c06d7ba2-ff2c-4b3a-acf2-2cb29bdb557f': 202, '8ee42553-e0ac-462f-8f75-295ad93aed92': 203, 'e2f12b17-f137-490f-a0e2-18f1bec684ce': 204, '13e35af9-b95e-43bf-9c63-b75e9ac44345': 205, '5b951ffd-ed26-481c-8d81-77dfa0ebc395': 206, '0e63af67-1bab-489c-aced-30a3828b1a37': 207, '7919850f-f9b2-4392-989a-d2df36884a47': 208, '36d2845c-0dc5-46f8-9930-c8f37af8373d': 209, '81f93855-06f8-44eb-b7af-d0ac23321df1': 210, '17a19357-403d-479b-a8e6-c1303babcdb9': 211, '14a3f974-1a5e-4c51-aab0-351ff5ce9257': 212, '28b15a43-b9d5-47ae-8e8d-bd6c01acd07f': 213, 'c5aa085a-76fa-45fd-8520-bee0f37607c3': 214, '10c87fd8-ae21-4a15-86d8-8c08cfe0c397': 215, 'ca117754-f010-403f-9df2-16d5b4249136': 216, 'befd0018-d1de-4800-9e0b-5195e09d459f': 217, '309bb462-7f66-4519-9a98-e0fa3e7691de': 218, 'bf500c39-46c0-45c3-9bbd-0443776b9cbf': 219, '217f1131-2f9d-4c1e-afa9-f0ae03b35e92': 220, '33fb3e06-41ab-4e57-a52c-f34ef4be131c': 221, '7a819ae7-60a5-4845-bb9a-8922d97212eb': 222, '569797de-e6f0-4901-b7ea-075626c77665': 223, 'a18e92d3-b8d6-4f3e-82ba-a85897bb7c69': 224, 'af26d6bc-5aaa-43a7-8365-20c71414f9a2': 225, '66aea578-682d-45de-a200-77fa79a8c5e7': 226, 'b390e35d-b625-46e7-b9a0-590ea0d62fb9': 227, 'b50ddd26-fa54-430f-9b3d-251762147ca9': 228, '7276e285-c92b-4686-acd0-af95eeb4fb46': 229, 'fa62f71f-8e27-435f-a649-c48aedf17a24': 230, 'fd1d17a5-191c-44cf-b159-9d57e2b29c48': 231, '7bf93235-31d0-4fae-bf0e-a9c0a73803c1': 232, 'f9d6d26d-0ed8-4955-8141-b289b205010e': 233, '59d00090-5a69-4c94-b72f-ed9ae797c791': 234, 'd78d0e06-f46f-435d-bfb5-0e60ba4a8cab': 235, '71a81235-7722-4ee0-8e93-7ccbd68b82f1': 236, '0cb84439-e6a5-4dca-9083-6106da6ff820': 237, 'be85c213-2a94-4500-a646-62ff00efc90d': 238, '72d81f4e-40b0-4c36-814a-d6f52439e325': 239, '3b89fd7c-bd90-44c8-99ae-ab04e34cf9f2': 240, 'ac014670-d3ba-46a8-9a83-5751976d8548': 241, '4b2403c0-8307-4941-b6a5-ca9daed59c79': 242, '71c0a2c4-f494-4ff4-8656-39163296249c': 243, '5ab90e44-6f56-4f35-a981-6ac02f27314a': 244, 'dd154adc-3abf-4894-80a5-7b0acc1e556f': 245, 'f628749f-25f1-47e1-bfea-b70b80619349': 246, '18daaa3f-7220-40ee-a61d-551c88c74a44': 247, 'e329c5ce-4ba5-4715-b722-fef4a993cc1b': 248, '5e3fcf7a-aa91-4c4d-82dc-d47e618c1561': 249, '57f5a6c4-d2d7-4132-a960-24fca6b3c792': 250, 'eab428c8-7cbe-46ef-aa2f-b39812df9711': 251, 'bf61746e-4785-4f76-a4cb-3d92c60ee520': 252, '4c8c5abb-bc0d-4f19-ae9c-dd32b3ac5c93': 253, '630006cd-289d-4a66-87c6-bc01fbba0c02': 254, 'e422cabf-fade-4412-9a3f-531db22463db': 255, 'f17d98ad-32c8-4850-9f12-054cd7bb4517': 256, '5aeec7df-4bcf-4a38-8189-a45e8aa39768': 257, '2115cf3e-3909-4610-8962-a83aa3869742': 258, '264805e3-ffab-4b19-a4f0-ce7c85c6fb2d': 259, 'dca5a0bf-56ed-4314-92c9-adb6d7f3108f': 260, 'c4ebce33-5a50-4d57-ab35-93773d7da6f3': 261, '8f8d1002-4df2-48ed-99e7-2cb5cebb2dc0': 262, '6525eedc-af5b-4115-9093-3af5ea2a42bb': 263, 'f0a8514a-af27-4766-8506-cfe8a854be5c': 264, 'ce47feab-4c9a-45c1-a2de-1a8079389ec9': 265, '36b0fa8c-c5b6-4b91-9963-a3c664b99405': 266, '0b643479-0b74-48e4-b6a0-0a8654ffa29b': 267, 'c0787352-242f-46c0-a3c9-ec6e6671e29e': 268, '46c3bb2b-e81c-4241-bc36-c8a05723ef85': 269, 'acd84aa9-0558-4db6-8d2f-7ede2ce01249': 270, 'b672eaae-5063-4089-aaab-93620e5564db': 271, '4f665b6a-04c0-4de4-ab2f-3083bd85d753': 272, '77c809ce-ab0d-4ab3-b910-2406c4d06302': 273, '07e975fd-8035-4a78-bbce-76f0fc6331ce': 274, '4243a48a-fcd7-48f1-928e-10d4e81ea351': 275, '27b02deb-6eba-48b6-98a9-c42d6c90d7f6': 276, 'a37740aa-bfa7-4692-8a83-702c28ff5e29': 277, '069e2f77-6662-4faa-b2b6-d71133a5b638': 278, '78ec54c7-adf6-4d97-ab10-0d6e10bbb0bf': 279, '2cda6184-43bc-4fbb-80f1-b1dd2842b509': 280, 'f54d7379-ba6f-463a-8e41-77b8cdad7f97': 281, '5ff66f04-6959-45ef-9b2b-34094c973625': 282, 'a4a3262b-c9b3-4cca-a75c-823d96ddffb0': 283, 'a7910778-eb66-4b2f-aaba-e468a7e11860': 284, 'd0761513-e626-4b7c-9ec1-9c9d10217345': 285, 'bf131eb8-e70f-47d6-a5ac-3686a22f8f34': 286, '90503c77-4c46-4d08-a07f-b6ea5ff478be': 287, '008beda4-3bb9-46ae-a93f-b6b7fba8cc51': 288, 'a5e64eab-b72d-4a15-bc26-8d9538c0a023': 289, '505ecd48-824c-4e5c-9be5-a17c020ca069': 290, 'bd20b8b9-9222-4ab2-ae8f-e7d10053301f': 291, 'edcf94ce-419c-425c-b2db-d81349a6c4d5': 292, '21c29637-e623-4bf9-a0b5-104b11b4de93': 293, '54096a38-29c0-4e87-85d2-322db61ed396': 294, '4eff8760-8d34-408d-95fe-576fff445443': 295, '19aec233-7609-4f62-86ec-f7317fcecc08': 296, 'fff86df8-bbb7-4da1-8825-e55e09c1a58c': 297, 'b7aebcd4-6ed3-41f1-b7fe-3b1bcbb07cd8': 298, 'ac95cee0-70f7-4fe8-9f3f-5a71ceded804': 299, '7792b4f5-e66e-4aaa-a0f8-0cd9f63c6319': 300, 'f3b98c9d-a189-4df7-904f-c01eb133b4b5': 301, 'f287b1ef-f694-4fb7-afb3-b9e821d44ead': 302, 'f13d1695-a92d-4762-b0dc-0c6096e29dc5': 303, '0d754547-d366-4b4a-90f9-fb1809932f01': 304, '15d596e3-709e-482b-8f99-934b8db01fbc': 305, 'd86d42e9-f3f8-4e2e-8c29-d1208cb6a59e': 306, 'ee85447f-7c58-448f-817b-c741bb091262': 307, '6728184b-b766-4896-8977-8e3da1a1a1bb': 308, '649e1e5f-4a20-42d7-ab54-a4f115f7da14': 309, '8d091e43-06a1-4980-b2a6-87269d6b9f32': 310, '667e1fdf-e60f-4207-8f64-ad3f43a91f97': 311, 'd514154c-9611-460c-b121-5f2acbf2f8d5': 312, '5b60fd89-ae44-4876-b66b-cffb77f96db1': 313, '6dceac2f-9ef9-41fd-8990-497e3738c4ea': 314, 'c51fc9a9-4908-46fc-8151-2744ae99b78a': 315, 'a0853dee-6eb2-4085-946e-31dabc80313e': 316, 'b6ebd732-dd0c-4cff-b3e2-37af81fffcab': 317, '98b3156c-e1e2-462a-a4d8-01576d1946a7': 318, '48c09230-3511-4fa8-a681-12d386c876a2': 319, '22f12355-3812-423a-86f0-1c3a23c8b6fb': 320, 'e71f4e6b-2380-44d8-9b2a-75806514bb61': 321, '71025106-8b0d-4c11-ad92-4cce206530ba': 322, '9062385a-2b6c-4458-9f63-6bdf7da7a292': 323, '02b83b99-65f0-4271-8eca-7799d5020b9e': 324, 'e2c79748-5f3b-4590-8c6c-d8475fefe4aa': 325, 'faa960af-fbfe-4b67-80b2-8f65e0499156': 326, 'b56007f2-fbfd-4996-a66c-35e1950d3aae': 327, '17e6cf51-f127-42b3-a7ee-58ad5539c968': 328, 'a03415b3-d0fd-4498-811a-3b74f4c35bc5': 329, 'e73eac2a-5ea7-4877-b4d7-fe63b1431b7a': 330, 'dc7cdd5f-1eac-44cb-8453-f603dddb9fd0': 331, 'bc2d4b27-a5de-4f47-8896-575be8b81c27': 332, '334bfda4-2f82-4fe5-b104-23b8bf7d3e04': 333, '06f130a6-1c75-4529-aeae-aaa8bfbb1191': 334, 'a139a0e8-d3f5-441a-91dc-956e466cba21': 335, '8d58e352-de00-4ea2-828a-bdfa1c2c8af0': 336, '0b83f861-6ce9-4965-9230-6be98df522c4': 337, 'c325c0f9-9fc3-40cf-8514-badbde98ca90': 338, 'e076a968-74b0-4675-b390-76dc670034a1': 339, 'ca304887-4644-44a2-9b17-1700e3d67952': 340, '3cc3ae59-1131-47f1-81e7-cd4eb86b6cdc': 341, 'ec7325ee-de8f-46d0-9be4-bf3bee92201f': 342, 'e72effcb-5b36-4046-acc9-638e65be4ea9': 343, 'd6d346fc-5273-4560-86d1-c7e29058dc6f': 344, 'b24a4615-f5b6-4943-8056-1e095241fb19': 345, 'de137f7f-2315-4cd4-8a74-cf23de51afe0': 346, '1d7cb656-904e-4ce9-89e0-1273ca1fb6c7': 347, '26b4db21-c7be-4a29-bdba-995f0c3f31ca': 348, 'e3c2296b-7def-4515-b6c3-9a6eb84863ca': 349, '6aa87d41-6f86-4865-80f5-909afab63ce0': 350, '180db36e-1087-421d-adea-f410fa79b92f': 351, '8e0dfd5c-a1de-44f4-9819-0d90b4602c08': 352, '10a6b511-9259-4caa-9bcc-6a9749ee36fa': 353, 'd9096899-54dc-4a67-9801-56d09df75fa4': 354, '59d37193-be58-42a3-b3bb-9ea838ce5bb5': 355, '10cc181b-a8e5-4676-ada1-d400222031cb': 356, '385ab4b6-0f7b-4f7c-ac46-c87187d123e6': 357, '4f15c419-b121-4173-8631-5ebec156feb9': 358, 'ea6b2edf-ea17-4982-8957-2790aa34c94e': 359, '3454c364-9cb5-4298-9fe1-6b815343f025': 360, '412bd67b-47d1-4303-8a32-2fee822287da': 361, '086d2bd0-a036-49a7-af96-55a4eba51243': 362, 'bd9f1b71-3c55-476c-9fdb-89dabc144ce4': 363, '3abf2bd9-60c9-421b-9189-f410d8a12ee3': 364, 'bee65324-48a2-427d-a241-0f5b2d4e7fa2': 365, '9c68ff15-508b-4704-9acb-abd3608fde9f': 366, '7c8e7de3-b709-4918-879c-ffbe115ef326': 367, 'b86ab2d5-07bf-4748-91ff-d231cfa42a8a': 368, 'c6121738-e9a6-42eb-b05e-e3eaaf579f0d': 369, '18ae5a03-22be-4542-9295-57bbd66ffdb6': 370, '789f161a-9225-47d2-a38c-20e2253c94db': 371, 'ff6aac31-4039-471d-8b4f-890988b9bda7': 372, '5afc4bd2-2cba-454a-8276-802aaefca4d0': 373, 'a4fb5904-1430-4e85-b6b4-b5c07e1cad97': 374, 'a683b1bd-cc26-417f-bd7e-66aaafa03be3': 375, '1176bbd4-163a-4ae7-85ef-e765c36df80d': 376, '218c0bdc-0986-4c0e-ba48-4b79090a6b1f': 377, 'd90955d7-3cfb-4ee1-9ab3-5151e250a464': 378, '24149721-9fe0-45d6-b8ee-3360032e56f9': 379, 'f3d689f8-26bc-4f58-82a4-1225e648e3c8': 380, '60ecc926-5a13-4e63-9145-7b5d4d6dab1e': 381, '7955f16a-2166-4daf-ad29-2207f71a561d': 382, '6273a5b0-20cd-40bc-b257-57b471f1875a': 383, 'e8db41d4-167d-45d7-a931-490c38aedc25': 384, 'c529b4c0-e535-4039-880d-34b6faaaf4d3': 385, 'b43455ee-1ddd-43c2-969e-ca30873a45e5': 386, '45c19d7e-5dce-4026-aa27-e0e0c041b729': 387, 'f98ec7f4-bf15-4323-b1df-f80c0491e5ae': 388, '1f9faf84-3381-4c8f-b02c-b6ee0de98afa': 389, 'a5901ebd-670f-44d2-bfa6-02cedbdc3bf8': 390, 'bb46786d-3e6a-40d8-8e86-200f27323980': 391, '3b0c57b5-143d-4d8f-b777-1c4438abf263': 392, '183d0bf0-95d4-4524-88b8-df4b2c6145c8': 393, 'b454d688-799a-4192-9562-304d41b14ad3': 394, '0963a7b7-9b24-455e-a161-1f2de9b27032': 395, '8a043c40-6344-4d64-a321-b77a5823f6c1': 396, 'c1e8c713-fc54-4afc-8782-0b24308bc890': 397, 'bc7766d7-46ea-4805-9417-5c0d7933bac0': 398, '7a7a616a-5edf-4522-958c-d717495bf694': 399, '7a05f050-5b83-4ec4-b913-8745c5d2bc6f': 400, '20e2d0ab-d7a7-4747-91c1-123670d63990': 401, '75aac101-fb72-403f-b283-58f93349eef1': 402, '1c72b57d-50b9-4e8f-b8e2-cb35b3c74a27': 403, '8cc3ac57-323d-4a42-bfe0-f7d5ff40be2b': 404, '77df5074-c3ff-4059-a3a7-feaf8cd75c69': 405, '0d793fee-74e3-4791-8daf-d20666280856': 406, '8ca4aa03-1143-4e73-b0f5-b065649123f8': 407, '43eb015f-8130-4dcb-b43f-0caa01d4261d': 408, '8cfe33a4-1db0-41a1-be8b-acc8c55205ce': 409, '1fdf0da9-225f-4c95-b14c-a713085678fc': 410, '3cbd87cf-2a52-4af4-a167-a92d4d0bc011': 411, '49013f9b-998c-47d9-8c15-ce27f3ab0f8f': 412, '9179c323-f991-44f8-bada-0a67ae2d53a4': 413, 'a4e3b7fa-0aa2-4c47-a009-db422e17f2e3': 414, '73694bfe-f7e1-4d1d-a19c-ac66b175473a': 415, 'f9d9452e-b4eb-43f3-9249-6956c8e24d2b': 416, '7f71c73d-830c-4d51-9999-95510eb26b89': 417, '12d25a39-24b8-42f7-bdf2-51166c92a9ae': 418, '069d604d-2df3-4999-bfd6-2a7139a1ed86': 419, '187e7150-040f-4ba0-aafb-66052ab46e91': 420, '546e7339-4f31-4cb6-bcdd-5e2884cb7a0a': 421, 'a3282727-171e-4143-bbd9-f0ae15cfcc05': 422, '2c61fc64-38df-4467-88bb-3c09c4696fb4': 423, '990a84eb-10cf-4587-8668-b3964dc1343e': 424, '96a54081-d0a6-4822-996f-bbf03584afc8': 425, '242f9d6d-127c-46b7-9308-11b8bd6bbf72': 426, 'f2acfca4-2f88-417b-9cff-1161caf9841f': 427, '4b54ab03-2af5-4092-be74-0f4898396a76': 428, '5042b37a-c064-4a36-a576-e96cd40ca1ce': 429, 'd09db6f2-65d6-4167-9066-d814a2af7c5f': 430, 'ecd8d192-7cdb-4d3b-8da0-12b7bf17c671': 431, '8fe6bcbc-e5d5-4cf7-b074-b6b4e3b2d123': 432, '459fa299-1bfb-41f9-bba7-53a2a535074e': 433, 'b5409be7-20f9-49a7-9113-d2727ef71ee4': 434, '61432bc5-b31a-4c03-9b20-50e6a80ac1b8': 435, 'ab6811df-3ba5-47ef-9340-228d90204e1d': 436, '4fbe7488-d9a5-4b80-9bc9-04dc490852c7': 437, '97c6f0c7-4b57-4632-bc2b-19d7f3f247e7': 438, '31503959-943a-4081-abcc-dc80e5cb0402': 439, '5b576e5c-3a66-42e7-8d2c-833f569a5479': 440, '2e2fa243-2bd8-4868-a5fa-49eef53ea52c': 441, 'd95fccf1-8e2b-4534-bf84-474ddb1fd472': 442, '87db4462-e28e-450a-abe8-280303cac314': 443, 'fc71a3cb-1e86-47cb-b5f5-ee9db7729a53': 444, '68d8d878-c021-4824-ae5a-00b9979b9c7b': 445, '00f65ef9-fc08-48c0-a885-5a54fa1f84d8': 446, 'b35c7908-24fe-44a9-8a60-b7110a536617': 447, 'fadc92f6-f3f2-46dd-a767-c86a0a171c9a': 448, 'cd6cc61e-cb80-4ad1-931e-56d43b3cff69': 449, '87ca67fb-56f0-43c1-832d-e1380683a9ce': 450, '15f81ddb-3153-4036-a1b0-3185181cdd8a': 451, 'fd5aa662-6391-48a3-b352-ccec657ad794': 452, 'a41e7848-30b5-46b2-a48e-5e8bb7c0d4e1': 453, '1486a974-4f55-45bd-9061-7d998bd99754': 454, '82cc4043-ab9c-4c28-85ab-751742e7152c': 455, '75a3db44-d216-48a8-a619-a9bbdb749f78': 456, '1ef964fc-42a6-40f0-99b0-43e099d5a215': 457, 'dffc947c-7e59-478b-bed0-562acc6b61cd': 458, '37a02f0e-1057-4716-bfcf-8553e2848b8b': 459, '5a6d864f-25c8-48c6-82bf-a93376cb15ef': 460, '2668a960-72f7-4877-a994-2b4212e59b7d': 461, '5386b9ad-271c-42b7-b9fd-cbdcc22b399d': 462, 'c1918c34-a103-49ff-a801-44b8f106e351': 463, '755d7e7e-2a77-417a-8ad7-1798ba5297c1': 464, '44d65117-6d30-48f0-8170-0f3e3850c78b': 465, '2fbb9684-ef0c-4501-9e49-5db6ee6b64ff': 466, 'a7220a55-5927-4a42-b09b-d5085efb53fd': 467, '0dba7def-f915-4724-9e3a-52d4017da5b6': 468, '8d03eab6-543b-4f69-9155-2701c6598d24': 469, '4161edd2-b6fb-4544-93de-2ebf8ea6f977': 470, 'c94ac63d-c777-43e9-a2f7-e25b1a8ff388': 471, '4b474ead-0b2b-417f-9d06-5e0208413924': 472, '79a44251-dda9-4960-9005-cfcd43f33305': 473, '17e4ccf9-30f3-4f99-a3d5-4193f0526bba': 474, '2a0fcbcb-61da-41dd-8875-8503b1384f53': 475, '83761759-58a0-4964-8bde-991b558b5e50': 476, 'e5857774-bd8a-4499-80c4-dfb3c9902b49': 477, '66c77692-2cb6-4655-9082-d02800a5f9ff': 478, '14b18f99-855c-4f48-89bf-8822819106af': 479, 'acedc6dc-d7de-437f-b2dd-1e935788bebf': 480, '43c74629-b69b-4772-8163-98a0c3c8264d': 481, '1a32a02c-7986-4e31-9efd-8030836ec5b5': 482, 'e0d5d329-c324-40c6-bdec-81af24da9093': 483, '34579763-f17b-4247-a2b7-aad54909e5fe': 484, 'c58c2177-19d1-413d-9e63-fe0d9356e96f': 485, '505fc9f1-cafd-4450-9994-7be023615993': 486, '46bd74cb-0388-448e-a462-9b53b0da776a': 487, '9d6899c6-40eb-4a35-b7c3-e4acac723609': 488, '28752604-97c3-4b5a-880d-f375044a2e6a': 489, '47443ea0-6192-4755-bbf2-781fd957e57b': 490, '18ed9601-e0af-4101-9227-53db452be336': 491, '21fdd59c-8440-4685-be5e-965fbb47376c': 492, 'a0dc7027-1663-4b23-b099-f795b0bf302a': 493, '82d88fa7-27af-4e2b-a28b-6f2b6a42f07e': 494, '59ff6ad4-ee08-4a15-b897-adb71422ceeb': 495, 'd19213dc-b9fc-44a6-b2ac-e9b26fbef330': 496, '9af1acea-ddc9-4e0a-a9d1-ec1194c46ac6': 497, '8f71a9af-1bde-4e6d-86bd-cef27afbdc6d': 498, '75ac280e-68d4-45b7-97f7-7e60d41e72c8': 499, '4b21df61-f48a-4338-85e7-40900424e4f5': 500, 'b49a15d3-f813-4eb4-8fa7-14bdb60f441f': 501, '17a6ac4d-1741-4678-b882-d6b6d761c52b': 502, 'f15f19c2-c1f3-45af-bed3-37f5852fa28a': 503, 'a9631118-6fcb-4c27-88f9-592ab944f525': 504, '25dd5e08-2661-451c-857f-c6ee9d7f6c77': 505, 'fe9731c2-7f54-461a-b939-336f83cd805e': 506, '9f057da7-08a0-45d2-9800-e6909f9d18be': 507, 'f8951000-0e5a-4a74-8d6d-6b5f72538590': 508, '7dbfb335-5ed0-42a8-81d2-36e5e1b7da85': 509, '7ffef073-1bea-46b7-af6d-ec4c1bfb1948': 510, '93c2b76c-23a1-4fde-a09a-8ec42061b002': 511, '0fca9952-6107-41a4-809b-39e04c06981e': 512, '54d61cf8-fd16-4393-b5f2-7df3b87a7361': 513, '34e1970d-53f9-4db5-aeea-681359abe0a2': 514, 'f58e10bc-3114-43fc-bba9-592b6f2bdb2a': 515, '8d6a6aa6-c0d6-4ba0-8761-dde0933b7a06': 516, '9b2842e0-05f5-4072-8d01-e5a9f1714bed': 517, '79703d48-0605-4d9f-83f0-6be2c2b1bb9d': 518, 'debe28a1-2ef2-40eb-8f4c-f1a401070064': 519, '90799f58-5c76-4418-b506-a3c9b39577b5': 520, '02dca6a2-f795-4218-97b5-1c8b648d873f': 521, '8454786c-e3e9-46a3-888f-b0aa9adcca1d': 522, '15399c5f-7e97-4e26-895f-0da17a8632fe': 523, '1d95c42a-9959-41b2-8fa1-1bf184fd1c8f': 524, 'd42d3242-0c93-43ef-bc62-0fbdd2c8caf7': 525, '1f572260-6bc7-45d4-987e-5356bec7ec8a': 526, '1c11d7eb-d251-4dc7-a2ab-162547bfe44c': 527, '792d5737-dda6-42c8-a9fe-05d56a05a80f': 528, '09f63617-267b-40fd-b89e-9f74da573dcd': 529, 'aec1682e-91f1-4148-bcab-a198475d0939': 530, '0aa9ff7f-f3ee-42ed-86bd-d9413c544439': 531, 'ef851721-0fb4-4904-ad37-3c4e32c28915': 532, '674cb4db-db3d-45a2-b189-2d042b167be0': 533, 'c4ba11b4-1098-48d6-b9ff-681718d8b591': 534, 'f763c5d7-6fd8-40e4-95ab-378dc02a9836': 535, '233b3b27-c50e-40c6-84c7-7d383b3194b5': 536, '48d62c72-cfcb-49f9-af57-9058b9571487': 537, 'a8324b1c-a149-400c-9cbc-19949b35bf4a': 538, '316cda89-9b78-47f3-bf60-a64900f9a27c': 539, '1db86eaa-42c7-470a-9507-6a0ec6a817b7': 540, '358219b4-86b7-49cf-8875-f866505c01bb': 541, 'd78eb22d-ea49-4356-8d29-cbbc67284ad6': 542, '51d853d6-9d0e-4cb3-a583-30aa58371dd6': 543, '7845ca23-d3f9-4996-a0cd-9c36efbe33a2': 544, '890d0abe-9bc5-4125-bdd2-aa6c43807aab': 545, 'dc9213e7-cf38-44dc-869c-afb557c5b566': 546, '57237f3b-dce7-4a5a-a03b-c0dfccc1f6f1': 547, '91d7bab1-390a-4352-960a-10623495d5f5': 548, 'd4e174d5-2575-4bbb-9409-ae4140d1899a': 549, '3e9dd356-2b21-45ae-9ee4-7cd6cc122fe1': 550, '52bebede-6ec3-4abd-ac0d-f92c4309dcf9': 551, 'ad150866-5378-48b4-9533-4272ae43bd92': 552, '8815722a-ce2c-47a1-89e8-cdcd79987875': 553, 'a0cd2bb7-8434-48ef-a452-bef532cec47b': 554, 'a3ea2405-dc60-4980-ae4e-38f707185a87': 555, '9f4a103f-c9f7-4154-93f9-801e797b5af4': 556, 'b4274e7d-115c-454e-8803-5c4a6a355c06': 557, 'b1d60bd6-eabc-4e6d-b878-60eacb8dad20': 558, '840bdfc7-a8a9-4fca-9a09-aa204f83a611': 559, '3ae4e371-1ae4-41e2-8481-db75574cc502': 560, '23879706-efb4-414c-b2df-fa330f106488': 561, 'c52d6d15-aa6b-4054-ad1c-5f33f2c85a8c': 562, '30b8092d-67f4-43a7-9c5c-26a5bea12db0': 563, 'f9a46571-82c7-4f18-84b2-84a17694fcd3': 564, '7b37176f-b26d-49ec-b605-652be32b7d5f': 565, '43eb29e4-e9ca-416f-b7d6-0f450e0a1e0f': 566, 'f6961d55-15b2-47d8-b488-c9e200e84b8a': 567, '0ff8d05e-8ae6-462f-b7b0-755bc3253ae1': 568, '72a6e24f-6bbc-4aa2-a553-6e926dec4ba3': 569, '1c8228d2-71c7-41e0-84a1-8f519a068f5e': 570, '5911f9f5-e014-4954-b5d6-a8e1f78598fa': 571, '20fab304-ffe8-4da5-95e7-03031c9bc315': 572, 'd383c62a-618e-431b-8c97-cb6114aacff4': 573, '9a94117e-ba21-494b-9554-8f38bb32a6da': 574, 'fa802419-49b1-4fe9-865a-f31003a17774': 575, 'a2102076-3a55-45b7-a56f-46dc547c61f7': 576, '36b86b61-fd2b-495c-aaaf-f94218482676': 577, '83006d95-79d3-46d4-8cae-2dbe2274a243': 578, 'c2f30f95-7fd2-4f25-ba3e-2ea64d8609eb': 579, '90e58eed-2721-4708-bd38-17a7b6753ef1': 580, '738344cc-135e-455f-9b0b-2c8e44ef7746': 581, 'fca5f499-e391-4ec6-bf45-b35eceefeb6f': 582, '0d5eb155-e44f-4d36-9731-d4ec65c650f6': 583, 'dc3c2ad3-1a6d-46ba-9df8-b5640ffeaff7': 584, 'bfa9879d-5221-447e-8193-cc81b69e706c': 585, '29f0263f-093e-40e4-9fd3-648121b8878e': 586, 'e1cf1fef-fc4f-405f-875b-c2752aab256b': 587, '1f1dc179-fb01-46bd-b54b-8ab1df7d5526': 588, '8eb7b017-ec3b-437a-9a46-a47a3d6dd9e7': 589, 'c8811f43-50b0-4054-ae8e-9a07fb74dad5': 590, 'f4970295-5fae-4b52-a5f1-6a3c5a3ecc70': 591, 'f6d5b824-5eec-478c-8e31-da4c66452468': 592, 'c4df9d6f-9897-472d-a045-723aaea7ab52': 593, '7623c83e-be73-493c-93e0-dd9a81cd928d': 594, '8d212c83-beed-4c73-8a4c-20fb46b95e03': 595, '4ce63e61-8be5-4ed1-ae68-85a42347590b': 596, '5848478a-9411-4245-8d4a-6e1c97f09371': 597, 'ab98342e-74d7-4588-9209-4a4298cbd17f': 598, '0d16e382-d3ba-4a52-99cb-902e339cb7f4': 599, 'b8157bb2-5c0d-4d13-a1a6-8edcd2f32ec5': 600, 'e94137eb-5b82-4fba-aee5-6bb7844b666d': 601, 'ecd089d6-152d-41ae-a8bb-abf73a509319': 602, '8f4f9883-8670-46ef-8259-a4a3b8a869d3': 603, 'bf9fb5ba-4ffe-4c80-9b0b-472016d63f71': 604, '285342b0-a5a6-459b-bec1-0173842252ac': 605, 'f461dada-d026-4b51-b5aa-e0ec66aa6ef9': 606, 'ec5c4cc1-1dfd-4ff8-87db-faa74f1013fe': 607, '1296de81-73a1-413f-ad45-4b44573cd801': 608, 'e9702b92-0db8-4467-a685-9fd18256c51a': 609, 'f1e25d7f-05f8-4ddb-9dd4-4251e07de3bc': 610, '062d7abe-4339-4da1-94ce-965bedfb1ae7': 611, '09a88a0c-6e6d-4d83-ae07-7df92adeb381': 612, 'ad1f980e-a364-4821-8c6f-bfc546b2bb64': 613, 'dbb75826-0f05-4fed-be8c-5d3098c6fd8b': 614, '9bc9483c-e31e-453a-84c9-e8e761438057': 615, 'cb863768-16ae-4844-a09d-32ab31c20cf5': 616, '6efdd2e7-7de8-4a5a-b1e0-1d1b5a281a64': 617, '30b4ff8c-453c-4bc4-bcd9-d2b141b9dd55': 618, '8ed433f3-79a6-4380-ac3e-193c9b4a0e5f': 619, 'ec5b017c-a343-42a7-a3f9-51f9570def7d': 620, 'cf1e93fe-2744-422d-bf88-55996eaa1dfa': 621, '77d4e89d-0975-43f2-93ef-8ce69286d073': 622, '2d8f544e-838a-40a8-aa60-9f0611aa79fe': 623, 'dce919c8-f794-4ff0-9284-0051bb118b55': 624, 'e79a1fab-718d-4932-a1e9-8b325aea5179': 625, 'f1a59fd5-51c3-41cf-9d36-59f1cb8abe4f': 626, '513421ad-69fd-42ad-ad39-e9099743725c': 627, 'd9c110ed-0a9b-47e5-9f30-4f9ee3f00f2a': 628, 'd844913a-aec3-4c96-9fc1-0de82c36936a': 629, 'd153571c-d307-4742-b070-c1436ba6294c': 630, 'ed38033d-3240-42c4-b598-a978c7b4a4c2': 631, '7cce254c-665e-48cd-a6c4-d69780de47a4': 632, '5ef5a75a-4201-4564-8db9-e1a9ce3d9d41': 633, 'e7cc3211-1ef4-4ef9-be0d-19e8b892cd46': 634, '1bfe6e16-61c9-462c-a8d1-5e59b1c341a3': 635, '8be8a780-8aad-497c-a59d-6a8c7314c86c': 636, '07226da6-abea-47e5-af3c-73632f70765f': 637, 'fa55b582-58e8-41d7-8759-3caf295f4e5e': 638, '3a597ce6-855b-422f-8bf2-528cdf760bd2': 639, 'c44ce233-c981-486a-8c76-41875afc4f95': 640, 'e201bbd6-c3d6-4cc9-8e67-cebb8a75d14b': 641, 'c87ad505-71eb-4d90-a570-3716113c38dd': 642, '9983f8a1-008a-46be-a51f-777a333e3a0d': 643, 'a20ca6b0-f787-408d-97d4-cd9bd9b9bc43': 644, '63b085d3-aeba-4843-bfda-4057195e57d3': 645, 'abfc51d4-f6dd-4f7a-99ce-62da744c9c1c': 646, '4be31111-9063-4c63-99fd-e0f1c1803c96': 647, '12aa937d-8d40-4719-b088-fd4f2bdfcb24': 648, '2676b06e-4a02-4da5-a7cd-41ff9ba620f1': 649, 'ccb6a506-bd49-4c84-b1c1-d1202609fe85': 650, 'd432db09-dd71-420b-be6d-206bcec4820d': 651, '439ffbb5-9c11-4acb-9be2-6f11a54ee207': 652, 'b5454fc9-bff0-4f04-afd5-da6dd1725767': 653, '137b1249-c338-40fd-a396-b89085fe6a63': 654, '72d0b6f2-1cfe-47bb-b2a4-db3ec9f4b25c': 655, '00ea0833-2ce9-42fa-a81e-c8a3828c0788': 656, '9309f14f-b23b-4d74-977d-dde89726f868': 657, '8fbac829-e4dd-4c23-bf9d-bc94ccaf20e2': 658, 'aafc1ed2-c332-4b6b-b760-c4fd151f6fa3': 659, '9992fdcc-595d-45ff-a557-3d54a19f1786': 660, 'df93dab9-e5d6-4c89-b281-93692b26f685': 661, 'e1fb9c05-35eb-4466-a647-04327bfb8f08': 662, '1924b16e-d0d0-4b00-8006-fe321725228d': 663, 'a042e6f5-8842-416a-8d75-52fe234cef48': 664, '286b5cad-037c-4704-a974-cb60d8656416': 665, 'c63ca5c6-4abe-4df0-82d0-569f63638d74': 666, '01a963d4-410e-4931-b0dc-a77ec4e3c86b': 667, '62cea030-555e-4146-b062-1dbf494d7e17': 668, 'f22c8667-9c6e-4707-9a00-bd4a0b6dc420': 669, '3dd03df3-5d7a-4c88-a5b2-8e1d9adea63f': 670, 'bcbb33d3-bee2-4972-ace8-4096e38fa38e': 671, '91ac205a-8071-4f25-89ae-47cb9465d6d8': 672, 'bd6aa74f-4dd3-47fc-9ca2-a2677fb1bcaa': 673, '5ef9f4e5-bf2a-46a4-8448-8f239501aa1a': 674, 'c13a7a6c-1b03-46f3-b6e6-d7277886e40f': 675, '28b0bf36-45d1-4bc1-b025-f5a6585b1c34': 676, '27eab46b-5251-4758-b9ff-e1b88b18a704': 677, 'b00c02ec-854f-44c7-82a8-1f0e2bfcb39e': 678, '38f241cf-9419-4eaf-bc02-de925003cb2e': 679, 'ad14e0ee-3d30-4bda-af85-33a95f73f2a3': 680, '6f8a57b0-3d12-42d2-9e43-017b8b0bcc55': 681, '5f9985b7-b776-4035-b41f-f470718dcf17': 682, 'd5e11273-141a-4942-b889-074722fa5dfe': 683, 'a8f734d1-6863-4c13-868b-76205eb7c127': 684, 'bb431959-825e-46d6-82c8-e7d6b4621cc3': 685, 'f192e4e3-b7c5-4a6e-92a1-682fe870fe63': 686, 'cca5dc69-0f2b-4208-b223-82387178d089': 687, '4ff7c745-69e4-4a84-8348-c3d6b3f3b428': 688, 'c28b2959-b438-4a79-afaa-5504f15cff9c': 689, '608ac4ff-ab75-425b-a4f1-74d5defd43a3': 690, '97cf8603-cbf2-4e69-9cf6-bb2dd78f4b17': 691, '7ce66ed5-b122-4f1d-a41a-2d8ab6c1ef38': 692, 'd3f8ca71-1f8a-4d32-8d52-b09a573ee292': 693, '806bfd00-5371-4a49-aada-05bfcf8ed0ff': 694, '42b68233-b57a-4de9-8460-45223e4cd329': 695, 'ded07bdd-e33d-4cf1-b146-c127c14d6baf': 696, '17fa2367-78a7-45b4-a8ac-f1415248911f': 697, '02832f93-4c13-49d7-a7d9-d220e90b0aa9': 698, '74dd4ff9-70b0-4f91-a088-85cf41e6cdb8': 699, 'fc92e136-e07e-4f54-a8e2-f4a2b817d79e': 700, '3de48280-2d03-4027-a4fa-1016b613565b': 701, 'fc22e780-1dd7-49a8-8ef8-430591b3d400': 702, '0c9a4899-1f8c-46c9-acc8-d99570d98efe': 703, '1e4934da-4b9c-42bf-b2ef-61c2e5f6eeac': 704, 'd854c3c4-2410-4c75-b180-2425c30d8220': 705, 'fbb5627a-a80c-47bd-b145-23a8795bfaf0': 706, '16fb90c4-f926-42e5-be09-28210e620b54': 707, '1b34da47-b0e0-4408-87aa-277bc68c055c': 708, 'cbc97985-fe94-4b01-9b27-fab961a55a33': 709, 'd80f2585-89b9-4f4d-adb7-ed62c67a4123': 710, '4d2c2290-72be-40fe-8506-42718d2aac25': 711, 'd29806cd-801e-46d7-93b0-c92f0453726e': 712, '62d77ec8-add0-4a8d-ab3d-8f5d30be6b3e': 713, '93271b17-fd30-4c3f-b8ca-b79f26e83db5': 714, '6ee59765-c3fc-4e31-89bf-731f74e87906': 715, '98686a60-4a2c-4302-ab66-c50afeb094ce': 716, '1292b00d-873d-498e-a08b-e76d6e7c1022': 717, 'f4a2ca18-2216-449c-90d6-332fc5dfdbf0': 718, '30316199-5517-4d35-b7a7-d5dd3fca52b9': 719, '9a02d259-0848-45da-9620-00be9e5a2d4f': 720, '55c16c9d-9406-475f-b593-6c8af1a412af': 721, 'b0f66b22-a10c-40e6-8848-069fc3238897': 722, 'c67609b0-6015-4fef-8689-5b5e56a8220e': 723, 'daf9392d-6bf5-48e2-aee2-f4668e91058c': 724, '13d167cd-29dd-43d7-9077-3e81a834d7e4': 725, 'dc60f60e-159a-4f07-8433-f295a87ad460': 726, 'd76bb99d-3100-497d-aade-454df6a0bdf5': 727, '2630652d-2f95-4d61-b92f-20e7f210cbf5': 728, 'c2d9aaa0-4af1-4851-bfc3-278cd5f84a01': 729, '37694c6d-906a-42df-aa18-b3a2bbe9d1b8': 730, 'ee7bb6b9-1538-4025-b8e9-1498457bff91': 731, 'eaed2c85-d7f2-449a-b0b4-597b25f6e73b': 732, '6490eb91-c95a-4504-b23c-644c4e91ef86': 733, '262e35f9-67d1-41c9-940b-d4aa210b05fc': 734, 'd01cf334-1c52-4274-889b-acd097918c07': 735, '58f4cb31-0d40-42b2-9268-10d6dc64f1a0': 736, 'f2dc1bd6-d9ea-4a7d-955c-d1a9187d1ea8': 737, '7ba20d6b-bde3-40ef-adaa-abc2b95cac45': 738, 'e52962d1-d59b-464a-aa53-8f9042a36c22': 739, 'e1979105-a798-4f00-9094-04cd48ca1614': 740, '6b32756a-834a-49da-bea2-ee80b9bfc2f2': 741, 'b4c6fdfc-4482-400e-9c05-3608ca6a8344': 742, '1888cc15-1eb7-4a94-9a3d-4690f4635e5f': 743, '65c0e890-0042-4a82-afbe-58b4e792768c': 744, '894b4adc-3ac2-4cae-b92f-a8093b1d1bf6': 745, '90e6bef9-3b83-4681-8456-7372e1b438ae': 746, '373ac81b-6647-46b5-b4d7-863561942e6c': 747, '7e23b95e-9151-4eaf-b6fe-ea0dbd652141': 748, 'e7951818-ebdd-432d-9a0e-45d28ad16174': 749, 'efe62e05-9f4e-4fd6-b470-2a746311fee8': 750, 'aa5d72fc-7172-4a61-ad3e-a4fdb31a3b28': 751, '16384d02-c13d-45a5-96a9-fc1f7ebe6a9b': 752, 'e329c8d3-59a9-425e-88bc-bda70000baa6': 753, 'c6c09ca2-77d6-49ea-a483-745104a6f67c': 754, '6ef3db2a-4973-4c03-900d-fedb7f832f3f': 755, 'ed0d0f47-9969-44db-93e8-6ed14bc717c2': 756, '6d02b896-2d2d-45e6-b6ce-f875da8132d3': 757, '4e465959-79c2-465b-8611-8b589d050c98': 758, '51d0ed7d-dde6-4a10-9b42-b05fb725c98a': 759, '68dd36c3-2abc-4726-ba53-fc10e530c39b': 760, '9d388036-6824-44c1-a65c-0e4e67c9fa90': 761, '7d8f5c4e-96d9-4757-8f18-580be360c6a4': 762, 'fb5ca82e-3d1f-4307-aab5-b0f95f2223c1': 763, 'dbdc626d-d18a-4ce5-9072-e8f473af69ac': 764, '20d31664-6e02-4285-8b07-1cc16091d0fa': 765, '10feb61b-e418-4cb6-82b1-64f256498384': 766, '047470df-f3f4-4508-b32f-a380569a57fb': 767, '635a0ece-e304-4995-81e6-cab25e2a163e': 768, 'fc4f984a-d0a4-45cc-aa78-4a3f6c769b53': 769, '842a5228-9f03-4241-a556-3434e59229fa': 770, 'fdbb3058-2db3-4ddf-bf4a-f6ba7f040f56': 771, 'ac421e20-fd2c-459d-ba47-93e41c85afea': 772, 'd628c96f-f249-44d8-8ee6-b17ec5d07945': 773, '31685a1c-f4f2-4afb-83c8-4d464f0bdbd0': 774, '7d6eca4e-47b5-4103-b340-f2f50d247f4a': 775, '8e576696-4050-4044-adc0-9138146d0bc0': 776, '5114c315-2175-4ab6-9d4a-7f0480218e61': 777, '0866d995-7f05-420b-bd97-a2cf6224441d': 778, '9cb811a2-ce96-4190-bd0d-16b745d78bc4': 779, '0a07e712-146e-4565-afab-9dd49cc8a618': 780, 'ff08cf65-a2b5-43f3-a739-21c324ab7f95': 781, '8710ca40-3c9e-4758-9cbd-aad280c69fa8': 782, 'b654862c-174d-4ddb-b461-8041a826c7ae': 783, 'ea426a12-6301-4364-a5f1-7abaddfd4136': 784, 'f9e520e4-cea2-4bf2-b573-19968ec4c417': 785, '9659d4a3-6a29-4e4a-8557-35f647a4a216': 786, 'd71d8d03-744a-499d-b7cf-6a09a5b28df8': 787, 'de77da5d-2c9b-4e17-aa72-5fba7ce44bd2': 788, '46db9407-f944-4376-8c5f-f1f86cbc4f81': 789, '84fcc14d-6582-4e92-af3c-f2fdb8360243': 790, '3edb74df-0b7d-4894-a1cb-342c8c278491': 791, '0a396ea7-4b15-4810-94fb-75365101b34c': 792, '209e24b4-3320-4047-be74-04b0664ae220': 793, '5401df86-c4d1-4319-a2fb-7cccadaddd9d': 794, '0c9953dd-d81d-4c5f-aed5-c8a474460623': 795, '9341da96-024f-46be-b53f-4fcc03f88308': 796, 'd9327250-247d-4e86-aff7-d9cc51804f07': 797, '2e6854fd-a9db-4116-ae73-c0307ac584a3': 798, '1ff341e6-d7e3-4412-a3cd-82919fe1f145': 799, 'a889f04c-129b-42a5-8ee8-4becfd11a48c': 800, '63d49245-8da9-498c-98f4-addb9a194e19': 801, '4acb56c2-1dca-4f2e-bdb5-a46576e9bfb5': 802, '22feac5d-808e-4c69-8d13-c9cc15f5303d': 803, 'a4fe0a60-ebda-429d-bd6a-e77df77e1529': 804, 'ae653080-cf58-40db-966b-c51dc234eccd': 805, '4bed0626-803b-4aac-b78e-18c41c287285': 806, '5198739d-b522-4d45-a664-4e0398d5487c': 807, '2177a613-3b16-483e-9c9b-dc20bd4225f6': 808, '2fc9adc4-6b84-4c3b-9535-6be311b47f9f': 809, 'd0e65f26-8867-436f-9f4a-c6ce6c0994ea': 810, '2cb9d769-7943-40d9-b727-926a22e7539e': 811, '6ef6b989-9764-4294-9dfa-475658451809': 812, 'ed0c9141-daf3-43d9-be53-34933f3f63a4': 813, 'b0565c2f-47f6-4b0d-a2b5-e25319cb9a11': 814, '672aa562-97ca-4ae2-a7a5-1613fc00f55a': 815, 'c28e70a0-209d-4bdf-992b-f86349760f9b': 816, '55fde9d5-1913-4f2e-a8c8-ae115543f284': 817, 'c113822a-ef2b-4f37-ab58-4cd63559d07c': 818, '2654cfe7-06a3-46cf-8a11-59ba28cd157a': 819, '50455b6b-4749-480e-b0d3-fb5c5c001649': 820, '7baaa4e6-9762-4479-baa0-dc3b3af1a91f': 821, 'bb145378-a7cf-4cb5-be5c-b8368c17314c': 822, 'c58a3e63-95d7-46ac-a565-e27332409f3f': 823, 'd518b7f8-85dd-459a-a27d-9eb4f85c945a': 824, '39e51816-c2ff-4f8f-a709-8938a1474c7c': 825, '97e4ba8e-7d2e-43b5-a645-56472dfe5ef1': 826, '2c1edebf-5c17-463b-b105-cead765d859c': 827, '94ea8ed0-892c-48fd-9a2b-efc491b36b15': 828, 'ffe6f1e8-0556-4a81-81b1-edd229fa847d': 829, '0dba8c88-e4ff-4765-9c71-0f8e37a1f24a': 830, '11750d98-f489-4494-92ae-e1203f8afbe9': 831, 'c61fc0a6-c15b-44c9-b57e-6434e6b9fd07': 832, '04a4875b-ba08-4585-ad06-caa590979c45': 833, 'e0683dfd-4cf1-4be2-9172-7d61d34338ac': 834, 'd47ec72a-5863-47e8-9ea7-77bbd44f3fd0': 835, 'a97d08ef-37a5-45ff-9712-674941cd5e7f': 836, 'e8c562f0-2643-4dbd-a0d7-2c78ca96a8ef': 837, 'a9e50df4-3dc0-4a5d-9e03-cf93cd3f4765': 838, 'cab22fae-db47-46b6-b902-3d9a1b1051f6': 839, '03ea0946-7b3b-435d-986a-95b115b1cc6e': 840, 'b3c4ca95-9216-4633-a9cb-03c3511b93f6': 841, 'a46e2320-d668-4be1-b949-88f436fb4c9d': 842, '090a32ea-c18b-4221-9ed0-10943f590bd3': 843, '03d8f666-e4c3-4865-92b1-a68a38b674d8': 844, 'fd8170cf-dc3a-49b8-91b0-a1553d6ebd27': 845, '84e647b7-0f68-4199-8498-7c490c124578': 846, 'f089a996-0708-472a-ad4f-65751881399a': 847, '66f82de4-9d4f-4da0-9431-e0f388737272': 848, 'e00a9d22-6908-4b6b-b41f-980ef896f2b8': 849, 'c07cc6cc-ec4a-4030-8ab5-1568a71879db': 850, '0d101556-8258-4557-a708-c016ab5a97f7': 851, 'aaab2050-978d-4d7b-97a7-bc20bb948dd6': 852, 'f62dad8c-05f3-4a28-b82b-4ce6ab0fdda2': 853, '1071cbaf-912d-45fd-bcd0-edd1ccbd41d2': 854, 'd827b74b-97c1-4746-af1e-4c27dfdbedb5': 855, '6c8aef0b-c806-45ff-b4b5-0a71593645e5': 856, '13783e73-9388-4e43-8283-050e25596de8': 857, 'e3108a12-5ea4-47b3-95c1-c80ae2c44227': 858, '4c1370a4-ff8d-46eb-9ab9-eb1900ea90db': 859, '0c262533-0d68-42d3-856e-b851e5e09ca1': 860, 'f3144bb1-85f5-44aa-a921-e06b34445edf': 861, '517accfe-d8ce-4662-91bd-c7dc765601b0': 862, '3c8acf39-be15-4933-ac90-d9d87a66500d': 863, '348fcfd9-3150-4a2e-8f1a-5f76fd62c856': 864, '646685c0-41e7-480d-babc-0b89af706df5': 865, '180dcf15-666b-48b9-a617-19f35e0c916d': 866, '8c175500-c4d5-4820-a58d-25f59acb9a81': 867, '29d66a62-0d7c-45ff-aca4-3b685893319a': 868, '8d5f1713-126f-4971-bef6-08d33836d275': 869, '0a10ce31-6b43-41d5-a493-429ba3268a90': 870, '4145d57e-890a-4e46-81f7-9e2cab857ee6': 871, 'aaf6ed27-952f-429a-bb4c-d71ca8be498d': 872, '78564591-1037-4ec3-ba87-8e0203387533': 873, '6d6803c0-cc88-4588-9336-a138393f8e94': 874, 'aa3423b8-0461-490b-89ad-0f376c8a7293': 875, '75d8c165-e7d0-418a-a9bf-2d8c93cbe468': 876, '74fc7485-c059-4575-a876-89ed0c84f0ac': 877, '1554e882-18a0-416b-b8c4-dd1916f876fa': 878, 'b6436b5d-5b9e-4b48-900a-8eb32cf72777': 879, '3142063b-6d05-4b54-a226-99c10b2f1d5c': 880, '5283142d-56a3-4515-9f63-ae5b1f147275': 881, 'b0b65128-4825-441f-a21a-8860b1c5429a': 882, 'b8a9c160-40cf-4960-85d6-762e4006673a': 883, '1f5d7f49-7a5b-485e-b953-7e83c441404f': 884, 'a145af7e-9fa3-4577-9fab-d7db8a575375': 885, 'f3644e20-82d4-476c-9b9e-50362e6cee61': 886, '84054d08-5b4c-4745-a9a9-39daf55f3314': 887, '633f35ad-5533-4ba0-9a1a-e104e00b084c': 888, '36b7cc96-2d5d-4c92-a67f-900a52ecdbfd': 889, '4f64312d-d5fa-4007-badf-305714ce55f9': 890, '0ca347c2-8691-4549-8372-6db11be32de7': 891, '63bba927-678e-4a5d-938b-1f07d8a6dbf6': 892, '95307440-c9c5-4cee-9273-5043372380c4': 893, 'f00938d7-949c-44a7-ab34-ab79492f9c23': 894, 'd06ee75e-b62f-425c-8175-2743b5638b8c': 895, 'db553613-fd00-4e7a-b2c8-4e535c47e657': 896, '73101d75-d392-4704-a902-d64b49be98ae': 897, '1103ded7-5475-40fb-8006-f8c307b7c614': 898, '858212f5-ec9e-470e-9d5e-fd4c526db944': 899, '94cc3c4c-1a45-4e97-844f-0c0468a5653b': 900, '086a3364-ef97-4487-885f-e7c30027535a': 901, 'dcdae43c-a019-4c29-9384-0aab8894fba3': 902, '1482ab6b-2871-4a3e-97c5-0b3008d0cb98': 903, 'ee148afb-b021-4fc9-bbb6-81ddf50ddc0f': 904, '6d5f2a46-ec2b-4397-85c3-bd1147d59457': 905, '68a192c5-2893-4d73-9ebe-acd9939bab1c': 906, '0420c963-ee21-484e-9fcf-c0910cb495ac': 907, '8614e15d-f236-4db5-8904-e4c243d89553': 908, 'b029cc12-b1fe-447f-bc63-6d330a074564': 909, 'e6edbdf4-289b-4800-8996-ed59ef676a35': 910, '615fb8fb-3f1b-4670-af7b-bb99a3d47fcc': 911, '6e08b56d-2705-4eb3-b147-0a2fd693fdc4': 912, 'c76f5450-227e-4e23-a71c-95723bab4432': 913, 'e6a3c31a-53a6-4a3f-b2d4-21a584926177': 914, 'd0ce5074-1c1f-48af-94db-1baaa0496d7d': 915, '527e4760-ad72-4047-80a2-66c6c7c955ce': 916, 'c0905a2d-54d9-4f52-8324-fe775fa317dd': 917, '3853a0fc-8c77-4679-a73b-7ec1718ee9ff': 918, 'ca0da077-3801-45d4-8a1a-1cb17854106a': 919, 'fad2f695-53c0-4ed1-a3e5-06086f19d757': 920, '432e18fb-ea0c-4d00-abbb-0814b5da4830': 921, '346011e4-a37e-49b1-8655-10fe8195786f': 922, '8c7a264e-48a3-4646-8ddf-629775f8a00c': 923, '9b5e11fd-233f-4274-8b81-600105219cad': 924, '94708f4f-d42a-4aaa-8581-6bd88388c18e': 925, 'e5c7ffab-8d40-45d1-a44d-42d4841eb30e': 926, '5591e240-7c94-45ac-a841-b116249406fc': 927, 'ec2f5d4a-2906-4ae6-827d-b8c01a30d38c': 928, '5da5ce8e-5d83-460a-9024-44968c880837': 929, '4714d550-2a6c-42ab-8d93-8ae1448196c8': 930, '4081bab6-a30f-4387-9e19-a8979100d419': 931, '3f7fdffd-3d08-406a-80dd-483d91786931': 932, '736ddc7a-1a0e-4d2c-8aed-76e1cf2ce446': 933, '51d8ab08-f831-4e28-9f50-2356afc19a27': 934, '6202c1aa-bf06-4e78-94ab-d3c0c669cb72': 935, '929d5344-71de-4c4f-bf8e-eca8d7ff8308': 936, 'dce16528-a45a-4534-8833-a0d64e419c03': 937, 'a74c00c6-f706-47c6-a5f8-e23bb21f4ac4': 938, '469f860b-7474-4e9a-9a31-3bf87fd4337a': 939, 'e2b2136b-37d3-41f0-9fcb-b32e975d4cac': 940, '5f792046-b81c-4074-820e-64c4b47fd88d': 941, 'e46aa8cb-667b-4afb-99f2-800174c6541d': 942, '9a1bf68c-43e7-4b72-9761-4ea9801108f3': 943, '9e69f043-0c0a-4553-a9c7-7efb61397f34': 944, 'db35b340-7509-487b-bbdc-6ae28643b932': 945, '864a6d4a-d5f0-4a8b-857b-accb68405347': 946, '11b927e7-0d79-4e64-88b3-408665c674c2': 947, 'b0064c3e-9008-4b59-86ed-7e662639c7c4': 948, '0d9ec04e-8c0b-457c-a3cf-4ab17822626e': 949, '9b6fff20-26af-480b-bffe-7013edfc6cd5': 950, '9765a673-fd6d-47a7-a41b-883176c23fad': 951, 'd82f8b06-e26e-4290-8e17-f29e7ed28642': 952, '1c52d662-c890-4c70-a235-c6b1b9b6585d': 953, 'b6c2b493-7a7e-4cfa-a500-5f90cce1ccdc': 954, '73559cab-a297-4f8d-bb73-00beec1402b7': 955, '3509beec-475f-422b-8248-6cb1bb235845': 956, '18f42eec-3dd6-4b51-9c6a-5bb6696c2b7c': 957, 'f99ec3b6-d15c-497a-a7b5-89160ea45819': 958, '11ef2a3b-d2f0-4f99-a670-61aabc3482b6': 959, '9b89da54-6ba6-4262-8aa0-58ab65aa438c': 960, 'c7617197-74db-49bf-8149-298a568778f7': 961, '62c0017d-ff32-4584-8c85-562e9a1e8329': 962, '3dd1e45c-d163-4f0f-ad42-e3d3365befe1': 963, '4d7a9383-83c9-4e15-9dfb-01a25b1f72aa': 964, '33396b0c-c562-4a38-93ab-f4d1ce8f871d': 965, 'e03a88c4-2f6c-46b2-85dd-99f3b48e5069': 966, '4390668b-83be-4dd3-8bb6-e1c15a20e081': 967, 'ae61f8cd-eb0b-4c88-9ebc-d8342b2e9fb9': 968, 'c758ba19-d23d-4ad7-a51c-adcf64706c2b': 969, '4f9ad3d9-c895-47e8-a6e8-d7aa8c57a171': 970, '2b512f09-e336-488b-b0c8-0a9c181ae5ee': 971, 'a9c739c7-ab96-467a-a4a4-8ae8714c648c': 972, 'e9b1a188-d55a-4380-8eb4-b96067994005': 973, '6d91210c-fe8a-48ea-a409-50ca0b25c513': 974, 'b3a2448f-3ee4-4c8c-b7b1-c95e76017ef9': 975, '214fc0ef-5e80-429b-88d6-cd9f690e74d9': 976, 'f08cb421-bed9-4b33-a34e-b1325aa9933a': 977, '62b10d53-2634-4133-9973-216dcfd6b2ca': 978, 'fcde3222-6321-4d6d-8c1a-2719460ee692': 979, '2fa08cfb-3c31-4f2e-ba1e-358453a1ef4a': 980, '42b32d4b-d2e7-48f5-b7e9-7d4e51d271ed': 981, 'b32fdee7-0382-41ac-8029-ef27335f4cdc': 982, '41b5fefe-d163-40e5-b6a5-f928ab1e8ab1': 983, 'eb1e5ece-b775-4c89-a458-86bb5504dd2a': 984, 'f4475b55-6d9a-4064-b9bb-e22e0649f7a8': 985, 'e08d1417-269f-4bd8-b320-d62b2f992b98': 986, '501cedba-54ba-4f10-b07c-e683a7bb00b3': 987, 'd19f86d0-16ac-4e46-8213-426657b167f1': 988, 'f57641a0-5a33-44e1-9100-57a907c612da': 989, '09772099-75c5-4427-8c92-3eea81b2f066': 990, 'f702bef5-fe1a-4109-890d-b193aec3dc2b': 991, 'c1f84858-2478-4e2a-9653-39e79d56a987': 992, 'a2203c58-dc43-4bc0-a669-b84217860d74': 993, '2268e264-c25d-4477-86c1-325e7ca526c0': 994, '2c9ef24c-5fb9-4dd8-b239-31be1be3f561': 995, 'f9aa11a2-6c44-428b-b2f6-1de3b86f1b3e': 996, '28fbe483-e045-4541-a2b8-be000934b495': 997, '010099f6-eb1c-4d42-abe0-7c614da9eb38': 998, 'cfc4600d-3ae2-47d9-8990-27986ee2f0e6': 999, 'e856017e-b9e2-4292-aa99-3d895670ec48': 1000, 'a89c0b63-4efc-4bf8-922b-f2ab264f6fcb': 1001, '9ad419b6-c975-4488-a281-9122ce1072f0': 1002, '0f054683-adbd-4da2-bb89-d0bd7a7ad402': 1003, '6b553b50-0415-4aeb-ad7b-faf9fac41003': 1004, '4a498dcd-eec0-40f5-87fb-72de2677a334': 1005, '6a3d29f5-b15c-4beb-8dbd-95d4e059b4e7': 1006, '5f646742-e349-44fa-aa79-e03158d3d3ac': 1007, '4cfe4728-1291-4b43-8d0c-538bdc84bc69': 1008, '6375448c-4beb-432a-9d2e-9d9f11ac36dc': 1009, '38446110-bdbb-4865-a436-1680ac4e09c3': 1010, 'df774e6a-bf6f-40b5-88d0-35173dcf4a4b': 1011, 'e71201ee-97ae-419d-b2d1-1cf42b1755f0': 1012, '76d8f12a-3480-48e1-b5b5-80c81cdd4268': 1013, '32965db9-52f4-48e4-b296-3a7c7af5259b': 1014, '8dc7c3e2-f72b-4e06-b331-4d5b968b3dbc': 1015, '8e289ae5-5c1d-43fd-8e90-7060c27559b0': 1016, '2d0b203c-faec-44fa-bf42-91ad4e7a2e7a': 1017, '0ca9d377-4b34-4a94-8c3b-7024295abfb1': 1018, '5ee555a8-0d66-4c83-8c36-235ae10edb90': 1019, 'de3ec1fb-5c62-473e-b1b3-08eb8a1a52c4': 1020, 'abc5b45a-54e7-447b-b177-0bb16a08fb31': 1021, '255e1acd-27c4-4787-ab58-bbb789de4512': 1022, 'b74efac2-11a9-4b29-a474-306704fddc3f': 1023, 'c3d89d5c-4664-435b-813e-bb0b46ab66c0': 1024, '4e8d2931-ae1d-49ee-9811-de38e77e7e0d': 1025, '47cdaf43-0209-4e0b-8499-a33f763cbde3': 1026, '914efee2-d01f-4da6-9e71-41ef5d9f4f9f': 1027, '8f645778-7486-4822-94ac-8f33580348a7': 1028, 'f33c2217-3f9c-4796-9479-be84c573c4d2': 1029, 'cd90d02c-f4d8-4511-a05c-0bd0f89e3643': 1030, '5d5bb129-8fe9-4e12-943d-37bd6a346ad3': 1031, '438bce5e-5652-42ca-b006-1bef542aaffe': 1032, '4f347a33-2ab3-4dd4-a545-a084d9f30bb9': 1033, '817ccf8a-b8e3-4112-b633-8c1e500ccd76': 1034, '75e4f9dd-6ce0-4a6a-a076-be1ef305ef04': 1035, 'f1fa3522-a5aa-462e-a69f-aa97e783e14d': 1036, '05621a97-50a7-4b0f-ab13-84d3f140f4ac': 1037, '45f11b95-4a82-4d32-b17d-f2f0a1031832': 1038, '45717af7-a157-49a1-ba38-a9206ae08e6a': 1039, 'e208f5f4-cc21-4fbb-ae04-df6b0d2e202d': 1040, 'd40f06dd-011d-4be2-ac3e-a683085d7c48': 1041, '02ce5a56-bd58-4d23-a15a-11a0a7d3aad4': 1042, 'a916626f-54d0-4785-8589-75e2405ea4b9': 1043, '8ee1abff-5628-4e9c-bd8e-9a6fc909b59b': 1044, 'bc3e7785-9146-4951-b8b6-a56465e50312': 1045, 'd32ecdd5-2760-404f-b3f1-d37dc3b90ef3': 1046, '969488b7-c61d-4cb1-8676-918eedcc69ee': 1047, '67ba8e12-5b43-4ae7-84fb-90908af8687c': 1048, '7b8552f1-498c-40ae-94b3-f745cd86c867': 1049, '9ed6b079-c616-4cc0-aa81-c7063f0ab47f': 1050, 'b3ddc627-6193-4373-a216-d3684a41bb3f': 1051, '2ed8387f-c28d-4c05-87b0-1c644ae79128': 1052, '52621ced-9cf4-4517-be1e-c9a29befb47c': 1053, 'f634b417-a37e-4af8-938c-25211137a47d': 1054, 'fec65f00-3638-4fb3-8701-79dc0d50be1f': 1055, '71bd5a75-bb91-4594-af1c-36d1a8a3ed0e': 1056, 'cebfe52d-e3bf-4264-9d41-654a8d96cf0c': 1057, '4b60cb65-ff0f-4879-a053-cefa011d7014': 1058, 'fc85a5a8-84c9-4428-af39-95fc88ca539b': 1059, 'babdce92-ae62-49b6-a4c4-e472067f1c80': 1060, 'b1f377e3-aac3-4fae-bd57-e18f08e5c934': 1061, 'b2c9e5ef-f0b1-4e97-b8de-9af9e8c63fe5': 1062, '52db502b-1e94-48e1-811e-c94201a50b17': 1063, '6ef5c08c-e469-4fe7-a9cf-11560cf98400': 1064, 'cc52b851-4bb6-4c26-b3e6-bd158d275451': 1065, 'b6c59fff-b65e-4e71-a2ee-85610247193d': 1066, '270fd2ca-da8e-439f-a207-8dcac892ff49': 1067, '59736e0c-3f50-423e-a33a-a04743f37161': 1068, '44a2fe31-b4a4-4b06-b2a7-9f6258b9acba': 1069, 'd95229a7-23f5-4183-9026-0a8c74f9ad44': 1070, '4900d4a6-cbcb-475c-be57-088fbef9fb3a': 1071, 'ab5094dc-c111-4826-bb69-cd187e2dedc1': 1072, '081a201f-6f6f-413c-a5a5-6c56b12a2294': 1073, 'a20fa898-c4b7-4c69-bb31-45b8f0c1a3b4': 1074, '3a44f374-56ee-4500-8829-c4b942b7afec': 1075, 'b227fdcc-bb06-4978-bbf0-aaa40cf1e525': 1076, '28889a9f-12e1-4ae8-a062-039f7c969e40': 1077, '5f6b8130-ebf9-4d63-beb6-e088c47a9e5f': 1078, 'd8d4d8e1-9b6a-4d7b-90c1-b05f2a4a7f6e': 1079, '8e2d4bde-4ef2-4340-9468-559a725369f8': 1080, '29b957bb-a26e-491e-afe7-55794662dd9e': 1081, 'beb180ff-3b42-45a8-80d0-074c22b1fe97': 1082, '50d4a59f-3f71-40cb-9f72-b5cee2284a0a': 1083, '0110bd0c-a1f6-4d44-84eb-bc323651779c': 1084, 'e238a129-ef33-4d30-a7df-02aa7c9bbb68': 1085, '2c773f16-b399-4107-a751-0f960dc791ea': 1086, '9436b8dc-66a1-41a6-87f9-267a32247123': 1087, 'f396bf2d-4cc9-40f8-94ba-6d56425bd2ec': 1088, '4dd6ac40-0359-4f64-b0e9-2e0593fb2db1': 1089, 'fcf41548-3480-43b4-a243-68b64b221016': 1090, 'a2c13abd-3ce3-4bb3-9a6c-3bafd138fa09': 1091, '9b2c7bc2-d2de-49af-8565-9b2b325b625c': 1092, 'fae4345c-5dbc-4f8b-8223-d0c3c2c30e76': 1093, '128e5f3c-5e6f-4fac-9345-50a12043b559': 1094, '1c24a16f-8688-438a-b1bd-2cc7c13cbb1b': 1095, 'e288ca09-0c63-4843-8952-a7cd3ab30460': 1096, 'e0ffb3b1-c441-413f-855a-f15d8d37fc9a': 1097, '987a5e7a-9570-4b7b-8c37-affe607e7a26': 1098, 'ed0a608f-9041-4ecb-b7e8-b80a9336bb33': 1099, 'abd0353a-fca8-463c-9ed2-0a2fab2eb84c': 1100, 'c948970f-4213-4f16-9ee8-996466734361': 1101, '1f848f7d-f0ea-47d2-ba03-ad2ad6d7d2f8': 1102, '35116421-1e4f-4cdb-be3c-8bfb0c81b7e3': 1103, '684b16e5-f715-4201-8cfc-1c9e143c3929': 1104, '3be28b9f-ebd6-433c-9b79-f1e734caac2b': 1105, 'd72ca986-3fc4-4505-9f7e-fde5aae703ea': 1106, 'cb966c1e-af09-49cc-a467-d152456d2ccf': 1107, '269d843a-820a-467e-b81b-cb75c594041f': 1108, 'c29b2ffc-92b7-4e77-affd-d2ae99ea8e91': 1109, '26033e34-430d-454c-add3-f8c903f4c9b2': 1110, '530f91f4-0806-4773-b900-030d5d716ef0': 1111, '1cd7aff7-42cf-46fb-83db-1a65e742f207': 1112, '444b2b62-c54e-4e7d-bbdd-c73fb54f81b3': 1113, '8613dbf8-5962-4428-ae52-4da512785556': 1114, '3a6261fa-1606-408f-b212-0345c352c68f': 1115, 'c3bb5387-6bd9-4f04-92f2-9e4fa6f6777d': 1116, '96e82c3b-8e2f-4e42-a257-4e4156cc7e38': 1117, '432dcf6c-fa1a-4eab-9887-bc7ac7fcad2a': 1118, '52312d8f-2ca4-46e0-b405-ca136ce92a47': 1119, '29ca2bd0-1758-4483-a451-6a1c64e36fee': 1120, 'd5fa64bb-9ed0-4d0b-ac3c-08dbae4e7f99': 1121, '0a58b219-979e-452e-bde3-f139dd80d5a5': 1122, 'b8e4202e-90e7-4c24-9353-77752c5c5a4c': 1123, '9a49b2da-48e4-430e-b4a2-82af6a294e8c': 1124, '63ef3f36-f78c-4f91-9faa-2cd7bf16c69d': 1125, 'efd77254-ac70-4bd0-ae52-ae6a0422cab3': 1126, '0c9650da-dcb4-448e-a199-71dc1fbf0203': 1127, 'b4b1833f-3501-4b1b-9c05-6d8f15bdd249': 1128, '647fd5df-67a4-4369-9fed-148545e1c937': 1129, 'ef3c32c3-88ce-4fa2-af4d-6d4195f47599': 1130, 'df4c7e00-130b-483a-8c45-9258636ddec8': 1131, '725e7cd0-7031-4988-b4cb-69672c611514': 1132, '3f4c081d-0ba8-4b5c-a451-a823930b6cc9': 1133, '4097585a-0fe3-4ff8-865b-a6f8a28c0dca': 1134, '6c6049f9-dcd0-44e5-8997-144b9c58a5c7': 1135, 'be303e88-14ec-42a6-bfc4-8a69e66432b5': 1136, '99b0a8bd-d44f-4d23-bb0f-1bec642ee813': 1137, '51bdc171-b9cf-4810-ba8e-29868ed7f21d': 1138, 'b6780eac-446f-4a48-92a3-0de3e8654d96': 1139, '2f60acb3-33da-4c69-a97a-a89acaebe283': 1140, 'cf727ac6-5b51-47d8-9bd5-8d6e2db480db': 1141, 'a65f5431-941d-4217-a6f6-a93fbc45981e': 1142, 'd582a839-8581-42ef-98bc-4cebf5d25232': 1143, '69a9e956-09c8-4046-883f-54a62fad2db7': 1144, 'be4a1369-310c-44f7-add2-1556999afa73': 1145, '49402020-d649-4e16-a1e3-4bc01521f10d': 1146, '2f5ec561-797a-4994-ba4b-8049615d4906': 1147, 'a6ae5d79-4eea-40db-b267-ae0a40da6ed4': 1148, '9f8e9ac8-9db8-49c4-8986-de4cd8314702': 1149, '7c0855e2-0d40-49f5-b191-f291bc8abc66': 1150, '0bbe4f48-f73c-44b8-81dc-d76e6fa0fa12': 1151, '71eec240-eab7-4d91-824d-3361ecbce9a5': 1152, 'f739708a-f85f-45a7-9a41-b88d77f24546': 1153, '41d4b571-4517-4028-8821-873bf86addac': 1154, '8741d31e-13ff-465e-abfe-b1cffc38baf5': 1155, '63b446cc-b09f-4d49-b12d-3b182ee6904d': 1156, 'ad6f32b8-e1cd-4afb-8a2d-695e188191ca': 1157, '4c81b8fa-8a6c-4296-a491-bb463de6ca37': 1158, '4712dfcd-9458-4ef9-91fe-d6f5358e932f': 1159, '3a63222b-86b2-4293-bd2e-171011190ae6': 1160, '91234bfd-31ed-4f26-b120-0bf5c71f6d20': 1161, '2587c443-e58c-463d-ab7d-a356e47903ed': 1162, '3214c459-4dac-4179-81de-62e6b1e42656': 1163, '5fcc2311-82e1-4131-891b-c6f17532d2ce': 1164, 'acfdacd6-0de0-4568-a819-c3c2e15ef221': 1165, '80e4a2cf-455f-48da-9eb9-5caa145f7c94': 1166, 'b0a35635-643d-45a2-ae65-722c1c9140a2': 1167, '52f67b29-22c2-4f57-858e-874ba3c8c6d1': 1168, '14106b84-b377-4827-9d64-c685fc56ca48': 1169, 'c449606d-3200-49cd-ad36-81c4624575b8': 1170, '28f17184-e3e9-4035-8e19-14a63321397b': 1171, '791762e8-e83c-4810-8260-7ead419d72a8': 1172, '1e754e68-5e56-4773-9dfc-f261bb1fec0c': 1173, '8e6f5fc9-88b8-4d99-be9d-0f303d57078f': 1174, '43395931-a75b-48ba-b713-c905f187779f': 1175, 'cea91197-4fb5-4130-8617-418ae03d2778': 1176, '75850342-1d55-4455-b7c5-23b4ecf5bf38': 1177, 'cf68a0aa-9415-43e6-a1a7-efab510f2c4e': 1178, '7195a6cd-cfed-4b08-b962-68cdb279ab3e': 1179, 'cac8ff7a-b233-403c-9b5e-86796652144d': 1180, '693206db-6a7b-4256-b0b2-dbf28ff5eae6': 1181, '73ba0a56-6f33-4ff5-856d-1adf5e957ba2': 1182, '0ffdc2a2-02a8-4fa3-80e0-c0faf9087ee9': 1183, 'd20a3f9f-8d61-4b32-90ee-8150d8fa1371': 1184, '0d9244f6-ea5d-44d5-a997-e269cbfa8ca2': 1185, 'd3312526-8f6b-4006-be66-910fdf25d822': 1186, 'a18a99fb-bfb4-4c46-ad6d-89e7b74ff2c4': 1187, '51b071a7-bfc6-4add-93d2-11eea5346dc4': 1188, '58e417d7-2158-4b29-89cc-1fc6b1844727': 1189, '4cfa0fa8-4e63-40ec-971d-95a21dfa98a6': 1190, '525fb618-d20b-449b-86a3-899cd34422a1': 1191, 'f3158769-dfe9-4e5f-b548-5bc30c8d11a5': 1192, '555f7f26-d5f1-4784-8005-59e0573cf993': 1193, 'ce6c3837-f7b6-4b68-86f8-12248c3c33c5': 1194, '59d17576-08e3-437f-aaaa-1bd94410e8c7': 1195, 'ae510562-e11d-4dc6-9d9f-cf3557b43894': 1196, '9c236c0e-d273-4e0a-a831-f95a751c854f': 1197, '1ce56461-f2cd-4eff-aa2b-976c0c01a2d2': 1198, '26be42d2-9491-48f2-90ce-236f29895846': 1199, 'ff58529b-78cc-42b9-9f15-20f466006d18': 1200, 'aef12d17-cd58-4018-949f-97a7d07c445e': 1201, 'b3974a92-9c5e-468f-b841-8633eb2f54b4': 1202, '23c99b65-93fb-4e7f-a17b-7235e3724f63': 1203, '97a31736-d4d5-45e8-a426-c1a4bb81759f': 1204, 'b8fc7876-2499-4e09-8c37-0abdc187be9e': 1205, '6008643b-e62c-4f73-9051-46624cc382f4': 1206, '92f8a230-1107-43a4-af92-518d2ec0a89a': 1207, '8dccd0c4-d6aa-4dbb-874f-aff8a41ad397': 1208, '96ede037-4103-40fc-ae98-c30b9fcf9d8f': 1209, 'e9d2d0af-9d5e-4bb4-bc61-b85f42a09c66': 1210, '1f6f82b9-79e8-48d6-af36-ef0830084604': 1211, 'ab85f13d-3ee3-45f8-9b86-08ba436e478d': 1212, '40649a16-5575-4920-ac6f-13446adddb10': 1213, '15670ebb-6def-4c47-9f52-9d5d28d4d308': 1214, 'f6e4834e-cfcb-4a25-af76-3965a40a312f': 1215, '4477e1df-d02d-4fb6-a7fc-d93147de8499': 1216, '732026c6-5d23-43fb-9702-a2b20559d4f5': 1217, '96852c25-3b5a-4f39-a342-9d3b145f78a3': 1218, '6240fab5-d5a0-46cb-8484-3396958542f4': 1219, '86624814-c629-493f-9cc5-a0dfc015df09': 1220, '43b00bcc-928a-4804-939c-a68e06a4680a': 1221, '4086f0e8-f97d-4dbd-9ca1-489ce8d17c41': 1222, 'adb071cf-73a1-4a71-bd0a-eebc5ea0d174': 1223, '2ab4e3fd-31d3-4f9a-b88b-83a2758eb02c': 1224, 'e5041ed5-d7eb-4a87-973f-e2798ec85a3f': 1225, '2a3655d0-39f4-4c6a-be6a-125dcada67a7': 1226, 'bc2de1d7-735c-430e-9575-174f98cf9890': 1227, '4009489a-7633-4750-a847-0076e2d29255': 1228, '06a7c751-b765-4af4-bfa0-1e9b751a28dd': 1229, '3f22d7df-7760-426d-ac6f-536503901f6d': 1230, 'bfccb7ee-8a65-4a16-bc77-75264bc27eb0': 1231, 'db99e2e9-a1d9-4d4e-b2c0-5b31de8b0892': 1232, 'e4112381-5732-4b3d-93ed-b5075ff74c87': 1233, '6db50a6d-b7e5-4328-bb26-92770c170bd2': 1234, '87f0867f-d5b7-4b37-aac1-d0503f60ec71': 1235, '8dd33b5b-8f6b-4504-bd47-e89c6ff342cf': 1236, 'ca9b85ee-282d-4ea0-aaff-27b0ec7bd8ec': 1237, 'e7dc49f2-02c5-4708-8c49-0331704c717b': 1238, 'af129398-2575-41fc-ad9f-d969428f1286': 1239, '4a141f80-4f7a-497e-8dad-e8aa21e33c66': 1240, 'cb1c49f6-1a80-4580-90bc-72e3b40633f3': 1241, '7fd7bf26-29cb-42a5-a6b4-c686da3926cc': 1242, 'ba7b7814-6b64-4ec7-8493-521bd2debbbd': 1243, '854729e3-f3a8-42b1-93b4-78c099adc5db': 1244, '1e643d40-d2f5-4a62-ba70-390105150297': 1245, '20a88d78-5acc-4396-8cb3-7bf2dce06b44': 1246, '57d6650a-fd08-445b-b52b-e049328b211b': 1247, 'ddaef9fe-0f14-45f9-b55f-8ad1532a8680': 1248, '44658592-a212-471d-ac3e-8642334ec66f': 1249, '9d8413fb-0ccd-4b25-b767-1dfe1421b719': 1250, '545da8d8-f27e-4416-9f7c-94f447a2dfac': 1251, '4fc422a5-c029-4870-b18e-8018fecca9d2': 1252, '6444617a-7658-4e7d-8cf8-bbb3eeae8ec9': 1253, 'c2dedb1a-9dfe-47fa-a2ba-c5f72111f2e8': 1254, 'fa8585c0-8af5-4bcd-ac98-2190643d697b': 1255, '74bcd187-9300-4d38-a506-902c7c83011f': 1256, 'c147bd06-01d7-4b01-a953-655c47fe6ca8': 1257, 'b09cdc3b-608f-4cd5-91e2-24b1175fce8f': 1258, '10e7fda3-2d5e-41b3-b981-ddd4cbc20505': 1259, 'd1c29879-48fb-4665-84f8-63d48ba1f9bd': 1260, '55a3a226-905d-4481-bce9-5806241b489d': 1261, 'f3233b1c-1b63-436c-a65d-c46a8425dc9d': 1262, '76379790-8f17-49b3-94d6-1c44522f247b': 1263, '40089411-7468-48e5-bd6f-d2bd390fa597': 1264, '67fef048-00f8-4557-9bb7-07a6be221d94': 1265, '6ffde3cc-3f0e-44e2-9a27-44b7c1cd7301': 1266, '9fe1da42-d0bd-4181-8bf8-bf4d49778ab9': 1267, '3bc10e44-9627-44ca-96db-6d865692bbb8': 1268, '7e181cf0-7276-41cf-9fe9-e5a2637069c9': 1269, '59e68575-844a-44eb-878d-befcd1d6c12a': 1270, 'e88e743e-b297-4e06-9512-cd68586e672c': 1271, '8cc63033-4532-4f87-82fa-02f5b0e20e7f': 1272, 'c032f398-7d74-419c-8d2a-c7250685774a': 1273, '043b440d-2718-4b0c-9106-1d537809ce37': 1274, '023f3b59-32f6-4974-b8ba-128b556c8a29': 1275, '75424c32-e3f5-445d-b99a-9baa56fb788e': 1276, 'fdded976-2508-4c5c-9c19-31fe3c0410de': 1277, 'd4d8a1d9-ab58-43e8-b690-aa2a8cb23fe5': 1278, '175948f4-ebb6-49ad-a747-36144dfcea50': 1279, '1ad8ada3-85a9-4c3c-a445-25f62ca175ef': 1280, '5c7dd894-21ab-4de9-bbc4-32d321ec0a1c': 1281, '2ab5ffe7-80a5-4c70-bec3-1597f4246055': 1282, 'dfee357f-7e97-49bc-91b6-4a8ce9db8760': 1283, 'e1dbf2ba-215b-4e84-8183-655101c54c07': 1284, 'a8a404fc-6574-4e0a-ab1a-1d30a6023cef': 1285, '2fa0f1a5-56a0-4f64-aae5-4937b2723682': 1286, '9338ef19-e7e6-4df1-a0c1-2a1df5a4ba46': 1287, '3b68ae71-d2a5-434b-acb2-6eef1d0ffa14': 1288, '5175f90f-a2ff-4752-b3b0-10c970a35977': 1289, '9d5a3537-6917-48f8-85c5-48b852015b35': 1290, '71701477-3b5e-4968-9f6b-2a65be40d168': 1291, '18235829-31d1-46bb-8091-1082e7327453': 1292, '2f9d3ca2-ba2a-4292-b81a-90c1548cae53': 1293, '7cd2af83-964e-4635-bb44-a61d6c3d4602': 1294, 'f6087380-554f-4fea-8a2d-93c21668fb0c': 1295, 'aec7d072-e12b-415e-8bc7-94d28c7cb643': 1296, 'bd3bb1d0-fbfd-4489-b268-b66e8ddaeeec': 1297, 'bfa038d9-78fb-4063-8ffd-fffd8ad52b17': 1298, '680eb6d6-c711-4c57-a541-1943077f028e': 1299, 'ee0fe505-2df7-4f39-808f-c9a5db5b32b5': 1300, 'a2e5a8cd-b926-4391-8e81-b1bbaa381cbd': 1301, 'bde4c831-ffe5-4228-822b-b6f8fd0fc8c6': 1302, 'ecc1eb4b-103b-4855-ab23-1fdb24974207': 1303, 'cd036b5e-af6a-45dd-b061-c69d0180ae93': 1304, '7c166710-35ca-4ac0-95b7-79a33f484e9a': 1305, '04694376-7a0b-48e0-9d62-5753f743ed7f': 1306, '3a1688f7-9340-4294-9a9c-57bbd89125f2': 1307, 'a0d14539-1a45-4212-9f5d-ba430807158c': 1308, '818285fd-b51f-4160-b11e-b2cc9256676a': 1309, 'dd3f5e3e-9919-493c-bbc9-4c4999a66f4d': 1310, '4ce94304-c776-43d4-88e4-80c4f444e2e1': 1311, '7935d951-9a3f-4743-9eb0-71b0bf03b7ec': 1312, 'b49212a1-d17a-4dbc-b5d9-77580b933beb': 1313, '593c086f-6d48-4f37-bf3a-a5c633786490': 1314, '3bf99df1-6f9b-4f68-9506-2aa5a18aea14': 1315, 'c231f7ae-69a7-4bf5-8ccf-d1c620bc9c41': 1316, 'b9875fc1-4c42-4384-9999-de5b58095f4e': 1317, 'f5606edb-744b-412d-a4d4-68fc4cade669': 1318, '3a179d49-9759-42d6-816d-9fe622d160d2': 1319, '2e295f9e-b16e-4b9b-b7c6-ab8c1cd0ad73': 1320, '3a81a3ca-aceb-4b69-a745-922f027a6fec': 1321, '59cefa34-b8c4-4565-9be3-f65345fdbe13': 1322, '90fe4552-f626-43db-9b83-ed7fb9d325c3': 1323, '74062872-6425-4698-a908-ae470b081317': 1324, 'dec6b34f-a93b-44ca-908f-04bd599d31bb': 1325, 'd4fc30da-17ad-462f-b1bd-c9d19c99f554': 1326, '1c22695c-4afb-4393-ac36-b3fecc37d9dc': 1327, 'd59e233f-a356-4517-8862-a57e82fb8958': 1328, '63f1c802-0bc9-4909-8177-6cda8aec2edd': 1329, '5f723063-7248-44f3-b1e6-24035f106e03': 1330, '17196355-7026-4a36-a6f0-6f4075556cf4': 1331, '6ced9307-0661-4d1e-b967-7eecb57a8d37': 1332, 'cce5e0d8-7ff6-403b-a047-e488b35fcc62': 1333, '5f9dc2fe-ba7a-41d9-8f84-f26cefe6c1a3': 1334, '8a5c3831-adc6-4806-957e-719045aace1f': 1335, '02f6ef20-a270-4f57-96d7-cb0cefb29467': 1336, '176607ad-afd5-415f-9753-879f26fa9d92': 1337, 'e2269589-9830-446c-9935-84a278078949': 1338, '66ebcd95-eb75-4716-bc30-f9696f183d3f': 1339, 'a54a5789-fdbd-46f8-bcfd-6ddc02e24aca': 1340, '96a5aba7-88b4-48ce-9893-43e619dc1f7c': 1341, '9db78538-e254-44ef-9262-827895b7a26c': 1342, 'd141d064-6609-4da2-91f1-d4bd2c24391c': 1343, '6cac03b7-39e9-4bdc-bb0c-c1269956b478': 1344, '9fee4d2c-4a37-41eb-814d-2157f378f5a7': 1345, 'ecaaf47f-2bf2-4969-a30e-4938fccf9134': 1346, '07a6bbc1-975e-410d-9091-9ae6838b2606': 1347, '2f4ac31b-5fed-4b2d-bd33-db2433712e88': 1348, '8efc0ffe-abb3-4ada-b179-32287094d37c': 1349, '49dc50ff-6bb0-44ab-8143-5f2ac0c565ae': 1350, '23be5d32-c50c-4836-864a-802a0987f44d': 1351, '30b76884-c91b-40c6-a072-9acafd5d98bf': 1352, '695babb6-3e74-42e7-b1ac-b62165beaedc': 1353, '6f62b1e4-fb9a-43ec-bfbd-56560fa3403b': 1354, 'bc2a55bb-12ea-43f7-9811-fce5bec7f1bb': 1355, '40fc9f86-3d6f-4ec6-8713-583fe191df59': 1356, 'ad57d3fe-6d49-40c0-ad17-43c8fe36b3b8': 1357, 'e8bc7898-2baa-4719-81a1-891d308b046e': 1358, '15f416ed-49a6-4822-988f-32b9d34b44b7': 1359, 'b7a5d3c9-2efd-48e4-9cbe-9bcbe283c46b': 1360, '4f4dfd5f-d174-4f7a-ab64-5ec4de41f478': 1361, '0967d6ed-88b7-4023-a720-f09f7051f24d': 1362, '66cd1a2a-80a5-40b2-8ac1-c09f38d72d50': 1363, 'd558b235-7b5b-4a2b-a4b6-3a381afd601e': 1364, 'f080279e-01da-40b7-bfd9-65110ac4d694': 1365, 'ca1c880e-b48c-4b83-a8c6-23ee6fde8214': 1366, '7fda46ae-9ab0-4558-9b66-a7c409759543': 1367, '7d7f4989-2722-4254-a1b7-88207f7757d9': 1368, 'ab40268c-14e5-4c0d-a419-7777f18a157b': 1369, 'c8b8a40a-b2ba-40d4-84dd-65e0094670f3': 1370, '8b0915ff-a0cb-4520-9160-8d783a6bf308': 1371}\n"
     ]
    }
   ],
   "source": [
    "DATASET = Dataset(user_identity_features=False, item_identity_features=False)\n",
    "\n",
    "# user_featureja ei ainakaan vielä ole\n",
    "DATASET.fit(users=USER_IDS, items=ITEM_IDS, item_features=ITEM_FEATURE_LABELS)\n",
    "\n",
    "ITEM_FEATURES_DS = DATASET.build_item_features(ITEM_FEATURES, normalize=False)\n",
    "\n",
    "(INTERACTIONS_DS, WEIGHTS_DS) = DATASET.build_interactions(INTERACTIONS)\n",
    "\n",
    "USER_MAP_DS = DATASET.mapping()[0]\n",
    "ITEM_MAP_DS = DATASET.mapping()[2]\n",
    "ITEM_FEATURE_MAP_DS = DATASET.mapping()[3]\n",
    "\n",
    "# print(ITEM_FEATURE_MAP_DS)\n",
    "print(USER_MAP_DS)"
   ]
  },
  {
   "cell_type": "markdown",
   "id": "8bff2bbc",
   "metadata": {},
   "source": [
    "## Luo LightFM-malli\n",
    "\n",
    "Kysymyksiä:\n",
    "1. Mitkä on sopivat hyperparametrit mallille?\n",
    "2. Erityisesti mikä on paras loss-funktio?\n",
    "3. Mitkä on parhaat hyperparametrit mallin sovittamiseen?"
   ]
  },
  {
   "cell_type": "code",
   "execution_count": 23,
   "id": "bbee7e3a",
   "metadata": {},
   "outputs": [
    {
     "name": "stderr",
     "output_type": "stream",
     "text": [
      "Epoch: 100%|██████████| 1/1 [00:00<00:00,  3.10it/s]\n"
     ]
    },
    {
     "data": {
      "text/plain": [
       "<lightfm.lightfm.LightFM at 0x7f8c0a964df0>"
      ]
     },
     "execution_count": 23,
     "metadata": {},
     "output_type": "execute_result"
    }
   ],
   "source": [
    "MODEL = LightFM(loss='warp')\n",
    "\n",
    "MODEL.fit(INTERACTIONS_DS, item_features=ITEM_FEATURES_DS, epochs=10, verbose=True)"
   ]
  },
  {
   "cell_type": "markdown",
   "id": "d54284b7",
   "metadata": {},
   "source": [
    "## Tulostetaan esimerkkisuosituksia"
   ]
  },
  {
   "cell_type": "code",
   "execution_count": 24,
   "id": "80cb4091",
   "metadata": {
    "scrolled": true
   },
   "outputs": [
    {
     "name": "stdout",
     "output_type": "stream",
     "text": [
      "User fe368d6c-ef4d-46c9-ac94-a22eff3ac1f3:\n",
      "Known positives:\n",
      "     business_id                         company_name industry_code  \\\n",
      "198     01591746               Vuoksen Kirjakauppa Oy         47610   \n",
      "244     11068254                       Rasnel-Hold Oy         68209   \n",
      "363     09304537              Parikkalan Autorahti Oy         49410   \n",
      "395     22370715                         Ice Power Oy         43220   \n",
      "568     17588365           Rakennusvalvonta Toikka Oy         71126   \n",
      "753     06961267                       Lepojoutsen Oy         55101   \n",
      "1073    25890126                Saimaan Työpalvelu Oy         78200   \n",
      "1172    24869536                              JORO OY         49410   \n",
      "1199    19031093  Asianajotoimisto Heikki Oikkonen Oy         69101   \n",
      "1484    21289202                  PTu Konsultointi Oy         95110   \n",
      "\n",
      "     location_region_code  \n",
      "198                  <NA>  \n",
      "244                  <NA>  \n",
      "363                    09  \n",
      "395                    09  \n",
      "568                    09  \n",
      "753                    09  \n",
      "1073                   09  \n",
      "1172                   09  \n",
      "1199                   09  \n",
      "1484                   09  \n",
      "\n",
      "\n",
      "\n",
      "Top hits:\n",
      "      business_id                 company_name industry_code  \\\n",
      "25337    17965589     Lappeenrannan Energia Oy         35140   \n",
      "25338    17965589     Lappeenrannan Energia Oy         35140   \n",
      "34025    26257736                  Karnomin Oy         56102   \n",
      "34026    26257736                  Karnomin Oy         56102   \n",
      "13988    04342569             Ylämaa Origin Oy         66190   \n",
      "13987    04342569             Ylämaa Origin Oy         66190   \n",
      "34597    02157036  Lappeenrannan Toimitilat Oy         64200   \n",
      "57295    09689932   Sähköliike Kuusitunturi Oy         64200   \n",
      "57296    09689932   Sähköliike Kuusitunturi Oy         64200   \n",
      "34596    02157036  Lappeenrannan Toimitilat Oy         64200   \n",
      "\n",
      "      location_region_code    scores  \n",
      "25337                   09  4.934759  \n",
      "25338                   09  4.934759  \n",
      "34025                   09  3.941809  \n",
      "34026                   09  3.941809  \n",
      "13988                   09  3.628218  \n",
      "13987                   09  3.628218  \n",
      "34597                   09  3.539993  \n",
      "57295                   09  3.539993  \n",
      "57296                   09  3.539993  \n",
      "34596                   09  3.539993  \n"
     ]
    }
   ],
   "source": [
    "USER_ID = 'fe368d6c-ef4d-46c9-ac94-a22eff3ac1f3'\n",
    "\n",
    "known_positives = [interaction[1] for interaction in INTERACTIONS if interaction[0] == USER_ID]\n",
    "known_positives_df = COMPANIES_RAW.loc[COMPANIES_RAW['business_id'].isin(known_positives)]\n",
    "\n",
    "print(\"User %s:\" % USER_ID)\n",
    "print(\"Known positives:\")\n",
    "print(known_positives_df[['business_id', 'company_name', 'industry_code', 'location_region_code']].head(10))\n",
    "    \n",
    "print(\"\\n\\n\")\n",
    "\n",
    "user_id_ds = USER_MAP_DS[USER_ID]\n",
    "scores = MODEL.predict(user_id_ds, list(ITEM_MAP_DS.values()), item_features=ITEM_FEATURES_DS)\n",
    "\n",
    "scores_df = pd.DataFrame.from_records(zip(list(ITEM_MAP_DS.keys()), scores), columns=['business_id', 'scores'])\n",
    "merged_scores_df = pd.merge(scores_df, COMPANIES_RAW, on='business_id')\n",
    "\n",
    "print(\"Top hits:\")\n",
    "print(merged_scores_df[['business_id', 'company_name', 'industry_code', 'location_region_code', 'scores']]\n",
    "      .sort_values('scores', axis=0, ascending=False).head(10))"
   ]
  },
  {
   "cell_type": "markdown",
   "id": "251fc1a8",
   "metadata": {},
   "source": [
    "## Arvioidaan mallien laatua"
   ]
  },
  {
   "cell_type": "markdown",
   "id": "a5d69532",
   "metadata": {},
   "source": [
    "### Jaetaan vuorovaikutukset testi- ja koulutusdatasetteihin suositusten laatua"
   ]
  },
  {
   "cell_type": "code",
   "execution_count": 62,
   "id": "413ec255",
   "metadata": {},
   "outputs": [
    {
     "name": "stdout",
     "output_type": "stream",
     "text": [
      "277047.0\n",
      "69262.0\n"
     ]
    }
   ],
   "source": [
    "(TRAIN, TEST) = random_train_test_split(INTERACTIONS_DS, test_percentage=0.2)\n",
    "\n",
    "print(TRAIN.sum())\n",
    "print(TEST.sum())"
   ]
  },
  {
   "cell_type": "markdown",
   "id": "1769c776",
   "metadata": {},
   "source": [
    "### Koulutetaan mallit\n",
    "\n",
    "Warp ja BPR"
   ]
  },
  {
   "cell_type": "code",
   "execution_count": 90,
   "id": "63eefb88",
   "metadata": {},
   "outputs": [
    {
     "name": "stderr",
     "output_type": "stream",
     "text": [
      "Epoch: 100%|██████████| 10/10 [00:02<00:00,  3.71it/s]\n",
      "Epoch: 100%|██████████| 10/10 [00:02<00:00,  3.82it/s]\n"
     ]
    },
    {
     "data": {
      "text/plain": [
       "<lightfm.lightfm.LightFM at 0x7f8c0c083b80>"
      ]
     },
     "execution_count": 90,
     "metadata": {},
     "output_type": "execute_result"
    }
   ],
   "source": [
    "MODEL_WARP = LightFM(loss='warp')\n",
    "MODEL_WARP.fit(TRAIN, item_features=ITEM_FEATURES_DS, epochs=10, verbose=True)\n",
    "\n",
    "MODEL_BPR = LightFM(loss='bpr')\n",
    "MODEL_BPR.fit(TRAIN, item_features=ITEM_FEATURES_DS, epochs=10, verbose=True)"
   ]
  },
  {
   "cell_type": "markdown",
   "id": "9f362aa8",
   "metadata": {},
   "source": [
    "#### Lasketaan ROC AUC"
   ]
  },
  {
   "cell_type": "code",
   "execution_count": 91,
   "id": "04412139",
   "metadata": {},
   "outputs": [
    {
     "name": "stdout",
     "output_type": "stream",
     "text": [
      "Calculating AUC for WARP...\n",
      "Calculating AUC for BPR...\n",
      "AUC_WARP: train 0.95, test 0.92.\n",
      "AUC_BPR: train 0.93, test 0.89.\n"
     ]
    }
   ],
   "source": [
    "print(\"Calculating AUC for WARP...\")\n",
    "\n",
    "WARP_TRAIN_AUC = auc_score(MODEL_WARP, TRAIN, item_features=ITEM_FEATURES_DS).mean()\n",
    "WARP_TEST_AUC = auc_score(MODEL_WARP, TEST, item_features=ITEM_FEATURES_DS).mean()\n",
    "\n",
    "print(\"Calculating AUC for BPR...\")\n",
    "\n",
    "BPR_TRAIN_AUC = auc_score(MODEL_BPR, TRAIN, item_features=ITEM_FEATURES_DS).mean()\n",
    "BPR_TEST_AUC = auc_score(MODEL_BPR, TEST, item_features=ITEM_FEATURES_DS).mean()\n",
    "\n",
    "print('AUC_WARP: train %.2f, test %.2f.' % (WARP_TRAIN_AUC, WARP_TEST_AUC))\n",
    "print('AUC_BPR: train %.2f, test %.2f.' % (BPR_TRAIN_AUC, BPR_TEST_AUC))"
   ]
  },
  {
   "cell_type": "markdown",
   "id": "4e418408",
   "metadata": {},
   "source": [
    "#### Lasketaan precision_at_k (k=10)"
   ]
  },
  {
   "cell_type": "code",
   "execution_count": 96,
   "id": "c2345bbc",
   "metadata": {},
   "outputs": [
    {
     "name": "stdout",
     "output_type": "stream",
     "text": [
      "Calculating precision at k=10 for WARP...\n",
      "Calculating precision at k=10 for BPR...\n",
      "PRECISION_WARP: train 0.11, test 0.03.\n",
      "PRECISION_BPR: train 0.11, test 0.03.\n"
     ]
    }
   ],
   "source": [
    "print(\"Calculating precision at k=10 for WARP...\")\n",
    "\n",
    "WARP_TRAIN_PRECISION = precision_at_k(MODEL_WARP, TRAIN, k=10, item_features=ITEM_FEATURES_DS).mean()\n",
    "WARP_TEST_PRECISION = precision_at_k(MODEL_WARP, TEST, k=10, item_features=ITEM_FEATURES_DS).mean()\n",
    "\n",
    "print(\"Calculating precision at k=10 for BPR...\")\n",
    "\n",
    "BPR_TRAIN_PRECISION = precision_at_k(MODEL_BPR, TRAIN, k=10, item_features=ITEM_FEATURES_DS).mean()\n",
    "BPR_TEST_PRECISION = precision_at_k(MODEL_BPR, TEST, k=10, item_features=ITEM_FEATURES_DS).mean()\n",
    "\n",
    "print('PRECISION_WARP: train %.2f, test %.2f.' % (WARP_TRAIN_PRECISION, WARP_TEST_PRECISION))\n",
    "print('PRECISION_BPR: train %.2f, test %.2f.' % (BPR_TRAIN_PRECISION, BPR_TEST_PRECISION))"
   ]
  },
  {
   "cell_type": "markdown",
   "id": "5e9eabf3",
   "metadata": {},
   "source": [
    "#### Lasketaan recall_at_k (k=10)"
   ]
  },
  {
   "cell_type": "code",
   "execution_count": 93,
   "id": "a8664e98",
   "metadata": {},
   "outputs": [
    {
     "name": "stdout",
     "output_type": "stream",
     "text": [
      "Calculating recall at k=10 for WARP...\n",
      "Calculating recall at k=10 for BPR...\n",
      "RECALL_WARP: train 0.02, test 0.02.\n",
      "RECALL_BPR: train 0.02, test 0.02.\n"
     ]
    }
   ],
   "source": [
    "print(\"Calculating recall at k=10 for WARP...\")\n",
    "\n",
    "WARP_TRAIN_RECALL = recall_at_k(MODEL_WARP, TRAIN, k=10, item_features=ITEM_FEATURES_DS).mean()\n",
    "WARP_TEST_RECALL = recall_at_k(MODEL_WARP, TEST, k=10, item_features=ITEM_FEATURES_DS).mean()\n",
    "\n",
    "print(\"Calculating recall at k=10 for BPR...\")\n",
    "\n",
    "BPR_TRAIN_RECALL = recall_at_k(MODEL_BPR, TRAIN, k=10, item_features=ITEM_FEATURES_DS).mean()\n",
    "BPR_TEST_RECALL = recall_at_k(MODEL_BPR, TEST, k=10, item_features=ITEM_FEATURES_DS).mean()\n",
    "\n",
    "print('RECALL_WARP: train %.2f, test %.2f.' % (WARP_TRAIN_RECALL, WARP_TEST_RECALL))\n",
    "print('RECALL_BPR: train %.2f, test %.2f.' % (BPR_TRAIN_RECALL, BPR_TEST_RECALL))"
   ]
  },
  {
   "cell_type": "markdown",
   "id": "0776d9d8",
   "metadata": {},
   "source": [
    "#### Lasketaan reciprocal_rank"
   ]
  },
  {
   "cell_type": "code",
   "execution_count": 94,
   "id": "98ef09c3",
   "metadata": {},
   "outputs": [
    {
     "name": "stdout",
     "output_type": "stream",
     "text": [
      "Calculating reciprocal_rank for WARP...\n",
      "Calculating reciprocal_rank for BPR...\n",
      "RECIPROCAL_WARP: train 0.22, test 0.10.\n",
      "RECIPROCAL_BPR: train 0.21, test 0.09.\n"
     ]
    }
   ],
   "source": [
    "print(\"Calculating reciprocal_rank for WARP...\")\n",
    "\n",
    "WARP_TRAIN_RECIPROCAL = reciprocal_rank(MODEL_WARP, TRAIN, item_features=ITEM_FEATURES_DS).mean()\n",
    "WARP_TEST_RECIPROCAL = reciprocal_rank(MODEL_WARP, TEST, item_features=ITEM_FEATURES_DS).mean()\n",
    "\n",
    "print(\"Calculating reciprocal_rank for BPR...\")\n",
    "\n",
    "BPR_TRAIN_RECIPROCAL = reciprocal_rank(MODEL_BPR, TRAIN, item_features=ITEM_FEATURES_DS).mean()\n",
    "BPR_TEST_RECIPROCAL = reciprocal_rank(MODEL_BPR, TEST, item_features=ITEM_FEATURES_DS).mean()\n",
    "\n",
    "print('RECIPROCAL_WARP: train %.2f, test %.2f.' % (WARP_TRAIN_RECIPROCAL, WARP_TEST_RECIPROCAL))\n",
    "print('RECIPROCAL_BPR: train %.2f, test %.2f.' % (BPR_TRAIN_RECIPROCAL, BPR_TEST_RECIPROCAL))"
   ]
  },
  {
   "cell_type": "markdown",
   "id": "1d8c65bb",
   "metadata": {},
   "source": [
    "## Opit protosta\n",
    "\n",
    "- AUC antaa uskoa, että kyllä tää jotain saattaa pystyäkin päättelemään?\n",
    "- Warp-malli parempi?\n",
    "- Item-featuret ei tee juuri mitään, koska ne ei kuvaa pätevästi ryhmien sisältämien yritysten yhteyksiä?\n",
    "    - JOKO valitut featuret liian geneerisiä/ei riitä kuvaamaan ryhmien sisäisiä yhtenäisiä tekijöitä\n",
    "    - TAI Ryhmillä ei ole sellaista sisäistä logiikkaa, että sitä pystyisi featurejen (tai edes suosittelujen) avulla kuvaamaan"
   ]
  },
  {
   "cell_type": "code",
   "execution_count": null,
   "id": "76825c56",
   "metadata": {},
   "outputs": [],
   "source": []
  }
 ],
 "metadata": {
  "kernelspec": {
   "display_name": "Python 3 (ipykernel)",
   "language": "python",
   "name": "python3"
  },
  "language_info": {
   "codemirror_mode": {
    "name": "ipython",
    "version": 3
   },
   "file_extension": ".py",
   "mimetype": "text/x-python",
   "name": "python",
   "nbconvert_exporter": "python",
   "pygments_lexer": "ipython3",
   "version": "3.9.6"
  }
 },
 "nbformat": 4,
 "nbformat_minor": 5
}
