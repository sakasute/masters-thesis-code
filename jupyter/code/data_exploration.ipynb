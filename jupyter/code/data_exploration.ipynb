{
 "cells": [
  {
   "cell_type": "markdown",
   "id": "e4b20980",
   "metadata": {},
   "source": [
    "# Tutkitaan datasettien ominaisuuksia"
   ]
  },
  {
   "cell_type": "code",
   "execution_count": 1,
   "id": "3f4088c5",
   "metadata": {},
   "outputs": [],
   "source": [
    "import numpy as np\n",
    "import pandas as pd\n",
    "import networkx as nx\n",
    "from pyvis.network import Network\n",
    "\n",
    "import matplotlib.pyplot as plt\n",
    "\n",
    "pd.set_option('display.max_rows', 100)"
   ]
  },
  {
   "cell_type": "markdown",
   "id": "ed33f799",
   "metadata": {},
   "source": [
    "## Ladataan datat"
   ]
  },
  {
   "cell_type": "code",
   "execution_count": 2,
   "id": "3d8ce38b",
   "metadata": {},
   "outputs": [
    {
     "name": "stdout",
     "output_type": "stream",
     "text": [
      "                                    group_id business_id  \\\n",
      "0       3a63222b-86b2-4293-bd2e-171011190ae6    31291154   \n",
      "1       3a63222b-86b2-4293-bd2e-171011190ae6    08544918   \n",
      "2       3a63222b-86b2-4293-bd2e-171011190ae6    10134299   \n",
      "3       3a63222b-86b2-4293-bd2e-171011190ae6    26404708   \n",
      "4       3a63222b-86b2-4293-bd2e-171011190ae6    29747968   \n",
      "...                                      ...         ...   \n",
      "548193  8b0915ff-a0cb-4520-9160-8d783a6bf308    25610905   \n",
      "548194  8b0915ff-a0cb-4520-9160-8d783a6bf308    21281841   \n",
      "548195  8b0915ff-a0cb-4520-9160-8d783a6bf308    23633484   \n",
      "548196  8b0915ff-a0cb-4520-9160-8d783a6bf308    23552270   \n",
      "548197  8b0915ff-a0cb-4520-9160-8d783a6bf308    30073884   \n",
      "\n",
      "                           owner  group_size  \n",
      "0       603e1524d377150007c2dbea           5  \n",
      "1       603e1524d377150007c2dbea           5  \n",
      "2       603e1524d377150007c2dbea           5  \n",
      "3       603e1524d377150007c2dbea           5  \n",
      "4       603e1524d377150007c2dbea           5  \n",
      "...                          ...         ...  \n",
      "548193  6110c56241e21e000857ca77         131  \n",
      "548194  6110c56241e21e000857ca77         131  \n",
      "548195  6110c56241e21e000857ca77         131  \n",
      "548196  6110c56241e21e000857ca77         131  \n",
      "548197  6110c56241e21e000857ca77         131  \n",
      "\n",
      "[548198 rows x 4 columns]\n"
     ]
    }
   ],
   "source": [
    "COMPANIES = pd \\\n",
    "        .read_csv('data/prod_data_companies_2021_08_22.csv',\n",
    "                  delimiter='\\t',\n",
    "                  na_values='(null)',\n",
    "                  dtype={\n",
    "                      'business_id': 'string',\n",
    "                      'company_name': 'string',\n",
    "                      'company_form': 'string',\n",
    "                      'company_form_code': 'string',\n",
    "                      'location_region': 'string',\n",
    "                      'location_region_code': 'string',\n",
    "                      'location_municipality': 'string',\n",
    "                      'location_municipality_code': 'string',\n",
    "                      'industry_code': 'string',\n",
    "                      'company_status': 'string',\n",
    "                      'company_status_code': 'string',\n",
    "                      'personnel_class': 'string'\n",
    "                  }\n",
    "                  )\n",
    "\n",
    "INTERACTIONS = pd \\\n",
    "    .read_csv('data/interactions_2021_08_19.csv',\n",
    "             delimiter='\\t',\n",
    "             dtype={\n",
    "                 'group_id': 'string',\n",
    "                 'business_id': 'string',\n",
    "                 'owner': 'string'\n",
    "             })\n",
    "\n",
    "\n",
    "group_sizes = INTERACTIONS['group_id'].value_counts()\n",
    "group_sizes_df = pd.DataFrame({'group_id': group_sizes.index, 'group_size': group_sizes.values})\n",
    "df_with_sizes = INTERACTIONS.merge(group_sizes_df, on='group_id')\n",
    "\n",
    "INTERACTIONS_WITH_GROUP_SIZES = INTERACTIONS.merge(group_sizes_df, on='group_id')\n",
    "\n",
    "print(INTERACTIONS_WITH_GROUP_SIZES)"
   ]
  },
  {
   "cell_type": "markdown",
   "id": "1ed7b601",
   "metadata": {},
   "source": [
    "## Interaktioiden määrä per käyttäjä"
   ]
  },
  {
   "cell_type": "code",
   "execution_count": 3,
   "id": "3841e7e9",
   "metadata": {},
   "outputs": [
    {
     "data": {
      "text/html": [
       "<div>\n",
       "<style scoped>\n",
       "    .dataframe tbody tr th:only-of-type {\n",
       "        vertical-align: middle;\n",
       "    }\n",
       "\n",
       "    .dataframe tbody tr th {\n",
       "        vertical-align: top;\n",
       "    }\n",
       "\n",
       "    .dataframe thead th {\n",
       "        text-align: right;\n",
       "    }\n",
       "</style>\n",
       "<table border=\"1\" class=\"dataframe\">\n",
       "  <thead>\n",
       "    <tr style=\"text-align: right;\">\n",
       "      <th></th>\n",
       "      <th>group_size</th>\n",
       "    </tr>\n",
       "    <tr>\n",
       "      <th>owner</th>\n",
       "      <th></th>\n",
       "    </tr>\n",
       "  </thead>\n",
       "  <tbody>\n",
       "    <tr>\n",
       "      <th>5db83a1cbc3e9100062ac0ab</th>\n",
       "      <td>58913</td>\n",
       "    </tr>\n",
       "    <tr>\n",
       "      <th>5f5613da9769490006b0ebb3</th>\n",
       "      <td>51250</td>\n",
       "    </tr>\n",
       "    <tr>\n",
       "      <th>5db7f3883923700006f88455</th>\n",
       "      <td>45067</td>\n",
       "    </tr>\n",
       "    <tr>\n",
       "      <th>5ea289784df6a400063616c2</th>\n",
       "      <td>24962</td>\n",
       "    </tr>\n",
       "    <tr>\n",
       "      <th>5eb14ab8ee95ba0006769afe</th>\n",
       "      <td>23813</td>\n",
       "    </tr>\n",
       "    <tr>\n",
       "      <th>...</th>\n",
       "      <td>...</td>\n",
       "    </tr>\n",
       "    <tr>\n",
       "      <th>5ddd06cdffe5a900081b48af</th>\n",
       "      <td>1</td>\n",
       "    </tr>\n",
       "    <tr>\n",
       "      <th>5f3539bc44097a0007b8761d</th>\n",
       "      <td>1</td>\n",
       "    </tr>\n",
       "    <tr>\n",
       "      <th>5db9803bbc3e9100062ac0b4</th>\n",
       "      <td>1</td>\n",
       "    </tr>\n",
       "    <tr>\n",
       "      <th>5f87f00c8cbcad0006fd0c28</th>\n",
       "      <td>1</td>\n",
       "    </tr>\n",
       "    <tr>\n",
       "      <th>5ddd1557ffe5a900081b48b1</th>\n",
       "      <td>1</td>\n",
       "    </tr>\n",
       "  </tbody>\n",
       "</table>\n",
       "<p>344 rows × 1 columns</p>\n",
       "</div>"
      ],
      "text/plain": [
       "                          group_size\n",
       "owner                               \n",
       "5db83a1cbc3e9100062ac0ab       58913\n",
       "5f5613da9769490006b0ebb3       51250\n",
       "5db7f3883923700006f88455       45067\n",
       "5ea289784df6a400063616c2       24962\n",
       "5eb14ab8ee95ba0006769afe       23813\n",
       "...                              ...\n",
       "5ddd06cdffe5a900081b48af           1\n",
       "5f3539bc44097a0007b8761d           1\n",
       "5db9803bbc3e9100062ac0b4           1\n",
       "5f87f00c8cbcad0006fd0c28           1\n",
       "5ddd1557ffe5a900081b48b1           1\n",
       "\n",
       "[344 rows x 1 columns]"
      ]
     },
     "execution_count": 3,
     "metadata": {},
     "output_type": "execute_result"
    }
   ],
   "source": [
    "INTERACTION_COUNTS_BY_OWNER = INTERACTIONS_WITH_GROUP_SIZES.drop_duplicates('group_id').groupby(['owner']).sum()\n",
    "INTERACTION_COUNTS_BY_OWNER.sort_values('group_size', ascending=False)"
   ]
  },
  {
   "cell_type": "code",
   "execution_count": 4,
   "id": "2720c025",
   "metadata": {},
   "outputs": [
    {
     "data": {
      "text/html": [
       "<div>\n",
       "<style scoped>\n",
       "    .dataframe tbody tr th:only-of-type {\n",
       "        vertical-align: middle;\n",
       "    }\n",
       "\n",
       "    .dataframe tbody tr th {\n",
       "        vertical-align: top;\n",
       "    }\n",
       "\n",
       "    .dataframe thead th {\n",
       "        text-align: right;\n",
       "    }\n",
       "</style>\n",
       "<table border=\"1\" class=\"dataframe\">\n",
       "  <thead>\n",
       "    <tr style=\"text-align: right;\">\n",
       "      <th></th>\n",
       "      <th>group_id</th>\n",
       "      <th>business_id</th>\n",
       "      <th>owner</th>\n",
       "      <th>group_size</th>\n",
       "    </tr>\n",
       "  </thead>\n",
       "  <tbody>\n",
       "    <tr>\n",
       "      <th>377955</th>\n",
       "      <td>a2203c58-dc43-4bc0-a669-b84217860d74</td>\n",
       "      <td>16264908</td>\n",
       "      <td>6112718d28e53c0007391de7</td>\n",
       "      <td>38</td>\n",
       "    </tr>\n",
       "    <tr>\n",
       "      <th>522888</th>\n",
       "      <td>b49212a1-d17a-4dbc-b5d9-77580b933beb</td>\n",
       "      <td>01465192</td>\n",
       "      <td>6112718d28e53c0007391de7</td>\n",
       "      <td>131</td>\n",
       "    </tr>\n",
       "    <tr>\n",
       "      <th>526507</th>\n",
       "      <td>59cefa34-b8c4-4565-9be3-f65345fdbe13</td>\n",
       "      <td>21109195</td>\n",
       "      <td>61126c3f28e53c0007391de6</td>\n",
       "      <td>82</td>\n",
       "    </tr>\n",
       "    <tr>\n",
       "      <th>525514</th>\n",
       "      <td>3a179d49-9759-42d6-816d-9fe622d160d2</td>\n",
       "      <td>15680555</td>\n",
       "      <td>61126c3f28e53c0007391de6</td>\n",
       "      <td>329</td>\n",
       "    </tr>\n",
       "    <tr>\n",
       "      <th>548067</th>\n",
       "      <td>8b0915ff-a0cb-4520-9160-8d783a6bf308</td>\n",
       "      <td>03063795</td>\n",
       "      <td>6110c56241e21e000857ca77</td>\n",
       "      <td>131</td>\n",
       "    </tr>\n",
       "    <tr>\n",
       "      <th>...</th>\n",
       "      <td>...</td>\n",
       "      <td>...</td>\n",
       "      <td>...</td>\n",
       "      <td>...</td>\n",
       "    </tr>\n",
       "    <tr>\n",
       "      <th>73133</th>\n",
       "      <td>b6ebd732-dd0c-4cff-b3e2-37af81fffcab</td>\n",
       "      <td>11073475</td>\n",
       "      <td>5db034c64320cd0006d2b788</td>\n",
       "      <td>58</td>\n",
       "    </tr>\n",
       "    <tr>\n",
       "      <th>32309</th>\n",
       "      <td>13b8fa9f-39b1-4124-a31d-b14c8087557b</td>\n",
       "      <td>02118280</td>\n",
       "      <td>5db034504320cd0006d2b787</td>\n",
       "      <td>5</td>\n",
       "    </tr>\n",
       "    <tr>\n",
       "      <th>45318</th>\n",
       "      <td>9cd5fb20-9eca-4bb5-9b9f-333c35b0f316</td>\n",
       "      <td>26400926</td>\n",
       "      <td>5db034504320cd0006d2b787</td>\n",
       "      <td>1</td>\n",
       "    </tr>\n",
       "    <tr>\n",
       "      <th>32317</th>\n",
       "      <td>99aca234-561b-4356-b89e-8c4359104f2a</td>\n",
       "      <td>08370532</td>\n",
       "      <td>5db034504320cd0006d2b787</td>\n",
       "      <td>2</td>\n",
       "    </tr>\n",
       "    <tr>\n",
       "      <th>32314</th>\n",
       "      <td>433bf6f5-c34d-474a-a0c8-ea652d70919c</td>\n",
       "      <td>07046888</td>\n",
       "      <td>5db034504320cd0006d2b787</td>\n",
       "      <td>3</td>\n",
       "    </tr>\n",
       "  </tbody>\n",
       "</table>\n",
       "<p>1403 rows × 4 columns</p>\n",
       "</div>"
      ],
      "text/plain": [
       "                                    group_id business_id  \\\n",
       "377955  a2203c58-dc43-4bc0-a669-b84217860d74    16264908   \n",
       "522888  b49212a1-d17a-4dbc-b5d9-77580b933beb    01465192   \n",
       "526507  59cefa34-b8c4-4565-9be3-f65345fdbe13    21109195   \n",
       "525514  3a179d49-9759-42d6-816d-9fe622d160d2    15680555   \n",
       "548067  8b0915ff-a0cb-4520-9160-8d783a6bf308    03063795   \n",
       "...                                      ...         ...   \n",
       "73133   b6ebd732-dd0c-4cff-b3e2-37af81fffcab    11073475   \n",
       "32309   13b8fa9f-39b1-4124-a31d-b14c8087557b    02118280   \n",
       "45318   9cd5fb20-9eca-4bb5-9b9f-333c35b0f316    26400926   \n",
       "32317   99aca234-561b-4356-b89e-8c4359104f2a    08370532   \n",
       "32314   433bf6f5-c34d-474a-a0c8-ea652d70919c    07046888   \n",
       "\n",
       "                           owner  group_size  \n",
       "377955  6112718d28e53c0007391de7          38  \n",
       "522888  6112718d28e53c0007391de7         131  \n",
       "526507  61126c3f28e53c0007391de6          82  \n",
       "525514  61126c3f28e53c0007391de6         329  \n",
       "548067  6110c56241e21e000857ca77         131  \n",
       "...                          ...         ...  \n",
       "73133   5db034c64320cd0006d2b788          58  \n",
       "32309   5db034504320cd0006d2b787           5  \n",
       "45318   5db034504320cd0006d2b787           1  \n",
       "32317   5db034504320cd0006d2b787           2  \n",
       "32314   5db034504320cd0006d2b787           3  \n",
       "\n",
       "[1403 rows x 4 columns]"
      ]
     },
     "execution_count": 4,
     "metadata": {},
     "output_type": "execute_result"
    }
   ],
   "source": [
    "df = INTERACTIONS_WITH_GROUP_SIZES.drop_duplicates('group_id')\n",
    "\n",
    "df.sort_values(['owner'], ascending=False)"
   ]
  },
  {
   "cell_type": "markdown",
   "id": "c751f8e0",
   "metadata": {},
   "source": [
    "## Uniikkien käyttäjien, ryhmien ja yritysten määrät interaktioissa"
   ]
  },
  {
   "cell_type": "code",
   "execution_count": 5,
   "id": "42a0c0f1",
   "metadata": {},
   "outputs": [
    {
     "name": "stdout",
     "output_type": "stream",
     "text": [
      "<bound method DataFrame.info of                                     group_id business_id  \\\n",
      "0       3a63222b-86b2-4293-bd2e-171011190ae6    31291154   \n",
      "1       c2626398-faac-4ff3-b02d-cdc64b50cdaa    01681709   \n",
      "2       c2626398-faac-4ff3-b02d-cdc64b50cdaa    15055514   \n",
      "3       c2626398-faac-4ff3-b02d-cdc64b50cdaa    01876143   \n",
      "4       c2626398-faac-4ff3-b02d-cdc64b50cdaa    01863991   \n",
      "...                                      ...         ...   \n",
      "548193  8b0915ff-a0cb-4520-9160-8d783a6bf308    25610905   \n",
      "548194  8b0915ff-a0cb-4520-9160-8d783a6bf308    21281841   \n",
      "548195  8b0915ff-a0cb-4520-9160-8d783a6bf308    23633484   \n",
      "548196  8b0915ff-a0cb-4520-9160-8d783a6bf308    23552270   \n",
      "548197  8b0915ff-a0cb-4520-9160-8d783a6bf308    30073884   \n",
      "\n",
      "                           owner  \n",
      "0       603e1524d377150007c2dbea  \n",
      "1       60646431ae18cb00063ed63f  \n",
      "2       60646431ae18cb00063ed63f  \n",
      "3       60646431ae18cb00063ed63f  \n",
      "4       60646431ae18cb00063ed63f  \n",
      "...                          ...  \n",
      "548193  6110c56241e21e000857ca77  \n",
      "548194  6110c56241e21e000857ca77  \n",
      "548195  6110c56241e21e000857ca77  \n",
      "548196  6110c56241e21e000857ca77  \n",
      "548197  6110c56241e21e000857ca77  \n",
      "\n",
      "[548198 rows x 3 columns]>\n",
      "Unique users: 344\n",
      "Unique groups: 1403\n",
      "Unique companies: 151321\n"
     ]
    }
   ],
   "source": [
    "print(INTERACTIONS.info)\n",
    "print('Unique users: {}'.format(INTERACTIONS['owner'].unique().shape[0]))\n",
    "print('Unique groups: {}'.format(INTERACTIONS['group_id'].unique().shape[0]))\n",
    "print('Unique companies: {}'.format(INTERACTIONS['business_id'].unique().shape[0]))"
   ]
  },
  {
   "cell_type": "markdown",
   "id": "a8f8626b",
   "metadata": {},
   "source": [
    "## Ryhmien keskimääräinen koko/kokojakauma"
   ]
  },
  {
   "cell_type": "code",
   "execution_count": 6,
   "id": "b477dffa",
   "metadata": {},
   "outputs": [
    {
     "name": "stdout",
     "output_type": "stream",
     "text": [
      "Group size mean: 390.73\n",
      "Group size median: 58.00\n",
      "Group size mode: 1\n"
     ]
    },
    {
     "data": {
      "text/plain": [
       "(array([1092.,  124.,   49.,   32.,   22.,   17.,   17.,    9.,   11.,\n",
       "          30.]),\n",
       " array([1.0, 400.8, 800.6, 1200.4, 1600.2, 2000.0, 2399.8, 2799.6, 3199.4,\n",
       "        3599.2000000000003, 3999.0], dtype=object),\n",
       " <BarContainer object of 10 artists>)"
      ]
     },
     "execution_count": 6,
     "metadata": {},
     "output_type": "execute_result"
    },
    {
     "data": {
      "image/png": "[encoded data removed]",
      "text/plain": [
       "<Figure size 432x288 with 1 Axes>"
      ]
     },
     "metadata": {
      "needs_background": "light"
     },
     "output_type": "display_data"
    }
   ],
   "source": [
    "group_sizes = INTERACTIONS['group_id'].value_counts()\n",
    "\n",
    "print('Group size mean: {mean:.2f}'.format(mean=group_sizes.mean()))\n",
    "print('Group size median: {median:.2f}'.format(median=group_sizes.median()))\n",
    "print('Group size mode: {mode}'.format(mode=group_sizes.mode()[0]))\n",
    "\n",
    "plt.figure()\n",
    "plt.title('Ryhmien koot')\n",
    "plt.hist(group_sizes)\n"
   ]
  },
  {
   "cell_type": "markdown",
   "id": "bd164abc",
   "metadata": {},
   "source": [
    "## Ryhmäkokojen tunnusluvut, group_size >= 2"
   ]
  },
  {
   "cell_type": "code",
   "execution_count": 7,
   "id": "8fef54e9",
   "metadata": {},
   "outputs": [
    {
     "name": "stdout",
     "output_type": "stream",
     "text": [
      "Group size mean: 417.76\n",
      "Group size median: 75.00\n",
      "Group size mode: 2\n"
     ]
    },
    {
     "data": {
      "text/plain": [
       "(array([1001.,  124.,   49.,   32.,   22.,   17.,   17.,    9.,   11.,\n",
       "          30.]),\n",
       " array([2.0, 401.7, 801.4, 1201.1, 1600.8, 2000.5, 2400.2, 2799.9, 3199.6,\n",
       "        3599.2999999999997, 3999.0], dtype=object),\n",
       " <BarContainer object of 10 artists>)"
      ]
     },
     "execution_count": 7,
     "metadata": {},
     "output_type": "execute_result"
    },
    {
     "data": {
      "image/png": "[encoded data removed]",
      "text/plain": [
       "<Figure size 432x288 with 1 Axes>"
      ]
     },
     "metadata": {
      "needs_background": "light"
     },
     "output_type": "display_data"
    }
   ],
   "source": [
    "group_sizes_tmp = INTERACTIONS['group_id'].value_counts()\n",
    "group_sizes = group_sizes_tmp[group_sizes_tmp >= 2]\n",
    "\n",
    "print('Group size mean: {mean:.2f}'.format(mean=group_sizes.mean()))\n",
    "print('Group size median: {median:.2f}'.format(median=group_sizes.median()))\n",
    "print('Group size mode: {mode}'.format(mode=group_sizes.mode()[0]))\n",
    "\n",
    "plt.figure()\n",
    "plt.title('Väh 2 kokoisten ryhmien koot')\n",
    "plt.hist(group_sizes)"
   ]
  },
  {
   "cell_type": "code",
   "execution_count": 9,
   "id": "ccc036b8",
   "metadata": {},
   "outputs": [
    {
     "name": "stdout",
     "output_type": "stream",
     "text": [
      "<bound method DataFrame.info of                                     group_id business_id  \\\n",
      "0       3a63222b-86b2-4293-bd2e-171011190ae6    31291154   \n",
      "1       3a63222b-86b2-4293-bd2e-171011190ae6    08544918   \n",
      "2       3a63222b-86b2-4293-bd2e-171011190ae6    10134299   \n",
      "3       3a63222b-86b2-4293-bd2e-171011190ae6    26404708   \n",
      "4       3a63222b-86b2-4293-bd2e-171011190ae6    29747968   \n",
      "...                                      ...         ...   \n",
      "548193  8b0915ff-a0cb-4520-9160-8d783a6bf308    25610905   \n",
      "548194  8b0915ff-a0cb-4520-9160-8d783a6bf308    21281841   \n",
      "548195  8b0915ff-a0cb-4520-9160-8d783a6bf308    23633484   \n",
      "548196  8b0915ff-a0cb-4520-9160-8d783a6bf308    23552270   \n",
      "548197  8b0915ff-a0cb-4520-9160-8d783a6bf308    30073884   \n",
      "\n",
      "                           owner  group_size  \n",
      "0       603e1524d377150007c2dbea           5  \n",
      "1       603e1524d377150007c2dbea           5  \n",
      "2       603e1524d377150007c2dbea           5  \n",
      "3       603e1524d377150007c2dbea           5  \n",
      "4       603e1524d377150007c2dbea           5  \n",
      "...                          ...         ...  \n",
      "548193  6110c56241e21e000857ca77         131  \n",
      "548194  6110c56241e21e000857ca77         131  \n",
      "548195  6110c56241e21e000857ca77         131  \n",
      "548196  6110c56241e21e000857ca77         131  \n",
      "548197  6110c56241e21e000857ca77         131  \n",
      "\n",
      "[548107 rows x 4 columns]>\n",
      "Unique users: 325\n",
      "Unique groups: 1312\n",
      "Unique companies: 151320\n"
     ]
    }
   ],
   "source": [
    "INTERACTIONS_2 = INTERACTIONS_WITH_GROUP_SIZES[INTERACTIONS_WITH_GROUP_SIZES.group_size >= 2]\n",
    "\n",
    "print(INTERACTIONS_2.info)\n",
    "print('Unique users: {}'.format(INTERACTIONS_2['owner'].unique().shape[0]))\n",
    "print('Unique groups: {}'.format(INTERACTIONS_2['group_id'].unique().shape[0]))\n",
    "print('Unique companies: {}'.format(INTERACTIONS_2['business_id'].unique().shape[0]))"
   ]
  },
  {
   "cell_type": "markdown",
   "id": "8305f1b1",
   "metadata": {},
   "source": [
    "## Ryhmäkokojen tunnusluvut, group_size >= 10"
   ]
  },
  {
   "cell_type": "code",
   "execution_count": 8,
   "id": "7edd3b33",
   "metadata": {},
   "outputs": [
    {
     "name": "stdout",
     "output_type": "stream",
     "text": [
      "Group size mean: 531.87\n",
      "Group size median: 154.50\n",
      "Group size mode: 10\n"
     ]
    },
    {
     "data": {
      "text/plain": [
       "(array([720., 121.,  49.,  34.,  20.,  18.,  16.,   9.,  11.,  30.]),\n",
       " array([10.0, 408.9, 807.8, 1206.6999999999998, 1605.6, 2004.5,\n",
       "        2403.3999999999996, 2802.2999999999997, 3201.2, 3600.1, 3999.0],\n",
       "       dtype=object),\n",
       " <BarContainer object of 10 artists>)"
      ]
     },
     "execution_count": 8,
     "metadata": {},
     "output_type": "execute_result"
    },
    {
     "data": {
      "image/png": "[encoded data removed]",
      "text/plain": [
       "<Figure size 432x288 with 1 Axes>"
      ]
     },
     "metadata": {
      "needs_background": "light"
     },
     "output_type": "display_data"
    }
   ],
   "source": [
    "group_sizes_tmp = INTERACTIONS['group_id'].value_counts()\n",
    "group_sizes = group_sizes_tmp[group_sizes_tmp >= 10]\n",
    "\n",
    "print('Group size mean: {mean:.2f}'.format(mean=group_sizes.mean()))\n",
    "print('Group size median: {median:.2f}'.format(median=group_sizes.median()))\n",
    "print('Group size mode: {mode}'.format(mode=group_sizes.mode()[0]))\n",
    "\n",
    "plt.figure()\n",
    "plt.title('Yli 10 kokoisten ryhmien koot')\n",
    "plt.hist(group_sizes)"
   ]
  },
  {
   "cell_type": "code",
   "execution_count": 56,
   "id": "1cb46326",
   "metadata": {},
   "outputs": [
    {
     "name": "stdout",
     "output_type": "stream",
     "text": [
      "<bound method DataFrame.info of                                     group_id business_id  \\\n",
      "5       c2626398-faac-4ff3-b02d-cdc64b50cdaa    01681709   \n",
      "6       c2626398-faac-4ff3-b02d-cdc64b50cdaa    15055514   \n",
      "7       c2626398-faac-4ff3-b02d-cdc64b50cdaa    01876143   \n",
      "8       c2626398-faac-4ff3-b02d-cdc64b50cdaa    01863991   \n",
      "9       c2626398-faac-4ff3-b02d-cdc64b50cdaa    05363070   \n",
      "...                                      ...         ...   \n",
      "548193  8b0915ff-a0cb-4520-9160-8d783a6bf308    25610905   \n",
      "548194  8b0915ff-a0cb-4520-9160-8d783a6bf308    21281841   \n",
      "548195  8b0915ff-a0cb-4520-9160-8d783a6bf308    23633484   \n",
      "548196  8b0915ff-a0cb-4520-9160-8d783a6bf308    23552270   \n",
      "548197  8b0915ff-a0cb-4520-9160-8d783a6bf308    30073884   \n",
      "\n",
      "                           owner  group_size  \n",
      "5       60646431ae18cb00063ed63f        1862  \n",
      "6       60646431ae18cb00063ed63f        1862  \n",
      "7       60646431ae18cb00063ed63f        1862  \n",
      "8       60646431ae18cb00063ed63f        1862  \n",
      "9       60646431ae18cb00063ed63f        1862  \n",
      "...                          ...         ...  \n",
      "548193  6110c56241e21e000857ca77         131  \n",
      "548194  6110c56241e21e000857ca77         131  \n",
      "548195  6110c56241e21e000857ca77         131  \n",
      "548196  6110c56241e21e000857ca77         131  \n",
      "548197  6110c56241e21e000857ca77         131  \n",
      "\n",
      "[546764 rows x 4 columns]>\n",
      "Unique users: 260\n",
      "Unique groups: 1028\n",
      "Unique companies: 151232\n"
     ]
    }
   ],
   "source": [
    "INTERACTIONS_10 = INTERACTIONS_WITH_GROUP_SIZES[INTERACTIONS_WITH_GROUP_SIZES.group_size >= 10]\n",
    "\n",
    "print(INTERACTIONS_10.info)\n",
    "print('Unique users: {}'.format(INTERACTIONS_10['owner'].unique().shape[0]))\n",
    "print('Unique groups: {}'.format(INTERACTIONS_10['group_id'].unique().shape[0]))\n",
    "print('Unique companies: {}'.format(INTERACTIONS_10['business_id'].unique().shape[0]))"
   ]
  },
  {
   "cell_type": "markdown",
   "id": "dfecf62b",
   "metadata": {},
   "source": [
    "## Ryhmäkokojen tunnusluvut, group_size >=50"
   ]
  },
  {
   "cell_type": "code",
   "execution_count": 9,
   "id": "1fe613c7",
   "metadata": {},
   "outputs": [
    {
     "name": "stdout",
     "output_type": "stream",
     "text": [
      "Group size mean: 738.41\n",
      "Group size median: 306.00\n",
      "Group size mode: 97\n"
     ]
    },
    {
     "data": {
      "text/plain": [
       "(array([441., 108.,  44.,  36.,  18.,  19.,  15.,   9.,  11.,  30.]),\n",
       " array([50.0, 444.9, 839.8, 1234.6999999999998, 1629.6, 2024.5,\n",
       "        2419.3999999999996, 2814.2999999999997, 3209.2, 3604.1, 3999.0],\n",
       "       dtype=object),\n",
       " <BarContainer object of 10 artists>)"
      ]
     },
     "execution_count": 9,
     "metadata": {},
     "output_type": "execute_result"
    },
    {
     "data": {
      "image/png": "[encoded data removed]",
      "text/plain": [
       "<Figure size 432x288 with 1 Axes>"
      ]
     },
     "metadata": {
      "needs_background": "light"
     },
     "output_type": "display_data"
    }
   ],
   "source": [
    "group_sizes_tmp = INTERACTIONS['group_id'].value_counts()\n",
    "group_sizes = group_sizes_tmp[group_sizes_tmp >= 50]\n",
    "\n",
    "print('Group size mean: {mean:.2f}'.format(mean=group_sizes.mean()))\n",
    "print('Group size median: {median:.2f}'.format(median=group_sizes.median()))\n",
    "print('Group size mode: {mode}'.format(mode=group_sizes.mode()[0]))\n",
    "\n",
    "plt.figure()\n",
    "plt.title('Yli 50 kokoisten ryhmien koot')\n",
    "plt.hist(group_sizes)"
   ]
  },
  {
   "cell_type": "code",
   "execution_count": 57,
   "id": "47082abf",
   "metadata": {},
   "outputs": [
    {
     "name": "stdout",
     "output_type": "stream",
     "text": [
      "<bound method DataFrame.info of                                     group_id business_id  \\\n",
      "5       c2626398-faac-4ff3-b02d-cdc64b50cdaa    01681709   \n",
      "6       c2626398-faac-4ff3-b02d-cdc64b50cdaa    15055514   \n",
      "7       c2626398-faac-4ff3-b02d-cdc64b50cdaa    01876143   \n",
      "8       c2626398-faac-4ff3-b02d-cdc64b50cdaa    01863991   \n",
      "9       c2626398-faac-4ff3-b02d-cdc64b50cdaa    05363070   \n",
      "...                                      ...         ...   \n",
      "548193  8b0915ff-a0cb-4520-9160-8d783a6bf308    25610905   \n",
      "548194  8b0915ff-a0cb-4520-9160-8d783a6bf308    21281841   \n",
      "548195  8b0915ff-a0cb-4520-9160-8d783a6bf308    23633484   \n",
      "548196  8b0915ff-a0cb-4520-9160-8d783a6bf308    23552270   \n",
      "548197  8b0915ff-a0cb-4520-9160-8d783a6bf308    30073884   \n",
      "\n",
      "                           owner  group_size  \n",
      "5       60646431ae18cb00063ed63f        1862  \n",
      "6       60646431ae18cb00063ed63f        1862  \n",
      "7       60646431ae18cb00063ed63f        1862  \n",
      "8       60646431ae18cb00063ed63f        1862  \n",
      "9       60646431ae18cb00063ed63f        1862  \n",
      "...                          ...         ...  \n",
      "548193  6110c56241e21e000857ca77         131  \n",
      "548194  6110c56241e21e000857ca77         131  \n",
      "548195  6110c56241e21e000857ca77         131  \n",
      "548196  6110c56241e21e000857ca77         131  \n",
      "548197  6110c56241e21e000857ca77         131  \n",
      "\n",
      "[539777 rows x 4 columns]>\n",
      "Unique users: 178\n",
      "Unique groups: 731\n",
      "Unique companies: 150836\n"
     ]
    }
   ],
   "source": [
    "INTERACTIONS_50 = INTERACTIONS_WITH_GROUP_SIZES[INTERACTIONS_WITH_GROUP_SIZES.group_size >=50]\n",
    "\n",
    "print(INTERACTIONS_50.info)\n",
    "print('Unique users: {}'.format(INTERACTIONS_50['owner'].unique().shape[0]))\n",
    "print('Unique groups: {}'.format(INTERACTIONS_50['group_id'].unique().shape[0]))\n",
    "print('Unique companies: {}'.format(INTERACTIONS_50['business_id'].unique().shape[0]))"
   ]
  },
  {
   "cell_type": "markdown",
   "id": "93d43763",
   "metadata": {},
   "source": [
    "## Verkostojen kuvaamista"
   ]
  },
  {
   "cell_type": "markdown",
   "id": "8c5c1198",
   "metadata": {},
   "source": [
    "### Ryhmien linkit toisiinsa"
   ]
  },
  {
   "cell_type": "code",
   "execution_count": 69,
   "id": "006568bc",
   "metadata": {},
   "outputs": [
    {
     "name": "stdout",
     "output_type": "stream",
     "text": [
      "1858541402/1403, gid2: 1/110000\n"
     ]
    }
   ],
   "source": [
    "group_ids = INTERACTIONS['group_id'].unique()\n",
    "group_ids_stack = list(group_ids)\n",
    "\n",
    "total1 = group_ids.shape[0]\n",
    "curr1 = 0\n",
    "\n",
    "linked_groups = []\n",
    "\n",
    "for gid1 in group_ids: # start 12:35\n",
    "    curr1 += 1 \n",
    "\n",
    "    g1_companies = set(INTERACTIONS.loc[INTERACTIONS['group_id'] == gid1]['business_id'])\n",
    "    \n",
    "    group_ids_stack.pop(0)\n",
    "    \n",
    "    curr2 = 0\n",
    "    total2 = len(group_ids_stack)\n",
    "    \n",
    "    for gid2 in group_ids_stack:\n",
    "        curr2 += 1\n",
    "        print('gid1: {}/{}, gid2: {}/{}'.format(curr1, total1, curr2, total2), end=\"\\r\")\n",
    "        g2_companies = set(INTERACTIONS.loc[INTERACTIONS['group_id'] == gid2]['business_id'])\n",
    "        \n",
    "        link_weight = len(g1_companies.intersection(g2_companies))\n",
    "        \n",
    "        if (link_weight > 0):\n",
    "            linked_groups.append((gid1, gid2, link_weight))\n",
    "\n",
    "\n",
    "\n",
    "   \n",
    "\n",
    "\n",
    "        \n",
    "        \n",
    "        \n",
    "print(len(linked_groups))"
   ]
  },
  {
   "cell_type": "code",
   "execution_count": 75,
   "id": "e64fa907",
   "metadata": {},
   "outputs": [
    {
     "name": "stdout",
     "output_type": "stream",
     "text": [
      "185854\n"
     ]
    }
   ],
   "source": [
    "LINKED_GROUPS = list(linked_groups)\n",
    "\n",
    "print(len(LINKED_GROUPS))"
   ]
  },
  {
   "cell_type": "code",
   "execution_count": 83,
   "id": "dd8e3c46",
   "metadata": {},
   "outputs": [],
   "source": [
    "GROUP_G = nx.Graph()\n",
    "GROUP_G.add_weighted_edges_from(LINKED_GROUPS)"
   ]
  },
  {
   "cell_type": "code",
   "execution_count": 84,
   "id": "83262a5f",
   "metadata": {},
   "outputs": [
    {
     "ename": "KeyboardInterrupt",
     "evalue": "",
     "output_type": "error",
     "traceback": [
      "\u001b[0;31m---------------------------------------------------------------------------\u001b[0m",
      "\u001b[0;31mKeyboardInterrupt\u001b[0m                         Traceback (most recent call last)",
      "\u001b[0;32m/tmp/ipykernel_66/2688369169.py\u001b[0m in \u001b[0;36m<module>\u001b[0;34m\u001b[0m\n\u001b[1;32m      1\u001b[0m \u001b[0mgroup_graph_vis\u001b[0m \u001b[0;34m=\u001b[0m \u001b[0mNetwork\u001b[0m\u001b[0;34m(\u001b[0m\u001b[0mnotebook\u001b[0m\u001b[0;34m=\u001b[0m\u001b[0;32mTrue\u001b[0m\u001b[0;34m)\u001b[0m\u001b[0;34m\u001b[0m\u001b[0;34m\u001b[0m\u001b[0m\n\u001b[0;32m----> 2\u001b[0;31m \u001b[0mgroup_graph_vis\u001b[0m\u001b[0;34m.\u001b[0m\u001b[0mfrom_nx\u001b[0m\u001b[0;34m(\u001b[0m\u001b[0mGROUP_G\u001b[0m\u001b[0;34m)\u001b[0m\u001b[0;34m\u001b[0m\u001b[0;34m\u001b[0m\u001b[0m\n\u001b[0m\u001b[1;32m      3\u001b[0m \u001b[0mgroup_graph_vis\u001b[0m\u001b[0;34m.\u001b[0m\u001b[0mshow\u001b[0m\u001b[0;34m(\u001b[0m\u001b[0;34m\"group_graph.html\"\u001b[0m\u001b[0;34m)\u001b[0m\u001b[0;34m\u001b[0m\u001b[0;34m\u001b[0m\u001b[0m\n",
      "\u001b[0;32m/opt/conda/lib/python3.9/site-packages/pyvis/network.py\u001b[0m in \u001b[0;36mfrom_nx\u001b[0;34m(self, nx_graph, node_size_transf, edge_weight_transf, default_node_size, default_edge_weight)\u001b[0m\n\u001b[1;32m    616\u001b[0m                     \u001b[0me\u001b[0m\u001b[0;34m[\u001b[0m\u001b[0;36m2\u001b[0m\u001b[0;34m]\u001b[0m\u001b[0;34m[\u001b[0m\u001b[0;34m'weight'\u001b[0m\u001b[0;34m]\u001b[0m \u001b[0;34m=\u001b[0m \u001b[0mdefault_edge_weight\u001b[0m\u001b[0;34m\u001b[0m\u001b[0;34m\u001b[0m\u001b[0m\n\u001b[1;32m    617\u001b[0m                 \u001b[0me\u001b[0m\u001b[0;34m[\u001b[0m\u001b[0;36m2\u001b[0m\u001b[0;34m]\u001b[0m\u001b[0;34m[\u001b[0m\u001b[0;34m'weight'\u001b[0m\u001b[0;34m]\u001b[0m \u001b[0;34m=\u001b[0m \u001b[0medge_weight_transf\u001b[0m\u001b[0;34m(\u001b[0m\u001b[0me\u001b[0m\u001b[0;34m[\u001b[0m\u001b[0;36m2\u001b[0m\u001b[0;34m]\u001b[0m\u001b[0;34m[\u001b[0m\u001b[0;34m'weight'\u001b[0m\u001b[0;34m]\u001b[0m\u001b[0;34m)\u001b[0m\u001b[0;34m\u001b[0m\u001b[0;34m\u001b[0m\u001b[0m\n\u001b[0;32m--> 618\u001b[0;31m                 \u001b[0mself\u001b[0m\u001b[0;34m.\u001b[0m\u001b[0madd_edge\u001b[0m\u001b[0;34m(\u001b[0m\u001b[0me\u001b[0m\u001b[0;34m[\u001b[0m\u001b[0;36m0\u001b[0m\u001b[0;34m]\u001b[0m\u001b[0;34m,\u001b[0m \u001b[0me\u001b[0m\u001b[0;34m[\u001b[0m\u001b[0;36m1\u001b[0m\u001b[0;34m]\u001b[0m\u001b[0;34m,\u001b[0m \u001b[0;34m**\u001b[0m\u001b[0me\u001b[0m\u001b[0;34m[\u001b[0m\u001b[0;36m2\u001b[0m\u001b[0;34m]\u001b[0m\u001b[0;34m)\u001b[0m\u001b[0;34m\u001b[0m\u001b[0;34m\u001b[0m\u001b[0m\n\u001b[0m\u001b[1;32m    619\u001b[0m \u001b[0;34m\u001b[0m\u001b[0m\n\u001b[1;32m    620\u001b[0m         \u001b[0;32mfor\u001b[0m \u001b[0mnode\u001b[0m \u001b[0;32min\u001b[0m \u001b[0mnx\u001b[0m\u001b[0;34m.\u001b[0m\u001b[0misolates\u001b[0m\u001b[0;34m(\u001b[0m\u001b[0mnx_graph\u001b[0m\u001b[0;34m)\u001b[0m\u001b[0;34m:\u001b[0m\u001b[0;34m\u001b[0m\u001b[0;34m\u001b[0m\u001b[0m\n",
      "\u001b[0;32m/opt/conda/lib/python3.9/site-packages/pyvis/network.py\u001b[0m in \u001b[0;36madd_edge\u001b[0;34m(self, source, to, **options)\u001b[0m\n\u001b[1;32m    347\u001b[0m                 if (\n\u001b[1;32m    348\u001b[0m                     \u001b[0;34m(\u001b[0m\u001b[0msource\u001b[0m \u001b[0;34m==\u001b[0m \u001b[0mdest\u001b[0m \u001b[0;32mand\u001b[0m \u001b[0mto\u001b[0m \u001b[0;34m==\u001b[0m \u001b[0mfrm\u001b[0m\u001b[0;34m)\u001b[0m \u001b[0;32mor\u001b[0m\u001b[0;34m\u001b[0m\u001b[0;34m\u001b[0m\u001b[0m\n\u001b[0;32m--> 349\u001b[0;31m                     \u001b[0;34m(\u001b[0m\u001b[0msource\u001b[0m \u001b[0;34m==\u001b[0m \u001b[0mfrm\u001b[0m \u001b[0;32mand\u001b[0m \u001b[0mto\u001b[0m \u001b[0;34m==\u001b[0m \u001b[0mdest\u001b[0m\u001b[0;34m)\u001b[0m\u001b[0;34m\u001b[0m\u001b[0;34m\u001b[0m\u001b[0m\n\u001b[0m\u001b[1;32m    350\u001b[0m                 ):\n\u001b[1;32m    351\u001b[0m                     \u001b[0;31m# edge already exists\u001b[0m\u001b[0;34m\u001b[0m\u001b[0;34m\u001b[0m\u001b[0;34m\u001b[0m\u001b[0m\n",
      "\u001b[0;31mKeyboardInterrupt\u001b[0m: "
     ]
    }
   ],
   "source": [
    "group_graph_vis = Network(notebook=True)\n",
    "group_graph_vis.from_nx(GROUP_G)\n",
    "group_graph_vis.show(\"group_graph.html\")"
   ]
  },
  {
   "cell_type": "markdown",
   "id": "809402be",
   "metadata": {},
   "source": [
    "## Yritysdatan penkomista"
   ]
  },
  {
   "cell_type": "markdown",
   "id": "b98c9f8d",
   "metadata": {},
   "source": [
    "### Kuinka monta yritystä löytyy useammasta ryhmästä?"
   ]
  },
  {
   "cell_type": "code",
   "execution_count": 11,
   "id": "f39baa81",
   "metadata": {},
   "outputs": [
    {
     "name": "stdout",
     "output_type": "stream",
     "text": [
      "01490726    110\n",
      "11022678    108\n",
      "15923318    107\n",
      "05642870    105\n",
      "19274001    104\n",
      "10410900    104\n",
      "10983223    104\n",
      "08442102    102\n",
      "19992126    102\n",
      "15055557    102\n",
      "01084664    101\n",
      "09215470    101\n",
      "01120389    101\n",
      "02134547    101\n",
      "10453978    100\n",
      "01286311    100\n",
      "19274028    100\n",
      "19447574    100\n",
      "09342090    100\n",
      "08436562     99\n",
      "Name: business_id, dtype: Int64\n"
     ]
    }
   ],
   "source": [
    "business_counts = INTERACTIONS['business_id'].value_counts()\n",
    "business_counts_10 = INTERACTIONS_10['business_id'].value_counts()\n",
    "business_counts_50 = INTERACTIONS_50['business_id'].value_counts()\n",
    "\n",
    "\n",
    "print(business_counts[0:20])\n",
    "#print(business_counts_10[0:20])\n",
    "#print(business_counts_50[0:20])"
   ]
  },
  {
   "cell_type": "markdown",
   "id": "ab649a44",
   "metadata": {},
   "source": []
  },
  {
   "cell_type": "markdown",
   "id": "fc4756b7",
   "metadata": {},
   "source": [
    "## Opit\n",
    "\n",
    "- Ryhmän kokojakauman perusteella pitäisi varmaan pudottaa 1:n kokoiset ryhmät pois...\n"
   ]
  },
  {
   "cell_type": "markdown",
   "id": "aad1fb4c",
   "metadata": {},
   "source": [
    "## Avoimia kysymyksiä\n",
    "\n",
    "- Mikä on sopiva minimikoko mukaanotettavalle ryhmälle?\n",
    "- Mikä on sopiva minimikoko "
   ]
  },
  {
   "cell_type": "code",
   "execution_count": null,
   "id": "c64cae42",
   "metadata": {},
   "outputs": [],
   "source": []
  }
 ],
 "metadata": {
  "kernelspec": {
   "display_name": "Python 3 (ipykernel)",
   "language": "python",
   "name": "python3"
  },
  "language_info": {
   "codemirror_mode": {
    "name": "ipython",
    "version": 3
   },
   "file_extension": ".py",
   "mimetype": "text/x-python",
   "name": "python",
   "nbconvert_exporter": "python",
   "pygments_lexer": "ipython3",
   "version": "3.9.7"
  }
 },
 "nbformat": 4,
 "nbformat_minor": 5
}
