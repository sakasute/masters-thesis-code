{
 "cells": [
  {
   "cell_type": "markdown",
   "id": "fa0c68fd",
   "metadata": {},
   "source": [
    "# Tutkitaan datasettien ominaisuuksia"
   ]
  },
  {
   "cell_type": "code",
   "execution_count": 29,
   "id": "4f3776a6",
   "metadata": {},
   "outputs": [],
   "source": [
    "import numpy as np\n",
    "import pandas as pd\n",
    "\n",
    "import matplotlib.pyplot as plt\n"
   ]
  },
  {
   "cell_type": "markdown",
   "id": "9e228adc",
   "metadata": {},
   "source": [
    "## Ladataan datat"
   ]
  },
  {
   "cell_type": "code",
   "execution_count": 4,
   "id": "266607a5",
   "metadata": {},
   "outputs": [],
   "source": [
    "COMPANIES = pd \\\n",
    "        .read_csv('data/prod_data_companies_2021_08_22.csv',\n",
    "                  delimiter='\\t',\n",
    "                  na_values='(null)',\n",
    "                  dtype={\n",
    "                      'business_id': 'string',\n",
    "                      'company_name': 'string',\n",
    "                      'company_form': 'string',\n",
    "                      'company_form_code': 'string',\n",
    "                      'location_region': 'string',\n",
    "                      'location_region_code': 'string',\n",
    "                      'location_municipality': 'string',\n",
    "                      'location_municipality_code': 'string',\n",
    "                      'industry_code': 'string',\n",
    "                      'company_status': 'string',\n",
    "                      'company_status_code': 'string',\n",
    "                      'personnel_class': 'string'\n",
    "                  }\n",
    "                  )\n",
    "\n",
    "INTERACTIONS = pd \\\n",
    "    .read_csv('data/interactions_2021_08_19.csv',\n",
    "             delimiter='\\t',\n",
    "             dtype={\n",
    "                 'group_id': 'string',\n",
    "                 'business_id': 'string',\n",
    "                 'owner': 'string'\n",
    "             })"
   ]
  },
  {
   "cell_type": "markdown",
   "id": "fe7b4350",
   "metadata": {},
   "source": [
    "## Uniikkien käyttäjien, ryhmien ja yritysten määrät interaktioissa"
   ]
  },
  {
   "cell_type": "code",
   "execution_count": 13,
   "id": "b135228a",
   "metadata": {},
   "outputs": [
    {
     "name": "stdout",
     "output_type": "stream",
     "text": [
      "Unique users: 344\n",
      "Unique groups: 1403\n",
      "Unique companies: 151321\n"
     ]
    }
   ],
   "source": [
    "print('Unique users: {}'.format(INTERACTIONS['owner'].unique().shape[0]))\n",
    "print('Unique groups: {}'.format(INTERACTIONS['group_id'].unique().shape[0]))\n",
    "print('Unique companies: {}'.format(INTERACTIONS['business_id'].unique().shape[0]))"
   ]
  },
  {
   "cell_type": "markdown",
   "id": "82ecfba8",
   "metadata": {},
   "source": [
    "## Ryhmien keskimääräinen koko/kokojakauma"
   ]
  },
  {
   "cell_type": "code",
   "execution_count": 55,
   "id": "41499ffa",
   "metadata": {},
   "outputs": [
    {
     "name": "stdout",
     "output_type": "stream",
     "text": [
      "Group size mean: 390.73\n",
      "Group size median: 58.00\n",
      "Group size mode: 1\n"
     ]
    },
    {
     "data": {
      "text/plain": [
       "(array([1092.,  124.,   49.,   32.,   22.,   17.,   17.,    9.,   11.,\n",
       "          30.]),\n",
       " array([1.0, 400.8, 800.6, 1200.4, 1600.2, 2000.0, 2399.8, 2799.6, 3199.4,\n",
       "        3599.2000000000003, 3999.0], dtype=object),\n",
       " <BarContainer object of 10 artists>)"
      ]
     },
     "execution_count": 55,
     "metadata": {},
     "output_type": "execute_result"
    },
    {
     "data": {
      "image/png": "[encoded data removed]",
      "text/plain": [
       "<Figure size 432x288 with 1 Axes>"
      ]
     },
     "metadata": {
      "needs_background": "light"
     },
     "output_type": "display_data"
    }
   ],
   "source": [
    "group_sizes = INTERACTIONS['group_id'].value_counts()\n",
    "\n",
    "print('Group size mean: {mean:.2f}'.format(mean=group_sizes.mean()))\n",
    "print('Group size median: {median:.2f}'.format(median=group_sizes.median()))\n",
    "print('Group size mode: {mode}'.format(mode=group_sizes.mode()[0]))\n",
    "\n",
    "plt.figure()\n",
    "plt.title('Ryhmien koot')\n",
    "plt.hist(group_sizes)\n"
   ]
  },
  {
   "cell_type": "markdown",
   "id": "d5e31a58",
   "metadata": {},
   "source": [
    "## Ryhmäkokojen tunnusluvut, group_size >= 10"
   ]
  },
  {
   "cell_type": "code",
   "execution_count": 61,
   "id": "88afcc88",
   "metadata": {},
   "outputs": [
    {
     "name": "stdout",
     "output_type": "stream",
     "text": [
      "Group size mean: 531.87\n",
      "Group size median: 154.50\n",
      "Group size mode: 10\n"
     ]
    },
    {
     "data": {
      "text/plain": [
       "(array([720., 121.,  49.,  34.,  20.,  18.,  16.,   9.,  11.,  30.]),\n",
       " array([10.0, 408.9, 807.8, 1206.6999999999998, 1605.6, 2004.5,\n",
       "        2403.3999999999996, 2802.2999999999997, 3201.2, 3600.1, 3999.0],\n",
       "       dtype=object),\n",
       " <BarContainer object of 10 artists>)"
      ]
     },
     "execution_count": 61,
     "metadata": {},
     "output_type": "execute_result"
    },
    {
     "data": {
      "image/png": "[encoded data removed]",
      "text/plain": [
       "<Figure size 432x288 with 1 Axes>"
      ]
     },
     "metadata": {
      "needs_background": "light"
     },
     "output_type": "display_data"
    }
   ],
   "source": [
    "group_sizes_tmp = INTERACTIONS['group_id'].value_counts()\n",
    "group_sizes = group_sizes_tmp[group_sizes_tmp >= 10]\n",
    "\n",
    "print('Group size mean: {mean:.2f}'.format(mean=group_sizes.mean()))\n",
    "print('Group size median: {median:.2f}'.format(median=group_sizes.median()))\n",
    "print('Group size mode: {mode}'.format(mode=group_sizes.mode()[0]))\n",
    "\n",
    "plt.figure()\n",
    "plt.title('Yli 10 kokoisten ryhmien koot')\n",
    "plt.hist(group_sizes)"
   ]
  },
  {
   "cell_type": "code",
   "execution_count": null,
   "id": "7c9c4929",
   "metadata": {},
   "outputs": [],
   "source": [
    "Seuraavaksi uniikit luvut group_size > 10 ryhmillä!"
   ]
  },
  {
   "cell_type": "markdown",
   "id": "2198c9bc",
   "metadata": {},
   "source": [
    "## Opit\n",
    "\n",
    "- Ryhmän kokojakauman perusteella pitäisi varmaan pudottaa 1:n kokoiset ryhmät pois...\n"
   ]
  },
  {
   "cell_type": "markdown",
   "id": "abf59de4",
   "metadata": {},
   "source": [
    "## Avoimia kysymyksiä\n",
    "\n",
    "- Mikä on sopiva minimikoko mukaanotettavalle ryhmälle?\n",
    "- Mikä on sopiva minimikoko "
   ]
  },
  {
   "cell_type": "code",
   "execution_count": null,
   "id": "b02931d7",
   "metadata": {},
   "outputs": [],
   "source": []
  }
 ],
 "metadata": {
  "kernelspec": {
   "display_name": "Python 3 (ipykernel)",
   "language": "python",
   "name": "python3"
  },
  "language_info": {
   "codemirror_mode": {
    "name": "ipython",
    "version": 3
   },
   "file_extension": ".py",
   "mimetype": "text/x-python",
   "name": "python",
   "nbconvert_exporter": "python",
   "pygments_lexer": "ipython3",
   "version": "3.9.6"
  }
 },
 "nbformat": 4,
 "nbformat_minor": 5
}
