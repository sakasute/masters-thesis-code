{
 "cells": [
  {
   "cell_type": "markdown",
   "id": "569d3ffb",
   "metadata": {},
   "source": [
    "# Proto2"
   ]
  },
  {
   "cell_type": "code",
   "execution_count": 1,
   "id": "6746eb5f",
   "metadata": {},
   "outputs": [],
   "source": [
    "from lightfm import LightFM\n",
    "from lightfm.cross_validation import random_train_test_split\n",
    "from lightfm.evaluation import auc_score\n",
    "from lightfm.evaluation import precision_at_k\n",
    "from lightfm.evaluation import recall_at_k\n",
    "from lightfm.evaluation import reciprocal_rank\n",
    "from lightfm.data import Dataset\n",
    "\n",
    "import numpy as np\n",
    "import pandas as pd\n",
    "\n",
    "import statistics"
   ]
  },
  {
   "cell_type": "code",
   "execution_count": 2,
   "id": "f88950a8",
   "metadata": {},
   "outputs": [],
   "source": [
    "SELECTED_COMPANY_FEATURES = ['company_form_code', 'location_municipality_code', \n",
    "                             'location_region_code', 'company_status_code', 'industry_code', 'turnover', \n",
    "                             'net_profit', 'personnel_average', 'performer_ranking_points', 'risk_rating_class']"
   ]
  },
  {
   "cell_type": "code",
   "execution_count": 3,
   "id": "7c37cc1d",
   "metadata": {},
   "outputs": [],
   "source": [
    "COMPANIES_DF = pd.read_pickle(\"data/pandas_pickles/prod_data_proto2.pkl\")"
   ]
  },
  {
   "cell_type": "code",
   "execution_count": 4,
   "id": "3c3a7b14",
   "metadata": {},
   "outputs": [],
   "source": [
    "ITEM_IDS = list(COMPANIES_DF['business_id'].unique())"
   ]
  },
  {
   "cell_type": "code",
   "execution_count": 7,
   "id": "551bc026",
   "metadata": {},
   "outputs": [
    {
     "name": "stdout",
     "output_type": "stream",
     "text": [
      "[('31431209', ['company_form_code+CO_26', 'location_municipality_code+091', 'location_region_code+01', 'company_status_code+AKT', 'industry_code+43', 'turnover+NaN', 'net_profit+NaN', 'personnel_average+NaN', 'performer_ranking_points+NaN', 'risk_rating_class+NaN']), ('32087307', ['company_form_code+CO_16', 'location_municipality_code+091', 'location_region_code+01', 'company_status_code+AKT', 'industry_code+68', 'turnover+NaN', 'net_profit+NaN', 'personnel_average+NaN', 'performer_ranking_points+NaN', 'risk_rating_class+NaN']), ('18601103', ['company_form_code+CO_26', 'location_municipality_code+NaN', 'location_region_code+NaN', 'company_status_code+AKT', 'industry_code+68', 'turnover+NaN', 'net_profit+NaN', 'personnel_average+NaN', 'performer_ranking_points+NaN', 'risk_rating_class+NaN']), ('20469041', ['company_form_code+CO_53', 'location_municipality_code+NaN', 'location_region_code+NaN', 'company_status_code+AKT', 'industry_code+74', 'turnover+NaN', 'net_profit+NaN', 'personnel_average+NaN', 'performer_ranking_points+NaN', 'risk_rating_class+NaN']), ('24844507', ['company_form_code+CO_26', 'location_municipality_code+NaN', 'location_region_code+NaN', 'company_status_code+AKT', 'industry_code+NaN', 'turnover+NaN', 'net_profit+NaN', 'personnel_average+NaN', 'performer_ranking_points+NaN', 'risk_rating_class+NaN']), ('01015810', ['company_form_code+CO_2', 'location_municipality_code+049', 'location_region_code+01', 'company_status_code+AKT', 'industry_code+68', 'turnover+NaN', 'net_profit+NaN', 'personnel_average+NaN', 'performer_ranking_points+NaN', 'risk_rating_class+NaN']), ('01119927', ['company_form_code+CO_16', 'location_municipality_code+091', 'location_region_code+01', 'company_status_code+AKT', 'industry_code+49', 'turnover+NaN', 'net_profit+0.8', 'personnel_average+NaN', 'performer_ranking_points+NaN', 'risk_rating_class+NaN']), ('02357927', ['company_form_code+CO_2', 'location_municipality_code+091', 'location_region_code+01', 'company_status_code+AKT', 'industry_code+68', 'turnover+NaN', 'net_profit+NaN', 'personnel_average+NaN', 'performer_ranking_points+NaN', 'risk_rating_class+NaN']), ('02488679', ['company_form_code+CO_2', 'location_municipality_code+NaN', 'location_region_code+NaN', 'company_status_code+AKT', 'industry_code+68', 'turnover+NaN', 'net_profit+NaN', 'personnel_average+NaN', 'performer_ranking_points+NaN', 'risk_rating_class+NaN']), ('05075714', ['company_form_code+CO_2', 'location_municipality_code+NaN', 'location_region_code+NaN', 'company_status_code+AKT', 'industry_code+68', 'turnover+NaN', 'net_profit+NaN', 'personnel_average+NaN', 'performer_ranking_points+NaN', 'risk_rating_class+NaN'])]\n"
     ]
    }
   ],
   "source": [
    "features_tmp = [COMPANIES_DF[feature].unique() for feature in SELECTED_COMPANY_FEATURES]\n",
    "\n",
    "ITEM_FEATURE_LABELS = [item for sublist in features_tmp for item in sublist]\n",
    "\n",
    "ITEM_FEATURES = [(company['business_id'], \n",
    "                  [company[feature] for feature in SELECTED_COMPANY_FEATURES])\n",
    "                     for company in COMPANIES_DF.to_dict(orient='records')]\n",
    "\n",
    "print(ITEM_FEATURES[0:10])"
   ]
  },
  {
   "cell_type": "code",
   "execution_count": 8,
   "id": "5c20feb9",
   "metadata": {},
   "outputs": [],
   "source": [
    "interactions_tmp = pd \\\n",
    "    .read_csv('data/interactions_2021_08_19.csv',\n",
    "             delimiter='\\t',\n",
    "             dtype={\n",
    "                 'group_id': 'string',\n",
    "                 'business_id': 'string',\n",
    "                 'owner': 'string'\n",
    "             })\n",
    "\n",
    "# Poistetaan vuorovaikutusdatasta sellaiset y-tunnukset, joita ei löydy kohteista\n",
    "INTERACTIONS_DF = interactions_tmp[interactions_tmp.business_id.isin(ITEM_IDS)]"
   ]
  },
  {
   "cell_type": "markdown",
   "id": "5b26853c",
   "metadata": {},
   "source": [
    "## Otetaan minimiryhmäkoko käyttöön"
   ]
  },
  {
   "cell_type": "code",
   "execution_count": 12,
   "id": "668acbdc",
   "metadata": {},
   "outputs": [
    {
     "name": "stdout",
     "output_type": "stream",
     "text": [
      "[('c2626398-faac-4ff3-b02d-cdc64b50cdaa', '01681709'), ('c2626398-faac-4ff3-b02d-cdc64b50cdaa', '15055514'), ('c2626398-faac-4ff3-b02d-cdc64b50cdaa', '01876143'), ('c2626398-faac-4ff3-b02d-cdc64b50cdaa', '01863991'), ('c2626398-faac-4ff3-b02d-cdc64b50cdaa', '05363070'), ('c2626398-faac-4ff3-b02d-cdc64b50cdaa', '01387534'), ('c2626398-faac-4ff3-b02d-cdc64b50cdaa', '01372818'), ('c2626398-faac-4ff3-b02d-cdc64b50cdaa', '18348689'), ('c2626398-faac-4ff3-b02d-cdc64b50cdaa', '01421229'), ('c2626398-faac-4ff3-b02d-cdc64b50cdaa', '01446661')]\n"
     ]
    }
   ],
   "source": [
    "group_sizes = INTERACTIONS_DF['group_id'].value_counts()\n",
    "group_sizes_df = pd.DataFrame({'group_id': group_sizes.index, 'group_size': group_sizes.values})\n",
    "\n",
    "INTERACTIONS_WITH_GROUP_SIZES_DF = INTERACTIONS_DF.merge(group_sizes_df, on='group_id')\n",
    "\n",
    "INTERACTIONS_50_DF = INTERACTIONS_WITH_GROUP_SIZES_DF[INTERACTIONS_WITH_GROUP_SIZES_DF.group_size >= 50]\n",
    "\n",
    "INTERACTIONS_50 = [(interaction['group_id'], interaction['business_id']) \n",
    "                for interaction in INTERACTIONS_50_DF.to_dict(orient='records')]\n",
    "\n",
    "USER_IDS_50 = list(set(INTERACTIONS_50_DF['group_id'].values))\n",
    "\n",
    "print(INTERACTIONS_50[0:10])\n"
   ]
  },
  {
   "cell_type": "markdown",
   "id": "7bfe3bb4",
   "metadata": {},
   "source": [
    "## Luodaan LightFM-datasetti"
   ]
  },
  {
   "cell_type": "code",
   "execution_count": 17,
   "id": "8ba2c569",
   "metadata": {},
   "outputs": [],
   "source": [
    "DATASET_50 = Dataset(user_identity_features=False, item_identity_features=False)\n",
    "\n",
    "# user_featureja ei ainakaan vielä ole\n",
    "DATASET_50.fit(users=USER_IDS_50, items=ITEM_IDS, item_features=ITEM_FEATURE_LABELS)\n",
    "\n",
    "ITEM_FEATURES_50_DS = DATASET_50.build_item_features(ITEM_FEATURES, normalize=False)\n",
    "\n",
    "(INTERACTIONS_50_DS, WEIGHTS_50_DS) = DATASET_50.build_interactions(INTERACTIONS_50)\n",
    "\n",
    "USER_MAP_50_DS = DATASET_50.mapping()[0]\n",
    "ITEM_MAP_50_DS = DATASET_50.mapping()[2]\n",
    "ITEM_FEATURE_MAP_50_DS = DATASET_50.mapping()[3]\n"
   ]
  },
  {
   "cell_type": "markdown",
   "id": "55ccbf71",
   "metadata": {},
   "source": [
    "## Arvioidaan mallien laatua"
   ]
  },
  {
   "cell_type": "markdown",
   "id": "2799ad17",
   "metadata": {},
   "source": [
    "### Ajetaan evaluaatiot ja otetaan tulokset talteen 5:ltä ajokerralta"
   ]
  },
  {
   "cell_type": "code",
   "execution_count": 19,
   "id": "f1714709",
   "metadata": {},
   "outputs": [
    {
     "name": "stdout",
     "output_type": "stream",
     "text": [
      "Starting iteration 1\n"
     ]
    },
    {
     "name": "stderr",
     "output_type": "stream",
     "text": [
      "Epoch: 100%|██████████| 10/10 [00:17<00:00,  1.73s/it]\n",
      "Epoch: 100%|██████████| 10/10 [00:11<00:00,  1.17s/it]\n",
      "Epoch: 100%|██████████| 10/10 [00:13<00:00,  1.40s/it]\n",
      "Epoch: 100%|██████████| 10/10 [00:07<00:00,  1.38it/s]\n"
     ]
    },
    {
     "name": "stdout",
     "output_type": "stream",
     "text": [
      "Calculating AUC_WARP for train dataset...\n",
      "Calculating AUC_WARP for test dataset...\n",
      "AUC_WARP: train 0.99, test 0.99.\n",
      "\n",
      "\n",
      "Calculating AUC_BPR for train dataset...\n",
      "Calculating AUC_BPR for test dataset...\n",
      "AUC_BPR: train 0.97, test 0.97.\n",
      "\n",
      "\n",
      "Calculating PRECISION_WARP for train dataset...\n",
      "Calculating PRECISION_WARP for test dataset...\n",
      "PRECISION_WARP: train 0.24, test 0.06.\n",
      "\n",
      "\n",
      "Calculating PRECISION_BPR for train dataset...\n",
      "Calculating PRECISION_BPR for test dataset...\n",
      "PRECISION_BPR: train 0.26, test 0.07.\n",
      "\n",
      "\n",
      "Calculating RECALL_WARP for train dataset...\n",
      "Calculating RECALL_WARP for test dataset...\n",
      "RECALL_WARP: train 0.01, test 0.01.\n",
      "\n",
      "\n",
      "Calculating RECALL_BPR for train dataset...\n",
      "Calculating RECALL_BPR for test dataset...\n",
      "RECALL_BPR: train 0.01, test 0.01.\n",
      "\n",
      "\n",
      "Calculating RECIPROCAL_WARP for train dataset...\n",
      "Calculating RECIPROCAL_WARP for test dataset...\n",
      "RECIPROCAL_WARP: train 0.39, test 0.16.\n",
      "\n",
      "\n",
      "Calculating RECIPROCAL_BPR for train dataset...\n",
      "Calculating RECIPROCAL_BPR for test dataset...\n",
      "RECIPROCAL_BPR: train 0.42, test 0.18.\n",
      "\n",
      "\n",
      "Calculating AUC_WARP_NO_ITEM for train dataset...\n",
      "Calculating AUC_WARP_NO_ITEM for test dataset...\n",
      "AUC_WARP_NO_ITEM: train 1.00, test 0.94.\n",
      "\n",
      "\n",
      "Calculating AUC_BPR_NO_ITEM for train dataset...\n",
      "Calculating AUC_BPR_NO_ITEM for test dataset...\n",
      "AUC_BPR_NO_ITEM: train 0.95, test 0.89.\n",
      "\n",
      "\n",
      "Calculating PRECISION_WARP_NO_ITEM for train dataset...\n",
      "Calculating PRECISION_WARP_NO_ITEM for test dataset...\n",
      "PRECISION_WARP_NO_ITEM: train 0.27, test 0.05.\n",
      "\n",
      "\n",
      "Calculating PRECISION_BPR_NO_ITEM for train dataset...\n",
      "Calculating PRECISION_BPR_NO_ITEM for test dataset...\n",
      "PRECISION_BPR_NO_ITEM: train 0.36, test 0.05.\n",
      "\n",
      "\n",
      "Calculating RECALL_WARP_NO_ITEM for train dataset...\n",
      "Calculating RECALL_WARP_NO_ITEM for test dataset...\n",
      "RECALL_WARP_NO_ITEM: train 0.01, test 0.01.\n",
      "\n",
      "\n",
      "Calculating RECALL_BPR_NO_ITEM for train dataset...\n",
      "Calculating RECALL_BPR_NO_ITEM for test dataset...\n",
      "RECALL_BPR_NO_ITEM: train 0.01, test 0.01.\n",
      "\n",
      "\n",
      "Calculating RECIPROCAL_WARP_NO_ITEM for train dataset...\n",
      "Calculating RECIPROCAL_WARP_NO_ITEM for test dataset...\n",
      "RECIPROCAL_WARP_NO_ITEM: train 0.41, test 0.11.\n",
      "\n",
      "\n",
      "Calculating RECIPROCAL_BPR_NO_ITEM for train dataset...\n",
      "Calculating RECIPROCAL_BPR_NO_ITEM for test dataset...\n",
      "RECIPROCAL_BPR_NO_ITEM: train 0.51, test 0.14.\n",
      "\n",
      "\n"
     ]
    }
   ],
   "source": [
    "def run_evaluation(model, train, test, evaluation_function, name, item_features=None):    \n",
    "    print(\"Calculating %s for train dataset...\" % (name))\n",
    "    train_metric = evaluation_function(model, train, item_features=item_features).mean()\n",
    "    \n",
    "    print(\"Calculating %s for test dataset...\" % (name))\n",
    "    test_metric = evaluation_function(model, test, item_features=item_features).mean()\n",
    "    \n",
    "    print('%s: train %.2f, test %.2f.' % (name, train_metric, test_metric))\n",
    "    print(\"\\n\")\n",
    "    return (train_metric, test_metric)\n",
    "\n",
    "WARP_AUC = []\n",
    "WARP_PRECISION = []\n",
    "WARP_RECALL = []\n",
    "WARP_RECIPROCAL = []\n",
    "\n",
    "BPR_AUC = []\n",
    "BPR_PRECISION = []\n",
    "BPR_RECALL = []\n",
    "BPR_RECIPROCAL = []\n",
    "\n",
    "WARP_NO_ITEM_AUC = []\n",
    "WARP_NO_ITEM_PRECISION = []\n",
    "WARP_NO_ITEM_RECALL = []\n",
    "WARP_NO_ITEM_RECIPROCAL = []\n",
    "\n",
    "BPR_NO_ITEM_AUC = []\n",
    "BPR_NO_ITEM_PRECISION = []\n",
    "BPR_NO_ITEM_RECALL = []\n",
    "BPR_NO_ITEM_RECIPROCAL = []\n",
    "\n",
    "for i in [1]:\n",
    "    print(\"Starting iteration %d\" % i)\n",
    "    \n",
    "    (TRAIN, TEST) = random_train_test_split(INTERACTIONS_50_DS, test_percentage=0.2)\n",
    "\n",
    "    MODEL_WARP = LightFM(loss='warp')\n",
    "    MODEL_WARP.fit(TRAIN, item_features=ITEM_FEATURES_50_DS, epochs=10, verbose=True)\n",
    "\n",
    "    MODEL_BPR = LightFM(loss='bpr')\n",
    "    MODEL_BPR.fit(TRAIN, item_features=ITEM_FEATURES_50_DS, epochs=10, verbose=True)\n",
    "\n",
    "    MODEL_WARP_NO_ITEM = LightFM(loss='warp')\n",
    "    MODEL_WARP_NO_ITEM.fit(TRAIN, epochs=10, verbose=True)\n",
    "\n",
    "    MODEL_BPR_NO_ITEM = LightFM(loss='bpr')\n",
    "    MODEL_BPR_NO_ITEM.fit(TRAIN, epochs=10, verbose=True)\n",
    "    \n",
    "    \n",
    "    \n",
    "    \n",
    "    WARP_AUC.append(run_evaluation(MODEL_WARP, TRAIN, TEST, auc_score, \"AUC_WARP\", ITEM_FEATURES_DS))\n",
    "    BPR_AUC.append(run_evaluation(MODEL_BPR, TRAIN, TEST, auc_score, \"AUC_BPR\", ITEM_FEATURES_DS))\n",
    "    \n",
    "    WARP_PRECISION.append(run_evaluation(MODEL_WARP, TRAIN, TEST, precision_at_k, \"PRECISION_WARP\", ITEM_FEATURES_DS))\n",
    "    BPR_PRECISION.append(run_evaluation(MODEL_BPR, TRAIN, TEST, precision_at_k, \"PRECISION_BPR\", ITEM_FEATURES_DS))\n",
    "    \n",
    "    WARP_RECALL.append(run_evaluation(MODEL_WARP, TRAIN, TEST, recall_at_k, \"RECALL_WARP\", ITEM_FEATURES_DS))\n",
    "    BPR_RECALL.append(run_evaluation(MODEL_BPR, TRAIN, TEST, recall_at_k, \"RECALL_BPR\", ITEM_FEATURES_DS))\n",
    "    \n",
    "    WARP_RECIPROCAL.append(run_evaluation(MODEL_WARP, TRAIN, TEST, reciprocal_rank, \"RECIPROCAL_WARP\", ITEM_FEATURES_DS))\n",
    "    BPR_RECIPROCAL.append(run_evaluation(MODEL_BPR, TRAIN, TEST, reciprocal_rank, \"RECIPROCAL_BPR\", ITEM_FEATURES_DS))\n",
    "    \n",
    "    \n",
    "    \n",
    "    \n",
    "    WARP_NO_ITEM_AUC.append(run_evaluation(MODEL_WARP_NO_ITEM, TRAIN, TEST, auc_score, \"AUC_WARP_NO_ITEM\"))\n",
    "    BPR_NO_ITEM_AUC.append(run_evaluation(MODEL_BPR_NO_ITEM, TRAIN, TEST, auc_score, \"AUC_BPR_NO_ITEM\"))\n",
    "    \n",
    "    WARP_NO_ITEM_PRECISION.append(run_evaluation(MODEL_WARP_NO_ITEM, TRAIN, TEST, precision_at_k, \"PRECISION_WARP_NO_ITEM\"))\n",
    "    BPR_NO_ITEM_PRECISION.append(run_evaluation(MODEL_BPR_NO_ITEM, TRAIN, TEST, precision_at_k, \"PRECISION_BPR_NO_ITEM\"))\n",
    "    \n",
    "    WARP_NO_ITEM_RECALL.append(run_evaluation(MODEL_WARP_NO_ITEM, TRAIN, TEST, recall_at_k, \"RECALL_WARP_NO_ITEM\"))\n",
    "    BPR_NO_ITEM_RECALL.append(run_evaluation(MODEL_BPR_NO_ITEM, TRAIN, TEST, recall_at_k, \"RECALL_BPR_NO_ITEM\"))\n",
    "    \n",
    "    WARP_NO_ITEM_RECIPROCAL.append(run_evaluation(MODEL_WARP_NO_ITEM, TRAIN, TEST, reciprocal_rank, \"RECIPROCAL_WARP_NO_ITEM\"))\n",
    "    BPR_NO_ITEM_RECIPROCAL.append(run_evaluation(MODEL_BPR_NO_ITEM, TRAIN, TEST, reciprocal_rank, \"RECIPROCAL_BPR_NO_ITEM\"))"
   ]
  },
  {
   "cell_type": "code",
   "execution_count": null,
   "id": "b4d009fd",
   "metadata": {},
   "outputs": [],
   "source": []
  }
 ],
 "metadata": {
  "kernelspec": {
   "display_name": "Python 3 (ipykernel)",
   "language": "python",
   "name": "python3"
  },
  "language_info": {
   "codemirror_mode": {
    "name": "ipython",
    "version": 3
   },
   "file_extension": ".py",
   "mimetype": "text/x-python",
   "name": "python",
   "nbconvert_exporter": "python",
   "pygments_lexer": "ipython3",
   "version": "3.9.6"
  }
 },
 "nbformat": 4,
 "nbformat_minor": 5
}
